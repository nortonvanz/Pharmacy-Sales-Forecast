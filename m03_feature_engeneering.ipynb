{
 "cells": [
  {
   "cell_type": "markdown",
   "id": "7450e0d6",
   "metadata": {
    "heading_collapsed": true
   },
   "source": [
    "# Imports"
   ]
  },
  {
   "cell_type": "code",
   "execution_count": 73,
   "id": "63222301",
   "metadata": {
    "ExecuteTime": {
     "end_time": "2021-12-14T20:56:42.511836Z",
     "start_time": "2021-12-14T20:56:42.505675Z"
    },
    "hidden": true
   },
   "outputs": [],
   "source": [
    "import math\n",
    "import inflection\n",
    "import pandas as pd \n",
    "import numpy as np\n",
    "import seaborn as sns\n",
    "from matplotlib import pyplot as plt\n",
    "#from IPython.core.display import html\n",
    "from IPython.display import Image\n",
    "import datetime as dt\n",
    "pd.set_option('display.max_columns', 500)"
   ]
  },
  {
   "cell_type": "markdown",
   "id": "80a33607",
   "metadata": {
    "ExecuteTime": {
     "end_time": "2021-12-12T14:09:02.546680Z",
     "start_time": "2021-12-12T14:09:02.535126Z"
    },
    "hidden": true
   },
   "source": [
    "## Loading Data"
   ]
  },
  {
   "cell_type": "code",
   "execution_count": 3,
   "id": "88868220",
   "metadata": {
    "ExecuteTime": {
     "end_time": "2021-12-14T20:19:08.790821Z",
     "start_time": "2021-12-14T20:19:07.171100Z"
    },
    "hidden": true
   },
   "outputs": [],
   "source": [
    "                            # lê todo o arquivo de uma vez \n",
    "df_sales_raw = pd.read_csv(\"data/train.csv\", low_memory=False)\n",
    "df_store_raw = pd.read_csv(\"data/store.csv\", low_memory=False)\n",
    "\n",
    "# merge\n",
    "df_raw = pd.merge(  df_sales_raw, df_store_raw, how='left', on='Store' )"
   ]
  },
  {
   "cell_type": "code",
   "execution_count": 4,
   "id": "61a1fa06",
   "metadata": {
    "ExecuteTime": {
     "end_time": "2021-12-14T20:19:11.097391Z",
     "start_time": "2021-12-14T20:19:10.797439Z"
    },
    "hidden": true,
    "scrolled": true
   },
   "outputs": [
    {
     "data": {
      "text/html": [
       "<div>\n",
       "<style scoped>\n",
       "    .dataframe tbody tr th:only-of-type {\n",
       "        vertical-align: middle;\n",
       "    }\n",
       "\n",
       "    .dataframe tbody tr th {\n",
       "        vertical-align: top;\n",
       "    }\n",
       "\n",
       "    .dataframe thead th {\n",
       "        text-align: right;\n",
       "    }\n",
       "</style>\n",
       "<table border=\"1\" class=\"dataframe\">\n",
       "  <thead>\n",
       "    <tr style=\"text-align: right;\">\n",
       "      <th></th>\n",
       "      <th>Store</th>\n",
       "      <th>DayOfWeek</th>\n",
       "      <th>Date</th>\n",
       "      <th>Sales</th>\n",
       "      <th>Customers</th>\n",
       "      <th>Open</th>\n",
       "      <th>Promo</th>\n",
       "      <th>StateHoliday</th>\n",
       "      <th>SchoolHoliday</th>\n",
       "      <th>StoreType</th>\n",
       "      <th>Assortment</th>\n",
       "      <th>CompetitionDistance</th>\n",
       "      <th>CompetitionOpenSinceMonth</th>\n",
       "      <th>CompetitionOpenSinceYear</th>\n",
       "      <th>Promo2</th>\n",
       "      <th>Promo2SinceWeek</th>\n",
       "      <th>Promo2SinceYear</th>\n",
       "      <th>PromoInterval</th>\n",
       "    </tr>\n",
       "  </thead>\n",
       "  <tbody>\n",
       "    <tr>\n",
       "      <th>126355</th>\n",
       "      <td>361</td>\n",
       "      <td>4</td>\n",
       "      <td>2015-04-09</td>\n",
       "      <td>4364</td>\n",
       "      <td>507</td>\n",
       "      <td>1</td>\n",
       "      <td>0</td>\n",
       "      <td>0</td>\n",
       "      <td>0</td>\n",
       "      <td>c</td>\n",
       "      <td>c</td>\n",
       "      <td>4490.0</td>\n",
       "      <td>5.0</td>\n",
       "      <td>2014.0</td>\n",
       "      <td>1</td>\n",
       "      <td>5.0</td>\n",
       "      <td>2013.0</td>\n",
       "      <td>Feb,May,Aug,Nov</td>\n",
       "    </tr>\n",
       "    <tr>\n",
       "      <th>665678</th>\n",
       "      <td>809</td>\n",
       "      <td>2</td>\n",
       "      <td>2013-11-12</td>\n",
       "      <td>6822</td>\n",
       "      <td>629</td>\n",
       "      <td>1</td>\n",
       "      <td>0</td>\n",
       "      <td>0</td>\n",
       "      <td>0</td>\n",
       "      <td>a</td>\n",
       "      <td>a</td>\n",
       "      <td>12770.0</td>\n",
       "      <td>10.0</td>\n",
       "      <td>2000.0</td>\n",
       "      <td>0</td>\n",
       "      <td>NaN</td>\n",
       "      <td>NaN</td>\n",
       "      <td>NaN</td>\n",
       "    </tr>\n",
       "    <tr>\n",
       "      <th>528084</th>\n",
       "      <td>360</td>\n",
       "      <td>6</td>\n",
       "      <td>2014-03-15</td>\n",
       "      <td>4967</td>\n",
       "      <td>545</td>\n",
       "      <td>1</td>\n",
       "      <td>0</td>\n",
       "      <td>0</td>\n",
       "      <td>0</td>\n",
       "      <td>a</td>\n",
       "      <td>a</td>\n",
       "      <td>2040.0</td>\n",
       "      <td>6.0</td>\n",
       "      <td>2007.0</td>\n",
       "      <td>0</td>\n",
       "      <td>NaN</td>\n",
       "      <td>NaN</td>\n",
       "      <td>NaN</td>\n",
       "    </tr>\n",
       "    <tr>\n",
       "      <th>657486</th>\n",
       "      <td>422</td>\n",
       "      <td>2</td>\n",
       "      <td>2013-11-19</td>\n",
       "      <td>5368</td>\n",
       "      <td>475</td>\n",
       "      <td>1</td>\n",
       "      <td>1</td>\n",
       "      <td>0</td>\n",
       "      <td>0</td>\n",
       "      <td>a</td>\n",
       "      <td>c</td>\n",
       "      <td>2880.0</td>\n",
       "      <td>NaN</td>\n",
       "      <td>NaN</td>\n",
       "      <td>0</td>\n",
       "      <td>NaN</td>\n",
       "      <td>NaN</td>\n",
       "      <td>NaN</td>\n",
       "    </tr>\n",
       "    <tr>\n",
       "      <th>458310</th>\n",
       "      <td>831</td>\n",
       "      <td>6</td>\n",
       "      <td>2014-05-17</td>\n",
       "      <td>8932</td>\n",
       "      <td>1214</td>\n",
       "      <td>1</td>\n",
       "      <td>0</td>\n",
       "      <td>0</td>\n",
       "      <td>0</td>\n",
       "      <td>a</td>\n",
       "      <td>a</td>\n",
       "      <td>800.0</td>\n",
       "      <td>6.0</td>\n",
       "      <td>2007.0</td>\n",
       "      <td>0</td>\n",
       "      <td>NaN</td>\n",
       "      <td>NaN</td>\n",
       "      <td>NaN</td>\n",
       "    </tr>\n",
       "    <tr>\n",
       "      <th>590782</th>\n",
       "      <td>618</td>\n",
       "      <td>6</td>\n",
       "      <td>2014-01-18</td>\n",
       "      <td>6337</td>\n",
       "      <td>518</td>\n",
       "      <td>1</td>\n",
       "      <td>0</td>\n",
       "      <td>0</td>\n",
       "      <td>0</td>\n",
       "      <td>d</td>\n",
       "      <td>c</td>\n",
       "      <td>9910.0</td>\n",
       "      <td>NaN</td>\n",
       "      <td>NaN</td>\n",
       "      <td>0</td>\n",
       "      <td>NaN</td>\n",
       "      <td>NaN</td>\n",
       "      <td>NaN</td>\n",
       "    </tr>\n",
       "    <tr>\n",
       "      <th>611505</th>\n",
       "      <td>156</td>\n",
       "      <td>1</td>\n",
       "      <td>2013-12-30</td>\n",
       "      <td>8449</td>\n",
       "      <td>933</td>\n",
       "      <td>1</td>\n",
       "      <td>0</td>\n",
       "      <td>0</td>\n",
       "      <td>1</td>\n",
       "      <td>a</td>\n",
       "      <td>a</td>\n",
       "      <td>2020.0</td>\n",
       "      <td>2.0</td>\n",
       "      <td>2011.0</td>\n",
       "      <td>1</td>\n",
       "      <td>14.0</td>\n",
       "      <td>2011.0</td>\n",
       "      <td>Mar,Jun,Sept,Dec</td>\n",
       "    </tr>\n",
       "    <tr>\n",
       "      <th>965474</th>\n",
       "      <td>670</td>\n",
       "      <td>6</td>\n",
       "      <td>2013-02-16</td>\n",
       "      <td>5138</td>\n",
       "      <td>593</td>\n",
       "      <td>1</td>\n",
       "      <td>0</td>\n",
       "      <td>0</td>\n",
       "      <td>0</td>\n",
       "      <td>a</td>\n",
       "      <td>a</td>\n",
       "      <td>2060.0</td>\n",
       "      <td>NaN</td>\n",
       "      <td>NaN</td>\n",
       "      <td>1</td>\n",
       "      <td>45.0</td>\n",
       "      <td>2009.0</td>\n",
       "      <td>Feb,May,Aug,Nov</td>\n",
       "    </tr>\n",
       "    <tr>\n",
       "      <th>996105</th>\n",
       "      <td>81</td>\n",
       "      <td>6</td>\n",
       "      <td>2013-01-19</td>\n",
       "      <td>7484</td>\n",
       "      <td>601</td>\n",
       "      <td>1</td>\n",
       "      <td>0</td>\n",
       "      <td>0</td>\n",
       "      <td>0</td>\n",
       "      <td>a</td>\n",
       "      <td>a</td>\n",
       "      <td>2370.0</td>\n",
       "      <td>3.0</td>\n",
       "      <td>2011.0</td>\n",
       "      <td>1</td>\n",
       "      <td>40.0</td>\n",
       "      <td>2014.0</td>\n",
       "      <td>Jan,Apr,Jul,Oct</td>\n",
       "    </tr>\n",
       "    <tr>\n",
       "      <th>262720</th>\n",
       "      <td>201</td>\n",
       "      <td>3</td>\n",
       "      <td>2014-12-03</td>\n",
       "      <td>5956</td>\n",
       "      <td>413</td>\n",
       "      <td>1</td>\n",
       "      <td>1</td>\n",
       "      <td>0</td>\n",
       "      <td>0</td>\n",
       "      <td>d</td>\n",
       "      <td>a</td>\n",
       "      <td>20260.0</td>\n",
       "      <td>NaN</td>\n",
       "      <td>NaN</td>\n",
       "      <td>1</td>\n",
       "      <td>18.0</td>\n",
       "      <td>2014.0</td>\n",
       "      <td>Mar,Jun,Sept,Dec</td>\n",
       "    </tr>\n",
       "    <tr>\n",
       "      <th>666151</th>\n",
       "      <td>167</td>\n",
       "      <td>1</td>\n",
       "      <td>2013-11-11</td>\n",
       "      <td>7924</td>\n",
       "      <td>1019</td>\n",
       "      <td>1</td>\n",
       "      <td>0</td>\n",
       "      <td>0</td>\n",
       "      <td>0</td>\n",
       "      <td>a</td>\n",
       "      <td>a</td>\n",
       "      <td>140.0</td>\n",
       "      <td>4.0</td>\n",
       "      <td>2008.0</td>\n",
       "      <td>0</td>\n",
       "      <td>NaN</td>\n",
       "      <td>NaN</td>\n",
       "      <td>NaN</td>\n",
       "    </tr>\n",
       "    <tr>\n",
       "      <th>1012953</th>\n",
       "      <td>204</td>\n",
       "      <td>5</td>\n",
       "      <td>2013-01-04</td>\n",
       "      <td>4826</td>\n",
       "      <td>495</td>\n",
       "      <td>1</td>\n",
       "      <td>0</td>\n",
       "      <td>0</td>\n",
       "      <td>1</td>\n",
       "      <td>a</td>\n",
       "      <td>a</td>\n",
       "      <td>5630.0</td>\n",
       "      <td>12.0</td>\n",
       "      <td>2002.0</td>\n",
       "      <td>1</td>\n",
       "      <td>40.0</td>\n",
       "      <td>2014.0</td>\n",
       "      <td>Jan,Apr,Jul,Oct</td>\n",
       "    </tr>\n",
       "    <tr>\n",
       "      <th>412708</th>\n",
       "      <td>944</td>\n",
       "      <td>5</td>\n",
       "      <td>2014-06-27</td>\n",
       "      <td>6372</td>\n",
       "      <td>994</td>\n",
       "      <td>1</td>\n",
       "      <td>0</td>\n",
       "      <td>0</td>\n",
       "      <td>0</td>\n",
       "      <td>c</td>\n",
       "      <td>a</td>\n",
       "      <td>1670.0</td>\n",
       "      <td>7.0</td>\n",
       "      <td>2015.0</td>\n",
       "      <td>0</td>\n",
       "      <td>NaN</td>\n",
       "      <td>NaN</td>\n",
       "      <td>NaN</td>\n",
       "    </tr>\n",
       "    <tr>\n",
       "      <th>265478</th>\n",
       "      <td>138</td>\n",
       "      <td>7</td>\n",
       "      <td>2014-11-30</td>\n",
       "      <td>0</td>\n",
       "      <td>0</td>\n",
       "      <td>0</td>\n",
       "      <td>0</td>\n",
       "      <td>0</td>\n",
       "      <td>0</td>\n",
       "      <td>a</td>\n",
       "      <td>c</td>\n",
       "      <td>25360.0</td>\n",
       "      <td>10.0</td>\n",
       "      <td>2014.0</td>\n",
       "      <td>0</td>\n",
       "      <td>NaN</td>\n",
       "      <td>NaN</td>\n",
       "      <td>NaN</td>\n",
       "    </tr>\n",
       "    <tr>\n",
       "      <th>390453</th>\n",
       "      <td>877</td>\n",
       "      <td>7</td>\n",
       "      <td>2014-07-20</td>\n",
       "      <td>0</td>\n",
       "      <td>0</td>\n",
       "      <td>0</td>\n",
       "      <td>0</td>\n",
       "      <td>0</td>\n",
       "      <td>0</td>\n",
       "      <td>a</td>\n",
       "      <td>c</td>\n",
       "      <td>29190.0</td>\n",
       "      <td>NaN</td>\n",
       "      <td>NaN</td>\n",
       "      <td>0</td>\n",
       "      <td>NaN</td>\n",
       "      <td>NaN</td>\n",
       "      <td>NaN</td>\n",
       "    </tr>\n",
       "    <tr>\n",
       "      <th>263747</th>\n",
       "      <td>309</td>\n",
       "      <td>2</td>\n",
       "      <td>2014-12-02</td>\n",
       "      <td>8655</td>\n",
       "      <td>684</td>\n",
       "      <td>1</td>\n",
       "      <td>1</td>\n",
       "      <td>0</td>\n",
       "      <td>0</td>\n",
       "      <td>d</td>\n",
       "      <td>a</td>\n",
       "      <td>8740.0</td>\n",
       "      <td>NaN</td>\n",
       "      <td>NaN</td>\n",
       "      <td>1</td>\n",
       "      <td>37.0</td>\n",
       "      <td>2009.0</td>\n",
       "      <td>Feb,May,Aug,Nov</td>\n",
       "    </tr>\n",
       "    <tr>\n",
       "      <th>20411</th>\n",
       "      <td>342</td>\n",
       "      <td>1</td>\n",
       "      <td>2015-07-13</td>\n",
       "      <td>15073</td>\n",
       "      <td>996</td>\n",
       "      <td>1</td>\n",
       "      <td>1</td>\n",
       "      <td>0</td>\n",
       "      <td>0</td>\n",
       "      <td>d</td>\n",
       "      <td>c</td>\n",
       "      <td>15770.0</td>\n",
       "      <td>NaN</td>\n",
       "      <td>NaN</td>\n",
       "      <td>1</td>\n",
       "      <td>40.0</td>\n",
       "      <td>2014.0</td>\n",
       "      <td>Jan,Apr,Jul,Oct</td>\n",
       "    </tr>\n",
       "    <tr>\n",
       "      <th>655354</th>\n",
       "      <td>520</td>\n",
       "      <td>4</td>\n",
       "      <td>2013-11-21</td>\n",
       "      <td>4236</td>\n",
       "      <td>403</td>\n",
       "      <td>1</td>\n",
       "      <td>1</td>\n",
       "      <td>0</td>\n",
       "      <td>0</td>\n",
       "      <td>a</td>\n",
       "      <td>c</td>\n",
       "      <td>6900.0</td>\n",
       "      <td>NaN</td>\n",
       "      <td>NaN</td>\n",
       "      <td>1</td>\n",
       "      <td>40.0</td>\n",
       "      <td>2012.0</td>\n",
       "      <td>Mar,Jun,Sept,Dec</td>\n",
       "    </tr>\n",
       "    <tr>\n",
       "      <th>499618</th>\n",
       "      <td>884</td>\n",
       "      <td>4</td>\n",
       "      <td>2014-04-10</td>\n",
       "      <td>4549</td>\n",
       "      <td>451</td>\n",
       "      <td>1</td>\n",
       "      <td>0</td>\n",
       "      <td>0</td>\n",
       "      <td>0</td>\n",
       "      <td>d</td>\n",
       "      <td>c</td>\n",
       "      <td>7550.0</td>\n",
       "      <td>NaN</td>\n",
       "      <td>NaN</td>\n",
       "      <td>0</td>\n",
       "      <td>NaN</td>\n",
       "      <td>NaN</td>\n",
       "      <td>NaN</td>\n",
       "    </tr>\n",
       "    <tr>\n",
       "      <th>692921</th>\n",
       "      <td>177</td>\n",
       "      <td>5</td>\n",
       "      <td>2013-10-18</td>\n",
       "      <td>3701</td>\n",
       "      <td>500</td>\n",
       "      <td>1</td>\n",
       "      <td>0</td>\n",
       "      <td>0</td>\n",
       "      <td>0</td>\n",
       "      <td>a</td>\n",
       "      <td>a</td>\n",
       "      <td>1250.0</td>\n",
       "      <td>2.0</td>\n",
       "      <td>2004.0</td>\n",
       "      <td>1</td>\n",
       "      <td>5.0</td>\n",
       "      <td>2013.0</td>\n",
       "      <td>Feb,May,Aug,Nov</td>\n",
       "    </tr>\n",
       "  </tbody>\n",
       "</table>\n",
       "</div>"
      ],
      "text/plain": [
       "         Store  DayOfWeek        Date  Sales  Customers  Open  Promo  \\\n",
       "126355     361          4  2015-04-09   4364        507     1      0   \n",
       "665678     809          2  2013-11-12   6822        629     1      0   \n",
       "528084     360          6  2014-03-15   4967        545     1      0   \n",
       "657486     422          2  2013-11-19   5368        475     1      1   \n",
       "458310     831          6  2014-05-17   8932       1214     1      0   \n",
       "590782     618          6  2014-01-18   6337        518     1      0   \n",
       "611505     156          1  2013-12-30   8449        933     1      0   \n",
       "965474     670          6  2013-02-16   5138        593     1      0   \n",
       "996105      81          6  2013-01-19   7484        601     1      0   \n",
       "262720     201          3  2014-12-03   5956        413     1      1   \n",
       "666151     167          1  2013-11-11   7924       1019     1      0   \n",
       "1012953    204          5  2013-01-04   4826        495     1      0   \n",
       "412708     944          5  2014-06-27   6372        994     1      0   \n",
       "265478     138          7  2014-11-30      0          0     0      0   \n",
       "390453     877          7  2014-07-20      0          0     0      0   \n",
       "263747     309          2  2014-12-02   8655        684     1      1   \n",
       "20411      342          1  2015-07-13  15073        996     1      1   \n",
       "655354     520          4  2013-11-21   4236        403     1      1   \n",
       "499618     884          4  2014-04-10   4549        451     1      0   \n",
       "692921     177          5  2013-10-18   3701        500     1      0   \n",
       "\n",
       "        StateHoliday  SchoolHoliday StoreType Assortment  CompetitionDistance  \\\n",
       "126355             0              0         c          c               4490.0   \n",
       "665678             0              0         a          a              12770.0   \n",
       "528084             0              0         a          a               2040.0   \n",
       "657486             0              0         a          c               2880.0   \n",
       "458310             0              0         a          a                800.0   \n",
       "590782             0              0         d          c               9910.0   \n",
       "611505             0              1         a          a               2020.0   \n",
       "965474             0              0         a          a               2060.0   \n",
       "996105             0              0         a          a               2370.0   \n",
       "262720             0              0         d          a              20260.0   \n",
       "666151             0              0         a          a                140.0   \n",
       "1012953            0              1         a          a               5630.0   \n",
       "412708             0              0         c          a               1670.0   \n",
       "265478             0              0         a          c              25360.0   \n",
       "390453             0              0         a          c              29190.0   \n",
       "263747             0              0         d          a               8740.0   \n",
       "20411              0              0         d          c              15770.0   \n",
       "655354             0              0         a          c               6900.0   \n",
       "499618             0              0         d          c               7550.0   \n",
       "692921             0              0         a          a               1250.0   \n",
       "\n",
       "         CompetitionOpenSinceMonth  CompetitionOpenSinceYear  Promo2  \\\n",
       "126355                         5.0                    2014.0       1   \n",
       "665678                        10.0                    2000.0       0   \n",
       "528084                         6.0                    2007.0       0   \n",
       "657486                         NaN                       NaN       0   \n",
       "458310                         6.0                    2007.0       0   \n",
       "590782                         NaN                       NaN       0   \n",
       "611505                         2.0                    2011.0       1   \n",
       "965474                         NaN                       NaN       1   \n",
       "996105                         3.0                    2011.0       1   \n",
       "262720                         NaN                       NaN       1   \n",
       "666151                         4.0                    2008.0       0   \n",
       "1012953                       12.0                    2002.0       1   \n",
       "412708                         7.0                    2015.0       0   \n",
       "265478                        10.0                    2014.0       0   \n",
       "390453                         NaN                       NaN       0   \n",
       "263747                         NaN                       NaN       1   \n",
       "20411                          NaN                       NaN       1   \n",
       "655354                         NaN                       NaN       1   \n",
       "499618                         NaN                       NaN       0   \n",
       "692921                         2.0                    2004.0       1   \n",
       "\n",
       "         Promo2SinceWeek  Promo2SinceYear     PromoInterval  \n",
       "126355               5.0           2013.0   Feb,May,Aug,Nov  \n",
       "665678               NaN              NaN               NaN  \n",
       "528084               NaN              NaN               NaN  \n",
       "657486               NaN              NaN               NaN  \n",
       "458310               NaN              NaN               NaN  \n",
       "590782               NaN              NaN               NaN  \n",
       "611505              14.0           2011.0  Mar,Jun,Sept,Dec  \n",
       "965474              45.0           2009.0   Feb,May,Aug,Nov  \n",
       "996105              40.0           2014.0   Jan,Apr,Jul,Oct  \n",
       "262720              18.0           2014.0  Mar,Jun,Sept,Dec  \n",
       "666151               NaN              NaN               NaN  \n",
       "1012953             40.0           2014.0   Jan,Apr,Jul,Oct  \n",
       "412708               NaN              NaN               NaN  \n",
       "265478               NaN              NaN               NaN  \n",
       "390453               NaN              NaN               NaN  \n",
       "263747              37.0           2009.0   Feb,May,Aug,Nov  \n",
       "20411               40.0           2014.0   Jan,Apr,Jul,Oct  \n",
       "655354              40.0           2012.0  Mar,Jun,Sept,Dec  \n",
       "499618               NaN              NaN               NaN  \n",
       "692921               5.0           2013.0   Feb,May,Aug,Nov  "
      ]
     },
     "execution_count": 4,
     "metadata": {},
     "output_type": "execute_result"
    }
   ],
   "source": [
    "df_raw.sample(20)"
   ]
  },
  {
   "cell_type": "markdown",
   "id": "1cc62789",
   "metadata": {
    "heading_collapsed": true
   },
   "source": [
    "# PASSO 1 - Data Description"
   ]
  },
  {
   "cell_type": "code",
   "execution_count": 5,
   "id": "92f3731b",
   "metadata": {
    "ExecuteTime": {
     "end_time": "2021-12-14T20:19:16.363484Z",
     "start_time": "2021-12-14T20:19:16.235552Z"
    },
    "hidden": true
   },
   "outputs": [],
   "source": [
    "# Meigarom faz uma cópia a cada seção nova, pra em grandes códigos evitar sobrescrever a var\n",
    "# do DS original e ter que rodar tudo de novo.\n",
    "df1 = df_raw.copy()"
   ]
  },
  {
   "cell_type": "markdown",
   "id": "39a6e020",
   "metadata": {
    "hidden": true
   },
   "source": [
    "## Rename Columns"
   ]
  },
  {
   "cell_type": "code",
   "execution_count": 6,
   "id": "1a73b84d",
   "metadata": {
    "ExecuteTime": {
     "end_time": "2021-12-14T20:19:21.034931Z",
     "start_time": "2021-12-14T20:19:21.027276Z"
    },
    "hidden": true
   },
   "outputs": [
    {
     "data": {
      "text/plain": [
       "Index(['Store', 'DayOfWeek', 'Date', 'Sales', 'Customers', 'Open', 'Promo',\n",
       "       'StateHoliday', 'SchoolHoliday', 'StoreType', 'Assortment',\n",
       "       'CompetitionDistance', 'CompetitionOpenSinceMonth',\n",
       "       'CompetitionOpenSinceYear', 'Promo2', 'Promo2SinceWeek',\n",
       "       'Promo2SinceYear', 'PromoInterval'],\n",
       "      dtype='object')"
      ]
     },
     "execution_count": 6,
     "metadata": {},
     "output_type": "execute_result"
    }
   ],
   "source": [
    "df1.columns"
   ]
  },
  {
   "cell_type": "code",
   "execution_count": 7,
   "id": "dad6c5f1",
   "metadata": {
    "ExecuteTime": {
     "end_time": "2021-12-14T20:19:23.372394Z",
     "start_time": "2021-12-14T20:19:23.365888Z"
    },
    "hidden": true
   },
   "outputs": [],
   "source": [
    "#pega as colunas originais\n",
    "cols_old = ['Store', 'DayOfWeek', 'Date', 'Sales', 'Customers', 'Open', 'Promo',\n",
    "       'StateHoliday', 'SchoolHoliday', 'StoreType', 'Assortment',\n",
    "       'CompetitionDistance', 'CompetitionOpenSinceMonth',\n",
    "       'CompetitionOpenSinceYear', 'Promo2', 'Promo2SinceWeek',\n",
    "       'Promo2SinceYear', 'PromoInterval']"
   ]
  },
  {
   "cell_type": "code",
   "execution_count": 8,
   "id": "d89cc124",
   "metadata": {
    "ExecuteTime": {
     "end_time": "2021-12-14T20:19:26.020068Z",
     "start_time": "2021-12-14T20:19:26.014361Z"
    },
    "hidden": true
   },
   "outputs": [],
   "source": [
    "#cria função pra transformar em snake_case\n",
    "snakecase = lambda x: inflection.underscore ( x )\n",
    "\n",
    "#aplica a função em todas as palabras de cols_old, guarda em lista na cols_new\n",
    "cols_new = list( map( snakecase, cols_old ) )\n",
    "\n",
    "#rename\n",
    "df1.columns = cols_new"
   ]
  },
  {
   "cell_type": "code",
   "execution_count": 9,
   "id": "f59c8c80",
   "metadata": {
    "ExecuteTime": {
     "end_time": "2021-12-14T20:19:27.684602Z",
     "start_time": "2021-12-14T20:19:27.676826Z"
    },
    "hidden": true
   },
   "outputs": [
    {
     "data": {
      "text/plain": [
       "Index(['store', 'day_of_week', 'date', 'sales', 'customers', 'open', 'promo',\n",
       "       'state_holiday', 'school_holiday', 'store_type', 'assortment',\n",
       "       'competition_distance', 'competition_open_since_month',\n",
       "       'competition_open_since_year', 'promo2', 'promo2_since_week',\n",
       "       'promo2_since_year', 'promo_interval'],\n",
       "      dtype='object')"
      ]
     },
     "execution_count": 9,
     "metadata": {},
     "output_type": "execute_result"
    }
   ],
   "source": [
    "df1.columns"
   ]
  },
  {
   "cell_type": "markdown",
   "id": "2888147b",
   "metadata": {
    "hidden": true
   },
   "source": [
    "## Data Dimension"
   ]
  },
  {
   "cell_type": "code",
   "execution_count": 10,
   "id": "555bfaf0",
   "metadata": {
    "ExecuteTime": {
     "end_time": "2021-12-14T20:19:30.979749Z",
     "start_time": "2021-12-14T20:19:30.973648Z"
    },
    "hidden": true
   },
   "outputs": [
    {
     "name": "stdout",
     "output_type": "stream",
     "text": [
      "Number of rows: 1017209\n",
      "Number of rows: 18\n"
     ]
    }
   ],
   "source": [
    "print (f'Number of rows: {df1.shape[0] }')\n",
    "print (f'Number of rows: {df1.shape[1] }')"
   ]
  },
  {
   "cell_type": "markdown",
   "id": "2efd9f82",
   "metadata": {
    "hidden": true
   },
   "source": [
    "## Data Types"
   ]
  },
  {
   "cell_type": "code",
   "execution_count": 11,
   "id": "aed4b281",
   "metadata": {
    "ExecuteTime": {
     "end_time": "2021-12-14T20:19:33.554189Z",
     "start_time": "2021-12-14T20:19:33.533687Z"
    },
    "hidden": true
   },
   "outputs": [
    {
     "data": {
      "text/plain": [
       "store                             int64\n",
       "day_of_week                       int64\n",
       "date                             object\n",
       "sales                             int64\n",
       "customers                         int64\n",
       "open                              int64\n",
       "promo                             int64\n",
       "state_holiday                    object\n",
       "school_holiday                    int64\n",
       "store_type                       object\n",
       "assortment                       object\n",
       "competition_distance            float64\n",
       "competition_open_since_month    float64\n",
       "competition_open_since_year     float64\n",
       "promo2                            int64\n",
       "promo2_since_week               float64\n",
       "promo2_since_year               float64\n",
       "promo_interval                   object\n",
       "dtype: object"
      ]
     },
     "execution_count": 11,
     "metadata": {},
     "output_type": "execute_result"
    }
   ],
   "source": [
    "df1.dtypes"
   ]
  },
  {
   "cell_type": "code",
   "execution_count": 12,
   "id": "9b5a1416",
   "metadata": {
    "ExecuteTime": {
     "end_time": "2021-12-14T20:19:35.570381Z",
     "start_time": "2021-12-14T20:19:35.381652Z"
    },
    "hidden": true
   },
   "outputs": [
    {
     "data": {
      "text/plain": [
       "store                                    int64\n",
       "day_of_week                              int64\n",
       "date                            datetime64[ns]\n",
       "sales                                    int64\n",
       "customers                                int64\n",
       "open                                     int64\n",
       "promo                                    int64\n",
       "state_holiday                           object\n",
       "school_holiday                           int64\n",
       "store_type                              object\n",
       "assortment                              object\n",
       "competition_distance                   float64\n",
       "competition_open_since_month           float64\n",
       "competition_open_since_year            float64\n",
       "promo2                                   int64\n",
       "promo2_since_week                      float64\n",
       "promo2_since_year                      float64\n",
       "promo_interval                          object\n",
       "dtype: object"
      ]
     },
     "execution_count": 12,
     "metadata": {},
     "output_type": "execute_result"
    }
   ],
   "source": [
    "#convert 'date' to datetime:\n",
    "df1['date'] = pd.to_datetime( df1['date'] )\n",
    "df1.dtypes"
   ]
  },
  {
   "cell_type": "markdown",
   "id": "5a94c669",
   "metadata": {
    "hidden": true
   },
   "source": [
    "## Check NA"
   ]
  },
  {
   "cell_type": "code",
   "execution_count": 13,
   "id": "a8fe6217",
   "metadata": {
    "ExecuteTime": {
     "end_time": "2021-12-14T20:19:39.126280Z",
     "start_time": "2021-12-14T20:19:38.908924Z"
    },
    "hidden": true
   },
   "outputs": [
    {
     "data": {
      "text/plain": [
       "store                                0\n",
       "day_of_week                          0\n",
       "date                                 0\n",
       "sales                                0\n",
       "customers                            0\n",
       "open                                 0\n",
       "promo                                0\n",
       "state_holiday                        0\n",
       "school_holiday                       0\n",
       "store_type                           0\n",
       "assortment                           0\n",
       "competition_distance              2642\n",
       "competition_open_since_month    323348\n",
       "competition_open_since_year     323348\n",
       "promo2                               0\n",
       "promo2_since_week               508031\n",
       "promo2_since_year               508031\n",
       "promo_interval                  508031\n",
       "dtype: int64"
      ]
     },
     "execution_count": 13,
     "metadata": {},
     "output_type": "execute_result"
    }
   ],
   "source": [
    "# Ver todas linhas que tem ao menos 1 NA\n",
    "df1.isna().sum()"
   ]
  },
  {
   "cell_type": "markdown",
   "id": "ca92a071",
   "metadata": {
    "heading_collapsed": true,
    "hidden": true
   },
   "source": [
    "### Há 3 formas de tratar:\n",
    "1 - Excluir todas as linhas com NA.\n",
    "     - Bom: rápido e fácil\n",
    "     - Péssimo: descarta dados, pode prejudicar meu modelo\n",
    "    \n",
    "2 - Usar algoritmos de ML pra substituir NAs pela média, mediana, prevendo o número que seria \n",
    "através das colunas que tem valor.\n",
    "\n",
    "3 - Descobrir porque o NA tá aqui. Pode ter trocado o sistema, antes não tinha essa coluna. Ou ainda antes era o valor de outra coluna."
   ]
  },
  {
   "cell_type": "markdown",
   "id": "b97e9629",
   "metadata": {
    "hidden": true
   },
   "source": [
    "## Fillout NA"
   ]
  },
  {
   "cell_type": "markdown",
   "id": "8cc83b73",
   "metadata": {
    "ExecuteTime": {
     "end_time": "2021-12-12T18:07:33.929215Z",
     "start_time": "2021-12-12T18:07:33.921775Z"
    },
    "hidden": true
   },
   "source": [
    "Colunas com NA:\n",
    "-competition_distance\n",
    "-competition_open_since_month\n",
    "-competition_open_since_year\n",
    "-promo2_since_week\n",
    "-promo2_since_year\n",
    "-promo_interval"
   ]
  },
  {
   "cell_type": "code",
   "execution_count": 15,
   "id": "a0b3a056",
   "metadata": {
    "ExecuteTime": {
     "end_time": "2021-12-14T20:20:17.743383Z",
     "start_time": "2021-12-14T20:20:17.734229Z"
    },
    "hidden": true
   },
   "outputs": [
    {
     "data": {
      "text/plain": [
       "75860.0"
      ]
     },
     "execution_count": 15,
     "metadata": {},
     "output_type": "execute_result"
    }
   ],
   "source": [
    "#competition_distance\n",
    "#CompetitionDistance - distance in meters to the nearest competitor store\n",
    "\n",
    "# Vou assumir que os que não tem valor aqui, não tem competidores perto.\n",
    "# Logo, vou atribuir pras NAs um valor bem amior que o maior valor de distância existente.\n",
    "df1['competition_distance'].max()"
   ]
  },
  {
   "cell_type": "code",
   "execution_count": 16,
   "id": "4ab7c42b",
   "metadata": {
    "ExecuteTime": {
     "end_time": "2021-12-14T20:20:18.967333Z",
     "start_time": "2021-12-14T20:20:18.603305Z"
    },
    "hidden": true
   },
   "outputs": [],
   "source": [
    "#atribuindo o valor pra todas NA\n",
    "\n",
    "df1['competition_distance'] = df1['competition_distance'].apply( lambda x: 200000.0 if math.isnan( x ) else x ) "
   ]
  },
  {
   "cell_type": "code",
   "execution_count": 18,
   "id": "2d0c54b0",
   "metadata": {
    "ExecuteTime": {
     "end_time": "2021-12-14T20:20:54.068577Z",
     "start_time": "2021-12-14T20:20:22.579915Z"
    },
    "hidden": true
   },
   "outputs": [],
   "source": [
    "#competition_open_since_month\n",
    "# CompetitionOpenSince[Month/Year] - gives the approximate year and month of the time the\n",
    "# nearest competitor was opened\n",
    "\n",
    "# Se esta coluna está vazia, ou deve ser porque não tem competidor próximo, ou porque\n",
    "# não sabem quando foi aberta. \n",
    "# Vou assumir nesse primeiro ciclo então minha data de venda como a data de abertura do \n",
    "# competidor, mesmo que seja simplista.\n",
    "\n",
    "# precisa axis aqui pois são duas colunas que estamos mexendo no lambda\n",
    "df1['competition_open_since_month'] = df1.apply ( lambda x: x['date'].month \n",
    "                    if math.isnan( x['competition_open_since_month'] ) \n",
    "                    else x['competition_open_since_month'], axis=1 ) "
   ]
  },
  {
   "cell_type": "code",
   "execution_count": 19,
   "id": "ec5efa01",
   "metadata": {
    "ExecuteTime": {
     "end_time": "2021-12-14T20:21:26.050384Z",
     "start_time": "2021-12-14T20:20:54.072275Z"
    },
    "hidden": true
   },
   "outputs": [],
   "source": [
    "#competition_open_since_year\n",
    "# CompetitionOpenSince[Month/Year] - gives the approximate year and month of the time the\n",
    "# nearest competitor was opened\n",
    "\n",
    "# Vamos fazer pro year o mesno que o feito pro month:\n",
    "df1['competition_open_since_year'] = df1.apply ( lambda x: x['date'].year \n",
    "                    if math.isnan( x['competition_open_since_year'] ) \n",
    "                    else x['competition_open_since_year'], axis=1 ) "
   ]
  },
  {
   "cell_type": "code",
   "execution_count": 20,
   "id": "4d9bd125",
   "metadata": {
    "ExecuteTime": {
     "end_time": "2021-12-14T20:21:55.892743Z",
     "start_time": "2021-12-14T20:21:26.054123Z"
    },
    "hidden": true
   },
   "outputs": [],
   "source": [
    "#promo2_since_week\n",
    "\n",
    "# Promo2Since[Year/Week] - describes the year and calendar week when the store started \n",
    "#    participating in Promo2\n",
    "#Promo2 - Promo2 is a continuing and consecutive promotion for some stores: 0 = store is not\n",
    "#    participating, 1 = store is participating\n",
    "\n",
    "# promo2_since_week: Também vamos por hora setar a partir da data de venda\n",
    "df1['promo2_since_week'] = df1.apply ( lambda x: x['date'].week \n",
    "                    if math.isnan( x['promo2_since_week'] ) \n",
    "                    else x['promo2_since_week'], axis=1 )"
   ]
  },
  {
   "cell_type": "code",
   "execution_count": 21,
   "id": "95fab0f7",
   "metadata": {
    "ExecuteTime": {
     "end_time": "2021-12-14T20:22:28.852131Z",
     "start_time": "2021-12-14T20:21:55.897774Z"
    },
    "hidden": true
   },
   "outputs": [],
   "source": [
    "#promo2_since_year: Também vamos por hora setar a partir da data de venda\n",
    "df1['promo2_since_year'] = df1.apply ( lambda x: x['date'].year \n",
    "                    if math.isnan( x['promo2_since_year'] ) \n",
    "                    else x['promo2_since_year'], axis=1 )"
   ]
  },
  {
   "cell_type": "code",
   "execution_count": 22,
   "id": "5d6a16c1",
   "metadata": {
    "ExecuteTime": {
     "end_time": "2021-12-14T20:22:54.370930Z",
     "start_time": "2021-12-14T20:22:28.854771Z"
    },
    "hidden": true
   },
   "outputs": [],
   "source": [
    "#promo_interval\n",
    "# PromoInterval - describes the consecutive intervals Promo2 is started, naming the months \n",
    "# the promotion is started anew. E.g. \"Feb,May,Aug,Nov\" means each round starts in \n",
    "# February, May, August, November of any given year for that store\n",
    "\n",
    "#\n",
    "month_map = {1: 'Jan', 2: 'Feb', 3: 'Mar', 4: 'Apr',\n",
    " 5: 'May', 6: 'Jun', 7: 'Jul', 8: 'Aug', \n",
    " 9: 'Sept', 10: 'Out', 11: 'Nov', 12: 'Dec' }\n",
    "\n",
    "#preencher NA com zeros\n",
    "#inplace=True pra não retornar valor, mas motificar na coluna\n",
    "df1['promo_interval'].fillna(0, inplace=True)\n",
    "\n",
    "#cria coluna 'month_map' e seta o mes nela\n",
    "df1['month_map'] = df1['date'].dt.month.map( month_map )\n",
    "\n",
    "#cria coluna 'is_promo', e seta 1 se 'month_map' estiver em 'promo_interval', senão 0.\n",
    "#assim, consigo saber se naquela venda, estava ou não em promoção.\n",
    "df1['is_promo'] = df1[['promo_interval', 'month_map']].apply ( lambda x: \n",
    "      0 if x['promo_interval'] == 0 else \n",
    "      1 if x['month_map'] in x['promo_interval'].split(',') else 0, axis =1 )"
   ]
  },
  {
   "cell_type": "code",
   "execution_count": 23,
   "id": "d31ed091",
   "metadata": {
    "ExecuteTime": {
     "end_time": "2021-12-14T20:22:54.663080Z",
     "start_time": "2021-12-14T20:22:54.373570Z"
    },
    "hidden": true
   },
   "outputs": [
    {
     "data": {
      "text/html": [
       "<div>\n",
       "<style scoped>\n",
       "    .dataframe tbody tr th:only-of-type {\n",
       "        vertical-align: middle;\n",
       "    }\n",
       "\n",
       "    .dataframe tbody tr th {\n",
       "        vertical-align: top;\n",
       "    }\n",
       "\n",
       "    .dataframe thead th {\n",
       "        text-align: right;\n",
       "    }\n",
       "</style>\n",
       "<table border=\"1\" class=\"dataframe\">\n",
       "  <thead>\n",
       "    <tr style=\"text-align: right;\">\n",
       "      <th></th>\n",
       "      <th>store</th>\n",
       "      <th>day_of_week</th>\n",
       "      <th>date</th>\n",
       "      <th>sales</th>\n",
       "      <th>customers</th>\n",
       "      <th>open</th>\n",
       "      <th>promo</th>\n",
       "      <th>state_holiday</th>\n",
       "      <th>school_holiday</th>\n",
       "      <th>store_type</th>\n",
       "      <th>assortment</th>\n",
       "      <th>competition_distance</th>\n",
       "      <th>competition_open_since_month</th>\n",
       "      <th>competition_open_since_year</th>\n",
       "      <th>promo2</th>\n",
       "      <th>promo2_since_week</th>\n",
       "      <th>promo2_since_year</th>\n",
       "      <th>promo_interval</th>\n",
       "      <th>month_map</th>\n",
       "      <th>is_promo</th>\n",
       "    </tr>\n",
       "  </thead>\n",
       "  <tbody>\n",
       "    <tr>\n",
       "      <th>157167</th>\n",
       "      <td>1068</td>\n",
       "      <td>5</td>\n",
       "      <td>2015-03-13</td>\n",
       "      <td>3629</td>\n",
       "      <td>254</td>\n",
       "      <td>1</td>\n",
       "      <td>0</td>\n",
       "      <td>0</td>\n",
       "      <td>0</td>\n",
       "      <td>d</td>\n",
       "      <td>c</td>\n",
       "      <td>5010.0</td>\n",
       "      <td>3.0</td>\n",
       "      <td>2015.0</td>\n",
       "      <td>1</td>\n",
       "      <td>5.0</td>\n",
       "      <td>2013.0</td>\n",
       "      <td>Jan,Apr,Jul,Oct</td>\n",
       "      <td>Mar</td>\n",
       "      <td>0</td>\n",
       "    </tr>\n",
       "    <tr>\n",
       "      <th>785550</th>\n",
       "      <td>261</td>\n",
       "      <td>6</td>\n",
       "      <td>2013-07-27</td>\n",
       "      <td>6047</td>\n",
       "      <td>592</td>\n",
       "      <td>1</td>\n",
       "      <td>0</td>\n",
       "      <td>0</td>\n",
       "      <td>0</td>\n",
       "      <td>d</td>\n",
       "      <td>c</td>\n",
       "      <td>15340.0</td>\n",
       "      <td>4.0</td>\n",
       "      <td>2015.0</td>\n",
       "      <td>1</td>\n",
       "      <td>39.0</td>\n",
       "      <td>2009.0</td>\n",
       "      <td>Jan,Apr,Jul,Oct</td>\n",
       "      <td>Jul</td>\n",
       "      <td>1</td>\n",
       "    </tr>\n",
       "    <tr>\n",
       "      <th>359949</th>\n",
       "      <td>187</td>\n",
       "      <td>4</td>\n",
       "      <td>2014-08-21</td>\n",
       "      <td>6924</td>\n",
       "      <td>794</td>\n",
       "      <td>1</td>\n",
       "      <td>1</td>\n",
       "      <td>0</td>\n",
       "      <td>1</td>\n",
       "      <td>a</td>\n",
       "      <td>c</td>\n",
       "      <td>19360.0</td>\n",
       "      <td>8.0</td>\n",
       "      <td>2014.0</td>\n",
       "      <td>0</td>\n",
       "      <td>34.0</td>\n",
       "      <td>2014.0</td>\n",
       "      <td>0</td>\n",
       "      <td>Aug</td>\n",
       "      <td>0</td>\n",
       "    </tr>\n",
       "    <tr>\n",
       "      <th>870907</th>\n",
       "      <td>878</td>\n",
       "      <td>7</td>\n",
       "      <td>2013-05-12</td>\n",
       "      <td>0</td>\n",
       "      <td>0</td>\n",
       "      <td>0</td>\n",
       "      <td>0</td>\n",
       "      <td>0</td>\n",
       "      <td>0</td>\n",
       "      <td>d</td>\n",
       "      <td>c</td>\n",
       "      <td>1100.0</td>\n",
       "      <td>12.0</td>\n",
       "      <td>2014.0</td>\n",
       "      <td>0</td>\n",
       "      <td>19.0</td>\n",
       "      <td>2013.0</td>\n",
       "      <td>0</td>\n",
       "      <td>May</td>\n",
       "      <td>0</td>\n",
       "    </tr>\n",
       "    <tr>\n",
       "      <th>269591</th>\n",
       "      <td>581</td>\n",
       "      <td>3</td>\n",
       "      <td>2014-11-26</td>\n",
       "      <td>6989</td>\n",
       "      <td>678</td>\n",
       "      <td>1</td>\n",
       "      <td>1</td>\n",
       "      <td>0</td>\n",
       "      <td>0</td>\n",
       "      <td>a</td>\n",
       "      <td>a</td>\n",
       "      <td>7250.0</td>\n",
       "      <td>12.0</td>\n",
       "      <td>2013.0</td>\n",
       "      <td>0</td>\n",
       "      <td>48.0</td>\n",
       "      <td>2014.0</td>\n",
       "      <td>0</td>\n",
       "      <td>Nov</td>\n",
       "      <td>0</td>\n",
       "    </tr>\n",
       "  </tbody>\n",
       "</table>\n",
       "</div>"
      ],
      "text/plain": [
       "        store  day_of_week       date  sales  customers  open  promo  \\\n",
       "157167   1068            5 2015-03-13   3629        254     1      0   \n",
       "785550    261            6 2013-07-27   6047        592     1      0   \n",
       "359949    187            4 2014-08-21   6924        794     1      1   \n",
       "870907    878            7 2013-05-12      0          0     0      0   \n",
       "269591    581            3 2014-11-26   6989        678     1      1   \n",
       "\n",
       "       state_holiday  school_holiday store_type assortment  \\\n",
       "157167             0               0          d          c   \n",
       "785550             0               0          d          c   \n",
       "359949             0               1          a          c   \n",
       "870907             0               0          d          c   \n",
       "269591             0               0          a          a   \n",
       "\n",
       "        competition_distance  competition_open_since_month  \\\n",
       "157167                5010.0                           3.0   \n",
       "785550               15340.0                           4.0   \n",
       "359949               19360.0                           8.0   \n",
       "870907                1100.0                          12.0   \n",
       "269591                7250.0                          12.0   \n",
       "\n",
       "        competition_open_since_year  promo2  promo2_since_week  \\\n",
       "157167                       2015.0       1                5.0   \n",
       "785550                       2015.0       1               39.0   \n",
       "359949                       2014.0       0               34.0   \n",
       "870907                       2014.0       0               19.0   \n",
       "269591                       2013.0       0               48.0   \n",
       "\n",
       "        promo2_since_year   promo_interval month_map  is_promo  \n",
       "157167             2013.0  Jan,Apr,Jul,Oct       Mar         0  \n",
       "785550             2009.0  Jan,Apr,Jul,Oct       Jul         1  \n",
       "359949             2014.0                0       Aug         0  \n",
       "870907             2013.0                0       May         0  \n",
       "269591             2014.0                0       Nov         0  "
      ]
     },
     "execution_count": 23,
     "metadata": {},
     "output_type": "execute_result"
    }
   ],
   "source": [
    " df1.sample(5)"
   ]
  },
  {
   "cell_type": "code",
   "execution_count": 24,
   "id": "9f21da35",
   "metadata": {
    "ExecuteTime": {
     "end_time": "2021-12-14T20:22:54.800949Z",
     "start_time": "2021-12-14T20:22:54.669662Z"
    },
    "hidden": true
   },
   "outputs": [
    {
     "data": {
      "text/html": [
       "<div>\n",
       "<style scoped>\n",
       "    .dataframe tbody tr th:only-of-type {\n",
       "        vertical-align: middle;\n",
       "    }\n",
       "\n",
       "    .dataframe tbody tr th {\n",
       "        vertical-align: top;\n",
       "    }\n",
       "\n",
       "    .dataframe thead th {\n",
       "        text-align: right;\n",
       "    }\n",
       "</style>\n",
       "<table border=\"1\" class=\"dataframe\">\n",
       "  <thead>\n",
       "    <tr style=\"text-align: right;\">\n",
       "      <th></th>\n",
       "      <th>677203</th>\n",
       "      <th>862504</th>\n",
       "      <th>198384</th>\n",
       "      <th>595866</th>\n",
       "      <th>41742</th>\n",
       "    </tr>\n",
       "  </thead>\n",
       "  <tbody>\n",
       "    <tr>\n",
       "      <th>store</th>\n",
       "      <td>69</td>\n",
       "      <td>280</td>\n",
       "      <td>1030</td>\n",
       "      <td>127</td>\n",
       "      <td>488</td>\n",
       "    </tr>\n",
       "    <tr>\n",
       "      <th>day_of_week</th>\n",
       "      <td>5</td>\n",
       "      <td>7</td>\n",
       "      <td>3</td>\n",
       "      <td>1</td>\n",
       "      <td>3</td>\n",
       "    </tr>\n",
       "    <tr>\n",
       "      <th>date</th>\n",
       "      <td>2013-11-01 00:00:00</td>\n",
       "      <td>2013-05-19 00:00:00</td>\n",
       "      <td>2015-02-04 00:00:00</td>\n",
       "      <td>2014-01-13 00:00:00</td>\n",
       "      <td>2015-06-24 00:00:00</td>\n",
       "    </tr>\n",
       "    <tr>\n",
       "      <th>sales</th>\n",
       "      <td>9232</td>\n",
       "      <td>0</td>\n",
       "      <td>3736</td>\n",
       "      <td>3587</td>\n",
       "      <td>2895</td>\n",
       "    </tr>\n",
       "    <tr>\n",
       "      <th>customers</th>\n",
       "      <td>1198</td>\n",
       "      <td>0</td>\n",
       "      <td>328</td>\n",
       "      <td>540</td>\n",
       "      <td>340</td>\n",
       "    </tr>\n",
       "    <tr>\n",
       "      <th>open</th>\n",
       "      <td>1</td>\n",
       "      <td>0</td>\n",
       "      <td>1</td>\n",
       "      <td>1</td>\n",
       "      <td>1</td>\n",
       "    </tr>\n",
       "    <tr>\n",
       "      <th>promo</th>\n",
       "      <td>0</td>\n",
       "      <td>0</td>\n",
       "      <td>1</td>\n",
       "      <td>0</td>\n",
       "      <td>0</td>\n",
       "    </tr>\n",
       "    <tr>\n",
       "      <th>state_holiday</th>\n",
       "      <td>0</td>\n",
       "      <td>0</td>\n",
       "      <td>0</td>\n",
       "      <td>0</td>\n",
       "      <td>0</td>\n",
       "    </tr>\n",
       "    <tr>\n",
       "      <th>school_holiday</th>\n",
       "      <td>0</td>\n",
       "      <td>0</td>\n",
       "      <td>1</td>\n",
       "      <td>0</td>\n",
       "      <td>0</td>\n",
       "    </tr>\n",
       "    <tr>\n",
       "      <th>store_type</th>\n",
       "      <td>c</td>\n",
       "      <td>d</td>\n",
       "      <td>a</td>\n",
       "      <td>d</td>\n",
       "      <td>a</td>\n",
       "    </tr>\n",
       "    <tr>\n",
       "      <th>assortment</th>\n",
       "      <td>c</td>\n",
       "      <td>c</td>\n",
       "      <td>a</td>\n",
       "      <td>a</td>\n",
       "      <td>c</td>\n",
       "    </tr>\n",
       "    <tr>\n",
       "      <th>competition_distance</th>\n",
       "      <td>1130.0</td>\n",
       "      <td>18640.0</td>\n",
       "      <td>36410.0</td>\n",
       "      <td>1350.0</td>\n",
       "      <td>2890.0</td>\n",
       "    </tr>\n",
       "    <tr>\n",
       "      <th>competition_open_since_month</th>\n",
       "      <td>11.0</td>\n",
       "      <td>9.0</td>\n",
       "      <td>4.0</td>\n",
       "      <td>12.0</td>\n",
       "      <td>4.0</td>\n",
       "    </tr>\n",
       "    <tr>\n",
       "      <th>competition_open_since_year</th>\n",
       "      <td>2013.0</td>\n",
       "      <td>2013.0</td>\n",
       "      <td>2008.0</td>\n",
       "      <td>2005.0</td>\n",
       "      <td>2014.0</td>\n",
       "    </tr>\n",
       "    <tr>\n",
       "      <th>promo2</th>\n",
       "      <td>1</td>\n",
       "      <td>1</td>\n",
       "      <td>0</td>\n",
       "      <td>1</td>\n",
       "      <td>0</td>\n",
       "    </tr>\n",
       "    <tr>\n",
       "      <th>promo2_since_week</th>\n",
       "      <td>40.0</td>\n",
       "      <td>10.0</td>\n",
       "      <td>6.0</td>\n",
       "      <td>13.0</td>\n",
       "      <td>26.0</td>\n",
       "    </tr>\n",
       "    <tr>\n",
       "      <th>promo2_since_year</th>\n",
       "      <td>2011.0</td>\n",
       "      <td>2014.0</td>\n",
       "      <td>2015.0</td>\n",
       "      <td>2010.0</td>\n",
       "      <td>2015.0</td>\n",
       "    </tr>\n",
       "    <tr>\n",
       "      <th>promo_interval</th>\n",
       "      <td>Jan,Apr,Jul,Oct</td>\n",
       "      <td>Mar,Jun,Sept,Dec</td>\n",
       "      <td>0</td>\n",
       "      <td>Jan,Apr,Jul,Oct</td>\n",
       "      <td>0</td>\n",
       "    </tr>\n",
       "    <tr>\n",
       "      <th>month_map</th>\n",
       "      <td>Nov</td>\n",
       "      <td>May</td>\n",
       "      <td>Feb</td>\n",
       "      <td>Jan</td>\n",
       "      <td>Jun</td>\n",
       "    </tr>\n",
       "    <tr>\n",
       "      <th>is_promo</th>\n",
       "      <td>0</td>\n",
       "      <td>0</td>\n",
       "      <td>0</td>\n",
       "      <td>1</td>\n",
       "      <td>0</td>\n",
       "    </tr>\n",
       "  </tbody>\n",
       "</table>\n",
       "</div>"
      ],
      "text/plain": [
       "                                           677203               862504  \\\n",
       "store                                          69                  280   \n",
       "day_of_week                                     5                    7   \n",
       "date                          2013-11-01 00:00:00  2013-05-19 00:00:00   \n",
       "sales                                        9232                    0   \n",
       "customers                                    1198                    0   \n",
       "open                                            1                    0   \n",
       "promo                                           0                    0   \n",
       "state_holiday                                   0                    0   \n",
       "school_holiday                                  0                    0   \n",
       "store_type                                      c                    d   \n",
       "assortment                                      c                    c   \n",
       "competition_distance                       1130.0              18640.0   \n",
       "competition_open_since_month                 11.0                  9.0   \n",
       "competition_open_since_year                2013.0               2013.0   \n",
       "promo2                                          1                    1   \n",
       "promo2_since_week                            40.0                 10.0   \n",
       "promo2_since_year                          2011.0               2014.0   \n",
       "promo_interval                    Jan,Apr,Jul,Oct     Mar,Jun,Sept,Dec   \n",
       "month_map                                     Nov                  May   \n",
       "is_promo                                        0                    0   \n",
       "\n",
       "                                           198384               595866  \\\n",
       "store                                        1030                  127   \n",
       "day_of_week                                     3                    1   \n",
       "date                          2015-02-04 00:00:00  2014-01-13 00:00:00   \n",
       "sales                                        3736                 3587   \n",
       "customers                                     328                  540   \n",
       "open                                            1                    1   \n",
       "promo                                           1                    0   \n",
       "state_holiday                                   0                    0   \n",
       "school_holiday                                  1                    0   \n",
       "store_type                                      a                    d   \n",
       "assortment                                      a                    a   \n",
       "competition_distance                      36410.0               1350.0   \n",
       "competition_open_since_month                  4.0                 12.0   \n",
       "competition_open_since_year                2008.0               2005.0   \n",
       "promo2                                          0                    1   \n",
       "promo2_since_week                             6.0                 13.0   \n",
       "promo2_since_year                          2015.0               2010.0   \n",
       "promo_interval                                  0      Jan,Apr,Jul,Oct   \n",
       "month_map                                     Feb                  Jan   \n",
       "is_promo                                        0                    1   \n",
       "\n",
       "                                           41742   \n",
       "store                                         488  \n",
       "day_of_week                                     3  \n",
       "date                          2015-06-24 00:00:00  \n",
       "sales                                        2895  \n",
       "customers                                     340  \n",
       "open                                            1  \n",
       "promo                                           0  \n",
       "state_holiday                                   0  \n",
       "school_holiday                                  0  \n",
       "store_type                                      a  \n",
       "assortment                                      c  \n",
       "competition_distance                       2890.0  \n",
       "competition_open_since_month                  4.0  \n",
       "competition_open_since_year                2014.0  \n",
       "promo2                                          0  \n",
       "promo2_since_week                            26.0  \n",
       "promo2_since_year                          2015.0  \n",
       "promo_interval                                  0  \n",
       "month_map                                     Jun  \n",
       "is_promo                                        0  "
      ]
     },
     "execution_count": 24,
     "metadata": {},
     "output_type": "execute_result"
    }
   ],
   "source": [
    " df1.sample(5).T"
   ]
  },
  {
   "cell_type": "code",
   "execution_count": 25,
   "id": "5164735c",
   "metadata": {
    "ExecuteTime": {
     "end_time": "2021-12-14T20:22:55.099476Z",
     "start_time": "2021-12-14T20:22:54.808691Z"
    },
    "hidden": true
   },
   "outputs": [
    {
     "data": {
      "text/plain": [
       "store                           0\n",
       "day_of_week                     0\n",
       "date                            0\n",
       "sales                           0\n",
       "customers                       0\n",
       "open                            0\n",
       "promo                           0\n",
       "state_holiday                   0\n",
       "school_holiday                  0\n",
       "store_type                      0\n",
       "assortment                      0\n",
       "competition_distance            0\n",
       "competition_open_since_month    0\n",
       "competition_open_since_year     0\n",
       "promo2                          0\n",
       "promo2_since_week               0\n",
       "promo2_since_year               0\n",
       "promo_interval                  0\n",
       "month_map                       0\n",
       "is_promo                        0\n",
       "dtype: int64"
      ]
     },
     "execution_count": 25,
     "metadata": {},
     "output_type": "execute_result"
    }
   ],
   "source": [
    "#resolvido\n",
    "df1.isna().sum()"
   ]
  },
  {
   "cell_type": "markdown",
   "id": "5465c9a5",
   "metadata": {
    "hidden": true
   },
   "source": [
    "## Change Types"
   ]
  },
  {
   "cell_type": "code",
   "execution_count": 26,
   "id": "beac07c9",
   "metadata": {
    "ExecuteTime": {
     "end_time": "2021-12-14T20:23:39.976568Z",
     "start_time": "2021-12-14T20:23:39.967531Z"
    },
    "hidden": true
   },
   "outputs": [
    {
     "data": {
      "text/plain": [
       "store                                    int64\n",
       "day_of_week                              int64\n",
       "date                            datetime64[ns]\n",
       "sales                                    int64\n",
       "customers                                int64\n",
       "open                                     int64\n",
       "promo                                    int64\n",
       "state_holiday                           object\n",
       "school_holiday                           int64\n",
       "store_type                              object\n",
       "assortment                              object\n",
       "competition_distance                   float64\n",
       "competition_open_since_month           float64\n",
       "competition_open_since_year            float64\n",
       "promo2                                   int64\n",
       "promo2_since_week                      float64\n",
       "promo2_since_year                      float64\n",
       "promo_interval                          object\n",
       "month_map                               object\n",
       "is_promo                                 int64\n",
       "dtype: object"
      ]
     },
     "execution_count": 26,
     "metadata": {},
     "output_type": "execute_result"
    }
   ],
   "source": [
    "# Como fizemos alteração nas colunas, é importante conferir se não mudou o formato das colnas\n",
    "df1.dtypes"
   ]
  },
  {
   "cell_type": "code",
   "execution_count": 27,
   "id": "52572afc",
   "metadata": {
    "ExecuteTime": {
     "end_time": "2021-12-14T20:23:43.657545Z",
     "start_time": "2021-12-14T20:23:43.574768Z"
    },
    "hidden": true
   },
   "outputs": [],
   "source": [
    "#converter de float pra int\n",
    "df1['competition_open_since_month'] = df1['competition_open_since_month'].astype( int )\n",
    "df1['competition_open_since_year'] = df1['competition_open_since_year'].astype( int )\n",
    "df1['promo2_since_week'] = df1['promo2_since_week'].astype( int )\n",
    "df1['promo2_since_year'] = df1['promo2_since_year'].astype( int )"
   ]
  },
  {
   "cell_type": "code",
   "execution_count": 28,
   "id": "b8c56d05",
   "metadata": {
    "ExecuteTime": {
     "end_time": "2021-12-14T20:23:51.951482Z",
     "start_time": "2021-12-14T20:23:51.942067Z"
    },
    "hidden": true
   },
   "outputs": [
    {
     "data": {
      "text/plain": [
       "store                                    int64\n",
       "day_of_week                              int64\n",
       "date                            datetime64[ns]\n",
       "sales                                    int64\n",
       "customers                                int64\n",
       "open                                     int64\n",
       "promo                                    int64\n",
       "state_holiday                           object\n",
       "school_holiday                           int64\n",
       "store_type                              object\n",
       "assortment                              object\n",
       "competition_distance                   float64\n",
       "competition_open_since_month             int64\n",
       "competition_open_since_year              int64\n",
       "promo2                                   int64\n",
       "promo2_since_week                        int64\n",
       "promo2_since_year                        int64\n",
       "promo_interval                          object\n",
       "month_map                               object\n",
       "is_promo                                 int64\n",
       "dtype: object"
      ]
     },
     "execution_count": 28,
     "metadata": {},
     "output_type": "execute_result"
    }
   ],
   "source": [
    "df1.dtypes"
   ]
  },
  {
   "cell_type": "markdown",
   "id": "148879c7",
   "metadata": {
    "hidden": true
   },
   "source": [
    "## Descriptive Statistical"
   ]
  },
  {
   "cell_type": "markdown",
   "id": "e2ce1a75",
   "metadata": {
    "hidden": true
   },
   "source": [
    "Serve para 2 coisas:\n",
    " - 1  Termos alguma noção de negócios pelos dados\n",
    " - 2  Conseguirmos detectar alguns erros (venda negativa por ex..)"
   ]
  },
  {
   "cell_type": "markdown",
   "id": "a9c5db5a",
   "metadata": {
    "hidden": true
   },
   "source": [
    "Métricas de tendência central: média e mediana (resumem dados em um único número)\n",
    "Metricas de dispersão: desvio padrão, min, max, range, skew, kurtosis"
   ]
  },
  {
   "cell_type": "code",
   "execution_count": 29,
   "id": "c8172eba",
   "metadata": {
    "ExecuteTime": {
     "end_time": "2021-12-14T20:24:14.220833Z",
     "start_time": "2021-12-14T20:24:13.967398Z"
    },
    "code_folding": [],
    "hidden": true
   },
   "outputs": [],
   "source": [
    "#separa colunas numéricas e categóricas, pra aplicar a estatística em cada conjunto:\n",
    "num_attributes = df1.select_dtypes ( include=['int64','float64'] )\n",
    "cat_attributes = df1.select_dtypes ( exclude=['int64','float64','datetime64[ns]'] )"
   ]
  },
  {
   "cell_type": "code",
   "execution_count": 30,
   "id": "77eb5175",
   "metadata": {
    "ExecuteTime": {
     "end_time": "2021-12-14T20:24:15.345266Z",
     "start_time": "2021-12-14T20:24:15.255301Z"
    },
    "hidden": true
   },
   "outputs": [
    {
     "data": {
      "text/html": [
       "<div>\n",
       "<style scoped>\n",
       "    .dataframe tbody tr th:only-of-type {\n",
       "        vertical-align: middle;\n",
       "    }\n",
       "\n",
       "    .dataframe tbody tr th {\n",
       "        vertical-align: top;\n",
       "    }\n",
       "\n",
       "    .dataframe thead th {\n",
       "        text-align: right;\n",
       "    }\n",
       "</style>\n",
       "<table border=\"1\" class=\"dataframe\">\n",
       "  <thead>\n",
       "    <tr style=\"text-align: right;\">\n",
       "      <th></th>\n",
       "      <th>store</th>\n",
       "      <th>day_of_week</th>\n",
       "      <th>sales</th>\n",
       "      <th>customers</th>\n",
       "      <th>open</th>\n",
       "      <th>promo</th>\n",
       "      <th>school_holiday</th>\n",
       "      <th>competition_distance</th>\n",
       "      <th>competition_open_since_month</th>\n",
       "      <th>competition_open_since_year</th>\n",
       "      <th>promo2</th>\n",
       "      <th>promo2_since_week</th>\n",
       "      <th>promo2_since_year</th>\n",
       "      <th>is_promo</th>\n",
       "    </tr>\n",
       "  </thead>\n",
       "  <tbody>\n",
       "    <tr>\n",
       "      <th>966215</th>\n",
       "      <td>296</td>\n",
       "      <td>5</td>\n",
       "      <td>5281</td>\n",
       "      <td>644</td>\n",
       "      <td>1</td>\n",
       "      <td>0</td>\n",
       "      <td>0</td>\n",
       "      <td>9580.0</td>\n",
       "      <td>5</td>\n",
       "      <td>2007</td>\n",
       "      <td>1</td>\n",
       "      <td>45</td>\n",
       "      <td>2014</td>\n",
       "      <td>1</td>\n",
       "    </tr>\n",
       "    <tr>\n",
       "      <th>157977</th>\n",
       "      <td>763</td>\n",
       "      <td>4</td>\n",
       "      <td>4897</td>\n",
       "      <td>496</td>\n",
       "      <td>1</td>\n",
       "      <td>0</td>\n",
       "      <td>0</td>\n",
       "      <td>32240.0</td>\n",
       "      <td>3</td>\n",
       "      <td>2010</td>\n",
       "      <td>0</td>\n",
       "      <td>11</td>\n",
       "      <td>2015</td>\n",
       "      <td>0</td>\n",
       "    </tr>\n",
       "    <tr>\n",
       "      <th>596615</th>\n",
       "      <td>876</td>\n",
       "      <td>1</td>\n",
       "      <td>7151</td>\n",
       "      <td>942</td>\n",
       "      <td>1</td>\n",
       "      <td>0</td>\n",
       "      <td>0</td>\n",
       "      <td>21790.0</td>\n",
       "      <td>4</td>\n",
       "      <td>2005</td>\n",
       "      <td>1</td>\n",
       "      <td>18</td>\n",
       "      <td>2015</td>\n",
       "      <td>0</td>\n",
       "    </tr>\n",
       "    <tr>\n",
       "      <th>560300</th>\n",
       "      <td>241</td>\n",
       "      <td>5</td>\n",
       "      <td>6250</td>\n",
       "      <td>717</td>\n",
       "      <td>1</td>\n",
       "      <td>0</td>\n",
       "      <td>0</td>\n",
       "      <td>780.0</td>\n",
       "      <td>2</td>\n",
       "      <td>2014</td>\n",
       "      <td>0</td>\n",
       "      <td>7</td>\n",
       "      <td>2014</td>\n",
       "      <td>0</td>\n",
       "    </tr>\n",
       "    <tr>\n",
       "      <th>724956</th>\n",
       "      <td>992</td>\n",
       "      <td>5</td>\n",
       "      <td>5140</td>\n",
       "      <td>690</td>\n",
       "      <td>1</td>\n",
       "      <td>0</td>\n",
       "      <td>0</td>\n",
       "      <td>2480.0</td>\n",
       "      <td>7</td>\n",
       "      <td>1990</td>\n",
       "      <td>0</td>\n",
       "      <td>38</td>\n",
       "      <td>2013</td>\n",
       "      <td>0</td>\n",
       "    </tr>\n",
       "  </tbody>\n",
       "</table>\n",
       "</div>"
      ],
      "text/plain": [
       "        store  day_of_week  sales  customers  open  promo  school_holiday  \\\n",
       "966215    296            5   5281        644     1      0               0   \n",
       "157977    763            4   4897        496     1      0               0   \n",
       "596615    876            1   7151        942     1      0               0   \n",
       "560300    241            5   6250        717     1      0               0   \n",
       "724956    992            5   5140        690     1      0               0   \n",
       "\n",
       "        competition_distance  competition_open_since_month  \\\n",
       "966215                9580.0                             5   \n",
       "157977               32240.0                             3   \n",
       "596615               21790.0                             4   \n",
       "560300                 780.0                             2   \n",
       "724956                2480.0                             7   \n",
       "\n",
       "        competition_open_since_year  promo2  promo2_since_week  \\\n",
       "966215                         2007       1                 45   \n",
       "157977                         2010       0                 11   \n",
       "596615                         2005       1                 18   \n",
       "560300                         2014       0                  7   \n",
       "724956                         1990       0                 38   \n",
       "\n",
       "        promo2_since_year  is_promo  \n",
       "966215               2014         1  \n",
       "157977               2015         0  \n",
       "596615               2015         0  \n",
       "560300               2014         0  \n",
       "724956               2013         0  "
      ]
     },
     "execution_count": 30,
     "metadata": {},
     "output_type": "execute_result"
    }
   ],
   "source": [
    "num_attributes.sample(5)"
   ]
  },
  {
   "cell_type": "code",
   "execution_count": 31,
   "id": "82449ec5",
   "metadata": {
    "ExecuteTime": {
     "end_time": "2021-12-14T20:24:21.274551Z",
     "start_time": "2021-12-14T20:24:21.198489Z"
    },
    "hidden": true
   },
   "outputs": [
    {
     "data": {
      "text/html": [
       "<div>\n",
       "<style scoped>\n",
       "    .dataframe tbody tr th:only-of-type {\n",
       "        vertical-align: middle;\n",
       "    }\n",
       "\n",
       "    .dataframe tbody tr th {\n",
       "        vertical-align: top;\n",
       "    }\n",
       "\n",
       "    .dataframe thead th {\n",
       "        text-align: right;\n",
       "    }\n",
       "</style>\n",
       "<table border=\"1\" class=\"dataframe\">\n",
       "  <thead>\n",
       "    <tr style=\"text-align: right;\">\n",
       "      <th></th>\n",
       "      <th>state_holiday</th>\n",
       "      <th>store_type</th>\n",
       "      <th>assortment</th>\n",
       "      <th>promo_interval</th>\n",
       "      <th>month_map</th>\n",
       "    </tr>\n",
       "  </thead>\n",
       "  <tbody>\n",
       "    <tr>\n",
       "      <th>763914</th>\n",
       "      <td>0</td>\n",
       "      <td>c</td>\n",
       "      <td>a</td>\n",
       "      <td>Jan,Apr,Jul,Oct</td>\n",
       "      <td>Aug</td>\n",
       "    </tr>\n",
       "    <tr>\n",
       "      <th>233812</th>\n",
       "      <td>0</td>\n",
       "      <td>a</td>\n",
       "      <td>a</td>\n",
       "      <td>Jan,Apr,Jul,Oct</td>\n",
       "      <td>Jan</td>\n",
       "    </tr>\n",
       "    <tr>\n",
       "      <th>177397</th>\n",
       "      <td>0</td>\n",
       "      <td>d</td>\n",
       "      <td>c</td>\n",
       "      <td>0</td>\n",
       "      <td>Feb</td>\n",
       "    </tr>\n",
       "    <tr>\n",
       "      <th>998777</th>\n",
       "      <td>0</td>\n",
       "      <td>c</td>\n",
       "      <td>c</td>\n",
       "      <td>0</td>\n",
       "      <td>Jan</td>\n",
       "    </tr>\n",
       "    <tr>\n",
       "      <th>388576</th>\n",
       "      <td>0</td>\n",
       "      <td>a</td>\n",
       "      <td>a</td>\n",
       "      <td>0</td>\n",
       "      <td>Jul</td>\n",
       "    </tr>\n",
       "  </tbody>\n",
       "</table>\n",
       "</div>"
      ],
      "text/plain": [
       "       state_holiday store_type assortment   promo_interval month_map\n",
       "763914             0          c          a  Jan,Apr,Jul,Oct       Aug\n",
       "233812             0          a          a  Jan,Apr,Jul,Oct       Jan\n",
       "177397             0          d          c                0       Feb\n",
       "998777             0          c          c                0       Jan\n",
       "388576             0          a          a                0       Jul"
      ]
     },
     "execution_count": 31,
     "metadata": {},
     "output_type": "execute_result"
    }
   ],
   "source": [
    "cat_attributes.sample(5)"
   ]
  },
  {
   "cell_type": "markdown",
   "id": "ebc5e083",
   "metadata": {
    "ExecuteTime": {
     "end_time": "2021-12-12T18:20:13.368329Z",
     "start_time": "2021-12-12T18:20:13.363836Z"
    },
    "hidden": true
   },
   "source": [
    "### Numerical Attibures"
   ]
  },
  {
   "cell_type": "code",
   "execution_count": 32,
   "id": "d19cf0df",
   "metadata": {
    "ExecuteTime": {
     "end_time": "2021-12-14T20:24:28.091650Z",
     "start_time": "2021-12-14T20:24:23.941656Z"
    },
    "hidden": true
   },
   "outputs": [],
   "source": [
    "#Métricas de tendência central: média e mediana\n",
    "ct1 = pd.DataFrame ( num_attributes.apply ( np.mean ) ).T\n",
    "ct2 = pd.DataFrame ( num_attributes.apply ( np.median ) ).T\n",
    "\n",
    "#Metricas de dispersão: desvio padrão, min, max, range, skew, kurtosis\n",
    "d1 = pd.DataFrame ( num_attributes.apply ( np.std ) ).T\n",
    "d2 = pd.DataFrame ( num_attributes.apply ( min ) ).T\n",
    "d3 = pd.DataFrame ( num_attributes.apply ( max ) ).T\n",
    "d4 = pd.DataFrame ( num_attributes.apply ( lambda x: x.max() - x.min() ) ).T\n",
    "d5 = pd.DataFrame ( num_attributes.apply ( lambda x: x.skew() ) ).T\n",
    "d6 = pd.DataFrame ( num_attributes.apply ( lambda x: x.kurtosis() ) ).T\n",
    "\n",
    "#concatenate\n",
    "m = pd.concat( [d2, d3, d4, ct1, ct2, d1, d5, d6 ] ).T.reset_index() \n",
    "m.columns = ['attributes', 'min', 'max', 'range', 'mean', 'median', 'std', 'skew', 'kurtosis' ]"
   ]
  },
  {
   "cell_type": "code",
   "execution_count": 33,
   "id": "3553a018",
   "metadata": {
    "ExecuteTime": {
     "end_time": "2021-12-14T20:24:28.134747Z",
     "start_time": "2021-12-14T20:24:28.095138Z"
    },
    "hidden": true,
    "scrolled": true
   },
   "outputs": [
    {
     "data": {
      "text/html": [
       "<div>\n",
       "<style scoped>\n",
       "    .dataframe tbody tr th:only-of-type {\n",
       "        vertical-align: middle;\n",
       "    }\n",
       "\n",
       "    .dataframe tbody tr th {\n",
       "        vertical-align: top;\n",
       "    }\n",
       "\n",
       "    .dataframe thead th {\n",
       "        text-align: right;\n",
       "    }\n",
       "</style>\n",
       "<table border=\"1\" class=\"dataframe\">\n",
       "  <thead>\n",
       "    <tr style=\"text-align: right;\">\n",
       "      <th></th>\n",
       "      <th>attributes</th>\n",
       "      <th>min</th>\n",
       "      <th>max</th>\n",
       "      <th>range</th>\n",
       "      <th>mean</th>\n",
       "      <th>median</th>\n",
       "      <th>std</th>\n",
       "      <th>skew</th>\n",
       "      <th>kurtosis</th>\n",
       "    </tr>\n",
       "  </thead>\n",
       "  <tbody>\n",
       "    <tr>\n",
       "      <th>0</th>\n",
       "      <td>store</td>\n",
       "      <td>1.0</td>\n",
       "      <td>1115.0</td>\n",
       "      <td>1114.0</td>\n",
       "      <td>558.429727</td>\n",
       "      <td>558.0</td>\n",
       "      <td>321.908493</td>\n",
       "      <td>-0.000955</td>\n",
       "      <td>-1.200524</td>\n",
       "    </tr>\n",
       "    <tr>\n",
       "      <th>1</th>\n",
       "      <td>day_of_week</td>\n",
       "      <td>1.0</td>\n",
       "      <td>7.0</td>\n",
       "      <td>6.0</td>\n",
       "      <td>3.998341</td>\n",
       "      <td>4.0</td>\n",
       "      <td>1.997390</td>\n",
       "      <td>0.001593</td>\n",
       "      <td>-1.246873</td>\n",
       "    </tr>\n",
       "    <tr>\n",
       "      <th>2</th>\n",
       "      <td>sales</td>\n",
       "      <td>0.0</td>\n",
       "      <td>41551.0</td>\n",
       "      <td>41551.0</td>\n",
       "      <td>5773.818972</td>\n",
       "      <td>5744.0</td>\n",
       "      <td>3849.924283</td>\n",
       "      <td>0.641460</td>\n",
       "      <td>1.778375</td>\n",
       "    </tr>\n",
       "    <tr>\n",
       "      <th>3</th>\n",
       "      <td>customers</td>\n",
       "      <td>0.0</td>\n",
       "      <td>7388.0</td>\n",
       "      <td>7388.0</td>\n",
       "      <td>633.145946</td>\n",
       "      <td>609.0</td>\n",
       "      <td>464.411506</td>\n",
       "      <td>1.598650</td>\n",
       "      <td>7.091773</td>\n",
       "    </tr>\n",
       "    <tr>\n",
       "      <th>4</th>\n",
       "      <td>open</td>\n",
       "      <td>0.0</td>\n",
       "      <td>1.0</td>\n",
       "      <td>1.0</td>\n",
       "      <td>0.830107</td>\n",
       "      <td>1.0</td>\n",
       "      <td>0.375539</td>\n",
       "      <td>-1.758045</td>\n",
       "      <td>1.090723</td>\n",
       "    </tr>\n",
       "    <tr>\n",
       "      <th>5</th>\n",
       "      <td>promo</td>\n",
       "      <td>0.0</td>\n",
       "      <td>1.0</td>\n",
       "      <td>1.0</td>\n",
       "      <td>0.381515</td>\n",
       "      <td>0.0</td>\n",
       "      <td>0.485758</td>\n",
       "      <td>0.487838</td>\n",
       "      <td>-1.762018</td>\n",
       "    </tr>\n",
       "    <tr>\n",
       "      <th>6</th>\n",
       "      <td>school_holiday</td>\n",
       "      <td>0.0</td>\n",
       "      <td>1.0</td>\n",
       "      <td>1.0</td>\n",
       "      <td>0.178647</td>\n",
       "      <td>0.0</td>\n",
       "      <td>0.383056</td>\n",
       "      <td>1.677842</td>\n",
       "      <td>0.815154</td>\n",
       "    </tr>\n",
       "    <tr>\n",
       "      <th>7</th>\n",
       "      <td>competition_distance</td>\n",
       "      <td>20.0</td>\n",
       "      <td>200000.0</td>\n",
       "      <td>199980.0</td>\n",
       "      <td>5935.442677</td>\n",
       "      <td>2330.0</td>\n",
       "      <td>12547.646829</td>\n",
       "      <td>10.242344</td>\n",
       "      <td>147.789712</td>\n",
       "    </tr>\n",
       "    <tr>\n",
       "      <th>8</th>\n",
       "      <td>competition_open_since_month</td>\n",
       "      <td>1.0</td>\n",
       "      <td>12.0</td>\n",
       "      <td>11.0</td>\n",
       "      <td>6.786849</td>\n",
       "      <td>7.0</td>\n",
       "      <td>3.311085</td>\n",
       "      <td>-0.042076</td>\n",
       "      <td>-1.232607</td>\n",
       "    </tr>\n",
       "    <tr>\n",
       "      <th>9</th>\n",
       "      <td>competition_open_since_year</td>\n",
       "      <td>1900.0</td>\n",
       "      <td>2015.0</td>\n",
       "      <td>115.0</td>\n",
       "      <td>2010.324840</td>\n",
       "      <td>2012.0</td>\n",
       "      <td>5.515591</td>\n",
       "      <td>-7.235657</td>\n",
       "      <td>124.071304</td>\n",
       "    </tr>\n",
       "    <tr>\n",
       "      <th>10</th>\n",
       "      <td>promo2</td>\n",
       "      <td>0.0</td>\n",
       "      <td>1.0</td>\n",
       "      <td>1.0</td>\n",
       "      <td>0.500564</td>\n",
       "      <td>1.0</td>\n",
       "      <td>0.500000</td>\n",
       "      <td>-0.002255</td>\n",
       "      <td>-1.999999</td>\n",
       "    </tr>\n",
       "    <tr>\n",
       "      <th>11</th>\n",
       "      <td>promo2_since_week</td>\n",
       "      <td>1.0</td>\n",
       "      <td>52.0</td>\n",
       "      <td>51.0</td>\n",
       "      <td>23.619033</td>\n",
       "      <td>22.0</td>\n",
       "      <td>14.310057</td>\n",
       "      <td>0.178723</td>\n",
       "      <td>-1.184046</td>\n",
       "    </tr>\n",
       "    <tr>\n",
       "      <th>12</th>\n",
       "      <td>promo2_since_year</td>\n",
       "      <td>2009.0</td>\n",
       "      <td>2015.0</td>\n",
       "      <td>6.0</td>\n",
       "      <td>2012.793297</td>\n",
       "      <td>2013.0</td>\n",
       "      <td>1.662657</td>\n",
       "      <td>-0.784436</td>\n",
       "      <td>-0.210075</td>\n",
       "    </tr>\n",
       "    <tr>\n",
       "      <th>13</th>\n",
       "      <td>is_promo</td>\n",
       "      <td>0.0</td>\n",
       "      <td>1.0</td>\n",
       "      <td>1.0</td>\n",
       "      <td>0.155134</td>\n",
       "      <td>0.0</td>\n",
       "      <td>0.362033</td>\n",
       "      <td>1.905166</td>\n",
       "      <td>1.629662</td>\n",
       "    </tr>\n",
       "  </tbody>\n",
       "</table>\n",
       "</div>"
      ],
      "text/plain": [
       "                      attributes     min       max     range         mean  \\\n",
       "0                          store     1.0    1115.0    1114.0   558.429727   \n",
       "1                    day_of_week     1.0       7.0       6.0     3.998341   \n",
       "2                          sales     0.0   41551.0   41551.0  5773.818972   \n",
       "3                      customers     0.0    7388.0    7388.0   633.145946   \n",
       "4                           open     0.0       1.0       1.0     0.830107   \n",
       "5                          promo     0.0       1.0       1.0     0.381515   \n",
       "6                 school_holiday     0.0       1.0       1.0     0.178647   \n",
       "7           competition_distance    20.0  200000.0  199980.0  5935.442677   \n",
       "8   competition_open_since_month     1.0      12.0      11.0     6.786849   \n",
       "9    competition_open_since_year  1900.0    2015.0     115.0  2010.324840   \n",
       "10                        promo2     0.0       1.0       1.0     0.500564   \n",
       "11             promo2_since_week     1.0      52.0      51.0    23.619033   \n",
       "12             promo2_since_year  2009.0    2015.0       6.0  2012.793297   \n",
       "13                      is_promo     0.0       1.0       1.0     0.155134   \n",
       "\n",
       "    median           std       skew    kurtosis  \n",
       "0    558.0    321.908493  -0.000955   -1.200524  \n",
       "1      4.0      1.997390   0.001593   -1.246873  \n",
       "2   5744.0   3849.924283   0.641460    1.778375  \n",
       "3    609.0    464.411506   1.598650    7.091773  \n",
       "4      1.0      0.375539  -1.758045    1.090723  \n",
       "5      0.0      0.485758   0.487838   -1.762018  \n",
       "6      0.0      0.383056   1.677842    0.815154  \n",
       "7   2330.0  12547.646829  10.242344  147.789712  \n",
       "8      7.0      3.311085  -0.042076   -1.232607  \n",
       "9   2012.0      5.515591  -7.235657  124.071304  \n",
       "10     1.0      0.500000  -0.002255   -1.999999  \n",
       "11    22.0     14.310057   0.178723   -1.184046  \n",
       "12  2013.0      1.662657  -0.784436   -0.210075  \n",
       "13     0.0      0.362033   1.905166    1.629662  "
      ]
     },
     "execution_count": 33,
     "metadata": {},
     "output_type": "execute_result"
    }
   ],
   "source": [
    "#Análise geral:\n",
    "m"
   ]
  },
  {
   "cell_type": "code",
   "execution_count": 34,
   "id": "e781d3eb",
   "metadata": {
    "ExecuteTime": {
     "end_time": "2021-12-14T20:24:31.932583Z",
     "start_time": "2021-12-14T20:24:31.773247Z"
    },
    "hidden": true
   },
   "outputs": [],
   "source": [
    "#Anlálise de SALES\n",
    "\n",
    "#Vou retirar as vendas = 0 pra analisar o gráfico mais limpo:\n",
    "df_sales_pos = df1.loc[ df1['sales'] > 0 ]"
   ]
  },
  {
   "cell_type": "code",
   "execution_count": 35,
   "id": "7c4ecddc",
   "metadata": {
    "ExecuteTime": {
     "end_time": "2021-12-14T20:24:38.599491Z",
     "start_time": "2021-12-14T20:24:36.029788Z"
    },
    "hidden": true
   },
   "outputs": [
    {
     "data": {
      "image/png": "[encoded data removed]",
      "text/plain": [
       "<Figure size 360x360 with 1 Axes>"
      ]
     },
     "metadata": {
      "needs_background": "light"
     },
     "output_type": "display_data"
    }
   ],
   "source": [
    "p = sns.displot ( df_sales_pos['sales'] )\n",
    "#p.fig.set_dpi(100)\n",
    "plt.show()"
   ]
  },
  {
   "cell_type": "code",
   "execution_count": 36,
   "id": "87a4900a",
   "metadata": {
    "ExecuteTime": {
     "end_time": "2021-12-14T20:24:46.886999Z",
     "start_time": "2021-12-14T20:24:44.374051Z"
    },
    "hidden": true
   },
   "outputs": [
    {
     "data": {
      "image/png": "[encoded data removed]",
      "text/plain": [
       "<Figure size 500x500 with 1 Axes>"
      ]
     },
     "metadata": {
      "needs_background": "light"
     },
     "output_type": "display_data"
    }
   ],
   "source": [
    "#Abaixo, ploto o gráfico do Sales original, porque o m que estou analistando \n",
    "# considera os zeros nas vendas também!\n",
    "p = sns.displot ( df1['sales'] )\n",
    "p.fig.set_dpi(100)\n",
    "plt.show()"
   ]
  },
  {
   "cell_type": "markdown",
   "id": "860df4a7",
   "metadata": {
    "hidden": true
   },
   "source": [
    "ANÁLISE SALES:\n",
    "\n",
    "- Média e mediana bem próximas, não vai ter deslocamento da distribuição muito grande, vide skew.\n",
    "- Skew 0.6 positivo (deslocamento leve para esquerda), mas bem próximo a zero, logo distribuição bem próxima de uma normal. \n",
    "- Kurtosis 1.77 positiva, próxima de 2, tem um pico grande.\n",
    "- A média é de 5773 vendas/dia, e o std de 3850: Isto significa que em 78% dos dias (±1 std), temos entre 1923 (5773-3850) e 9.623 (5773+3850) vendas."
   ]
  },
  {
   "cell_type": "code",
   "execution_count": 39,
   "id": "0beed9d6",
   "metadata": {
    "ExecuteTime": {
     "end_time": "2021-12-14T20:25:16.054917Z",
     "start_time": "2021-12-14T20:25:09.925825Z"
    },
    "hidden": true,
    "scrolled": true
   },
   "outputs": [
    {
     "data": {
      "image/png": "[encoded data removed]",
      "text/plain": [
       "<Figure size 750x750 with 1 Axes>"
      ]
     },
     "metadata": {
      "needs_background": "light"
     },
     "output_type": "display_data"
    }
   ],
   "source": [
    "#Análise competition distance\n",
    "p = sns.displot ( df1['competition_distance'] )\n",
    "p.fig.set_dpi(150)\n",
    "plt.show()"
   ]
  },
  {
   "cell_type": "code",
   "execution_count": 40,
   "id": "f7ccb174",
   "metadata": {
    "ExecuteTime": {
     "end_time": "2021-12-14T20:25:20.135123Z",
     "start_time": "2021-12-14T20:25:20.125559Z"
    },
    "hidden": true
   },
   "outputs": [
    {
     "ename": "SyntaxError",
     "evalue": "invalid syntax (<ipython-input-40-642d74a923b1>, line 1)",
     "output_type": "error",
     "traceback": [
      "\u001b[0;36m  File \u001b[0;32m\"<ipython-input-40-642d74a923b1>\"\u001b[0;36m, line \u001b[0;32m1\u001b[0m\n\u001b[0;31m    ANÁLISE COMPETITION DISTANDE:(apenas > 0):\u001b[0m\n\u001b[0m            ^\u001b[0m\n\u001b[0;31mSyntaxError\u001b[0m\u001b[0;31m:\u001b[0m invalid syntax\n"
     ]
    }
   ],
   "source": [
    "ANÁLISE COMPETITION DISTANDE:(apenas > 0):\n",
    "\n",
    "- Média e mediana bem longe uma da outra, logo vai ter deslocamento da normal muito grande, \n",
    "vide skew.\n",
    "- Skew 10.2 positiva (deslocamento enorme pra esquerda), indicando grande concentração de \n",
    "distâncias menores até os concorrentes.\n",
    "- Kurtosis 147 positiva, indicando um pico gigantesco."
   ]
  },
  {
   "cell_type": "code",
   "execution_count": 41,
   "id": "2f243d8e",
   "metadata": {
    "ExecuteTime": {
     "end_time": "2021-12-14T20:25:26.075092Z",
     "start_time": "2021-12-14T20:25:25.916821Z"
    },
    "hidden": true
   },
   "outputs": [],
   "source": [
    "#Análise customers\n",
    "#Vou retirar customers = 0 pra analisar o gráfico mais limpo:\n",
    "\n",
    "df_cust_pos = df1.loc[ df1['customers'] > 0 ]"
   ]
  },
  {
   "cell_type": "code",
   "execution_count": 42,
   "id": "68a274fa",
   "metadata": {
    "ExecuteTime": {
     "end_time": "2021-12-14T20:25:30.534982Z",
     "start_time": "2021-12-14T20:25:26.740612Z"
    },
    "hidden": true,
    "scrolled": true
   },
   "outputs": [
    {
     "data": {
      "image/png": "[encoded data removed]",
      "text/plain": [
       "<Figure size 360x360 with 1 Axes>"
      ]
     },
     "metadata": {
      "needs_background": "light"
     },
     "output_type": "display_data"
    }
   ],
   "source": [
    "p = sns.displot ( df_cust_pos['customers'] )\n",
    "#p.fig.set_dpi(150)\n",
    "plt.show()"
   ]
  },
  {
   "cell_type": "code",
   "execution_count": 43,
   "id": "422d2497",
   "metadata": {
    "ExecuteTime": {
     "end_time": "2021-12-14T20:25:34.284806Z",
     "start_time": "2021-12-14T20:25:30.540853Z"
    },
    "hidden": true
   },
   "outputs": [
    {
     "data": {
      "image/png": "[encoded data removed]",
      "text/plain": [
       "<Figure size 500x500 with 1 Axes>"
      ]
     },
     "metadata": {
      "needs_background": "light"
     },
     "output_type": "display_data"
    }
   ],
   "source": [
    "#Abaixo, ploto o gráfico do Customer original, porque o m que estou analistando \n",
    "# considera os zeros nos customers também!\n",
    "p = sns.displot ( df1['customers'] )\n",
    "p.fig.set_dpi(100)\n",
    "plt.show()"
   ]
  },
  {
   "cell_type": "markdown",
   "id": "9f9f901b",
   "metadata": {
    "hidden": true
   },
   "source": [
    "ANÁLISE CUSTOMERS:\n",
    "\n",
    "- Média (633) e mediana (609) próximas, mas mediana menor: deslocamento da curva levemente pra esquerda.\n",
    "\n",
    "- Logo, skew levemente positiva, indicando maior concentração dos valores mais abaixo da média (ponto central).\n",
    "\n",
    "- Kursosis de 7, logo pico muito alto /distribuição bem dispersa em número de clientes por dia.\n",
    "\n",
    "- Std de 464, e média de clientes por dia de 633: em 78% dos dias (34% ref. 1 std positivo + 34% ref. 1 std negativo), tivemos entre 169 (633-464) e 1097 (633+464) clientes. \n",
    "\n"
   ]
  },
  {
   "cell_type": "code",
   "execution_count": 44,
   "id": "2cb64252",
   "metadata": {
    "ExecuteTime": {
     "end_time": "2021-12-14T20:25:40.824887Z",
     "start_time": "2021-12-14T20:25:40.796654Z"
    },
    "hidden": true
   },
   "outputs": [
    {
     "data": {
      "text/html": [
       "<div>\n",
       "<style scoped>\n",
       "    .dataframe tbody tr th:only-of-type {\n",
       "        vertical-align: middle;\n",
       "    }\n",
       "\n",
       "    .dataframe tbody tr th {\n",
       "        vertical-align: top;\n",
       "    }\n",
       "\n",
       "    .dataframe thead th {\n",
       "        text-align: right;\n",
       "    }\n",
       "</style>\n",
       "<table border=\"1\" class=\"dataframe\">\n",
       "  <thead>\n",
       "    <tr style=\"text-align: right;\">\n",
       "      <th></th>\n",
       "      <th>attributes</th>\n",
       "      <th>min</th>\n",
       "      <th>max</th>\n",
       "      <th>range</th>\n",
       "      <th>mean</th>\n",
       "      <th>median</th>\n",
       "      <th>std</th>\n",
       "      <th>skew</th>\n",
       "      <th>kurtosis</th>\n",
       "    </tr>\n",
       "  </thead>\n",
       "  <tbody>\n",
       "    <tr>\n",
       "      <th>0</th>\n",
       "      <td>store</td>\n",
       "      <td>1.0</td>\n",
       "      <td>1115.0</td>\n",
       "      <td>1114.0</td>\n",
       "      <td>558.429727</td>\n",
       "      <td>558.0</td>\n",
       "      <td>321.908493</td>\n",
       "      <td>-0.000955</td>\n",
       "      <td>-1.200524</td>\n",
       "    </tr>\n",
       "    <tr>\n",
       "      <th>1</th>\n",
       "      <td>day_of_week</td>\n",
       "      <td>1.0</td>\n",
       "      <td>7.0</td>\n",
       "      <td>6.0</td>\n",
       "      <td>3.998341</td>\n",
       "      <td>4.0</td>\n",
       "      <td>1.997390</td>\n",
       "      <td>0.001593</td>\n",
       "      <td>-1.246873</td>\n",
       "    </tr>\n",
       "    <tr>\n",
       "      <th>2</th>\n",
       "      <td>sales</td>\n",
       "      <td>0.0</td>\n",
       "      <td>41551.0</td>\n",
       "      <td>41551.0</td>\n",
       "      <td>5773.818972</td>\n",
       "      <td>5744.0</td>\n",
       "      <td>3849.924283</td>\n",
       "      <td>0.641460</td>\n",
       "      <td>1.778375</td>\n",
       "    </tr>\n",
       "    <tr>\n",
       "      <th>3</th>\n",
       "      <td>customers</td>\n",
       "      <td>0.0</td>\n",
       "      <td>7388.0</td>\n",
       "      <td>7388.0</td>\n",
       "      <td>633.145946</td>\n",
       "      <td>609.0</td>\n",
       "      <td>464.411506</td>\n",
       "      <td>1.598650</td>\n",
       "      <td>7.091773</td>\n",
       "    </tr>\n",
       "    <tr>\n",
       "      <th>4</th>\n",
       "      <td>open</td>\n",
       "      <td>0.0</td>\n",
       "      <td>1.0</td>\n",
       "      <td>1.0</td>\n",
       "      <td>0.830107</td>\n",
       "      <td>1.0</td>\n",
       "      <td>0.375539</td>\n",
       "      <td>-1.758045</td>\n",
       "      <td>1.090723</td>\n",
       "    </tr>\n",
       "    <tr>\n",
       "      <th>5</th>\n",
       "      <td>promo</td>\n",
       "      <td>0.0</td>\n",
       "      <td>1.0</td>\n",
       "      <td>1.0</td>\n",
       "      <td>0.381515</td>\n",
       "      <td>0.0</td>\n",
       "      <td>0.485758</td>\n",
       "      <td>0.487838</td>\n",
       "      <td>-1.762018</td>\n",
       "    </tr>\n",
       "    <tr>\n",
       "      <th>6</th>\n",
       "      <td>school_holiday</td>\n",
       "      <td>0.0</td>\n",
       "      <td>1.0</td>\n",
       "      <td>1.0</td>\n",
       "      <td>0.178647</td>\n",
       "      <td>0.0</td>\n",
       "      <td>0.383056</td>\n",
       "      <td>1.677842</td>\n",
       "      <td>0.815154</td>\n",
       "    </tr>\n",
       "    <tr>\n",
       "      <th>7</th>\n",
       "      <td>competition_distance</td>\n",
       "      <td>20.0</td>\n",
       "      <td>200000.0</td>\n",
       "      <td>199980.0</td>\n",
       "      <td>5935.442677</td>\n",
       "      <td>2330.0</td>\n",
       "      <td>12547.646829</td>\n",
       "      <td>10.242344</td>\n",
       "      <td>147.789712</td>\n",
       "    </tr>\n",
       "    <tr>\n",
       "      <th>8</th>\n",
       "      <td>competition_open_since_month</td>\n",
       "      <td>1.0</td>\n",
       "      <td>12.0</td>\n",
       "      <td>11.0</td>\n",
       "      <td>6.786849</td>\n",
       "      <td>7.0</td>\n",
       "      <td>3.311085</td>\n",
       "      <td>-0.042076</td>\n",
       "      <td>-1.232607</td>\n",
       "    </tr>\n",
       "    <tr>\n",
       "      <th>9</th>\n",
       "      <td>competition_open_since_year</td>\n",
       "      <td>1900.0</td>\n",
       "      <td>2015.0</td>\n",
       "      <td>115.0</td>\n",
       "      <td>2010.324840</td>\n",
       "      <td>2012.0</td>\n",
       "      <td>5.515591</td>\n",
       "      <td>-7.235657</td>\n",
       "      <td>124.071304</td>\n",
       "    </tr>\n",
       "    <tr>\n",
       "      <th>10</th>\n",
       "      <td>promo2</td>\n",
       "      <td>0.0</td>\n",
       "      <td>1.0</td>\n",
       "      <td>1.0</td>\n",
       "      <td>0.500564</td>\n",
       "      <td>1.0</td>\n",
       "      <td>0.500000</td>\n",
       "      <td>-0.002255</td>\n",
       "      <td>-1.999999</td>\n",
       "    </tr>\n",
       "    <tr>\n",
       "      <th>11</th>\n",
       "      <td>promo2_since_week</td>\n",
       "      <td>1.0</td>\n",
       "      <td>52.0</td>\n",
       "      <td>51.0</td>\n",
       "      <td>23.619033</td>\n",
       "      <td>22.0</td>\n",
       "      <td>14.310057</td>\n",
       "      <td>0.178723</td>\n",
       "      <td>-1.184046</td>\n",
       "    </tr>\n",
       "    <tr>\n",
       "      <th>12</th>\n",
       "      <td>promo2_since_year</td>\n",
       "      <td>2009.0</td>\n",
       "      <td>2015.0</td>\n",
       "      <td>6.0</td>\n",
       "      <td>2012.793297</td>\n",
       "      <td>2013.0</td>\n",
       "      <td>1.662657</td>\n",
       "      <td>-0.784436</td>\n",
       "      <td>-0.210075</td>\n",
       "    </tr>\n",
       "    <tr>\n",
       "      <th>13</th>\n",
       "      <td>is_promo</td>\n",
       "      <td>0.0</td>\n",
       "      <td>1.0</td>\n",
       "      <td>1.0</td>\n",
       "      <td>0.155134</td>\n",
       "      <td>0.0</td>\n",
       "      <td>0.362033</td>\n",
       "      <td>1.905166</td>\n",
       "      <td>1.629662</td>\n",
       "    </tr>\n",
       "  </tbody>\n",
       "</table>\n",
       "</div>"
      ],
      "text/plain": [
       "                      attributes     min       max     range         mean  \\\n",
       "0                          store     1.0    1115.0    1114.0   558.429727   \n",
       "1                    day_of_week     1.0       7.0       6.0     3.998341   \n",
       "2                          sales     0.0   41551.0   41551.0  5773.818972   \n",
       "3                      customers     0.0    7388.0    7388.0   633.145946   \n",
       "4                           open     0.0       1.0       1.0     0.830107   \n",
       "5                          promo     0.0       1.0       1.0     0.381515   \n",
       "6                 school_holiday     0.0       1.0       1.0     0.178647   \n",
       "7           competition_distance    20.0  200000.0  199980.0  5935.442677   \n",
       "8   competition_open_since_month     1.0      12.0      11.0     6.786849   \n",
       "9    competition_open_since_year  1900.0    2015.0     115.0  2010.324840   \n",
       "10                        promo2     0.0       1.0       1.0     0.500564   \n",
       "11             promo2_since_week     1.0      52.0      51.0    23.619033   \n",
       "12             promo2_since_year  2009.0    2015.0       6.0  2012.793297   \n",
       "13                      is_promo     0.0       1.0       1.0     0.155134   \n",
       "\n",
       "    median           std       skew    kurtosis  \n",
       "0    558.0    321.908493  -0.000955   -1.200524  \n",
       "1      4.0      1.997390   0.001593   -1.246873  \n",
       "2   5744.0   3849.924283   0.641460    1.778375  \n",
       "3    609.0    464.411506   1.598650    7.091773  \n",
       "4      1.0      0.375539  -1.758045    1.090723  \n",
       "5      0.0      0.485758   0.487838   -1.762018  \n",
       "6      0.0      0.383056   1.677842    0.815154  \n",
       "7   2330.0  12547.646829  10.242344  147.789712  \n",
       "8      7.0      3.311085  -0.042076   -1.232607  \n",
       "9   2012.0      5.515591  -7.235657  124.071304  \n",
       "10     1.0      0.500000  -0.002255   -1.999999  \n",
       "11    22.0     14.310057   0.178723   -1.184046  \n",
       "12  2013.0      1.662657  -0.784436   -0.210075  \n",
       "13     0.0      0.362033   1.905166    1.629662  "
      ]
     },
     "execution_count": 44,
     "metadata": {},
     "output_type": "execute_result"
    }
   ],
   "source": [
    "m"
   ]
  },
  {
   "cell_type": "markdown",
   "id": "20d56e11",
   "metadata": {
    "ExecuteTime": {
     "end_time": "2021-12-13T19:26:22.028599Z",
     "start_time": "2021-12-13T19:26:22.023327Z"
    },
    "hidden": true
   },
   "source": [
    "### Categorical Attibures"
   ]
  },
  {
   "cell_type": "code",
   "execution_count": 45,
   "id": "44e249f8",
   "metadata": {
    "ExecuteTime": {
     "end_time": "2021-12-14T20:25:46.450192Z",
     "start_time": "2021-12-14T20:25:46.190067Z"
    },
    "hidden": true
   },
   "outputs": [
    {
     "data": {
      "text/plain": [
       "state_holiday      4\n",
       "store_type         4\n",
       "assortment         3\n",
       "promo_interval     4\n",
       "month_map         12\n",
       "dtype: int64"
      ]
     },
     "execution_count": 45,
     "metadata": {},
     "output_type": "execute_result"
    }
   ],
   "source": [
    "cat_attributes.apply ( lambda x: x.unique().shape[0] )"
   ]
  },
  {
   "cell_type": "code",
   "execution_count": 46,
   "id": "5d016b76",
   "metadata": {
    "ExecuteTime": {
     "end_time": "2021-12-14T20:25:48.838442Z",
     "start_time": "2021-12-14T20:25:48.725915Z"
    },
    "hidden": true
   },
   "outputs": [
    {
     "data": {
      "text/plain": [
       "0    986159\n",
       "a     20260\n",
       "b      6690\n",
       "c      4100\n",
       "Name: state_holiday, dtype: int64"
      ]
     },
     "execution_count": 46,
     "metadata": {},
     "output_type": "execute_result"
    }
   ],
   "source": [
    "df1['state_holiday'].value_counts()"
   ]
  },
  {
   "cell_type": "code",
   "execution_count": 47,
   "id": "92feb249",
   "metadata": {
    "ExecuteTime": {
     "end_time": "2021-12-14T20:25:50.443936Z",
     "start_time": "2021-12-14T20:25:49.516824Z"
    },
    "hidden": true
   },
   "outputs": [
    {
     "data": {
      "text/plain": [
       "<AxesSubplot:xlabel='assortment', ylabel='sales'>"
      ]
     },
     "execution_count": 47,
     "metadata": {},
     "output_type": "execute_result"
    },
    {
     "data": {
      "image/png": "[encoded data removed]",
      "text/plain": [
       "<Figure size 1296x648 with 3 Axes>"
      ]
     },
     "metadata": {},
     "output_type": "display_data"
    }
   ],
   "source": [
    "#Boxplot tem todas as medidas de dispersão e tendência central. Vamos usar ele.\n",
    "\n",
    "#vendas nos feriados: remover dias não feriado e dias onde não teve vendas \n",
    "aux1 = df1[ (df1['state_holiday'] != '0') & (df1['sales'] > 0) ]\n",
    "\n",
    "#setar tamanho:\n",
    "sns.set(rc={'figure.figsize':(18,9)})\n",
    "\n",
    "plt.subplot (1, 3, 1)\n",
    "sns.boxplot( x='state_holiday', y='sales', data=aux1 )\n",
    "\n",
    "plt.subplot (1, 3, 2)\n",
    "sns.boxplot( x='store_type', y='sales', data=aux1 )\n",
    "\n",
    "plt.subplot (1, 3, 3)\n",
    "sns.boxplot( x='assortment', y='sales', data=aux1 )"
   ]
  },
  {
   "cell_type": "markdown",
   "id": "668b8a68",
   "metadata": {
    "hidden": true
   },
   "source": [
    "Acima, a linha meio de cada imagem colorida é o 50º quartil, ou seja a mediana.\n",
    "A borda da figura de baixo é o quartil 25, a de cima o 75.\n",
    "Logo, dentro da imagem laranja, tenho o volume do quartil 25 ao 50, e do 50 ao 75. \n",
    "Fora da figura até os riscos superior e inferior é o valor mínimo e máximo.\n",
    "Pontos após os riscos das bordas (valores máximos) são outliers: > 3 vezes o desvio padrão.\n",
    "\n",
    "Logo, quanto mais achatada é a figura, maior a concentração em torno da mediana."
   ]
  },
  {
   "cell_type": "markdown",
   "id": "d50ae2fb",
   "metadata": {
    "hidden": true
   },
   "source": [
    "Análise do boxplot 1 - quantidade de vendas por tipo de feriado:\n",
    "Legenda state_holiday: a = public holiday | b = Easter holiday |  c = Christmas\n",
    "\n",
    "-A mediana de vendas de páscoa(b) e natal (c) é mais alta que de feriados publicos (a).\n",
    "-A mediana de vendas de páscoa(b) e natal (c) é parecida, mas a dispersão é maior na páscoa."
   ]
  },
  {
   "cell_type": "markdown",
   "id": "0a264859",
   "metadata": {
    "hidden": true
   },
   "source": [
    "Análise do boxplot 2 - quantidade de vendas por tipo de loja:\n",
    "    Legenda de StoreType - differentiates between 4 different store models: a, b, c, d\n",
    "        \n",
    "-Loja tipo b vende muito mais na mediana que as demais, aprox. o dobro da tipo a.\n",
    "-Loja do tipo c tem concentração de vendas maior em torno da mediana.\n"
   ]
  },
  {
   "cell_type": "markdown",
   "id": "0c49a1fa",
   "metadata": {
    "ExecuteTime": {
     "end_time": "2021-12-14T13:46:27.760613Z",
     "start_time": "2021-12-14T13:43:30.478Z"
    },
    "hidden": true
   },
   "source": [
    "Análise do boxplot 3 - quantidade de vendas por mix de produtos:\n",
    "    Legenda de Assortment - describes an assortment level: a = basic, b = extra, c = extended\n",
    "        \n",
    "-Há muito mais vendas do mix b do que dos demais. E o número de vendas varia mais também\n",
    "neste mix.\n",
    "-O mix A tem uma grande quantidade de outliers, mas uma distribuição bem uniforme fora isto."
   ]
  },
  {
   "cell_type": "markdown",
   "id": "fecf32d3",
   "metadata": {
    "ExecuteTime": {
     "end_time": "2021-12-14T12:24:58.130789Z",
     "start_time": "2021-12-14T12:24:58.118649Z"
    }
   },
   "source": [
    "# PASSO 2 - Feature Engeneering"
   ]
  },
  {
   "cell_type": "code",
   "execution_count": 49,
   "id": "129dcf83",
   "metadata": {
    "ExecuteTime": {
     "end_time": "2021-12-14T20:27:11.262823Z",
     "start_time": "2021-12-14T20:27:11.127320Z"
    }
   },
   "outputs": [],
   "source": [
    "df2 = df1.copy()"
   ]
  },
  {
   "cell_type": "code",
   "execution_count": 52,
   "id": "d682d7a2",
   "metadata": {
    "ExecuteTime": {
     "end_time": "2021-12-14T20:31:58.311451Z",
     "start_time": "2021-12-14T20:31:58.291615Z"
    },
    "scrolled": true
   },
   "outputs": [
    {
     "data": {
      "image/png": "[encoded data removed]",
      "text/plain": [
       "<IPython.core.display.Image object>"
      ]
     },
     "execution_count": 52,
     "metadata": {},
     "output_type": "execute_result"
    }
   ],
   "source": [
    "Image ('img/MindMapHypothesis.png')"
   ]
  },
  {
   "cell_type": "markdown",
   "id": "0a2cdb96",
   "metadata": {
    "ExecuteTime": {
     "end_time": "2021-12-14T12:57:41.804023Z",
     "start_time": "2021-12-14T12:57:41.798698Z"
    }
   },
   "source": [
    "## Criação das Hipóteses"
   ]
  },
  {
   "cell_type": "markdown",
   "id": "00bbe36e",
   "metadata": {
    "ExecuteTime": {
     "end_time": "2021-12-14T13:46:27.791486Z",
     "start_time": "2021-12-14T13:43:30.499Z"
    }
   },
   "source": [
    "Hipóteses são Apostas.\n",
    "\n",
    "Exemplos nesse contexto são:\n",
    "- Lojas de MAIOR porte (atributo) deveriam vender (fenômeno) MAIS.\n",
    "- Lojas com MAIOR sortimento (atributo) deveriam vender (fenômeno) MAIS.\n",
    "- Lojas com MAIS competidores por perto (atributo) deveriam vender (fenômeno) MENOS.\n",
    "\n",
    "Vamos agora criar hipóteses olhando para o mapa, relacionando o fenômeno e cada agente \n",
    " e seus atributos:\n",
    "        Na prática, isto é capturado em reunião de brainstorm com o time de negócio.\n",
    "        Deixar claro que são apostas, e não são relações de causa e efeito, mas correlações:\n",
    "            Isto porque estamos mapeando todos os atributos correlacionados com vendas, \n",
    "            e não há um único."
   ]
  },
  {
   "cell_type": "markdown",
   "id": "dcc24db4",
   "metadata": {},
   "source": [
    "### Hipóteses Loja"
   ]
  },
  {
   "cell_type": "markdown",
   "id": "f0866242",
   "metadata": {
    "ExecuteTime": {
     "end_time": "2021-12-14T13:00:12.610959Z",
     "start_time": "2021-12-14T13:00:12.605853Z"
    }
   },
   "source": [
    "#### Lojas com maior quadro de funcionários deveriam vender mais."
   ]
  },
  {
   "cell_type": "markdown",
   "id": "cf907d8b",
   "metadata": {
    "ExecuteTime": {
     "end_time": "2021-12-14T13:00:12.610959Z",
     "start_time": "2021-12-14T13:00:12.605853Z"
    }
   },
   "source": [
    "#### Lojas com maior estoque deveriam vender mais."
   ]
  },
  {
   "cell_type": "markdown",
   "id": "93a133e3",
   "metadata": {
    "ExecuteTime": {
     "end_time": "2021-12-14T13:00:12.610959Z",
     "start_time": "2021-12-14T13:00:12.605853Z"
    }
   },
   "source": [
    "#### Lojas com maior porte deveriam vender mais."
   ]
  },
  {
   "cell_type": "markdown",
   "id": "b1cdb5b3",
   "metadata": {
    "ExecuteTime": {
     "end_time": "2021-12-14T13:00:12.610959Z",
     "start_time": "2021-12-14T13:00:12.605853Z"
    }
   },
   "source": [
    "#### Lojas com maior sortimento deveriam vender mais."
   ]
  },
  {
   "cell_type": "markdown",
   "id": "971c5404",
   "metadata": {
    "ExecuteTime": {
     "end_time": "2021-12-14T13:00:12.610959Z",
     "start_time": "2021-12-14T13:00:12.605853Z"
    }
   },
   "source": [
    "#### Lojas com competidores mais próximos deveriam vender menos.\n"
   ]
  },
  {
   "cell_type": "markdown",
   "id": "f0d41554",
   "metadata": {
    "ExecuteTime": {
     "end_time": "2021-12-14T13:00:12.610959Z",
     "start_time": "2021-12-14T13:00:12.605853Z"
    }
   },
   "source": [
    "#### Lojas com competidores à mais tempo deveriam vender mais."
   ]
  },
  {
   "cell_type": "markdown",
   "id": "91977ae3",
   "metadata": {
    "heading_collapsed": true
   },
   "source": [
    "### Hipóteses Produto"
   ]
  },
  {
   "cell_type": "markdown",
   "id": "07e750e4",
   "metadata": {
    "ExecuteTime": {
     "end_time": "2021-12-14T13:00:12.610959Z",
     "start_time": "2021-12-14T13:00:12.605853Z"
    },
    "hidden": true
   },
   "source": [
    "#### Lojas que investem mais em marketing deveriam vender mais."
   ]
  },
  {
   "cell_type": "markdown",
   "id": "7a08f2bd",
   "metadata": {
    "ExecuteTime": {
     "end_time": "2021-12-14T13:00:12.610959Z",
     "start_time": "2021-12-14T13:00:12.605853Z"
    },
    "hidden": true
   },
   "source": [
    "#### Lojas com maior exposição de produto nas vitrines deveriam vender mais."
   ]
  },
  {
   "cell_type": "markdown",
   "id": "f9b304e1",
   "metadata": {
    "ExecuteTime": {
     "end_time": "2021-12-14T13:00:12.610959Z",
     "start_time": "2021-12-14T13:00:12.605853Z"
    },
    "hidden": true
   },
   "source": [
    "#### Lojas com produtos de preço menor deveriam vender mais."
   ]
  },
  {
   "cell_type": "markdown",
   "id": "936c627f",
   "metadata": {
    "ExecuteTime": {
     "end_time": "2021-12-14T13:16:44.376200Z",
     "start_time": "2021-12-14T13:16:44.367840Z"
    },
    "hidden": true
   },
   "source": [
    "#### Lojas com promoções mais agressivas (descontos maiores), deveriam vender mais."
   ]
  },
  {
   "cell_type": "markdown",
   "id": "1a6e99db",
   "metadata": {
    "ExecuteTime": {
     "end_time": "2021-12-14T13:00:12.610959Z",
     "start_time": "2021-12-14T13:00:12.605853Z"
    },
    "hidden": true
   },
   "source": [
    "#### Lojas com promoções ativas por mais tempo deveriam vender mais."
   ]
  },
  {
   "cell_type": "markdown",
   "id": "5118daa4",
   "metadata": {
    "ExecuteTime": {
     "end_time": "2021-12-14T13:00:12.610959Z",
     "start_time": "2021-12-14T13:00:12.605853Z"
    },
    "hidden": true
   },
   "source": [
    "#### Lojas com mais dias de promoção deveriam vender mais."
   ]
  },
  {
   "cell_type": "markdown",
   "id": "c268df19",
   "metadata": {
    "ExecuteTime": {
     "end_time": "2021-12-14T13:00:12.610959Z",
     "start_time": "2021-12-14T13:00:12.605853Z"
    },
    "hidden": true
   },
   "source": [
    "#### Lojas com mais promoções consecutivas deveriam vender mais."
   ]
  },
  {
   "cell_type": "markdown",
   "id": "0ff30e57",
   "metadata": {
    "heading_collapsed": true
   },
   "source": [
    "### Hipóteses Sazonalidade"
   ]
  },
  {
   "cell_type": "markdown",
   "id": "684125f7",
   "metadata": {
    "ExecuteTime": {
     "end_time": "2021-12-14T13:00:12.610959Z",
     "start_time": "2021-12-14T13:00:12.605853Z"
    },
    "hidden": true
   },
   "source": [
    "#### Lojas abertas duantes o feriado de natal deveriam vender mais."
   ]
  },
  {
   "cell_type": "markdown",
   "id": "4e807812",
   "metadata": {
    "ExecuteTime": {
     "end_time": "2021-12-14T13:00:12.610959Z",
     "start_time": "2021-12-14T13:00:12.605853Z"
    },
    "hidden": true
   },
   "source": [
    "#### Lojas deveriam vender mais ao longo dos anos."
   ]
  },
  {
   "cell_type": "markdown",
   "id": "3a3f92d0",
   "metadata": {
    "ExecuteTime": {
     "end_time": "2021-12-14T13:00:12.610959Z",
     "start_time": "2021-12-14T13:00:12.605853Z"
    },
    "hidden": true
   },
   "source": [
    "#### Lojas deveriam vender no segundo semestre do ano."
   ]
  },
  {
   "cell_type": "markdown",
   "id": "09c3115b",
   "metadata": {
    "ExecuteTime": {
     "end_time": "2021-12-14T13:00:12.610959Z",
     "start_time": "2021-12-14T13:00:12.605853Z"
    },
    "hidden": true
   },
   "source": [
    "#### Lojas deveriam vender mais no dia 10 de cada mês."
   ]
  },
  {
   "cell_type": "markdown",
   "id": "1d96f030",
   "metadata": {
    "ExecuteTime": {
     "end_time": "2021-12-14T13:00:12.610959Z",
     "start_time": "2021-12-14T13:00:12.605853Z"
    },
    "hidden": true
   },
   "source": [
    "#### Lojas deveriam vender menos aos finais de semana."
   ]
  },
  {
   "cell_type": "markdown",
   "id": "6cdafc2e",
   "metadata": {
    "ExecuteTime": {
     "end_time": "2021-12-14T13:00:12.610959Z",
     "start_time": "2021-12-14T13:00:12.605853Z"
    },
    "hidden": true
   },
   "source": [
    "#### Lojas deveriam vender menos durante os feriados escolares."
   ]
  },
  {
   "cell_type": "markdown",
   "id": "da92da21",
   "metadata": {},
   "source": [
    "## Lista Final de Hipóteses (priorização)"
   ]
  },
  {
   "cell_type": "markdown",
   "id": "7875e006",
   "metadata": {},
   "source": [
    "Critério: tenho ou não o dado disponível agora?\n",
    "    Se tenho, vou priorizar neste primeiro ciclo (listadas abaixo).\n",
    "    Se não tenho, num ciclo futuro se necessário avalio coletar, conforme a performance do modelo.\n",
    "    \n",
    "   Cada hipótese vai gerar tabela, gráfico pra poder avaliar correlação com o fenômeno, como a força dessa correlação."
   ]
  },
  {
   "cell_type": "markdown",
   "id": "52857a98",
   "metadata": {
    "ExecuteTime": {
     "end_time": "2021-12-14T13:00:12.610959Z",
     "start_time": "2021-12-14T13:00:12.605853Z"
    }
   },
   "source": [
    "#### (H1 - loja) Lojas com maior sortimento deveriam vender mais."
   ]
  },
  {
   "cell_type": "markdown",
   "id": "8818073a",
   "metadata": {
    "ExecuteTime": {
     "end_time": "2021-12-14T13:00:12.610959Z",
     "start_time": "2021-12-14T13:00:12.605853Z"
    }
   },
   "source": [
    "#### (H2 - loja) Lojas com competidores mais próximos deveriam vender menos.\n"
   ]
  },
  {
   "cell_type": "markdown",
   "id": "88f2a723",
   "metadata": {
    "ExecuteTime": {
     "end_time": "2021-12-14T13:00:12.610959Z",
     "start_time": "2021-12-14T13:00:12.605853Z"
    }
   },
   "source": [
    "#### (H3 - loja) Lojas com competidores à mais tempo deveriam vender mais."
   ]
  },
  {
   "cell_type": "markdown",
   "id": "1a8697ae",
   "metadata": {
    "ExecuteTime": {
     "end_time": "2021-12-14T13:00:12.610959Z",
     "start_time": "2021-12-14T13:00:12.605853Z"
    }
   },
   "source": [
    "#### (H4 - prod) Lojas com promoções ativas por mais tempo deveriam vender mais."
   ]
  },
  {
   "cell_type": "markdown",
   "id": "0ff716c2",
   "metadata": {
    "ExecuteTime": {
     "end_time": "2021-12-14T13:00:12.610959Z",
     "start_time": "2021-12-14T13:00:12.605853Z"
    }
   },
   "source": [
    "#### (H5 - prod) Lojas com mais dias de promoção deveriam vender mais."
   ]
  },
  {
   "cell_type": "markdown",
   "id": "2be3fadf",
   "metadata": {
    "ExecuteTime": {
     "end_time": "2021-12-14T13:00:12.610959Z",
     "start_time": "2021-12-14T13:00:12.605853Z"
    }
   },
   "source": [
    "#### (H6 - prod) Lojas com mais promoções consecutivas deveriam vender mais."
   ]
  },
  {
   "cell_type": "markdown",
   "id": "6def9343",
   "metadata": {
    "ExecuteTime": {
     "end_time": "2021-12-14T13:00:12.610959Z",
     "start_time": "2021-12-14T13:00:12.605853Z"
    }
   },
   "source": [
    "#### (H7 - sazo) Lojas abertas duantes o feriado de natal deveriam vender mais."
   ]
  },
  {
   "cell_type": "markdown",
   "id": "1b49bacf",
   "metadata": {
    "ExecuteTime": {
     "end_time": "2021-12-14T13:00:12.610959Z",
     "start_time": "2021-12-14T13:00:12.605853Z"
    }
   },
   "source": [
    "#### (H8 - sazo) Lojas deveriam vender mais ao longo dos anos."
   ]
  },
  {
   "cell_type": "markdown",
   "id": "f7728dc3",
   "metadata": {
    "ExecuteTime": {
     "end_time": "2021-12-14T13:00:12.610959Z",
     "start_time": "2021-12-14T13:00:12.605853Z"
    }
   },
   "source": [
    "#### (H9 - sazo) Lojas deveriam vender no segundo semestre do ano."
   ]
  },
  {
   "cell_type": "markdown",
   "id": "c01d7893",
   "metadata": {
    "ExecuteTime": {
     "end_time": "2021-12-14T13:00:12.610959Z",
     "start_time": "2021-12-14T13:00:12.605853Z"
    }
   },
   "source": [
    "#### (H10 - sazo) Lojas deveriam vender mais no dia 10 de cada mês."
   ]
  },
  {
   "cell_type": "markdown",
   "id": "358a9d38",
   "metadata": {
    "ExecuteTime": {
     "end_time": "2021-12-14T13:00:12.610959Z",
     "start_time": "2021-12-14T13:00:12.605853Z"
    }
   },
   "source": [
    "#### (H11 - sazo) Lojas deveriam vender menos aos finais de semana."
   ]
  },
  {
   "cell_type": "markdown",
   "id": "73d044e0",
   "metadata": {
    "ExecuteTime": {
     "end_time": "2021-12-14T13:00:12.610959Z",
     "start_time": "2021-12-14T13:00:12.605853Z"
    }
   },
   "source": [
    "#### (H12 - sazo) Lojas deveriam vender menos durante os feriados escolares."
   ]
  },
  {
   "cell_type": "markdown",
   "id": "27a9c052",
   "metadata": {},
   "source": [
    "## Feature Engeneering"
   ]
  },
  {
   "cell_type": "markdown",
   "id": "d66dd82f",
   "metadata": {},
   "source": [
    "Aqui, vou criar as variáveis que preciso derivar pra depois validar as hipóteses:"
   ]
  },
  {
   "cell_type": "markdown",
   "id": "30ccdba5",
   "metadata": {},
   "source": [
    "-year\n",
    "-Month\n",
    "-day\n",
    "-week_of_year\n",
    "-year_week\n",
    "\n",
    "-competition_since - da data da compra, há quanto tempo tenho competidores\n",
    "    juntar: competition_open_since_month + competition_open_since_year e pegar a diferença até date.\n",
    "\n",
    "-promo_since - desde quando tenho a promoção ativa\n",
    "    tenho promo2_since_week (semana do ano) e promo2_since_year, vou criar a partir deles\n",
    "    \n",
    "-assortment - trocar letras a b e c pelo mix de produtos\n",
    "-state_holiday - trocar letras a b c pelo nome por extenso"
   ]
  },
  {
   "cell_type": "code",
   "execution_count": 53,
   "id": "5cc4772f",
   "metadata": {
    "ExecuteTime": {
     "end_time": "2021-12-14T20:32:15.726885Z",
     "start_time": "2021-12-14T20:32:15.637201Z"
    }
   },
   "outputs": [
    {
     "data": {
      "text/html": [
       "<div>\n",
       "<style scoped>\n",
       "    .dataframe tbody tr th:only-of-type {\n",
       "        vertical-align: middle;\n",
       "    }\n",
       "\n",
       "    .dataframe tbody tr th {\n",
       "        vertical-align: top;\n",
       "    }\n",
       "\n",
       "    .dataframe thead th {\n",
       "        text-align: right;\n",
       "    }\n",
       "</style>\n",
       "<table border=\"1\" class=\"dataframe\">\n",
       "  <thead>\n",
       "    <tr style=\"text-align: right;\">\n",
       "      <th></th>\n",
       "      <th>store</th>\n",
       "      <th>day_of_week</th>\n",
       "      <th>date</th>\n",
       "      <th>sales</th>\n",
       "      <th>customers</th>\n",
       "      <th>open</th>\n",
       "      <th>promo</th>\n",
       "      <th>state_holiday</th>\n",
       "      <th>school_holiday</th>\n",
       "      <th>store_type</th>\n",
       "      <th>assortment</th>\n",
       "      <th>competition_distance</th>\n",
       "      <th>competition_open_since_month</th>\n",
       "      <th>competition_open_since_year</th>\n",
       "      <th>promo2</th>\n",
       "      <th>promo2_since_week</th>\n",
       "      <th>promo2_since_year</th>\n",
       "      <th>promo_interval</th>\n",
       "      <th>month_map</th>\n",
       "      <th>is_promo</th>\n",
       "    </tr>\n",
       "  </thead>\n",
       "  <tbody>\n",
       "    <tr>\n",
       "      <th>887498</th>\n",
       "      <td>744</td>\n",
       "      <td>6</td>\n",
       "      <td>2013-04-27</td>\n",
       "      <td>8020</td>\n",
       "      <td>890</td>\n",
       "      <td>1</td>\n",
       "      <td>0</td>\n",
       "      <td>0</td>\n",
       "      <td>0</td>\n",
       "      <td>a</td>\n",
       "      <td>a</td>\n",
       "      <td>1370.0</td>\n",
       "      <td>12</td>\n",
       "      <td>2011</td>\n",
       "      <td>1</td>\n",
       "      <td>40</td>\n",
       "      <td>2014</td>\n",
       "      <td>Jan,Apr,Jul,Oct</td>\n",
       "      <td>Apr</td>\n",
       "      <td>1</td>\n",
       "    </tr>\n",
       "  </tbody>\n",
       "</table>\n",
       "</div>"
      ],
      "text/plain": [
       "        store  day_of_week       date  sales  customers  open  promo  \\\n",
       "887498    744            6 2013-04-27   8020        890     1      0   \n",
       "\n",
       "       state_holiday  school_holiday store_type assortment  \\\n",
       "887498             0               0          a          a   \n",
       "\n",
       "        competition_distance  competition_open_since_month  \\\n",
       "887498                1370.0                            12   \n",
       "\n",
       "        competition_open_since_year  promo2  promo2_since_week  \\\n",
       "887498                         2011       1                 40   \n",
       "\n",
       "        promo2_since_year   promo_interval month_map  is_promo  \n",
       "887498               2014  Jan,Apr,Jul,Oct       Apr         1  "
      ]
     },
     "execution_count": 53,
     "metadata": {},
     "output_type": "execute_result"
    }
   ],
   "source": [
    "df2.sample()"
   ]
  },
  {
   "cell_type": "code",
   "execution_count": 54,
   "id": "9802f8cc",
   "metadata": {
    "ExecuteTime": {
     "end_time": "2021-12-14T20:32:41.397264Z",
     "start_time": "2021-12-14T20:32:26.530427Z"
    }
   },
   "outputs": [
    {
     "name": "stderr",
     "output_type": "stream",
     "text": [
      "<ipython-input-54-ab48e93f898e>:8: FutureWarning: Series.dt.weekofyear and Series.dt.week have been deprecated.  Please use Series.dt.isocalendar().week instead.\n",
      "  df2['week_of_year'] = df2['date'].dt.weekofyear\n"
     ]
    }
   ],
   "source": [
    "#year\n",
    "df2['year'] = df2['date'].dt.year\n",
    "#Month\n",
    "df2['month'] = df2['date'].dt.month\n",
    "#day\n",
    "df2['day'] = df2['date'].dt.day\n",
    "#week_of_year\n",
    "df2['week_of_year'] = df2['date'].dt.weekofyear\n",
    "#year_week\n",
    "df2['year_week'] = df2['date'].dt.strftime( '%Y-%W' )"
   ]
  },
  {
   "cell_type": "code",
   "execution_count": 55,
   "id": "eea19ddd",
   "metadata": {
    "ExecuteTime": {
     "end_time": "2021-12-14T20:33:45.107099Z",
     "start_time": "2021-12-14T20:32:48.120898Z"
    }
   },
   "outputs": [],
   "source": [
    "#competition_since - da data da compra, há quanto tempo tenho competidores\n",
    "    # juntar: competition_open_since_month + competition_open_since_year e pegar a diferença \n",
    "    # até date.\n",
    "    \n",
    "#criar um datetime contendo dia 1, e pegando o mês e ano:\n",
    "df2['competition_since'] = df2.apply (lambda x: dt.datetime (year=x['competition_open_since_year'], \n",
    "                   month=x['competition_open_since_month'], day=1 ), axis=1)\n",
    "#cria coluna em meses desde que a competição começou:  \n",
    "df2['competition_time_month'] = ( (df2['date'] - df2['competition_since']) / 30 ).apply (lambda x: x.days).astype ( int )"
   ]
  },
  {
   "cell_type": "code",
   "execution_count": 56,
   "id": "d969b0e9",
   "metadata": {
    "ExecuteTime": {
     "end_time": "2021-12-14T20:34:31.998389Z",
     "start_time": "2021-12-14T20:33:45.111297Z"
    }
   },
   "outputs": [],
   "source": [
    "#promo_since - desde quando tenho a promoção ativa\n",
    "    #tenho promo2_since_week (semana do ano) e promo2_since_year (ano), \n",
    "    #vou criar a partir deles nova string concatenando ambas pra ficar assim:'2015-31':\n",
    "df2['promo2_since'] = df2['promo2_since_year'].astype( str ) + '-' + df2['promo2_since_week'].astype( str )\n",
    "    #agora, converter essa string em data: ('%Y-%W-$w') -> ano, semana do ano, inicia domingo.\n",
    "df2['promo2_since'] = df2['promo2_since'].apply \\\n",
    "    ( lambda x: dt.datetime.strptime( x + '-1', '%Y-%W-%w' ) - dt.timedelta( days=7 ) )         \n",
    "    #agora tendo as duas datas, subtrai venda - data de início da promoção, pra obter \n",
    "    #o tempo que a promoção ficou ativa ativa em semanas\n",
    "df2['promo2_time_week'] = ( ( df2['date'] - df2['promo2_since'] ) / 7).apply \\\n",
    "                           ( lambda x: x.days ).astype (int)"
   ]
  },
  {
   "cell_type": "code",
   "execution_count": 57,
   "id": "8911760c",
   "metadata": {
    "ExecuteTime": {
     "end_time": "2021-12-14T20:34:32.333453Z",
     "start_time": "2021-12-14T20:34:32.004149Z"
    }
   },
   "outputs": [],
   "source": [
    "#assortment - trocar letras a b e c pelo mix de produtos:\n",
    "    #Assortment - describes an assortment level: a = basic, b = extra, c = extended\n",
    "df2['assortment'] = df2['assortment'].apply ( lambda x: \n",
    "                               'basic' if x == 'a' else\n",
    "                               'extra' if x == 'b' else \n",
    "                            'extended' if x == 'c' else x) "
   ]
  },
  {
   "cell_type": "code",
   "execution_count": 58,
   "id": "cf406d42",
   "metadata": {
    "ExecuteTime": {
     "end_time": "2021-12-14T20:34:32.476768Z",
     "start_time": "2021-12-14T20:34:32.336887Z"
    }
   },
   "outputs": [
    {
     "data": {
      "text/plain": [
       "basic       537445\n",
       "extended    471470\n",
       "extra         8294\n",
       "Name: assortment, dtype: int64"
      ]
     },
     "execution_count": 58,
     "metadata": {},
     "output_type": "execute_result"
    }
   ],
   "source": [
    "df2['assortment'].value_counts()"
   ]
  },
  {
   "cell_type": "code",
   "execution_count": 59,
   "id": "46e2eeb3",
   "metadata": {
    "ExecuteTime": {
     "end_time": "2021-12-14T20:34:32.882047Z",
     "start_time": "2021-12-14T20:34:32.482522Z"
    }
   },
   "outputs": [],
   "source": [
    "#state_holiday - trocar letras a b c pelo nome por extenso\n",
    "    #StateHoliday - indicates a state holiday. Normally all stores, with few exceptions, are \n",
    "    #closed on state holidays. Note that all schools are closed on public holidays and \n",
    "    #weekends. a = public holiday, b = easter_holiday, c = christmas, 0 = None\n",
    "df2['state_holiday'] = df2['state_holiday'].apply ( lambda x: \n",
    "                                'public_holiday' if x == 'a' else\n",
    "                                'easter_holiday' if x == 'b' else\n",
    "                                     'christmas' if x == 'c' else \n",
    "                                   'regular_day' )"
   ]
  },
  {
   "cell_type": "code",
   "execution_count": 60,
   "id": "26b3127a",
   "metadata": {
    "ExecuteTime": {
     "end_time": "2021-12-14T20:34:33.009921Z",
     "start_time": "2021-12-14T20:34:32.885208Z"
    }
   },
   "outputs": [
    {
     "data": {
      "text/plain": [
       "regular_day       986159\n",
       "public_holiday     20260\n",
       "easter_holiday      6690\n",
       "christmas           4100\n",
       "Name: state_holiday, dtype: int64"
      ]
     },
     "execution_count": 60,
     "metadata": {},
     "output_type": "execute_result"
    }
   ],
   "source": [
    "df2['state_holiday'].value_counts()"
   ]
  },
  {
   "cell_type": "code",
   "execution_count": 61,
   "id": "ce94cf6c",
   "metadata": {
    "ExecuteTime": {
     "end_time": "2021-12-14T20:34:33.575737Z",
     "start_time": "2021-12-14T20:34:33.014800Z"
    },
    "scrolled": false
   },
   "outputs": [
    {
     "data": {
      "text/html": [
       "<div>\n",
       "<style scoped>\n",
       "    .dataframe tbody tr th:only-of-type {\n",
       "        vertical-align: middle;\n",
       "    }\n",
       "\n",
       "    .dataframe tbody tr th {\n",
       "        vertical-align: top;\n",
       "    }\n",
       "\n",
       "    .dataframe thead th {\n",
       "        text-align: right;\n",
       "    }\n",
       "</style>\n",
       "<table border=\"1\" class=\"dataframe\">\n",
       "  <thead>\n",
       "    <tr style=\"text-align: right;\">\n",
       "      <th></th>\n",
       "      <th>986093</th>\n",
       "      <th>193606</th>\n",
       "      <th>476429</th>\n",
       "      <th>415389</th>\n",
       "      <th>269394</th>\n",
       "    </tr>\n",
       "  </thead>\n",
       "  <tbody>\n",
       "    <tr>\n",
       "      <th>store</th>\n",
       "      <td>104</td>\n",
       "      <td>712</td>\n",
       "      <td>1110</td>\n",
       "      <td>280</td>\n",
       "      <td>350</td>\n",
       "    </tr>\n",
       "    <tr>\n",
       "      <th>day_of_week</th>\n",
       "      <td>1</td>\n",
       "      <td>7</td>\n",
       "      <td>4</td>\n",
       "      <td>2</td>\n",
       "      <td>3</td>\n",
       "    </tr>\n",
       "    <tr>\n",
       "      <th>date</th>\n",
       "      <td>2013-01-28 00:00:00</td>\n",
       "      <td>2015-02-08 00:00:00</td>\n",
       "      <td>2014-05-01 00:00:00</td>\n",
       "      <td>2014-06-24 00:00:00</td>\n",
       "      <td>2014-11-26 00:00:00</td>\n",
       "    </tr>\n",
       "    <tr>\n",
       "      <th>sales</th>\n",
       "      <td>8620</td>\n",
       "      <td>0</td>\n",
       "      <td>0</td>\n",
       "      <td>5339</td>\n",
       "      <td>7639</td>\n",
       "    </tr>\n",
       "    <tr>\n",
       "      <th>customers</th>\n",
       "      <td>1210</td>\n",
       "      <td>0</td>\n",
       "      <td>0</td>\n",
       "      <td>486</td>\n",
       "      <td>510</td>\n",
       "    </tr>\n",
       "    <tr>\n",
       "      <th>open</th>\n",
       "      <td>1</td>\n",
       "      <td>0</td>\n",
       "      <td>0</td>\n",
       "      <td>1</td>\n",
       "      <td>1</td>\n",
       "    </tr>\n",
       "    <tr>\n",
       "      <th>promo</th>\n",
       "      <td>0</td>\n",
       "      <td>0</td>\n",
       "      <td>1</td>\n",
       "      <td>0</td>\n",
       "      <td>1</td>\n",
       "    </tr>\n",
       "    <tr>\n",
       "      <th>state_holiday</th>\n",
       "      <td>regular_day</td>\n",
       "      <td>regular_day</td>\n",
       "      <td>public_holiday</td>\n",
       "      <td>regular_day</td>\n",
       "      <td>regular_day</td>\n",
       "    </tr>\n",
       "    <tr>\n",
       "      <th>school_holiday</th>\n",
       "      <td>0</td>\n",
       "      <td>0</td>\n",
       "      <td>0</td>\n",
       "      <td>0</td>\n",
       "      <td>0</td>\n",
       "    </tr>\n",
       "    <tr>\n",
       "      <th>store_type</th>\n",
       "      <td>a</td>\n",
       "      <td>a</td>\n",
       "      <td>c</td>\n",
       "      <td>d</td>\n",
       "      <td>d</td>\n",
       "    </tr>\n",
       "    <tr>\n",
       "      <th>assortment</th>\n",
       "      <td>basic</td>\n",
       "      <td>basic</td>\n",
       "      <td>extended</td>\n",
       "      <td>extended</td>\n",
       "      <td>basic</td>\n",
       "    </tr>\n",
       "    <tr>\n",
       "      <th>competition_distance</th>\n",
       "      <td>390.0</td>\n",
       "      <td>4870.0</td>\n",
       "      <td>900.0</td>\n",
       "      <td>18640.0</td>\n",
       "      <td>8880.0</td>\n",
       "    </tr>\n",
       "    <tr>\n",
       "      <th>competition_open_since_month</th>\n",
       "      <td>6</td>\n",
       "      <td>9</td>\n",
       "      <td>9</td>\n",
       "      <td>9</td>\n",
       "      <td>11</td>\n",
       "    </tr>\n",
       "    <tr>\n",
       "      <th>competition_open_since_year</th>\n",
       "      <td>2009</td>\n",
       "      <td>2007</td>\n",
       "      <td>2010</td>\n",
       "      <td>2013</td>\n",
       "      <td>2014</td>\n",
       "    </tr>\n",
       "    <tr>\n",
       "      <th>promo2</th>\n",
       "      <td>0</td>\n",
       "      <td>1</td>\n",
       "      <td>0</td>\n",
       "      <td>1</td>\n",
       "      <td>1</td>\n",
       "    </tr>\n",
       "    <tr>\n",
       "      <th>promo2_since_week</th>\n",
       "      <td>5</td>\n",
       "      <td>45</td>\n",
       "      <td>18</td>\n",
       "      <td>10</td>\n",
       "      <td>14</td>\n",
       "    </tr>\n",
       "    <tr>\n",
       "      <th>promo2_since_year</th>\n",
       "      <td>2013</td>\n",
       "      <td>2009</td>\n",
       "      <td>2014</td>\n",
       "      <td>2014</td>\n",
       "      <td>2011</td>\n",
       "    </tr>\n",
       "    <tr>\n",
       "      <th>promo_interval</th>\n",
       "      <td>0</td>\n",
       "      <td>Jan,Apr,Jul,Oct</td>\n",
       "      <td>0</td>\n",
       "      <td>Mar,Jun,Sept,Dec</td>\n",
       "      <td>Jan,Apr,Jul,Oct</td>\n",
       "    </tr>\n",
       "    <tr>\n",
       "      <th>month_map</th>\n",
       "      <td>Jan</td>\n",
       "      <td>Feb</td>\n",
       "      <td>May</td>\n",
       "      <td>Jun</td>\n",
       "      <td>Nov</td>\n",
       "    </tr>\n",
       "    <tr>\n",
       "      <th>is_promo</th>\n",
       "      <td>0</td>\n",
       "      <td>0</td>\n",
       "      <td>0</td>\n",
       "      <td>1</td>\n",
       "      <td>0</td>\n",
       "    </tr>\n",
       "    <tr>\n",
       "      <th>year</th>\n",
       "      <td>2013</td>\n",
       "      <td>2015</td>\n",
       "      <td>2014</td>\n",
       "      <td>2014</td>\n",
       "      <td>2014</td>\n",
       "    </tr>\n",
       "    <tr>\n",
       "      <th>month</th>\n",
       "      <td>1</td>\n",
       "      <td>2</td>\n",
       "      <td>5</td>\n",
       "      <td>6</td>\n",
       "      <td>11</td>\n",
       "    </tr>\n",
       "    <tr>\n",
       "      <th>day</th>\n",
       "      <td>28</td>\n",
       "      <td>8</td>\n",
       "      <td>1</td>\n",
       "      <td>24</td>\n",
       "      <td>26</td>\n",
       "    </tr>\n",
       "    <tr>\n",
       "      <th>week_of_year</th>\n",
       "      <td>5</td>\n",
       "      <td>6</td>\n",
       "      <td>18</td>\n",
       "      <td>26</td>\n",
       "      <td>48</td>\n",
       "    </tr>\n",
       "    <tr>\n",
       "      <th>year_week</th>\n",
       "      <td>2013-04</td>\n",
       "      <td>2015-05</td>\n",
       "      <td>2014-17</td>\n",
       "      <td>2014-25</td>\n",
       "      <td>2014-47</td>\n",
       "    </tr>\n",
       "    <tr>\n",
       "      <th>competition_since</th>\n",
       "      <td>2009-06-01 00:00:00</td>\n",
       "      <td>2007-09-01 00:00:00</td>\n",
       "      <td>2010-09-01 00:00:00</td>\n",
       "      <td>2013-09-01 00:00:00</td>\n",
       "      <td>2014-11-01 00:00:00</td>\n",
       "    </tr>\n",
       "    <tr>\n",
       "      <th>competition_time_month</th>\n",
       "      <td>44</td>\n",
       "      <td>90</td>\n",
       "      <td>44</td>\n",
       "      <td>9</td>\n",
       "      <td>0</td>\n",
       "    </tr>\n",
       "    <tr>\n",
       "      <th>promo2_since</th>\n",
       "      <td>2013-01-28 00:00:00</td>\n",
       "      <td>2009-11-02 00:00:00</td>\n",
       "      <td>2014-04-28 00:00:00</td>\n",
       "      <td>2014-03-03 00:00:00</td>\n",
       "      <td>2011-03-28 00:00:00</td>\n",
       "    </tr>\n",
       "    <tr>\n",
       "      <th>promo2_time_week</th>\n",
       "      <td>0</td>\n",
       "      <td>274</td>\n",
       "      <td>0</td>\n",
       "      <td>16</td>\n",
       "      <td>191</td>\n",
       "    </tr>\n",
       "  </tbody>\n",
       "</table>\n",
       "</div>"
      ],
      "text/plain": [
       "                                           986093               193606  \\\n",
       "store                                         104                  712   \n",
       "day_of_week                                     1                    7   \n",
       "date                          2013-01-28 00:00:00  2015-02-08 00:00:00   \n",
       "sales                                        8620                    0   \n",
       "customers                                    1210                    0   \n",
       "open                                            1                    0   \n",
       "promo                                           0                    0   \n",
       "state_holiday                         regular_day          regular_day   \n",
       "school_holiday                                  0                    0   \n",
       "store_type                                      a                    a   \n",
       "assortment                                  basic                basic   \n",
       "competition_distance                        390.0               4870.0   \n",
       "competition_open_since_month                    6                    9   \n",
       "competition_open_since_year                  2009                 2007   \n",
       "promo2                                          0                    1   \n",
       "promo2_since_week                               5                   45   \n",
       "promo2_since_year                            2013                 2009   \n",
       "promo_interval                                  0      Jan,Apr,Jul,Oct   \n",
       "month_map                                     Jan                  Feb   \n",
       "is_promo                                        0                    0   \n",
       "year                                         2013                 2015   \n",
       "month                                           1                    2   \n",
       "day                                            28                    8   \n",
       "week_of_year                                    5                    6   \n",
       "year_week                                 2013-04              2015-05   \n",
       "competition_since             2009-06-01 00:00:00  2007-09-01 00:00:00   \n",
       "competition_time_month                         44                   90   \n",
       "promo2_since                  2013-01-28 00:00:00  2009-11-02 00:00:00   \n",
       "promo2_time_week                                0                  274   \n",
       "\n",
       "                                           476429               415389  \\\n",
       "store                                        1110                  280   \n",
       "day_of_week                                     4                    2   \n",
       "date                          2014-05-01 00:00:00  2014-06-24 00:00:00   \n",
       "sales                                           0                 5339   \n",
       "customers                                       0                  486   \n",
       "open                                            0                    1   \n",
       "promo                                           1                    0   \n",
       "state_holiday                      public_holiday          regular_day   \n",
       "school_holiday                                  0                    0   \n",
       "store_type                                      c                    d   \n",
       "assortment                               extended             extended   \n",
       "competition_distance                        900.0              18640.0   \n",
       "competition_open_since_month                    9                    9   \n",
       "competition_open_since_year                  2010                 2013   \n",
       "promo2                                          0                    1   \n",
       "promo2_since_week                              18                   10   \n",
       "promo2_since_year                            2014                 2014   \n",
       "promo_interval                                  0     Mar,Jun,Sept,Dec   \n",
       "month_map                                     May                  Jun   \n",
       "is_promo                                        0                    1   \n",
       "year                                         2014                 2014   \n",
       "month                                           5                    6   \n",
       "day                                             1                   24   \n",
       "week_of_year                                   18                   26   \n",
       "year_week                                 2014-17              2014-25   \n",
       "competition_since             2010-09-01 00:00:00  2013-09-01 00:00:00   \n",
       "competition_time_month                         44                    9   \n",
       "promo2_since                  2014-04-28 00:00:00  2014-03-03 00:00:00   \n",
       "promo2_time_week                                0                   16   \n",
       "\n",
       "                                           269394  \n",
       "store                                         350  \n",
       "day_of_week                                     3  \n",
       "date                          2014-11-26 00:00:00  \n",
       "sales                                        7639  \n",
       "customers                                     510  \n",
       "open                                            1  \n",
       "promo                                           1  \n",
       "state_holiday                         regular_day  \n",
       "school_holiday                                  0  \n",
       "store_type                                      d  \n",
       "assortment                                  basic  \n",
       "competition_distance                       8880.0  \n",
       "competition_open_since_month                   11  \n",
       "competition_open_since_year                  2014  \n",
       "promo2                                          1  \n",
       "promo2_since_week                              14  \n",
       "promo2_since_year                            2011  \n",
       "promo_interval                    Jan,Apr,Jul,Oct  \n",
       "month_map                                     Nov  \n",
       "is_promo                                        0  \n",
       "year                                         2014  \n",
       "month                                          11  \n",
       "day                                            26  \n",
       "week_of_year                                   48  \n",
       "year_week                                 2014-47  \n",
       "competition_since             2014-11-01 00:00:00  \n",
       "competition_time_month                          0  \n",
       "promo2_since                  2011-03-28 00:00:00  \n",
       "promo2_time_week                              191  "
      ]
     },
     "execution_count": 61,
     "metadata": {},
     "output_type": "execute_result"
    }
   ],
   "source": [
    "df2.sample(5).T"
   ]
  },
  {
   "cell_type": "code",
   "execution_count": 63,
   "id": "f3ce9f2e",
   "metadata": {
    "ExecuteTime": {
     "end_time": "2021-12-14T20:39:22.791818Z",
     "start_time": "2021-12-14T20:38:25.177153Z"
    }
   },
   "outputs": [],
   "source": [
    "#Save CSV:\n",
    "df2.to_csv('notebooks/feature_eng_done.csv', index=False) #index=False if I have first columns as index, to avoid saving with the unnamed:0. Don't save the index, and won't have column unnamed:0 created nor problem to load it.\n",
    "#no import needed, no message will appear."
   ]
  },
  {
   "cell_type": "markdown",
   "id": "0e5af8c3",
   "metadata": {},
   "source": [
    "# PASSO 3 -  Filtragem de Variáveis"
   ]
  },
  {
   "cell_type": "code",
   "execution_count": 64,
   "id": "629acc78",
   "metadata": {
    "ExecuteTime": {
     "end_time": "2021-12-14T20:39:42.121322Z",
     "start_time": "2021-12-14T20:39:41.864618Z"
    }
   },
   "outputs": [],
   "source": [
    "df3 = df2.copy()"
   ]
  },
  {
   "cell_type": "code",
   "execution_count": 74,
   "id": "2c955858",
   "metadata": {
    "ExecuteTime": {
     "end_time": "2021-12-14T20:56:51.804115Z",
     "start_time": "2021-12-14T20:56:51.768769Z"
    }
   },
   "outputs": [
    {
     "data": {
      "text/html": [
       "<div>\n",
       "<style scoped>\n",
       "    .dataframe tbody tr th:only-of-type {\n",
       "        vertical-align: middle;\n",
       "    }\n",
       "\n",
       "    .dataframe tbody tr th {\n",
       "        vertical-align: top;\n",
       "    }\n",
       "\n",
       "    .dataframe thead th {\n",
       "        text-align: right;\n",
       "    }\n",
       "</style>\n",
       "<table border=\"1\" class=\"dataframe\">\n",
       "  <thead>\n",
       "    <tr style=\"text-align: right;\">\n",
       "      <th></th>\n",
       "      <th>store</th>\n",
       "      <th>day_of_week</th>\n",
       "      <th>date</th>\n",
       "      <th>sales</th>\n",
       "      <th>customers</th>\n",
       "      <th>open</th>\n",
       "      <th>promo</th>\n",
       "      <th>state_holiday</th>\n",
       "      <th>school_holiday</th>\n",
       "      <th>store_type</th>\n",
       "      <th>assortment</th>\n",
       "      <th>competition_distance</th>\n",
       "      <th>competition_open_since_month</th>\n",
       "      <th>competition_open_since_year</th>\n",
       "      <th>promo2</th>\n",
       "      <th>promo2_since_week</th>\n",
       "      <th>promo2_since_year</th>\n",
       "      <th>promo_interval</th>\n",
       "      <th>month_map</th>\n",
       "      <th>is_promo</th>\n",
       "      <th>year</th>\n",
       "      <th>month</th>\n",
       "      <th>day</th>\n",
       "      <th>week_of_year</th>\n",
       "      <th>year_week</th>\n",
       "      <th>competition_since</th>\n",
       "      <th>competition_time_month</th>\n",
       "      <th>promo2_since</th>\n",
       "      <th>promo2_time_week</th>\n",
       "    </tr>\n",
       "  </thead>\n",
       "  <tbody>\n",
       "    <tr>\n",
       "      <th>0</th>\n",
       "      <td>1</td>\n",
       "      <td>5</td>\n",
       "      <td>2015-07-31</td>\n",
       "      <td>5263</td>\n",
       "      <td>555</td>\n",
       "      <td>1</td>\n",
       "      <td>1</td>\n",
       "      <td>regular_day</td>\n",
       "      <td>1</td>\n",
       "      <td>c</td>\n",
       "      <td>basic</td>\n",
       "      <td>1270.0</td>\n",
       "      <td>9</td>\n",
       "      <td>2008</td>\n",
       "      <td>0</td>\n",
       "      <td>31</td>\n",
       "      <td>2015</td>\n",
       "      <td>0</td>\n",
       "      <td>Jul</td>\n",
       "      <td>0</td>\n",
       "      <td>2015</td>\n",
       "      <td>7</td>\n",
       "      <td>31</td>\n",
       "      <td>31</td>\n",
       "      <td>2015-30</td>\n",
       "      <td>2008-09-01</td>\n",
       "      <td>84</td>\n",
       "      <td>2015-07-27</td>\n",
       "      <td>0</td>\n",
       "    </tr>\n",
       "    <tr>\n",
       "      <th>1</th>\n",
       "      <td>2</td>\n",
       "      <td>5</td>\n",
       "      <td>2015-07-31</td>\n",
       "      <td>6064</td>\n",
       "      <td>625</td>\n",
       "      <td>1</td>\n",
       "      <td>1</td>\n",
       "      <td>regular_day</td>\n",
       "      <td>1</td>\n",
       "      <td>a</td>\n",
       "      <td>basic</td>\n",
       "      <td>570.0</td>\n",
       "      <td>11</td>\n",
       "      <td>2007</td>\n",
       "      <td>1</td>\n",
       "      <td>13</td>\n",
       "      <td>2010</td>\n",
       "      <td>Jan,Apr,Jul,Oct</td>\n",
       "      <td>Jul</td>\n",
       "      <td>1</td>\n",
       "      <td>2015</td>\n",
       "      <td>7</td>\n",
       "      <td>31</td>\n",
       "      <td>31</td>\n",
       "      <td>2015-30</td>\n",
       "      <td>2007-11-01</td>\n",
       "      <td>94</td>\n",
       "      <td>2010-03-22</td>\n",
       "      <td>279</td>\n",
       "    </tr>\n",
       "    <tr>\n",
       "      <th>2</th>\n",
       "      <td>3</td>\n",
       "      <td>5</td>\n",
       "      <td>2015-07-31</td>\n",
       "      <td>8314</td>\n",
       "      <td>821</td>\n",
       "      <td>1</td>\n",
       "      <td>1</td>\n",
       "      <td>regular_day</td>\n",
       "      <td>1</td>\n",
       "      <td>a</td>\n",
       "      <td>basic</td>\n",
       "      <td>14130.0</td>\n",
       "      <td>12</td>\n",
       "      <td>2006</td>\n",
       "      <td>1</td>\n",
       "      <td>14</td>\n",
       "      <td>2011</td>\n",
       "      <td>Jan,Apr,Jul,Oct</td>\n",
       "      <td>Jul</td>\n",
       "      <td>1</td>\n",
       "      <td>2015</td>\n",
       "      <td>7</td>\n",
       "      <td>31</td>\n",
       "      <td>31</td>\n",
       "      <td>2015-30</td>\n",
       "      <td>2006-12-01</td>\n",
       "      <td>105</td>\n",
       "      <td>2011-03-28</td>\n",
       "      <td>226</td>\n",
       "    </tr>\n",
       "    <tr>\n",
       "      <th>3</th>\n",
       "      <td>4</td>\n",
       "      <td>5</td>\n",
       "      <td>2015-07-31</td>\n",
       "      <td>13995</td>\n",
       "      <td>1498</td>\n",
       "      <td>1</td>\n",
       "      <td>1</td>\n",
       "      <td>regular_day</td>\n",
       "      <td>1</td>\n",
       "      <td>c</td>\n",
       "      <td>extended</td>\n",
       "      <td>620.0</td>\n",
       "      <td>9</td>\n",
       "      <td>2009</td>\n",
       "      <td>0</td>\n",
       "      <td>31</td>\n",
       "      <td>2015</td>\n",
       "      <td>0</td>\n",
       "      <td>Jul</td>\n",
       "      <td>0</td>\n",
       "      <td>2015</td>\n",
       "      <td>7</td>\n",
       "      <td>31</td>\n",
       "      <td>31</td>\n",
       "      <td>2015-30</td>\n",
       "      <td>2009-09-01</td>\n",
       "      <td>71</td>\n",
       "      <td>2015-07-27</td>\n",
       "      <td>0</td>\n",
       "    </tr>\n",
       "    <tr>\n",
       "      <th>4</th>\n",
       "      <td>5</td>\n",
       "      <td>5</td>\n",
       "      <td>2015-07-31</td>\n",
       "      <td>4822</td>\n",
       "      <td>559</td>\n",
       "      <td>1</td>\n",
       "      <td>1</td>\n",
       "      <td>regular_day</td>\n",
       "      <td>1</td>\n",
       "      <td>a</td>\n",
       "      <td>basic</td>\n",
       "      <td>29910.0</td>\n",
       "      <td>4</td>\n",
       "      <td>2015</td>\n",
       "      <td>0</td>\n",
       "      <td>31</td>\n",
       "      <td>2015</td>\n",
       "      <td>0</td>\n",
       "      <td>Jul</td>\n",
       "      <td>0</td>\n",
       "      <td>2015</td>\n",
       "      <td>7</td>\n",
       "      <td>31</td>\n",
       "      <td>31</td>\n",
       "      <td>2015-30</td>\n",
       "      <td>2015-04-01</td>\n",
       "      <td>4</td>\n",
       "      <td>2015-07-27</td>\n",
       "      <td>0</td>\n",
       "    </tr>\n",
       "  </tbody>\n",
       "</table>\n",
       "</div>"
      ],
      "text/plain": [
       "   store  day_of_week       date  sales  customers  open  promo state_holiday  \\\n",
       "0      1            5 2015-07-31   5263        555     1      1   regular_day   \n",
       "1      2            5 2015-07-31   6064        625     1      1   regular_day   \n",
       "2      3            5 2015-07-31   8314        821     1      1   regular_day   \n",
       "3      4            5 2015-07-31  13995       1498     1      1   regular_day   \n",
       "4      5            5 2015-07-31   4822        559     1      1   regular_day   \n",
       "\n",
       "   school_holiday store_type assortment  competition_distance  \\\n",
       "0               1          c      basic                1270.0   \n",
       "1               1          a      basic                 570.0   \n",
       "2               1          a      basic               14130.0   \n",
       "3               1          c   extended                 620.0   \n",
       "4               1          a      basic               29910.0   \n",
       "\n",
       "   competition_open_since_month  competition_open_since_year  promo2  \\\n",
       "0                             9                         2008       0   \n",
       "1                            11                         2007       1   \n",
       "2                            12                         2006       1   \n",
       "3                             9                         2009       0   \n",
       "4                             4                         2015       0   \n",
       "\n",
       "   promo2_since_week  promo2_since_year   promo_interval month_map  is_promo  \\\n",
       "0                 31               2015                0       Jul         0   \n",
       "1                 13               2010  Jan,Apr,Jul,Oct       Jul         1   \n",
       "2                 14               2011  Jan,Apr,Jul,Oct       Jul         1   \n",
       "3                 31               2015                0       Jul         0   \n",
       "4                 31               2015                0       Jul         0   \n",
       "\n",
       "   year  month  day  week_of_year year_week competition_since  \\\n",
       "0  2015      7   31            31   2015-30        2008-09-01   \n",
       "1  2015      7   31            31   2015-30        2007-11-01   \n",
       "2  2015      7   31            31   2015-30        2006-12-01   \n",
       "3  2015      7   31            31   2015-30        2009-09-01   \n",
       "4  2015      7   31            31   2015-30        2015-04-01   \n",
       "\n",
       "   competition_time_month promo2_since  promo2_time_week  \n",
       "0                      84   2015-07-27                 0  \n",
       "1                      94   2010-03-22               279  \n",
       "2                     105   2011-03-28               226  \n",
       "3                      71   2015-07-27                 0  \n",
       "4                       4   2015-07-27                 0  "
      ]
     },
     "execution_count": 74,
     "metadata": {},
     "output_type": "execute_result"
    }
   ],
   "source": [
    "df3.head()"
   ]
  },
  {
   "cell_type": "markdown",
   "id": "5e4fa065",
   "metadata": {},
   "source": [
    "## Filtragem das Linhas"
   ]
  },
  {
   "cell_type": "markdown",
   "id": "18bc1b68",
   "metadata": {},
   "source": [
    "'open' != 0 -> vamos remover linhas onde lojas estavam fechadas, pois é inútil p/ prever vendas\n",
    "'sales' > 0 -> também quando não houve vendas"
   ]
  },
  {
   "cell_type": "code",
   "execution_count": 72,
   "id": "d7a269a3",
   "metadata": {
    "ExecuteTime": {
     "end_time": "2021-12-14T20:52:09.772341Z",
     "start_time": "2021-12-14T20:52:09.526403Z"
    }
   },
   "outputs": [],
   "source": [
    "#remove as linhas acima e joga em df3\n",
    "df3 = df3.loc[ (df3['open'] != 0) & (df3['sales'] > 0) ]"
   ]
  },
  {
   "cell_type": "markdown",
   "id": "ea52bd06",
   "metadata": {},
   "source": [
    "## Seleção das Colunas"
   ]
  },
  {
   "cell_type": "markdown",
   "id": "18d29b00",
   "metadata": {},
   "source": [
    "'customers' -> não vamos utilizar, pois não temos como prever os clientes futuros, a menos que façamos um projeto a parte."
   ]
  },
  {
   "cell_type": "code",
   "execution_count": 75,
   "id": "460b60eb",
   "metadata": {
    "ExecuteTime": {
     "end_time": "2021-12-14T20:59:06.781256Z",
     "start_time": "2021-12-14T20:59:06.612129Z"
    },
    "scrolled": false
   },
   "outputs": [
    {
     "data": {
      "text/html": [
       "<div>\n",
       "<style scoped>\n",
       "    .dataframe tbody tr th:only-of-type {\n",
       "        vertical-align: middle;\n",
       "    }\n",
       "\n",
       "    .dataframe tbody tr th {\n",
       "        vertical-align: top;\n",
       "    }\n",
       "\n",
       "    .dataframe thead th {\n",
       "        text-align: right;\n",
       "    }\n",
       "</style>\n",
       "<table border=\"1\" class=\"dataframe\">\n",
       "  <thead>\n",
       "    <tr style=\"text-align: right;\">\n",
       "      <th></th>\n",
       "      <th>store</th>\n",
       "      <th>day_of_week</th>\n",
       "      <th>date</th>\n",
       "      <th>sales</th>\n",
       "      <th>promo</th>\n",
       "      <th>state_holiday</th>\n",
       "      <th>school_holiday</th>\n",
       "      <th>store_type</th>\n",
       "      <th>assortment</th>\n",
       "      <th>competition_distance</th>\n",
       "      <th>competition_open_since_month</th>\n",
       "      <th>competition_open_since_year</th>\n",
       "      <th>promo2</th>\n",
       "      <th>promo2_since_week</th>\n",
       "      <th>promo2_since_year</th>\n",
       "      <th>is_promo</th>\n",
       "      <th>year</th>\n",
       "      <th>month</th>\n",
       "      <th>day</th>\n",
       "      <th>week_of_year</th>\n",
       "      <th>year_week</th>\n",
       "      <th>competition_since</th>\n",
       "      <th>competition_time_month</th>\n",
       "      <th>promo2_since</th>\n",
       "      <th>promo2_time_week</th>\n",
       "    </tr>\n",
       "  </thead>\n",
       "  <tbody>\n",
       "    <tr>\n",
       "      <th>0</th>\n",
       "      <td>1</td>\n",
       "      <td>5</td>\n",
       "      <td>2015-07-31</td>\n",
       "      <td>5263</td>\n",
       "      <td>1</td>\n",
       "      <td>regular_day</td>\n",
       "      <td>1</td>\n",
       "      <td>c</td>\n",
       "      <td>basic</td>\n",
       "      <td>1270.0</td>\n",
       "      <td>9</td>\n",
       "      <td>2008</td>\n",
       "      <td>0</td>\n",
       "      <td>31</td>\n",
       "      <td>2015</td>\n",
       "      <td>0</td>\n",
       "      <td>2015</td>\n",
       "      <td>7</td>\n",
       "      <td>31</td>\n",
       "      <td>31</td>\n",
       "      <td>2015-30</td>\n",
       "      <td>2008-09-01</td>\n",
       "      <td>84</td>\n",
       "      <td>2015-07-27</td>\n",
       "      <td>0</td>\n",
       "    </tr>\n",
       "    <tr>\n",
       "      <th>1</th>\n",
       "      <td>2</td>\n",
       "      <td>5</td>\n",
       "      <td>2015-07-31</td>\n",
       "      <td>6064</td>\n",
       "      <td>1</td>\n",
       "      <td>regular_day</td>\n",
       "      <td>1</td>\n",
       "      <td>a</td>\n",
       "      <td>basic</td>\n",
       "      <td>570.0</td>\n",
       "      <td>11</td>\n",
       "      <td>2007</td>\n",
       "      <td>1</td>\n",
       "      <td>13</td>\n",
       "      <td>2010</td>\n",
       "      <td>1</td>\n",
       "      <td>2015</td>\n",
       "      <td>7</td>\n",
       "      <td>31</td>\n",
       "      <td>31</td>\n",
       "      <td>2015-30</td>\n",
       "      <td>2007-11-01</td>\n",
       "      <td>94</td>\n",
       "      <td>2010-03-22</td>\n",
       "      <td>279</td>\n",
       "    </tr>\n",
       "    <tr>\n",
       "      <th>2</th>\n",
       "      <td>3</td>\n",
       "      <td>5</td>\n",
       "      <td>2015-07-31</td>\n",
       "      <td>8314</td>\n",
       "      <td>1</td>\n",
       "      <td>regular_day</td>\n",
       "      <td>1</td>\n",
       "      <td>a</td>\n",
       "      <td>basic</td>\n",
       "      <td>14130.0</td>\n",
       "      <td>12</td>\n",
       "      <td>2006</td>\n",
       "      <td>1</td>\n",
       "      <td>14</td>\n",
       "      <td>2011</td>\n",
       "      <td>1</td>\n",
       "      <td>2015</td>\n",
       "      <td>7</td>\n",
       "      <td>31</td>\n",
       "      <td>31</td>\n",
       "      <td>2015-30</td>\n",
       "      <td>2006-12-01</td>\n",
       "      <td>105</td>\n",
       "      <td>2011-03-28</td>\n",
       "      <td>226</td>\n",
       "    </tr>\n",
       "    <tr>\n",
       "      <th>3</th>\n",
       "      <td>4</td>\n",
       "      <td>5</td>\n",
       "      <td>2015-07-31</td>\n",
       "      <td>13995</td>\n",
       "      <td>1</td>\n",
       "      <td>regular_day</td>\n",
       "      <td>1</td>\n",
       "      <td>c</td>\n",
       "      <td>extended</td>\n",
       "      <td>620.0</td>\n",
       "      <td>9</td>\n",
       "      <td>2009</td>\n",
       "      <td>0</td>\n",
       "      <td>31</td>\n",
       "      <td>2015</td>\n",
       "      <td>0</td>\n",
       "      <td>2015</td>\n",
       "      <td>7</td>\n",
       "      <td>31</td>\n",
       "      <td>31</td>\n",
       "      <td>2015-30</td>\n",
       "      <td>2009-09-01</td>\n",
       "      <td>71</td>\n",
       "      <td>2015-07-27</td>\n",
       "      <td>0</td>\n",
       "    </tr>\n",
       "    <tr>\n",
       "      <th>4</th>\n",
       "      <td>5</td>\n",
       "      <td>5</td>\n",
       "      <td>2015-07-31</td>\n",
       "      <td>4822</td>\n",
       "      <td>1</td>\n",
       "      <td>regular_day</td>\n",
       "      <td>1</td>\n",
       "      <td>a</td>\n",
       "      <td>basic</td>\n",
       "      <td>29910.0</td>\n",
       "      <td>4</td>\n",
       "      <td>2015</td>\n",
       "      <td>0</td>\n",
       "      <td>31</td>\n",
       "      <td>2015</td>\n",
       "      <td>0</td>\n",
       "      <td>2015</td>\n",
       "      <td>7</td>\n",
       "      <td>31</td>\n",
       "      <td>31</td>\n",
       "      <td>2015-30</td>\n",
       "      <td>2015-04-01</td>\n",
       "      <td>4</td>\n",
       "      <td>2015-07-27</td>\n",
       "      <td>0</td>\n",
       "    </tr>\n",
       "    <tr>\n",
       "      <th>...</th>\n",
       "      <td>...</td>\n",
       "      <td>...</td>\n",
       "      <td>...</td>\n",
       "      <td>...</td>\n",
       "      <td>...</td>\n",
       "      <td>...</td>\n",
       "      <td>...</td>\n",
       "      <td>...</td>\n",
       "      <td>...</td>\n",
       "      <td>...</td>\n",
       "      <td>...</td>\n",
       "      <td>...</td>\n",
       "      <td>...</td>\n",
       "      <td>...</td>\n",
       "      <td>...</td>\n",
       "      <td>...</td>\n",
       "      <td>...</td>\n",
       "      <td>...</td>\n",
       "      <td>...</td>\n",
       "      <td>...</td>\n",
       "      <td>...</td>\n",
       "      <td>...</td>\n",
       "      <td>...</td>\n",
       "      <td>...</td>\n",
       "      <td>...</td>\n",
       "    </tr>\n",
       "    <tr>\n",
       "      <th>1016776</th>\n",
       "      <td>682</td>\n",
       "      <td>2</td>\n",
       "      <td>2013-01-01</td>\n",
       "      <td>3375</td>\n",
       "      <td>0</td>\n",
       "      <td>public_holiday</td>\n",
       "      <td>1</td>\n",
       "      <td>b</td>\n",
       "      <td>basic</td>\n",
       "      <td>150.0</td>\n",
       "      <td>9</td>\n",
       "      <td>2006</td>\n",
       "      <td>0</td>\n",
       "      <td>1</td>\n",
       "      <td>2013</td>\n",
       "      <td>0</td>\n",
       "      <td>2013</td>\n",
       "      <td>1</td>\n",
       "      <td>1</td>\n",
       "      <td>1</td>\n",
       "      <td>2013-00</td>\n",
       "      <td>2006-09-01</td>\n",
       "      <td>77</td>\n",
       "      <td>2012-12-31</td>\n",
       "      <td>0</td>\n",
       "    </tr>\n",
       "    <tr>\n",
       "      <th>1016827</th>\n",
       "      <td>733</td>\n",
       "      <td>2</td>\n",
       "      <td>2013-01-01</td>\n",
       "      <td>10765</td>\n",
       "      <td>0</td>\n",
       "      <td>public_holiday</td>\n",
       "      <td>1</td>\n",
       "      <td>b</td>\n",
       "      <td>extra</td>\n",
       "      <td>860.0</td>\n",
       "      <td>10</td>\n",
       "      <td>1999</td>\n",
       "      <td>0</td>\n",
       "      <td>1</td>\n",
       "      <td>2013</td>\n",
       "      <td>0</td>\n",
       "      <td>2013</td>\n",
       "      <td>1</td>\n",
       "      <td>1</td>\n",
       "      <td>1</td>\n",
       "      <td>2013-00</td>\n",
       "      <td>1999-10-01</td>\n",
       "      <td>161</td>\n",
       "      <td>2012-12-31</td>\n",
       "      <td>0</td>\n",
       "    </tr>\n",
       "    <tr>\n",
       "      <th>1016863</th>\n",
       "      <td>769</td>\n",
       "      <td>2</td>\n",
       "      <td>2013-01-01</td>\n",
       "      <td>5035</td>\n",
       "      <td>0</td>\n",
       "      <td>public_holiday</td>\n",
       "      <td>1</td>\n",
       "      <td>b</td>\n",
       "      <td>extra</td>\n",
       "      <td>840.0</td>\n",
       "      <td>1</td>\n",
       "      <td>2013</td>\n",
       "      <td>1</td>\n",
       "      <td>48</td>\n",
       "      <td>2012</td>\n",
       "      <td>1</td>\n",
       "      <td>2013</td>\n",
       "      <td>1</td>\n",
       "      <td>1</td>\n",
       "      <td>1</td>\n",
       "      <td>2013-00</td>\n",
       "      <td>2013-01-01</td>\n",
       "      <td>0</td>\n",
       "      <td>2012-11-19</td>\n",
       "      <td>6</td>\n",
       "    </tr>\n",
       "    <tr>\n",
       "      <th>1017042</th>\n",
       "      <td>948</td>\n",
       "      <td>2</td>\n",
       "      <td>2013-01-01</td>\n",
       "      <td>4491</td>\n",
       "      <td>0</td>\n",
       "      <td>public_holiday</td>\n",
       "      <td>1</td>\n",
       "      <td>b</td>\n",
       "      <td>extra</td>\n",
       "      <td>1430.0</td>\n",
       "      <td>1</td>\n",
       "      <td>2013</td>\n",
       "      <td>0</td>\n",
       "      <td>1</td>\n",
       "      <td>2013</td>\n",
       "      <td>0</td>\n",
       "      <td>2013</td>\n",
       "      <td>1</td>\n",
       "      <td>1</td>\n",
       "      <td>1</td>\n",
       "      <td>2013-00</td>\n",
       "      <td>2013-01-01</td>\n",
       "      <td>0</td>\n",
       "      <td>2012-12-31</td>\n",
       "      <td>0</td>\n",
       "    </tr>\n",
       "    <tr>\n",
       "      <th>1017190</th>\n",
       "      <td>1097</td>\n",
       "      <td>2</td>\n",
       "      <td>2013-01-01</td>\n",
       "      <td>5961</td>\n",
       "      <td>0</td>\n",
       "      <td>public_holiday</td>\n",
       "      <td>1</td>\n",
       "      <td>b</td>\n",
       "      <td>extra</td>\n",
       "      <td>720.0</td>\n",
       "      <td>3</td>\n",
       "      <td>2002</td>\n",
       "      <td>0</td>\n",
       "      <td>1</td>\n",
       "      <td>2013</td>\n",
       "      <td>0</td>\n",
       "      <td>2013</td>\n",
       "      <td>1</td>\n",
       "      <td>1</td>\n",
       "      <td>1</td>\n",
       "      <td>2013-00</td>\n",
       "      <td>2002-03-01</td>\n",
       "      <td>131</td>\n",
       "      <td>2012-12-31</td>\n",
       "      <td>0</td>\n",
       "    </tr>\n",
       "  </tbody>\n",
       "</table>\n",
       "<p>844338 rows × 25 columns</p>\n",
       "</div>"
      ],
      "text/plain": [
       "         store  day_of_week       date  sales  promo   state_holiday  \\\n",
       "0            1            5 2015-07-31   5263      1     regular_day   \n",
       "1            2            5 2015-07-31   6064      1     regular_day   \n",
       "2            3            5 2015-07-31   8314      1     regular_day   \n",
       "3            4            5 2015-07-31  13995      1     regular_day   \n",
       "4            5            5 2015-07-31   4822      1     regular_day   \n",
       "...        ...          ...        ...    ...    ...             ...   \n",
       "1016776    682            2 2013-01-01   3375      0  public_holiday   \n",
       "1016827    733            2 2013-01-01  10765      0  public_holiday   \n",
       "1016863    769            2 2013-01-01   5035      0  public_holiday   \n",
       "1017042    948            2 2013-01-01   4491      0  public_holiday   \n",
       "1017190   1097            2 2013-01-01   5961      0  public_holiday   \n",
       "\n",
       "         school_holiday store_type assortment  competition_distance  \\\n",
       "0                     1          c      basic                1270.0   \n",
       "1                     1          a      basic                 570.0   \n",
       "2                     1          a      basic               14130.0   \n",
       "3                     1          c   extended                 620.0   \n",
       "4                     1          a      basic               29910.0   \n",
       "...                 ...        ...        ...                   ...   \n",
       "1016776               1          b      basic                 150.0   \n",
       "1016827               1          b      extra                 860.0   \n",
       "1016863               1          b      extra                 840.0   \n",
       "1017042               1          b      extra                1430.0   \n",
       "1017190               1          b      extra                 720.0   \n",
       "\n",
       "         competition_open_since_month  competition_open_since_year  promo2  \\\n",
       "0                                   9                         2008       0   \n",
       "1                                  11                         2007       1   \n",
       "2                                  12                         2006       1   \n",
       "3                                   9                         2009       0   \n",
       "4                                   4                         2015       0   \n",
       "...                               ...                          ...     ...   \n",
       "1016776                             9                         2006       0   \n",
       "1016827                            10                         1999       0   \n",
       "1016863                             1                         2013       1   \n",
       "1017042                             1                         2013       0   \n",
       "1017190                             3                         2002       0   \n",
       "\n",
       "         promo2_since_week  promo2_since_year  is_promo  year  month  day  \\\n",
       "0                       31               2015         0  2015      7   31   \n",
       "1                       13               2010         1  2015      7   31   \n",
       "2                       14               2011         1  2015      7   31   \n",
       "3                       31               2015         0  2015      7   31   \n",
       "4                       31               2015         0  2015      7   31   \n",
       "...                    ...                ...       ...   ...    ...  ...   \n",
       "1016776                  1               2013         0  2013      1    1   \n",
       "1016827                  1               2013         0  2013      1    1   \n",
       "1016863                 48               2012         1  2013      1    1   \n",
       "1017042                  1               2013         0  2013      1    1   \n",
       "1017190                  1               2013         0  2013      1    1   \n",
       "\n",
       "         week_of_year year_week competition_since  competition_time_month  \\\n",
       "0                  31   2015-30        2008-09-01                      84   \n",
       "1                  31   2015-30        2007-11-01                      94   \n",
       "2                  31   2015-30        2006-12-01                     105   \n",
       "3                  31   2015-30        2009-09-01                      71   \n",
       "4                  31   2015-30        2015-04-01                       4   \n",
       "...               ...       ...               ...                     ...   \n",
       "1016776             1   2013-00        2006-09-01                      77   \n",
       "1016827             1   2013-00        1999-10-01                     161   \n",
       "1016863             1   2013-00        2013-01-01                       0   \n",
       "1017042             1   2013-00        2013-01-01                       0   \n",
       "1017190             1   2013-00        2002-03-01                     131   \n",
       "\n",
       "        promo2_since  promo2_time_week  \n",
       "0         2015-07-27                 0  \n",
       "1         2010-03-22               279  \n",
       "2         2011-03-28               226  \n",
       "3         2015-07-27                 0  \n",
       "4         2015-07-27                 0  \n",
       "...              ...               ...  \n",
       "1016776   2012-12-31                 0  \n",
       "1016827   2012-12-31                 0  \n",
       "1016863   2012-11-19                 6  \n",
       "1017042   2012-12-31                 0  \n",
       "1017190   2012-12-31                 0  \n",
       "\n",
       "[844338 rows x 25 columns]"
      ]
     },
     "execution_count": 75,
     "metadata": {},
     "output_type": "execute_result"
    }
   ],
   "source": [
    "#dropo 'open' também, pois todas que ficaram são = 1\n",
    "#dropo também 'promo_interval' porque já derivei variável dela, e 'month_map' pois foi \n",
    "    #uma var auxiliar\n",
    "cols_drop = [ 'customers', 'open', 'promo_interval', 'month_map' ]\n",
    "\n",
    "#axis=1 = colunas\n",
    "df3.drop (cols_drop, axis=1)"
   ]
  },
  {
   "cell_type": "code",
   "execution_count": 76,
   "id": "aa3e7d88",
   "metadata": {
    "ExecuteTime": {
     "end_time": "2021-12-14T20:59:39.751340Z",
     "start_time": "2021-12-14T20:59:39.739381Z"
    }
   },
   "outputs": [
    {
     "data": {
      "text/plain": [
       "Index(['store', 'day_of_week', 'date', 'sales', 'customers', 'open', 'promo',\n",
       "       'state_holiday', 'school_holiday', 'store_type', 'assortment',\n",
       "       'competition_distance', 'competition_open_since_month',\n",
       "       'competition_open_since_year', 'promo2', 'promo2_since_week',\n",
       "       'promo2_since_year', 'promo_interval', 'month_map', 'is_promo', 'year',\n",
       "       'month', 'day', 'week_of_year', 'year_week', 'competition_since',\n",
       "       'competition_time_month', 'promo2_since', 'promo2_time_week'],\n",
       "      dtype='object')"
      ]
     },
     "execution_count": 76,
     "metadata": {},
     "output_type": "execute_result"
    }
   ],
   "source": [
    "df3.columns"
   ]
  },
  {
   "cell_type": "code",
   "execution_count": null,
   "id": "eb5b3fca",
   "metadata": {
    "ExecuteTime": {
     "start_time": "2021-12-14T21:01:53.892Z"
    }
   },
   "outputs": [],
   "source": [
    "#Save CSV:\n",
    "df3.to_csv('notebooks/variable_filtering_done.csv', index=False) #index=False if I have first columns as index, to avoid saving with the unnamed:0. Don't save the index, and won't have column unnamed:0 created nor problem to load it.\n",
    "#no import needed, no message will appear."
   ]
  }
 ],
 "metadata": {
  "kernelspec": {
   "display_name": "Python 3",
   "language": "python",
   "name": "python3"
  },
  "language_info": {
   "codemirror_mode": {
    "name": "ipython",
    "version": 3
   },
   "file_extension": ".py",
   "mimetype": "text/x-python",
   "name": "python",
   "nbconvert_exporter": "python",
   "pygments_lexer": "ipython3",
   "version": "3.8.8"
  },
  "toc": {
   "base_numbering": 1,
   "nav_menu": {},
   "number_sections": true,
   "sideBar": true,
   "skip_h1_title": false,
   "title_cell": "Table of Contents",
   "title_sidebar": "Contents",
   "toc_cell": false,
   "toc_position": {},
   "toc_section_display": true,
   "toc_window_display": false
  }
 },
 "nbformat": 4,
 "nbformat_minor": 5
}
