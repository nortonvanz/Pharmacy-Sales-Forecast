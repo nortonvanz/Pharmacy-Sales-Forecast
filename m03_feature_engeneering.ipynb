{
 "cells": [
  {
   "cell_type": "markdown",
   "id": "7450e0d6",
   "metadata": {},
   "source": [
    "# Imports"
   ]
  },
  {
   "cell_type": "code",
   "execution_count": 1,
   "id": "63222301",
   "metadata": {
    "ExecuteTime": {
     "end_time": "2021-12-14T19:39:37.452612Z",
     "start_time": "2021-12-14T19:39:36.018953Z"
    }
   },
   "outputs": [],
   "source": [
    "import math\n",
    "import inflection\n",
    "import pandas as pd \n",
    "import numpy as np\n",
    "import seaborn as sns\n",
    "from matplotlib import pyplot as plt\n",
    "#from IPython.core.display import html\n",
    "from IPython.display import Image\n",
    "import datetime as dt"
   ]
  },
  {
   "cell_type": "markdown",
   "id": "771055cb",
   "metadata": {
    "ExecuteTime": {
     "end_time": "2021-12-12T14:08:52.025065Z",
     "start_time": "2021-12-12T14:08:52.019352Z"
    },
    "heading_collapsed": true
   },
   "source": [
    "## Helper Functions"
   ]
  },
  {
   "cell_type": "markdown",
   "id": "80a33607",
   "metadata": {
    "ExecuteTime": {
     "end_time": "2021-12-12T14:09:02.546680Z",
     "start_time": "2021-12-12T14:09:02.535126Z"
    },
    "heading_collapsed": true
   },
   "source": [
    "## Loading Data"
   ]
  },
  {
   "cell_type": "code",
   "execution_count": 2,
   "id": "88868220",
   "metadata": {
    "ExecuteTime": {
     "end_time": "2021-12-14T13:43:33.664683Z",
     "start_time": "2021-12-14T13:43:31.788512Z"
    },
    "hidden": true
   },
   "outputs": [],
   "source": [
    "                            # lê todo o arquivo de uma vez \n",
    "df_sales_raw = pd.read_csv(\"data/train.csv\", low_memory=False)\n",
    "df_store_raw = pd.read_csv(\"data/store.csv\", low_memory=False)\n",
    "\n",
    "# merge\n",
    "df_raw = pd.merge(  df_sales_raw, df_store_raw, how='left', on='Store' )"
   ]
  },
  {
   "cell_type": "code",
   "execution_count": 3,
   "id": "61a1fa06",
   "metadata": {
    "ExecuteTime": {
     "end_time": "2021-12-14T13:43:34.050031Z",
     "start_time": "2021-12-14T13:43:33.669272Z"
    },
    "hidden": true,
    "scrolled": true
   },
   "outputs": [
    {
     "data": {
      "text/html": [
       "<div>\n",
       "<style scoped>\n",
       "    .dataframe tbody tr th:only-of-type {\n",
       "        vertical-align: middle;\n",
       "    }\n",
       "\n",
       "    .dataframe tbody tr th {\n",
       "        vertical-align: top;\n",
       "    }\n",
       "\n",
       "    .dataframe thead th {\n",
       "        text-align: right;\n",
       "    }\n",
       "</style>\n",
       "<table border=\"1\" class=\"dataframe\">\n",
       "  <thead>\n",
       "    <tr style=\"text-align: right;\">\n",
       "      <th></th>\n",
       "      <th>Store</th>\n",
       "      <th>DayOfWeek</th>\n",
       "      <th>Date</th>\n",
       "      <th>Sales</th>\n",
       "      <th>Customers</th>\n",
       "      <th>Open</th>\n",
       "      <th>Promo</th>\n",
       "      <th>StateHoliday</th>\n",
       "      <th>SchoolHoliday</th>\n",
       "      <th>StoreType</th>\n",
       "      <th>Assortment</th>\n",
       "      <th>CompetitionDistance</th>\n",
       "      <th>CompetitionOpenSinceMonth</th>\n",
       "      <th>CompetitionOpenSinceYear</th>\n",
       "      <th>Promo2</th>\n",
       "      <th>Promo2SinceWeek</th>\n",
       "      <th>Promo2SinceYear</th>\n",
       "      <th>PromoInterval</th>\n",
       "    </tr>\n",
       "  </thead>\n",
       "  <tbody>\n",
       "    <tr>\n",
       "      <th>920888</th>\n",
       "      <td>684</td>\n",
       "      <td>4</td>\n",
       "      <td>2013-03-28</td>\n",
       "      <td>9461</td>\n",
       "      <td>744</td>\n",
       "      <td>1</td>\n",
       "      <td>1</td>\n",
       "      <td>0</td>\n",
       "      <td>1</td>\n",
       "      <td>d</td>\n",
       "      <td>c</td>\n",
       "      <td>680.0</td>\n",
       "      <td>NaN</td>\n",
       "      <td>NaN</td>\n",
       "      <td>1</td>\n",
       "      <td>22.0</td>\n",
       "      <td>2012.0</td>\n",
       "      <td>Jan,Apr,Jul,Oct</td>\n",
       "    </tr>\n",
       "    <tr>\n",
       "      <th>30592</th>\n",
       "      <td>488</td>\n",
       "      <td>6</td>\n",
       "      <td>2015-07-04</td>\n",
       "      <td>4125</td>\n",
       "      <td>400</td>\n",
       "      <td>1</td>\n",
       "      <td>0</td>\n",
       "      <td>0</td>\n",
       "      <td>0</td>\n",
       "      <td>a</td>\n",
       "      <td>c</td>\n",
       "      <td>2890.0</td>\n",
       "      <td>4.0</td>\n",
       "      <td>2014.0</td>\n",
       "      <td>0</td>\n",
       "      <td>NaN</td>\n",
       "      <td>NaN</td>\n",
       "      <td>NaN</td>\n",
       "    </tr>\n",
       "    <tr>\n",
       "      <th>849527</th>\n",
       "      <td>683</td>\n",
       "      <td>5</td>\n",
       "      <td>2013-05-31</td>\n",
       "      <td>11863</td>\n",
       "      <td>1033</td>\n",
       "      <td>1</td>\n",
       "      <td>1</td>\n",
       "      <td>0</td>\n",
       "      <td>0</td>\n",
       "      <td>a</td>\n",
       "      <td>a</td>\n",
       "      <td>2850.0</td>\n",
       "      <td>7.0</td>\n",
       "      <td>2014.0</td>\n",
       "      <td>0</td>\n",
       "      <td>NaN</td>\n",
       "      <td>NaN</td>\n",
       "      <td>NaN</td>\n",
       "    </tr>\n",
       "    <tr>\n",
       "      <th>245465</th>\n",
       "      <td>807</td>\n",
       "      <td>1</td>\n",
       "      <td>2014-12-22</td>\n",
       "      <td>12832</td>\n",
       "      <td>1263</td>\n",
       "      <td>1</td>\n",
       "      <td>0</td>\n",
       "      <td>0</td>\n",
       "      <td>1</td>\n",
       "      <td>a</td>\n",
       "      <td>a</td>\n",
       "      <td>3870.0</td>\n",
       "      <td>4.0</td>\n",
       "      <td>2008.0</td>\n",
       "      <td>0</td>\n",
       "      <td>NaN</td>\n",
       "      <td>NaN</td>\n",
       "      <td>NaN</td>\n",
       "    </tr>\n",
       "    <tr>\n",
       "      <th>758836</th>\n",
       "      <td>307</td>\n",
       "      <td>2</td>\n",
       "      <td>2013-08-20</td>\n",
       "      <td>1994</td>\n",
       "      <td>291</td>\n",
       "      <td>1</td>\n",
       "      <td>0</td>\n",
       "      <td>0</td>\n",
       "      <td>1</td>\n",
       "      <td>a</td>\n",
       "      <td>a</td>\n",
       "      <td>18660.0</td>\n",
       "      <td>9.0</td>\n",
       "      <td>2002.0</td>\n",
       "      <td>0</td>\n",
       "      <td>NaN</td>\n",
       "      <td>NaN</td>\n",
       "      <td>NaN</td>\n",
       "    </tr>\n",
       "    <tr>\n",
       "      <th>415653</th>\n",
       "      <td>544</td>\n",
       "      <td>2</td>\n",
       "      <td>2014-06-24</td>\n",
       "      <td>11875</td>\n",
       "      <td>1734</td>\n",
       "      <td>1</td>\n",
       "      <td>0</td>\n",
       "      <td>0</td>\n",
       "      <td>0</td>\n",
       "      <td>a</td>\n",
       "      <td>a</td>\n",
       "      <td>250.0</td>\n",
       "      <td>12.0</td>\n",
       "      <td>2001.0</td>\n",
       "      <td>1</td>\n",
       "      <td>13.0</td>\n",
       "      <td>2010.0</td>\n",
       "      <td>Jan,Apr,Jul,Oct</td>\n",
       "    </tr>\n",
       "    <tr>\n",
       "      <th>904961</th>\n",
       "      <td>367</td>\n",
       "      <td>4</td>\n",
       "      <td>2013-04-11</td>\n",
       "      <td>5178</td>\n",
       "      <td>529</td>\n",
       "      <td>1</td>\n",
       "      <td>1</td>\n",
       "      <td>0</td>\n",
       "      <td>0</td>\n",
       "      <td>d</td>\n",
       "      <td>c</td>\n",
       "      <td>2640.0</td>\n",
       "      <td>9.0</td>\n",
       "      <td>2012.0</td>\n",
       "      <td>0</td>\n",
       "      <td>NaN</td>\n",
       "      <td>NaN</td>\n",
       "      <td>NaN</td>\n",
       "    </tr>\n",
       "    <tr>\n",
       "      <th>520177</th>\n",
       "      <td>258</td>\n",
       "      <td>6</td>\n",
       "      <td>2014-03-22</td>\n",
       "      <td>4731</td>\n",
       "      <td>433</td>\n",
       "      <td>1</td>\n",
       "      <td>0</td>\n",
       "      <td>0</td>\n",
       "      <td>0</td>\n",
       "      <td>a</td>\n",
       "      <td>a</td>\n",
       "      <td>27190.0</td>\n",
       "      <td>7.0</td>\n",
       "      <td>2010.0</td>\n",
       "      <td>1</td>\n",
       "      <td>37.0</td>\n",
       "      <td>2009.0</td>\n",
       "      <td>Jan,Apr,Jul,Oct</td>\n",
       "    </tr>\n",
       "    <tr>\n",
       "      <th>811197</th>\n",
       "      <td>263</td>\n",
       "      <td>4</td>\n",
       "      <td>2013-07-04</td>\n",
       "      <td>3249</td>\n",
       "      <td>306</td>\n",
       "      <td>1</td>\n",
       "      <td>1</td>\n",
       "      <td>0</td>\n",
       "      <td>0</td>\n",
       "      <td>a</td>\n",
       "      <td>c</td>\n",
       "      <td>1140.0</td>\n",
       "      <td>5.0</td>\n",
       "      <td>2013.0</td>\n",
       "      <td>1</td>\n",
       "      <td>40.0</td>\n",
       "      <td>2014.0</td>\n",
       "      <td>Jan,Apr,Jul,Oct</td>\n",
       "    </tr>\n",
       "    <tr>\n",
       "      <th>546580</th>\n",
       "      <td>1016</td>\n",
       "      <td>4</td>\n",
       "      <td>2014-02-27</td>\n",
       "      <td>2654</td>\n",
       "      <td>303</td>\n",
       "      <td>1</td>\n",
       "      <td>0</td>\n",
       "      <td>0</td>\n",
       "      <td>0</td>\n",
       "      <td>c</td>\n",
       "      <td>c</td>\n",
       "      <td>550.0</td>\n",
       "      <td>NaN</td>\n",
       "      <td>NaN</td>\n",
       "      <td>1</td>\n",
       "      <td>35.0</td>\n",
       "      <td>2010.0</td>\n",
       "      <td>Mar,Jun,Sept,Dec</td>\n",
       "    </tr>\n",
       "    <tr>\n",
       "      <th>116160</th>\n",
       "      <td>201</td>\n",
       "      <td>6</td>\n",
       "      <td>2015-04-18</td>\n",
       "      <td>5394</td>\n",
       "      <td>460</td>\n",
       "      <td>1</td>\n",
       "      <td>0</td>\n",
       "      <td>0</td>\n",
       "      <td>0</td>\n",
       "      <td>d</td>\n",
       "      <td>a</td>\n",
       "      <td>20260.0</td>\n",
       "      <td>NaN</td>\n",
       "      <td>NaN</td>\n",
       "      <td>1</td>\n",
       "      <td>18.0</td>\n",
       "      <td>2014.0</td>\n",
       "      <td>Mar,Jun,Sept,Dec</td>\n",
       "    </tr>\n",
       "    <tr>\n",
       "      <th>475560</th>\n",
       "      <td>241</td>\n",
       "      <td>4</td>\n",
       "      <td>2014-05-01</td>\n",
       "      <td>0</td>\n",
       "      <td>0</td>\n",
       "      <td>0</td>\n",
       "      <td>1</td>\n",
       "      <td>a</td>\n",
       "      <td>0</td>\n",
       "      <td>d</td>\n",
       "      <td>c</td>\n",
       "      <td>780.0</td>\n",
       "      <td>NaN</td>\n",
       "      <td>NaN</td>\n",
       "      <td>0</td>\n",
       "      <td>NaN</td>\n",
       "      <td>NaN</td>\n",
       "      <td>NaN</td>\n",
       "    </tr>\n",
       "    <tr>\n",
       "      <th>72712</th>\n",
       "      <td>238</td>\n",
       "      <td>3</td>\n",
       "      <td>2015-05-27</td>\n",
       "      <td>6685</td>\n",
       "      <td>1075</td>\n",
       "      <td>1</td>\n",
       "      <td>0</td>\n",
       "      <td>0</td>\n",
       "      <td>0</td>\n",
       "      <td>a</td>\n",
       "      <td>a</td>\n",
       "      <td>320.0</td>\n",
       "      <td>NaN</td>\n",
       "      <td>NaN</td>\n",
       "      <td>1</td>\n",
       "      <td>45.0</td>\n",
       "      <td>2009.0</td>\n",
       "      <td>Feb,May,Aug,Nov</td>\n",
       "    </tr>\n",
       "    <tr>\n",
       "      <th>831309</th>\n",
       "      <td>305</td>\n",
       "      <td>7</td>\n",
       "      <td>2013-06-16</td>\n",
       "      <td>0</td>\n",
       "      <td>0</td>\n",
       "      <td>0</td>\n",
       "      <td>0</td>\n",
       "      <td>0</td>\n",
       "      <td>0</td>\n",
       "      <td>c</td>\n",
       "      <td>c</td>\n",
       "      <td>2470.0</td>\n",
       "      <td>2.0</td>\n",
       "      <td>2005.0</td>\n",
       "      <td>1</td>\n",
       "      <td>31.0</td>\n",
       "      <td>2013.0</td>\n",
       "      <td>Mar,Jun,Sept,Dec</td>\n",
       "    </tr>\n",
       "    <tr>\n",
       "      <th>164735</th>\n",
       "      <td>831</td>\n",
       "      <td>5</td>\n",
       "      <td>2015-03-06</td>\n",
       "      <td>13418</td>\n",
       "      <td>1639</td>\n",
       "      <td>1</td>\n",
       "      <td>1</td>\n",
       "      <td>0</td>\n",
       "      <td>0</td>\n",
       "      <td>a</td>\n",
       "      <td>a</td>\n",
       "      <td>800.0</td>\n",
       "      <td>6.0</td>\n",
       "      <td>2007.0</td>\n",
       "      <td>0</td>\n",
       "      <td>NaN</td>\n",
       "      <td>NaN</td>\n",
       "      <td>NaN</td>\n",
       "    </tr>\n",
       "    <tr>\n",
       "      <th>43698</th>\n",
       "      <td>214</td>\n",
       "      <td>1</td>\n",
       "      <td>2015-06-22</td>\n",
       "      <td>8012</td>\n",
       "      <td>578</td>\n",
       "      <td>1</td>\n",
       "      <td>0</td>\n",
       "      <td>0</td>\n",
       "      <td>0</td>\n",
       "      <td>d</td>\n",
       "      <td>a</td>\n",
       "      <td>8650.0</td>\n",
       "      <td>7.0</td>\n",
       "      <td>2013.0</td>\n",
       "      <td>1</td>\n",
       "      <td>10.0</td>\n",
       "      <td>2014.0</td>\n",
       "      <td>Jan,Apr,Jul,Oct</td>\n",
       "    </tr>\n",
       "    <tr>\n",
       "      <th>250195</th>\n",
       "      <td>869</td>\n",
       "      <td>3</td>\n",
       "      <td>2014-12-17</td>\n",
       "      <td>9915</td>\n",
       "      <td>1163</td>\n",
       "      <td>1</td>\n",
       "      <td>1</td>\n",
       "      <td>0</td>\n",
       "      <td>0</td>\n",
       "      <td>c</td>\n",
       "      <td>a</td>\n",
       "      <td>230.0</td>\n",
       "      <td>10.0</td>\n",
       "      <td>2001.0</td>\n",
       "      <td>1</td>\n",
       "      <td>14.0</td>\n",
       "      <td>2011.0</td>\n",
       "      <td>Jan,Apr,Jul,Oct</td>\n",
       "    </tr>\n",
       "    <tr>\n",
       "      <th>819795</th>\n",
       "      <td>1056</td>\n",
       "      <td>4</td>\n",
       "      <td>2013-06-27</td>\n",
       "      <td>2755</td>\n",
       "      <td>270</td>\n",
       "      <td>1</td>\n",
       "      <td>0</td>\n",
       "      <td>0</td>\n",
       "      <td>0</td>\n",
       "      <td>d</td>\n",
       "      <td>c</td>\n",
       "      <td>5350.0</td>\n",
       "      <td>NaN</td>\n",
       "      <td>NaN</td>\n",
       "      <td>1</td>\n",
       "      <td>40.0</td>\n",
       "      <td>2012.0</td>\n",
       "      <td>Jan,Apr,Jul,Oct</td>\n",
       "    </tr>\n",
       "    <tr>\n",
       "      <th>813003</th>\n",
       "      <td>954</td>\n",
       "      <td>3</td>\n",
       "      <td>2013-07-03</td>\n",
       "      <td>7904</td>\n",
       "      <td>995</td>\n",
       "      <td>1</td>\n",
       "      <td>1</td>\n",
       "      <td>0</td>\n",
       "      <td>0</td>\n",
       "      <td>a</td>\n",
       "      <td>a</td>\n",
       "      <td>390.0</td>\n",
       "      <td>2.0</td>\n",
       "      <td>2013.0</td>\n",
       "      <td>1</td>\n",
       "      <td>10.0</td>\n",
       "      <td>2014.0</td>\n",
       "      <td>Jan,Apr,Jul,Oct</td>\n",
       "    </tr>\n",
       "    <tr>\n",
       "      <th>893855</th>\n",
       "      <td>411</td>\n",
       "      <td>7</td>\n",
       "      <td>2013-04-21</td>\n",
       "      <td>0</td>\n",
       "      <td>0</td>\n",
       "      <td>0</td>\n",
       "      <td>0</td>\n",
       "      <td>0</td>\n",
       "      <td>0</td>\n",
       "      <td>d</td>\n",
       "      <td>c</td>\n",
       "      <td>8460.0</td>\n",
       "      <td>NaN</td>\n",
       "      <td>NaN</td>\n",
       "      <td>0</td>\n",
       "      <td>NaN</td>\n",
       "      <td>NaN</td>\n",
       "      <td>NaN</td>\n",
       "    </tr>\n",
       "  </tbody>\n",
       "</table>\n",
       "</div>"
      ],
      "text/plain": [
       "        Store  DayOfWeek        Date  Sales  Customers  Open  Promo  \\\n",
       "920888    684          4  2013-03-28   9461        744     1      1   \n",
       "30592     488          6  2015-07-04   4125        400     1      0   \n",
       "849527    683          5  2013-05-31  11863       1033     1      1   \n",
       "245465    807          1  2014-12-22  12832       1263     1      0   \n",
       "758836    307          2  2013-08-20   1994        291     1      0   \n",
       "415653    544          2  2014-06-24  11875       1734     1      0   \n",
       "904961    367          4  2013-04-11   5178        529     1      1   \n",
       "520177    258          6  2014-03-22   4731        433     1      0   \n",
       "811197    263          4  2013-07-04   3249        306     1      1   \n",
       "546580   1016          4  2014-02-27   2654        303     1      0   \n",
       "116160    201          6  2015-04-18   5394        460     1      0   \n",
       "475560    241          4  2014-05-01      0          0     0      1   \n",
       "72712     238          3  2015-05-27   6685       1075     1      0   \n",
       "831309    305          7  2013-06-16      0          0     0      0   \n",
       "164735    831          5  2015-03-06  13418       1639     1      1   \n",
       "43698     214          1  2015-06-22   8012        578     1      0   \n",
       "250195    869          3  2014-12-17   9915       1163     1      1   \n",
       "819795   1056          4  2013-06-27   2755        270     1      0   \n",
       "813003    954          3  2013-07-03   7904        995     1      1   \n",
       "893855    411          7  2013-04-21      0          0     0      0   \n",
       "\n",
       "       StateHoliday  SchoolHoliday StoreType Assortment  CompetitionDistance  \\\n",
       "920888            0              1         d          c                680.0   \n",
       "30592             0              0         a          c               2890.0   \n",
       "849527            0              0         a          a               2850.0   \n",
       "245465            0              1         a          a               3870.0   \n",
       "758836            0              1         a          a              18660.0   \n",
       "415653            0              0         a          a                250.0   \n",
       "904961            0              0         d          c               2640.0   \n",
       "520177            0              0         a          a              27190.0   \n",
       "811197            0              0         a          c               1140.0   \n",
       "546580            0              0         c          c                550.0   \n",
       "116160            0              0         d          a              20260.0   \n",
       "475560            a              0         d          c                780.0   \n",
       "72712             0              0         a          a                320.0   \n",
       "831309            0              0         c          c               2470.0   \n",
       "164735            0              0         a          a                800.0   \n",
       "43698             0              0         d          a               8650.0   \n",
       "250195            0              0         c          a                230.0   \n",
       "819795            0              0         d          c               5350.0   \n",
       "813003            0              0         a          a                390.0   \n",
       "893855            0              0         d          c               8460.0   \n",
       "\n",
       "        CompetitionOpenSinceMonth  CompetitionOpenSinceYear  Promo2  \\\n",
       "920888                        NaN                       NaN       1   \n",
       "30592                         4.0                    2014.0       0   \n",
       "849527                        7.0                    2014.0       0   \n",
       "245465                        4.0                    2008.0       0   \n",
       "758836                        9.0                    2002.0       0   \n",
       "415653                       12.0                    2001.0       1   \n",
       "904961                        9.0                    2012.0       0   \n",
       "520177                        7.0                    2010.0       1   \n",
       "811197                        5.0                    2013.0       1   \n",
       "546580                        NaN                       NaN       1   \n",
       "116160                        NaN                       NaN       1   \n",
       "475560                        NaN                       NaN       0   \n",
       "72712                         NaN                       NaN       1   \n",
       "831309                        2.0                    2005.0       1   \n",
       "164735                        6.0                    2007.0       0   \n",
       "43698                         7.0                    2013.0       1   \n",
       "250195                       10.0                    2001.0       1   \n",
       "819795                        NaN                       NaN       1   \n",
       "813003                        2.0                    2013.0       1   \n",
       "893855                        NaN                       NaN       0   \n",
       "\n",
       "        Promo2SinceWeek  Promo2SinceYear     PromoInterval  \n",
       "920888             22.0           2012.0   Jan,Apr,Jul,Oct  \n",
       "30592               NaN              NaN               NaN  \n",
       "849527              NaN              NaN               NaN  \n",
       "245465              NaN              NaN               NaN  \n",
       "758836              NaN              NaN               NaN  \n",
       "415653             13.0           2010.0   Jan,Apr,Jul,Oct  \n",
       "904961              NaN              NaN               NaN  \n",
       "520177             37.0           2009.0   Jan,Apr,Jul,Oct  \n",
       "811197             40.0           2014.0   Jan,Apr,Jul,Oct  \n",
       "546580             35.0           2010.0  Mar,Jun,Sept,Dec  \n",
       "116160             18.0           2014.0  Mar,Jun,Sept,Dec  \n",
       "475560              NaN              NaN               NaN  \n",
       "72712              45.0           2009.0   Feb,May,Aug,Nov  \n",
       "831309             31.0           2013.0  Mar,Jun,Sept,Dec  \n",
       "164735              NaN              NaN               NaN  \n",
       "43698              10.0           2014.0   Jan,Apr,Jul,Oct  \n",
       "250195             14.0           2011.0   Jan,Apr,Jul,Oct  \n",
       "819795             40.0           2012.0   Jan,Apr,Jul,Oct  \n",
       "813003             10.0           2014.0   Jan,Apr,Jul,Oct  \n",
       "893855              NaN              NaN               NaN  "
      ]
     },
     "execution_count": 3,
     "metadata": {},
     "output_type": "execute_result"
    }
   ],
   "source": [
    "df_raw.sample(20)"
   ]
  },
  {
   "cell_type": "markdown",
   "id": "1cc62789",
   "metadata": {
    "heading_collapsed": true
   },
   "source": [
    "# PASSO 1 - Data Description"
   ]
  },
  {
   "cell_type": "code",
   "execution_count": 4,
   "id": "92f3731b",
   "metadata": {
    "ExecuteTime": {
     "end_time": "2021-12-14T13:43:34.179557Z",
     "start_time": "2021-12-14T13:43:34.053937Z"
    },
    "hidden": true
   },
   "outputs": [],
   "source": [
    "# Meigarom faz uma cópia a cada seção nova, pra em grandes códigos evitar sobrescrever a var\n",
    "# do DS original e ter que rodar tudo de novo.\n",
    "df1 = df_raw.copy()"
   ]
  },
  {
   "cell_type": "markdown",
   "id": "39a6e020",
   "metadata": {
    "heading_collapsed": true,
    "hidden": true
   },
   "source": [
    "## Rename Columns"
   ]
  },
  {
   "cell_type": "code",
   "execution_count": 5,
   "id": "1a73b84d",
   "metadata": {
    "ExecuteTime": {
     "end_time": "2021-12-14T13:43:34.214784Z",
     "start_time": "2021-12-14T13:43:34.200213Z"
    },
    "hidden": true
   },
   "outputs": [
    {
     "data": {
      "text/plain": [
       "Index(['Store', 'DayOfWeek', 'Date', 'Sales', 'Customers', 'Open', 'Promo',\n",
       "       'StateHoliday', 'SchoolHoliday', 'StoreType', 'Assortment',\n",
       "       'CompetitionDistance', 'CompetitionOpenSinceMonth',\n",
       "       'CompetitionOpenSinceYear', 'Promo2', 'Promo2SinceWeek',\n",
       "       'Promo2SinceYear', 'PromoInterval'],\n",
       "      dtype='object')"
      ]
     },
     "execution_count": 5,
     "metadata": {},
     "output_type": "execute_result"
    }
   ],
   "source": [
    "df1.columns"
   ]
  },
  {
   "cell_type": "code",
   "execution_count": 6,
   "id": "dad6c5f1",
   "metadata": {
    "ExecuteTime": {
     "end_time": "2021-12-14T13:43:34.239752Z",
     "start_time": "2021-12-14T13:43:34.227820Z"
    },
    "hidden": true
   },
   "outputs": [],
   "source": [
    "#pega as colunas originais\n",
    "cols_old = ['Store', 'DayOfWeek', 'Date', 'Sales', 'Customers', 'Open', 'Promo',\n",
    "       'StateHoliday', 'SchoolHoliday', 'StoreType', 'Assortment',\n",
    "       'CompetitionDistance', 'CompetitionOpenSinceMonth',\n",
    "       'CompetitionOpenSinceYear', 'Promo2', 'Promo2SinceWeek',\n",
    "       'Promo2SinceYear', 'PromoInterval']"
   ]
  },
  {
   "cell_type": "code",
   "execution_count": 7,
   "id": "d89cc124",
   "metadata": {
    "ExecuteTime": {
     "end_time": "2021-12-14T13:43:34.267800Z",
     "start_time": "2021-12-14T13:43:34.254499Z"
    },
    "hidden": true
   },
   "outputs": [],
   "source": [
    "#cria função pra transformar em snake_case\n",
    "snakecase = lambda x: inflection.underscore ( x )\n",
    "\n",
    "#aplica a função em todas as palabras de cols_old, guarda em lista na cols_new\n",
    "cols_new = list( map( snakecase, cols_old ) )\n",
    "\n",
    "#rename\n",
    "df1.columns = cols_new"
   ]
  },
  {
   "cell_type": "code",
   "execution_count": 8,
   "id": "f59c8c80",
   "metadata": {
    "ExecuteTime": {
     "end_time": "2021-12-14T13:43:34.291706Z",
     "start_time": "2021-12-14T13:43:34.274413Z"
    },
    "hidden": true
   },
   "outputs": [
    {
     "data": {
      "text/plain": [
       "Index(['store', 'day_of_week', 'date', 'sales', 'customers', 'open', 'promo',\n",
       "       'state_holiday', 'school_holiday', 'store_type', 'assortment',\n",
       "       'competition_distance', 'competition_open_since_month',\n",
       "       'competition_open_since_year', 'promo2', 'promo2_since_week',\n",
       "       'promo2_since_year', 'promo_interval'],\n",
       "      dtype='object')"
      ]
     },
     "execution_count": 8,
     "metadata": {},
     "output_type": "execute_result"
    }
   ],
   "source": [
    "df1.columns"
   ]
  },
  {
   "cell_type": "markdown",
   "id": "2888147b",
   "metadata": {
    "heading_collapsed": true,
    "hidden": true
   },
   "source": [
    "## Data Dimension"
   ]
  },
  {
   "cell_type": "code",
   "execution_count": 9,
   "id": "555bfaf0",
   "metadata": {
    "ExecuteTime": {
     "end_time": "2021-12-14T13:43:34.319645Z",
     "start_time": "2021-12-14T13:43:34.302635Z"
    },
    "hidden": true
   },
   "outputs": [
    {
     "name": "stdout",
     "output_type": "stream",
     "text": [
      "Number of rows: 1017209\n",
      "Number of rows: 18\n"
     ]
    }
   ],
   "source": [
    "print (f'Number of rows: {df1.shape[0] }')\n",
    "print (f'Number of rows: {df1.shape[1] }')"
   ]
  },
  {
   "cell_type": "markdown",
   "id": "2efd9f82",
   "metadata": {
    "heading_collapsed": true,
    "hidden": true
   },
   "source": [
    "## Data Types"
   ]
  },
  {
   "cell_type": "code",
   "execution_count": 10,
   "id": "aed4b281",
   "metadata": {
    "ExecuteTime": {
     "end_time": "2021-12-14T13:43:34.348574Z",
     "start_time": "2021-12-14T13:43:34.329643Z"
    },
    "hidden": true
   },
   "outputs": [
    {
     "data": {
      "text/plain": [
       "store                             int64\n",
       "day_of_week                       int64\n",
       "date                             object\n",
       "sales                             int64\n",
       "customers                         int64\n",
       "open                              int64\n",
       "promo                             int64\n",
       "state_holiday                    object\n",
       "school_holiday                    int64\n",
       "store_type                       object\n",
       "assortment                       object\n",
       "competition_distance            float64\n",
       "competition_open_since_month    float64\n",
       "competition_open_since_year     float64\n",
       "promo2                            int64\n",
       "promo2_since_week               float64\n",
       "promo2_since_year               float64\n",
       "promo_interval                   object\n",
       "dtype: object"
      ]
     },
     "execution_count": 10,
     "metadata": {},
     "output_type": "execute_result"
    }
   ],
   "source": [
    "df1.dtypes"
   ]
  },
  {
   "cell_type": "code",
   "execution_count": 11,
   "id": "9b5a1416",
   "metadata": {
    "ExecuteTime": {
     "end_time": "2021-12-14T13:43:34.548266Z",
     "start_time": "2021-12-14T13:43:34.359236Z"
    },
    "hidden": true
   },
   "outputs": [
    {
     "data": {
      "text/plain": [
       "store                                    int64\n",
       "day_of_week                              int64\n",
       "date                            datetime64[ns]\n",
       "sales                                    int64\n",
       "customers                                int64\n",
       "open                                     int64\n",
       "promo                                    int64\n",
       "state_holiday                           object\n",
       "school_holiday                           int64\n",
       "store_type                              object\n",
       "assortment                              object\n",
       "competition_distance                   float64\n",
       "competition_open_since_month           float64\n",
       "competition_open_since_year            float64\n",
       "promo2                                   int64\n",
       "promo2_since_week                      float64\n",
       "promo2_since_year                      float64\n",
       "promo_interval                          object\n",
       "dtype: object"
      ]
     },
     "execution_count": 11,
     "metadata": {},
     "output_type": "execute_result"
    }
   ],
   "source": [
    "#convert 'date' to datetime:\n",
    "df1['date'] = pd.to_datetime( df1['date'] )\n",
    "df1.dtypes"
   ]
  },
  {
   "cell_type": "markdown",
   "id": "5a94c669",
   "metadata": {
    "heading_collapsed": true,
    "hidden": true
   },
   "source": [
    "## Check NA"
   ]
  },
  {
   "cell_type": "code",
   "execution_count": 12,
   "id": "a8fe6217",
   "metadata": {
    "ExecuteTime": {
     "end_time": "2021-12-14T13:43:34.778689Z",
     "start_time": "2021-12-14T13:43:34.554605Z"
    },
    "hidden": true
   },
   "outputs": [
    {
     "data": {
      "text/plain": [
       "store                                0\n",
       "day_of_week                          0\n",
       "date                                 0\n",
       "sales                                0\n",
       "customers                            0\n",
       "open                                 0\n",
       "promo                                0\n",
       "state_holiday                        0\n",
       "school_holiday                       0\n",
       "store_type                           0\n",
       "assortment                           0\n",
       "competition_distance              2642\n",
       "competition_open_since_month    323348\n",
       "competition_open_since_year     323348\n",
       "promo2                               0\n",
       "promo2_since_week               508031\n",
       "promo2_since_year               508031\n",
       "promo_interval                  508031\n",
       "dtype: int64"
      ]
     },
     "execution_count": 12,
     "metadata": {},
     "output_type": "execute_result"
    }
   ],
   "source": [
    "# Ver todas linhas que tem ao menos 1 NA\n",
    "df1.isna().sum()"
   ]
  },
  {
   "cell_type": "markdown",
   "id": "ca92a071",
   "metadata": {
    "hidden": true
   },
   "source": [
    "### Há 3 formas de tratar:\n",
    "1 - Excluir todas as linhas com NA.\n",
    "     - Bom: rápido e fácil\n",
    "     - Péssimo: descarta dados, pode prejudicar meu modelo\n",
    "    \n",
    "2 - Usar algoritmos de ML pra substituir NAs pela média, mediana, prevendo o número que seria \n",
    "através das colunas que tem valor.\n",
    "\n",
    "3 - Descobrir porque o NA tá aqui. Pode ter trocado o sistema, antes não tinha essa coluna. Ou ainda antes era o valor de outra coluna."
   ]
  },
  {
   "cell_type": "markdown",
   "id": "b97e9629",
   "metadata": {
    "heading_collapsed": true,
    "hidden": true
   },
   "source": [
    "## Fillout NA"
   ]
  },
  {
   "cell_type": "markdown",
   "id": "8cc83b73",
   "metadata": {
    "ExecuteTime": {
     "end_time": "2021-12-12T18:07:33.929215Z",
     "start_time": "2021-12-12T18:07:33.921775Z"
    },
    "hidden": true
   },
   "source": [
    "Colunas com NA:\n",
    "#competition_distance\n",
    "#competition_open_since_month\n",
    "#competition_open_since_year\n",
    "#promo2_since_week\n",
    "#promo2_since_year\n",
    "#promo_interval"
   ]
  },
  {
   "cell_type": "code",
   "execution_count": 13,
   "id": "a0b3a056",
   "metadata": {
    "ExecuteTime": {
     "end_time": "2021-12-14T13:43:34.800824Z",
     "start_time": "2021-12-14T13:43:34.784932Z"
    },
    "hidden": true
   },
   "outputs": [
    {
     "data": {
      "text/plain": [
       "75860.0"
      ]
     },
     "execution_count": 13,
     "metadata": {},
     "output_type": "execute_result"
    }
   ],
   "source": [
    "#competition_distance\n",
    "#CompetitionDistance - distance in meters to the nearest competitor store\n",
    "\n",
    "# Vou assumir que os que não tem valor aqui, não tem competidores perto.\n",
    "# Logo, vou atribuir pras NAs um valor bem amior que o maior valor de distância existente.\n",
    "df1['competition_distance'].max()"
   ]
  },
  {
   "cell_type": "code",
   "execution_count": 14,
   "id": "4ab7c42b",
   "metadata": {
    "ExecuteTime": {
     "end_time": "2021-12-14T13:43:35.269598Z",
     "start_time": "2021-12-14T13:43:34.807228Z"
    },
    "hidden": true
   },
   "outputs": [],
   "source": [
    "#atribuindo o valor pra todas NA\n",
    "\n",
    "df1['competition_distance'] = df1['competition_distance'].apply( lambda x: 200000.0 if math.isnan( x ) else x ) "
   ]
  },
  {
   "cell_type": "code",
   "execution_count": 15,
   "id": "7565732f",
   "metadata": {
    "ExecuteTime": {
     "end_time": "2021-12-14T13:43:35.534245Z",
     "start_time": "2021-12-14T13:43:35.275553Z"
    },
    "hidden": true
   },
   "outputs": [
    {
     "data": {
      "text/plain": [
       "store                                0\n",
       "day_of_week                          0\n",
       "date                                 0\n",
       "sales                                0\n",
       "customers                            0\n",
       "open                                 0\n",
       "promo                                0\n",
       "state_holiday                        0\n",
       "school_holiday                       0\n",
       "store_type                           0\n",
       "assortment                           0\n",
       "competition_distance                 0\n",
       "competition_open_since_month    323348\n",
       "competition_open_since_year     323348\n",
       "promo2                               0\n",
       "promo2_since_week               508031\n",
       "promo2_since_year               508031\n",
       "promo_interval                  508031\n",
       "dtype: int64"
      ]
     },
     "execution_count": 15,
     "metadata": {},
     "output_type": "execute_result"
    }
   ],
   "source": [
    "#resolvido\n",
    "df1.isna().sum()"
   ]
  },
  {
   "cell_type": "code",
   "execution_count": 16,
   "id": "2d0c54b0",
   "metadata": {
    "ExecuteTime": {
     "end_time": "2021-12-14T13:44:09.883937Z",
     "start_time": "2021-12-14T13:43:35.539078Z"
    },
    "hidden": true
   },
   "outputs": [],
   "source": [
    "#competition_open_since_month\n",
    "# CompetitionOpenSince[Month/Year] - gives the approximate year and month of the time the\n",
    "# nearest competitor was opened\n",
    "\n",
    "# Se esta coluna está vazia, ou deve ser porque não tem competidor próximo, ou porque\n",
    "# não sabem quando foi aberta. \n",
    "# Vou assumir nesse primeiro ciclo então minha data de venda como a data de abertura do \n",
    "# competidor, mesmo que seja simplista.\n",
    "\n",
    "# precisa axis aqui pois são duas colunas que estamos mexendo no lambda\n",
    "df1['competition_open_since_month'] = df1.apply ( lambda x: x['date'].month \n",
    "                    if math.isnan( x['competition_open_since_month'] ) \n",
    "                    else x['competition_open_since_month'], axis=1 ) "
   ]
  },
  {
   "cell_type": "code",
   "execution_count": 17,
   "id": "ec5efa01",
   "metadata": {
    "ExecuteTime": {
     "end_time": "2021-12-14T13:44:39.636200Z",
     "start_time": "2021-12-14T13:44:09.886580Z"
    },
    "hidden": true
   },
   "outputs": [],
   "source": [
    "#competition_open_since_year\n",
    "# CompetitionOpenSince[Month/Year] - gives the approximate year and month of the time the\n",
    "# nearest competitor was opened\n",
    "\n",
    "# Vamos fazer pro year o mesno que o feito pro month:\n",
    "df1['competition_open_since_year'] = df1.apply ( lambda x: x['date'].year \n",
    "                    if math.isnan( x['competition_open_since_year'] ) \n",
    "                    else x['competition_open_since_year'], axis=1 ) "
   ]
  },
  {
   "cell_type": "code",
   "execution_count": 18,
   "id": "4d9bd125",
   "metadata": {
    "ExecuteTime": {
     "end_time": "2021-12-14T13:45:12.676958Z",
     "start_time": "2021-12-14T13:44:39.641076Z"
    },
    "hidden": true
   },
   "outputs": [],
   "source": [
    "#promo2_since_week\n",
    "\n",
    "# Promo2Since[Year/Week] - describes the year and calendar week when the store started \n",
    "#    participating in Promo2\n",
    "#Promo2 - Promo2 is a continuing and consecutive promotion for some stores: 0 = store is not\n",
    "#    participating, 1 = store is participating\n",
    "\n",
    "# promo2_since_week: Também vamos por hora setar a partir da data de venda\n",
    "df1['promo2_since_week'] = df1.apply ( lambda x: x['date'].week \n",
    "                    if math.isnan( x['promo2_since_week'] ) \n",
    "                    else x['promo2_since_week'], axis=1 )"
   ]
  },
  {
   "cell_type": "code",
   "execution_count": 19,
   "id": "95fab0f7",
   "metadata": {
    "ExecuteTime": {
     "end_time": "2021-12-14T13:45:45.793028Z",
     "start_time": "2021-12-14T13:45:12.680821Z"
    },
    "hidden": true
   },
   "outputs": [],
   "source": [
    "#promo2_since_year: Também vamos por hora setar a partir da data de venda\n",
    "df1['promo2_since_year'] = df1.apply ( lambda x: x['date'].year \n",
    "                    if math.isnan( x['promo2_since_year'] ) \n",
    "                    else x['promo2_since_year'], axis=1 )"
   ]
  },
  {
   "cell_type": "code",
   "execution_count": 20,
   "id": "5d6a16c1",
   "metadata": {
    "ExecuteTime": {
     "end_time": "2021-12-14T13:46:08.639947Z",
     "start_time": "2021-12-14T13:45:45.795167Z"
    },
    "hidden": true
   },
   "outputs": [],
   "source": [
    "#promo_interval\n",
    "# PromoInterval - describes the consecutive intervals Promo2 is started, naming the months \n",
    "# the promotion is started anew. E.g. \"Feb,May,Aug,Nov\" means each round starts in \n",
    "# February, May, August, November of any given year for that store\n",
    "\n",
    "#\n",
    "month_map = {1: 'Jan', 2: 'Feb', 3: 'Mar', 4: 'Apr',\n",
    " 5: 'May', 6: 'Jun', 7: 'Jul', 8: 'Aug', \n",
    " 9: 'Sept', 10: 'Out', 11: 'Nov', 12: 'Dec' }\n",
    "\n",
    "#preencher NA com zeros\n",
    "#inplace=True pra não retornar valor, mas motificar na coluna\n",
    "df1['promo_interval'].fillna(0, inplace=True)\n",
    "\n",
    "#cria coluna 'month_map' e seta o mes nela\n",
    "df1['month_map'] = df1['date'].dt.month.map( month_map )\n",
    "\n",
    "#cria coluna 'is_promo', e seta 1 se 'month_map' estiver em 'promo_interval', senão 0.\n",
    "#assim, consigo saber se naquela venda, estava ou não em promoção.\n",
    "df1['is_promo'] = df1[['promo_interval', 'month_map']].apply ( lambda x: \n",
    "      0 if x['promo_interval'] == 0 else \n",
    "      1 if x['month_map'] in x['promo_interval'].split(',') else 0, axis =1 )"
   ]
  },
  {
   "cell_type": "code",
   "execution_count": 21,
   "id": "d31ed091",
   "metadata": {
    "ExecuteTime": {
     "end_time": "2021-12-14T13:46:08.867851Z",
     "start_time": "2021-12-14T13:46:08.646989Z"
    },
    "hidden": true
   },
   "outputs": [
    {
     "data": {
      "text/html": [
       "<div>\n",
       "<style scoped>\n",
       "    .dataframe tbody tr th:only-of-type {\n",
       "        vertical-align: middle;\n",
       "    }\n",
       "\n",
       "    .dataframe tbody tr th {\n",
       "        vertical-align: top;\n",
       "    }\n",
       "\n",
       "    .dataframe thead th {\n",
       "        text-align: right;\n",
       "    }\n",
       "</style>\n",
       "<table border=\"1\" class=\"dataframe\">\n",
       "  <thead>\n",
       "    <tr style=\"text-align: right;\">\n",
       "      <th></th>\n",
       "      <th>store</th>\n",
       "      <th>day_of_week</th>\n",
       "      <th>date</th>\n",
       "      <th>sales</th>\n",
       "      <th>customers</th>\n",
       "      <th>open</th>\n",
       "      <th>promo</th>\n",
       "      <th>state_holiday</th>\n",
       "      <th>school_holiday</th>\n",
       "      <th>store_type</th>\n",
       "      <th>assortment</th>\n",
       "      <th>competition_distance</th>\n",
       "      <th>competition_open_since_month</th>\n",
       "      <th>competition_open_since_year</th>\n",
       "      <th>promo2</th>\n",
       "      <th>promo2_since_week</th>\n",
       "      <th>promo2_since_year</th>\n",
       "      <th>promo_interval</th>\n",
       "      <th>month_map</th>\n",
       "      <th>is_promo</th>\n",
       "    </tr>\n",
       "  </thead>\n",
       "  <tbody>\n",
       "    <tr>\n",
       "      <th>281164</th>\n",
       "      <td>1002</td>\n",
       "      <td>5</td>\n",
       "      <td>2014-11-14</td>\n",
       "      <td>5564</td>\n",
       "      <td>678</td>\n",
       "      <td>1</td>\n",
       "      <td>1</td>\n",
       "      <td>0</td>\n",
       "      <td>0</td>\n",
       "      <td>d</td>\n",
       "      <td>c</td>\n",
       "      <td>1130.0</td>\n",
       "      <td>11.0</td>\n",
       "      <td>2008.0</td>\n",
       "      <td>0</td>\n",
       "      <td>46.0</td>\n",
       "      <td>2014.0</td>\n",
       "      <td>0</td>\n",
       "      <td>Nov</td>\n",
       "      <td>0</td>\n",
       "    </tr>\n",
       "    <tr>\n",
       "      <th>1004382</th>\n",
       "      <td>553</td>\n",
       "      <td>6</td>\n",
       "      <td>2013-01-12</td>\n",
       "      <td>8377</td>\n",
       "      <td>871</td>\n",
       "      <td>1</td>\n",
       "      <td>0</td>\n",
       "      <td>0</td>\n",
       "      <td>0</td>\n",
       "      <td>c</td>\n",
       "      <td>a</td>\n",
       "      <td>3040.0</td>\n",
       "      <td>9.0</td>\n",
       "      <td>2002.0</td>\n",
       "      <td>1</td>\n",
       "      <td>13.0</td>\n",
       "      <td>2010.0</td>\n",
       "      <td>Jan,Apr,Jul,Oct</td>\n",
       "      <td>Jan</td>\n",
       "      <td>1</td>\n",
       "    </tr>\n",
       "    <tr>\n",
       "      <th>288875</th>\n",
       "      <td>168</td>\n",
       "      <td>3</td>\n",
       "      <td>2014-11-05</td>\n",
       "      <td>7047</td>\n",
       "      <td>655</td>\n",
       "      <td>1</td>\n",
       "      <td>1</td>\n",
       "      <td>0</td>\n",
       "      <td>0</td>\n",
       "      <td>a</td>\n",
       "      <td>a</td>\n",
       "      <td>12540.0</td>\n",
       "      <td>11.0</td>\n",
       "      <td>2014.0</td>\n",
       "      <td>0</td>\n",
       "      <td>45.0</td>\n",
       "      <td>2014.0</td>\n",
       "      <td>0</td>\n",
       "      <td>Nov</td>\n",
       "      <td>0</td>\n",
       "    </tr>\n",
       "    <tr>\n",
       "      <th>295967</th>\n",
       "      <td>821</td>\n",
       "      <td>3</td>\n",
       "      <td>2014-10-29</td>\n",
       "      <td>5957</td>\n",
       "      <td>780</td>\n",
       "      <td>1</td>\n",
       "      <td>0</td>\n",
       "      <td>0</td>\n",
       "      <td>1</td>\n",
       "      <td>a</td>\n",
       "      <td>a</td>\n",
       "      <td>1700.0</td>\n",
       "      <td>9.0</td>\n",
       "      <td>2009.0</td>\n",
       "      <td>0</td>\n",
       "      <td>44.0</td>\n",
       "      <td>2014.0</td>\n",
       "      <td>0</td>\n",
       "      <td>Out</td>\n",
       "      <td>0</td>\n",
       "    </tr>\n",
       "    <tr>\n",
       "      <th>444760</th>\n",
       "      <td>661</td>\n",
       "      <td>4</td>\n",
       "      <td>2014-05-29</td>\n",
       "      <td>0</td>\n",
       "      <td>0</td>\n",
       "      <td>0</td>\n",
       "      <td>0</td>\n",
       "      <td>a</td>\n",
       "      <td>0</td>\n",
       "      <td>d</td>\n",
       "      <td>c</td>\n",
       "      <td>2140.0</td>\n",
       "      <td>7.0</td>\n",
       "      <td>2013.0</td>\n",
       "      <td>0</td>\n",
       "      <td>22.0</td>\n",
       "      <td>2014.0</td>\n",
       "      <td>0</td>\n",
       "      <td>May</td>\n",
       "      <td>0</td>\n",
       "    </tr>\n",
       "  </tbody>\n",
       "</table>\n",
       "</div>"
      ],
      "text/plain": [
       "         store  day_of_week       date  sales  customers  open  promo  \\\n",
       "281164    1002            5 2014-11-14   5564        678     1      1   \n",
       "1004382    553            6 2013-01-12   8377        871     1      0   \n",
       "288875     168            3 2014-11-05   7047        655     1      1   \n",
       "295967     821            3 2014-10-29   5957        780     1      0   \n",
       "444760     661            4 2014-05-29      0          0     0      0   \n",
       "\n",
       "        state_holiday  school_holiday store_type assortment  \\\n",
       "281164              0               0          d          c   \n",
       "1004382             0               0          c          a   \n",
       "288875              0               0          a          a   \n",
       "295967              0               1          a          a   \n",
       "444760              a               0          d          c   \n",
       "\n",
       "         competition_distance  competition_open_since_month  \\\n",
       "281164                 1130.0                          11.0   \n",
       "1004382                3040.0                           9.0   \n",
       "288875                12540.0                          11.0   \n",
       "295967                 1700.0                           9.0   \n",
       "444760                 2140.0                           7.0   \n",
       "\n",
       "         competition_open_since_year  promo2  promo2_since_week  \\\n",
       "281164                        2008.0       0               46.0   \n",
       "1004382                       2002.0       1               13.0   \n",
       "288875                        2014.0       0               45.0   \n",
       "295967                        2009.0       0               44.0   \n",
       "444760                        2013.0       0               22.0   \n",
       "\n",
       "         promo2_since_year   promo_interval month_map  is_promo  \n",
       "281164              2014.0                0       Nov         0  \n",
       "1004382             2010.0  Jan,Apr,Jul,Oct       Jan         1  \n",
       "288875              2014.0                0       Nov         0  \n",
       "295967              2014.0                0       Out         0  \n",
       "444760              2014.0                0       May         0  "
      ]
     },
     "execution_count": 21,
     "metadata": {},
     "output_type": "execute_result"
    }
   ],
   "source": [
    " df1.sample(5)"
   ]
  },
  {
   "cell_type": "code",
   "execution_count": 22,
   "id": "9f21da35",
   "metadata": {
    "ExecuteTime": {
     "end_time": "2021-12-14T13:46:08.979004Z",
     "start_time": "2021-12-14T13:46:08.885959Z"
    },
    "hidden": true
   },
   "outputs": [
    {
     "data": {
      "text/html": [
       "<div>\n",
       "<style scoped>\n",
       "    .dataframe tbody tr th:only-of-type {\n",
       "        vertical-align: middle;\n",
       "    }\n",
       "\n",
       "    .dataframe tbody tr th {\n",
       "        vertical-align: top;\n",
       "    }\n",
       "\n",
       "    .dataframe thead th {\n",
       "        text-align: right;\n",
       "    }\n",
       "</style>\n",
       "<table border=\"1\" class=\"dataframe\">\n",
       "  <thead>\n",
       "    <tr style=\"text-align: right;\">\n",
       "      <th></th>\n",
       "      <th>1015687</th>\n",
       "      <th>609073</th>\n",
       "      <th>285790</th>\n",
       "      <th>427073</th>\n",
       "      <th>889382</th>\n",
       "    </tr>\n",
       "  </thead>\n",
       "  <tbody>\n",
       "    <tr>\n",
       "      <th>store</th>\n",
       "      <td>708</td>\n",
       "      <td>1069</td>\n",
       "      <td>948</td>\n",
       "      <td>814</td>\n",
       "      <td>398</td>\n",
       "    </tr>\n",
       "    <tr>\n",
       "      <th>day_of_week</th>\n",
       "      <td>3</td>\n",
       "      <td>4</td>\n",
       "      <td>7</td>\n",
       "      <td>6</td>\n",
       "      <td>4</td>\n",
       "    </tr>\n",
       "    <tr>\n",
       "      <th>date</th>\n",
       "      <td>2013-01-02 00:00:00</td>\n",
       "      <td>2014-01-02 00:00:00</td>\n",
       "      <td>2014-11-09 00:00:00</td>\n",
       "      <td>2014-06-14 00:00:00</td>\n",
       "      <td>2013-04-25 00:00:00</td>\n",
       "    </tr>\n",
       "    <tr>\n",
       "      <th>sales</th>\n",
       "      <td>1942</td>\n",
       "      <td>5605</td>\n",
       "      <td>8658</td>\n",
       "      <td>6091</td>\n",
       "      <td>4571</td>\n",
       "    </tr>\n",
       "    <tr>\n",
       "      <th>customers</th>\n",
       "      <td>292</td>\n",
       "      <td>754</td>\n",
       "      <td>1682</td>\n",
       "      <td>526</td>\n",
       "      <td>533</td>\n",
       "    </tr>\n",
       "    <tr>\n",
       "      <th>open</th>\n",
       "      <td>1</td>\n",
       "      <td>1</td>\n",
       "      <td>1</td>\n",
       "      <td>1</td>\n",
       "      <td>1</td>\n",
       "    </tr>\n",
       "    <tr>\n",
       "      <th>promo</th>\n",
       "      <td>0</td>\n",
       "      <td>0</td>\n",
       "      <td>0</td>\n",
       "      <td>0</td>\n",
       "      <td>1</td>\n",
       "    </tr>\n",
       "    <tr>\n",
       "      <th>state_holiday</th>\n",
       "      <td>0</td>\n",
       "      <td>0</td>\n",
       "      <td>0</td>\n",
       "      <td>0</td>\n",
       "      <td>0</td>\n",
       "    </tr>\n",
       "    <tr>\n",
       "      <th>school_holiday</th>\n",
       "      <td>1</td>\n",
       "      <td>1</td>\n",
       "      <td>0</td>\n",
       "      <td>0</td>\n",
       "      <td>0</td>\n",
       "    </tr>\n",
       "    <tr>\n",
       "      <th>store_type</th>\n",
       "      <td>c</td>\n",
       "      <td>a</td>\n",
       "      <td>b</td>\n",
       "      <td>d</td>\n",
       "      <td>c</td>\n",
       "    </tr>\n",
       "    <tr>\n",
       "      <th>assortment</th>\n",
       "      <td>c</td>\n",
       "      <td>c</td>\n",
       "      <td>b</td>\n",
       "      <td>c</td>\n",
       "      <td>c</td>\n",
       "    </tr>\n",
       "    <tr>\n",
       "      <th>competition_distance</th>\n",
       "      <td>11470.0</td>\n",
       "      <td>18050.0</td>\n",
       "      <td>1430.0</td>\n",
       "      <td>24530.0</td>\n",
       "      <td>1540.0</td>\n",
       "    </tr>\n",
       "    <tr>\n",
       "      <th>competition_open_since_month</th>\n",
       "      <td>10.0</td>\n",
       "      <td>1.0</td>\n",
       "      <td>11.0</td>\n",
       "      <td>7.0</td>\n",
       "      <td>4.0</td>\n",
       "    </tr>\n",
       "    <tr>\n",
       "      <th>competition_open_since_year</th>\n",
       "      <td>2009.0</td>\n",
       "      <td>2014.0</td>\n",
       "      <td>2014.0</td>\n",
       "      <td>2013.0</td>\n",
       "      <td>2013.0</td>\n",
       "    </tr>\n",
       "    <tr>\n",
       "      <th>promo2</th>\n",
       "      <td>1</td>\n",
       "      <td>1</td>\n",
       "      <td>0</td>\n",
       "      <td>0</td>\n",
       "      <td>1</td>\n",
       "    </tr>\n",
       "    <tr>\n",
       "      <th>promo2_since_week</th>\n",
       "      <td>18.0</td>\n",
       "      <td>14.0</td>\n",
       "      <td>45.0</td>\n",
       "      <td>24.0</td>\n",
       "      <td>1.0</td>\n",
       "    </tr>\n",
       "    <tr>\n",
       "      <th>promo2_since_year</th>\n",
       "      <td>2014.0</td>\n",
       "      <td>2011.0</td>\n",
       "      <td>2014.0</td>\n",
       "      <td>2014.0</td>\n",
       "      <td>2012.0</td>\n",
       "    </tr>\n",
       "    <tr>\n",
       "      <th>promo_interval</th>\n",
       "      <td>Jan,Apr,Jul,Oct</td>\n",
       "      <td>Jan,Apr,Jul,Oct</td>\n",
       "      <td>0</td>\n",
       "      <td>0</td>\n",
       "      <td>Jan,Apr,Jul,Oct</td>\n",
       "    </tr>\n",
       "    <tr>\n",
       "      <th>month_map</th>\n",
       "      <td>Jan</td>\n",
       "      <td>Jan</td>\n",
       "      <td>Nov</td>\n",
       "      <td>Jun</td>\n",
       "      <td>Apr</td>\n",
       "    </tr>\n",
       "    <tr>\n",
       "      <th>is_promo</th>\n",
       "      <td>1</td>\n",
       "      <td>1</td>\n",
       "      <td>0</td>\n",
       "      <td>0</td>\n",
       "      <td>1</td>\n",
       "    </tr>\n",
       "  </tbody>\n",
       "</table>\n",
       "</div>"
      ],
      "text/plain": [
       "                                          1015687              609073   \\\n",
       "store                                         708                 1069   \n",
       "day_of_week                                     3                    4   \n",
       "date                          2013-01-02 00:00:00  2014-01-02 00:00:00   \n",
       "sales                                        1942                 5605   \n",
       "customers                                     292                  754   \n",
       "open                                            1                    1   \n",
       "promo                                           0                    0   \n",
       "state_holiday                                   0                    0   \n",
       "school_holiday                                  1                    1   \n",
       "store_type                                      c                    a   \n",
       "assortment                                      c                    c   \n",
       "competition_distance                      11470.0              18050.0   \n",
       "competition_open_since_month                 10.0                  1.0   \n",
       "competition_open_since_year                2009.0               2014.0   \n",
       "promo2                                          1                    1   \n",
       "promo2_since_week                            18.0                 14.0   \n",
       "promo2_since_year                          2014.0               2011.0   \n",
       "promo_interval                    Jan,Apr,Jul,Oct      Jan,Apr,Jul,Oct   \n",
       "month_map                                     Jan                  Jan   \n",
       "is_promo                                        1                    1   \n",
       "\n",
       "                                          285790               427073   \\\n",
       "store                                         948                  814   \n",
       "day_of_week                                     7                    6   \n",
       "date                          2014-11-09 00:00:00  2014-06-14 00:00:00   \n",
       "sales                                        8658                 6091   \n",
       "customers                                    1682                  526   \n",
       "open                                            1                    1   \n",
       "promo                                           0                    0   \n",
       "state_holiday                                   0                    0   \n",
       "school_holiday                                  0                    0   \n",
       "store_type                                      b                    d   \n",
       "assortment                                      b                    c   \n",
       "competition_distance                       1430.0              24530.0   \n",
       "competition_open_since_month                 11.0                  7.0   \n",
       "competition_open_since_year                2014.0               2013.0   \n",
       "promo2                                          0                    0   \n",
       "promo2_since_week                            45.0                 24.0   \n",
       "promo2_since_year                          2014.0               2014.0   \n",
       "promo_interval                                  0                    0   \n",
       "month_map                                     Nov                  Jun   \n",
       "is_promo                                        0                    0   \n",
       "\n",
       "                                          889382   \n",
       "store                                         398  \n",
       "day_of_week                                     4  \n",
       "date                          2013-04-25 00:00:00  \n",
       "sales                                        4571  \n",
       "customers                                     533  \n",
       "open                                            1  \n",
       "promo                                           1  \n",
       "state_holiday                                   0  \n",
       "school_holiday                                  0  \n",
       "store_type                                      c  \n",
       "assortment                                      c  \n",
       "competition_distance                       1540.0  \n",
       "competition_open_since_month                  4.0  \n",
       "competition_open_since_year                2013.0  \n",
       "promo2                                          1  \n",
       "promo2_since_week                             1.0  \n",
       "promo2_since_year                          2012.0  \n",
       "promo_interval                    Jan,Apr,Jul,Oct  \n",
       "month_map                                     Apr  \n",
       "is_promo                                        1  "
      ]
     },
     "execution_count": 22,
     "metadata": {},
     "output_type": "execute_result"
    }
   ],
   "source": [
    " df1.sample(5).T"
   ]
  },
  {
   "cell_type": "markdown",
   "id": "5465c9a5",
   "metadata": {
    "heading_collapsed": true,
    "hidden": true
   },
   "source": [
    "## Change Types"
   ]
  },
  {
   "cell_type": "code",
   "execution_count": 23,
   "id": "beac07c9",
   "metadata": {
    "ExecuteTime": {
     "end_time": "2021-12-14T13:46:09.003536Z",
     "start_time": "2021-12-14T13:46:08.986984Z"
    },
    "hidden": true
   },
   "outputs": [
    {
     "data": {
      "text/plain": [
       "store                                    int64\n",
       "day_of_week                              int64\n",
       "date                            datetime64[ns]\n",
       "sales                                    int64\n",
       "customers                                int64\n",
       "open                                     int64\n",
       "promo                                    int64\n",
       "state_holiday                           object\n",
       "school_holiday                           int64\n",
       "store_type                              object\n",
       "assortment                              object\n",
       "competition_distance                   float64\n",
       "competition_open_since_month           float64\n",
       "competition_open_since_year            float64\n",
       "promo2                                   int64\n",
       "promo2_since_week                      float64\n",
       "promo2_since_year                      float64\n",
       "promo_interval                          object\n",
       "month_map                               object\n",
       "is_promo                                 int64\n",
       "dtype: object"
      ]
     },
     "execution_count": 23,
     "metadata": {},
     "output_type": "execute_result"
    }
   ],
   "source": [
    "# Como fizemos alteração nas colunas, é importante conferir se não mudou o formato das colnas\n",
    "df1.dtypes"
   ]
  },
  {
   "cell_type": "code",
   "execution_count": 24,
   "id": "52572afc",
   "metadata": {
    "ExecuteTime": {
     "end_time": "2021-12-14T13:46:09.117307Z",
     "start_time": "2021-12-14T13:46:09.011765Z"
    },
    "hidden": true
   },
   "outputs": [],
   "source": [
    "#converter de float pra int\n",
    "df1['competition_open_since_month'] = df1['competition_open_since_month'].astype( int )\n",
    "df1['competition_open_since_year'] = df1['competition_open_since_year'].astype( int )\n",
    "df1['promo2_since_week'] = df1['promo2_since_week'].astype( int )\n",
    "df1['promo2_since_year'] = df1['promo2_since_year'].astype( int )"
   ]
  },
  {
   "cell_type": "markdown",
   "id": "148879c7",
   "metadata": {
    "heading_collapsed": true,
    "hidden": true
   },
   "source": [
    "## Descriptive Statistical"
   ]
  },
  {
   "cell_type": "markdown",
   "id": "e2ce1a75",
   "metadata": {
    "hidden": true
   },
   "source": [
    "Serve para 2 coisas:\n",
    " - 1  Termos alguma noção de negócios pelos dados\n",
    " - 2  Conseguirmos detectar alguns erros (venda negativa por ex..)"
   ]
  },
  {
   "cell_type": "markdown",
   "id": "a9c5db5a",
   "metadata": {
    "hidden": true
   },
   "source": [
    "Métricas de tendência central: média e mediana (resumem dados em um único número)\n",
    "Metricas de dispersão: desvio padrão, min, max, range, skew, kurtosis"
   ]
  },
  {
   "cell_type": "code",
   "execution_count": 25,
   "id": "c8172eba",
   "metadata": {
    "ExecuteTime": {
     "end_time": "2021-12-14T13:46:09.486184Z",
     "start_time": "2021-12-14T13:46:09.122350Z"
    },
    "code_folding": [
     0
    ],
    "hidden": true
   },
   "outputs": [],
   "source": [
    "#separa colunas numéricas e categóricas, pra aplicar a estatística em cada conjunto:\n",
    "num_attributes = df1.select_dtypes ( include=['int64','float64'] )\n",
    "cat_attributes = df1.select_dtypes ( exclude=['int64','float64','datetime64[ns]'] )"
   ]
  },
  {
   "cell_type": "code",
   "execution_count": 26,
   "id": "77eb5175",
   "metadata": {
    "ExecuteTime": {
     "end_time": "2021-12-14T13:46:09.687734Z",
     "start_time": "2021-12-14T13:46:09.490635Z"
    },
    "hidden": true
   },
   "outputs": [
    {
     "data": {
      "text/html": [
       "<div>\n",
       "<style scoped>\n",
       "    .dataframe tbody tr th:only-of-type {\n",
       "        vertical-align: middle;\n",
       "    }\n",
       "\n",
       "    .dataframe tbody tr th {\n",
       "        vertical-align: top;\n",
       "    }\n",
       "\n",
       "    .dataframe thead th {\n",
       "        text-align: right;\n",
       "    }\n",
       "</style>\n",
       "<table border=\"1\" class=\"dataframe\">\n",
       "  <thead>\n",
       "    <tr style=\"text-align: right;\">\n",
       "      <th></th>\n",
       "      <th>store</th>\n",
       "      <th>day_of_week</th>\n",
       "      <th>sales</th>\n",
       "      <th>customers</th>\n",
       "      <th>open</th>\n",
       "      <th>promo</th>\n",
       "      <th>school_holiday</th>\n",
       "      <th>competition_distance</th>\n",
       "      <th>competition_open_since_month</th>\n",
       "      <th>competition_open_since_year</th>\n",
       "      <th>promo2</th>\n",
       "      <th>promo2_since_week</th>\n",
       "      <th>promo2_since_year</th>\n",
       "      <th>is_promo</th>\n",
       "    </tr>\n",
       "  </thead>\n",
       "  <tbody>\n",
       "    <tr>\n",
       "      <th>629337</th>\n",
       "      <td>148</td>\n",
       "      <td>6</td>\n",
       "      <td>8622</td>\n",
       "      <td>802</td>\n",
       "      <td>1</td>\n",
       "      <td>0</td>\n",
       "      <td>0</td>\n",
       "      <td>2090.0</td>\n",
       "      <td>12</td>\n",
       "      <td>2008</td>\n",
       "      <td>0</td>\n",
       "      <td>50</td>\n",
       "      <td>2013</td>\n",
       "      <td>0</td>\n",
       "    </tr>\n",
       "    <tr>\n",
       "      <th>665588</th>\n",
       "      <td>719</td>\n",
       "      <td>2</td>\n",
       "      <td>3699</td>\n",
       "      <td>337</td>\n",
       "      <td>1</td>\n",
       "      <td>0</td>\n",
       "      <td>0</td>\n",
       "      <td>8190.0</td>\n",
       "      <td>11</td>\n",
       "      <td>2013</td>\n",
       "      <td>1</td>\n",
       "      <td>45</td>\n",
       "      <td>2009</td>\n",
       "      <td>1</td>\n",
       "    </tr>\n",
       "    <tr>\n",
       "      <th>454910</th>\n",
       "      <td>776</td>\n",
       "      <td>2</td>\n",
       "      <td>4982</td>\n",
       "      <td>544</td>\n",
       "      <td>1</td>\n",
       "      <td>1</td>\n",
       "      <td>0</td>\n",
       "      <td>700.0</td>\n",
       "      <td>4</td>\n",
       "      <td>2009</td>\n",
       "      <td>1</td>\n",
       "      <td>14</td>\n",
       "      <td>2011</td>\n",
       "      <td>0</td>\n",
       "    </tr>\n",
       "    <tr>\n",
       "      <th>691745</th>\n",
       "      <td>116</td>\n",
       "      <td>6</td>\n",
       "      <td>5627</td>\n",
       "      <td>585</td>\n",
       "      <td>1</td>\n",
       "      <td>0</td>\n",
       "      <td>0</td>\n",
       "      <td>680.0</td>\n",
       "      <td>4</td>\n",
       "      <td>2013</td>\n",
       "      <td>0</td>\n",
       "      <td>42</td>\n",
       "      <td>2013</td>\n",
       "      <td>0</td>\n",
       "    </tr>\n",
       "    <tr>\n",
       "      <th>643166</th>\n",
       "      <td>597</td>\n",
       "      <td>1</td>\n",
       "      <td>8364</td>\n",
       "      <td>1069</td>\n",
       "      <td>1</td>\n",
       "      <td>1</td>\n",
       "      <td>0</td>\n",
       "      <td>150.0</td>\n",
       "      <td>9</td>\n",
       "      <td>2008</td>\n",
       "      <td>1</td>\n",
       "      <td>1</td>\n",
       "      <td>2012</td>\n",
       "      <td>1</td>\n",
       "    </tr>\n",
       "  </tbody>\n",
       "</table>\n",
       "</div>"
      ],
      "text/plain": [
       "        store  day_of_week  sales  customers  open  promo  school_holiday  \\\n",
       "629337    148            6   8622        802     1      0               0   \n",
       "665588    719            2   3699        337     1      0               0   \n",
       "454910    776            2   4982        544     1      1               0   \n",
       "691745    116            6   5627        585     1      0               0   \n",
       "643166    597            1   8364       1069     1      1               0   \n",
       "\n",
       "        competition_distance  competition_open_since_month  \\\n",
       "629337                2090.0                            12   \n",
       "665588                8190.0                            11   \n",
       "454910                 700.0                             4   \n",
       "691745                 680.0                             4   \n",
       "643166                 150.0                             9   \n",
       "\n",
       "        competition_open_since_year  promo2  promo2_since_week  \\\n",
       "629337                         2008       0                 50   \n",
       "665588                         2013       1                 45   \n",
       "454910                         2009       1                 14   \n",
       "691745                         2013       0                 42   \n",
       "643166                         2008       1                  1   \n",
       "\n",
       "        promo2_since_year  is_promo  \n",
       "629337               2013         0  \n",
       "665588               2009         1  \n",
       "454910               2011         0  \n",
       "691745               2013         0  \n",
       "643166               2012         1  "
      ]
     },
     "execution_count": 26,
     "metadata": {},
     "output_type": "execute_result"
    }
   ],
   "source": [
    "num_attributes.sample(5)"
   ]
  },
  {
   "cell_type": "code",
   "execution_count": 27,
   "id": "82449ec5",
   "metadata": {
    "ExecuteTime": {
     "end_time": "2021-12-14T13:46:09.821226Z",
     "start_time": "2021-12-14T13:46:09.696922Z"
    },
    "hidden": true
   },
   "outputs": [
    {
     "data": {
      "text/html": [
       "<div>\n",
       "<style scoped>\n",
       "    .dataframe tbody tr th:only-of-type {\n",
       "        vertical-align: middle;\n",
       "    }\n",
       "\n",
       "    .dataframe tbody tr th {\n",
       "        vertical-align: top;\n",
       "    }\n",
       "\n",
       "    .dataframe thead th {\n",
       "        text-align: right;\n",
       "    }\n",
       "</style>\n",
       "<table border=\"1\" class=\"dataframe\">\n",
       "  <thead>\n",
       "    <tr style=\"text-align: right;\">\n",
       "      <th></th>\n",
       "      <th>state_holiday</th>\n",
       "      <th>store_type</th>\n",
       "      <th>assortment</th>\n",
       "      <th>promo_interval</th>\n",
       "      <th>month_map</th>\n",
       "    </tr>\n",
       "  </thead>\n",
       "  <tbody>\n",
       "    <tr>\n",
       "      <th>337768</th>\n",
       "      <td>0</td>\n",
       "      <td>a</td>\n",
       "      <td>c</td>\n",
       "      <td>0</td>\n",
       "      <td>Sept</td>\n",
       "    </tr>\n",
       "    <tr>\n",
       "      <th>715912</th>\n",
       "      <td>0</td>\n",
       "      <td>d</td>\n",
       "      <td>c</td>\n",
       "      <td>Jan,Apr,Jul,Oct</td>\n",
       "      <td>Sept</td>\n",
       "    </tr>\n",
       "    <tr>\n",
       "      <th>128481</th>\n",
       "      <td>0</td>\n",
       "      <td>a</td>\n",
       "      <td>a</td>\n",
       "      <td>0</td>\n",
       "      <td>Apr</td>\n",
       "    </tr>\n",
       "    <tr>\n",
       "      <th>401898</th>\n",
       "      <td>0</td>\n",
       "      <td>a</td>\n",
       "      <td>a</td>\n",
       "      <td>Jan,Apr,Jul,Oct</td>\n",
       "      <td>Jul</td>\n",
       "    </tr>\n",
       "    <tr>\n",
       "      <th>963089</th>\n",
       "      <td>0</td>\n",
       "      <td>d</td>\n",
       "      <td>c</td>\n",
       "      <td>Feb,May,Aug,Nov</td>\n",
       "      <td>Feb</td>\n",
       "    </tr>\n",
       "  </tbody>\n",
       "</table>\n",
       "</div>"
      ],
      "text/plain": [
       "       state_holiday store_type assortment   promo_interval month_map\n",
       "337768             0          a          c                0      Sept\n",
       "715912             0          d          c  Jan,Apr,Jul,Oct      Sept\n",
       "128481             0          a          a                0       Apr\n",
       "401898             0          a          a  Jan,Apr,Jul,Oct       Jul\n",
       "963089             0          d          c  Feb,May,Aug,Nov       Feb"
      ]
     },
     "execution_count": 27,
     "metadata": {},
     "output_type": "execute_result"
    }
   ],
   "source": [
    "cat_attributes.sample(5)"
   ]
  },
  {
   "cell_type": "markdown",
   "id": "ebc5e083",
   "metadata": {
    "ExecuteTime": {
     "end_time": "2021-12-12T18:20:13.368329Z",
     "start_time": "2021-12-12T18:20:13.363836Z"
    },
    "hidden": true
   },
   "source": [
    "### Numerical Attibures"
   ]
  },
  {
   "cell_type": "code",
   "execution_count": 28,
   "id": "d19cf0df",
   "metadata": {
    "ExecuteTime": {
     "end_time": "2021-12-14T13:46:14.714334Z",
     "start_time": "2021-12-14T13:46:09.825558Z"
    },
    "hidden": true
   },
   "outputs": [],
   "source": [
    "#Métricas de tendência central: média e mediana\n",
    "ct1 = pd.DataFrame ( num_attributes.apply ( np.mean ) ).T\n",
    "ct2 = pd.DataFrame ( num_attributes.apply ( np.median ) ).T\n",
    "\n",
    "#Metricas de dispersão: desvio padrão, min, max, range, skew, kurtosis\n",
    "d1 = pd.DataFrame ( num_attributes.apply ( np.std ) ).T\n",
    "d2 = pd.DataFrame ( num_attributes.apply ( min ) ).T\n",
    "d3 = pd.DataFrame ( num_attributes.apply ( max ) ).T\n",
    "d4 = pd.DataFrame ( num_attributes.apply ( lambda x: x.max() - x.min() ) ).T\n",
    "d5 = pd.DataFrame ( num_attributes.apply ( lambda x: x.skew() ) ).T\n",
    "d6 = pd.DataFrame ( num_attributes.apply ( lambda x: x.kurtosis() ) ).T\n",
    "\n",
    "#concatenate\n",
    "m = pd.concat( [d2, d3, d4, ct1, ct2, d1, d5, d6 ] ).T.reset_index() \n",
    "m.columns = ['attributes', 'min', 'max', 'range', 'mean', 'median', 'std', 'skew', 'kurtosis' ]"
   ]
  },
  {
   "cell_type": "code",
   "execution_count": 29,
   "id": "3553a018",
   "metadata": {
    "ExecuteTime": {
     "end_time": "2021-12-14T13:46:14.775654Z",
     "start_time": "2021-12-14T13:46:14.718116Z"
    },
    "hidden": true,
    "scrolled": true
   },
   "outputs": [
    {
     "data": {
      "text/html": [
       "<div>\n",
       "<style scoped>\n",
       "    .dataframe tbody tr th:only-of-type {\n",
       "        vertical-align: middle;\n",
       "    }\n",
       "\n",
       "    .dataframe tbody tr th {\n",
       "        vertical-align: top;\n",
       "    }\n",
       "\n",
       "    .dataframe thead th {\n",
       "        text-align: right;\n",
       "    }\n",
       "</style>\n",
       "<table border=\"1\" class=\"dataframe\">\n",
       "  <thead>\n",
       "    <tr style=\"text-align: right;\">\n",
       "      <th></th>\n",
       "      <th>attributes</th>\n",
       "      <th>min</th>\n",
       "      <th>max</th>\n",
       "      <th>range</th>\n",
       "      <th>mean</th>\n",
       "      <th>median</th>\n",
       "      <th>std</th>\n",
       "      <th>skew</th>\n",
       "      <th>kurtosis</th>\n",
       "    </tr>\n",
       "  </thead>\n",
       "  <tbody>\n",
       "    <tr>\n",
       "      <th>0</th>\n",
       "      <td>store</td>\n",
       "      <td>1.0</td>\n",
       "      <td>1115.0</td>\n",
       "      <td>1114.0</td>\n",
       "      <td>558.429727</td>\n",
       "      <td>558.0</td>\n",
       "      <td>321.908493</td>\n",
       "      <td>-0.000955</td>\n",
       "      <td>-1.200524</td>\n",
       "    </tr>\n",
       "    <tr>\n",
       "      <th>1</th>\n",
       "      <td>day_of_week</td>\n",
       "      <td>1.0</td>\n",
       "      <td>7.0</td>\n",
       "      <td>6.0</td>\n",
       "      <td>3.998341</td>\n",
       "      <td>4.0</td>\n",
       "      <td>1.997390</td>\n",
       "      <td>0.001593</td>\n",
       "      <td>-1.246873</td>\n",
       "    </tr>\n",
       "    <tr>\n",
       "      <th>2</th>\n",
       "      <td>sales</td>\n",
       "      <td>0.0</td>\n",
       "      <td>41551.0</td>\n",
       "      <td>41551.0</td>\n",
       "      <td>5773.818972</td>\n",
       "      <td>5744.0</td>\n",
       "      <td>3849.924283</td>\n",
       "      <td>0.641460</td>\n",
       "      <td>1.778375</td>\n",
       "    </tr>\n",
       "    <tr>\n",
       "      <th>3</th>\n",
       "      <td>customers</td>\n",
       "      <td>0.0</td>\n",
       "      <td>7388.0</td>\n",
       "      <td>7388.0</td>\n",
       "      <td>633.145946</td>\n",
       "      <td>609.0</td>\n",
       "      <td>464.411506</td>\n",
       "      <td>1.598650</td>\n",
       "      <td>7.091773</td>\n",
       "    </tr>\n",
       "    <tr>\n",
       "      <th>4</th>\n",
       "      <td>open</td>\n",
       "      <td>0.0</td>\n",
       "      <td>1.0</td>\n",
       "      <td>1.0</td>\n",
       "      <td>0.830107</td>\n",
       "      <td>1.0</td>\n",
       "      <td>0.375539</td>\n",
       "      <td>-1.758045</td>\n",
       "      <td>1.090723</td>\n",
       "    </tr>\n",
       "    <tr>\n",
       "      <th>5</th>\n",
       "      <td>promo</td>\n",
       "      <td>0.0</td>\n",
       "      <td>1.0</td>\n",
       "      <td>1.0</td>\n",
       "      <td>0.381515</td>\n",
       "      <td>0.0</td>\n",
       "      <td>0.485758</td>\n",
       "      <td>0.487838</td>\n",
       "      <td>-1.762018</td>\n",
       "    </tr>\n",
       "    <tr>\n",
       "      <th>6</th>\n",
       "      <td>school_holiday</td>\n",
       "      <td>0.0</td>\n",
       "      <td>1.0</td>\n",
       "      <td>1.0</td>\n",
       "      <td>0.178647</td>\n",
       "      <td>0.0</td>\n",
       "      <td>0.383056</td>\n",
       "      <td>1.677842</td>\n",
       "      <td>0.815154</td>\n",
       "    </tr>\n",
       "    <tr>\n",
       "      <th>7</th>\n",
       "      <td>competition_distance</td>\n",
       "      <td>20.0</td>\n",
       "      <td>200000.0</td>\n",
       "      <td>199980.0</td>\n",
       "      <td>5935.442677</td>\n",
       "      <td>2330.0</td>\n",
       "      <td>12547.646829</td>\n",
       "      <td>10.242344</td>\n",
       "      <td>147.789712</td>\n",
       "    </tr>\n",
       "    <tr>\n",
       "      <th>8</th>\n",
       "      <td>competition_open_since_month</td>\n",
       "      <td>1.0</td>\n",
       "      <td>12.0</td>\n",
       "      <td>11.0</td>\n",
       "      <td>6.786849</td>\n",
       "      <td>7.0</td>\n",
       "      <td>3.311085</td>\n",
       "      <td>-0.042076</td>\n",
       "      <td>-1.232607</td>\n",
       "    </tr>\n",
       "    <tr>\n",
       "      <th>9</th>\n",
       "      <td>competition_open_since_year</td>\n",
       "      <td>1900.0</td>\n",
       "      <td>2015.0</td>\n",
       "      <td>115.0</td>\n",
       "      <td>2010.324840</td>\n",
       "      <td>2012.0</td>\n",
       "      <td>5.515591</td>\n",
       "      <td>-7.235657</td>\n",
       "      <td>124.071304</td>\n",
       "    </tr>\n",
       "    <tr>\n",
       "      <th>10</th>\n",
       "      <td>promo2</td>\n",
       "      <td>0.0</td>\n",
       "      <td>1.0</td>\n",
       "      <td>1.0</td>\n",
       "      <td>0.500564</td>\n",
       "      <td>1.0</td>\n",
       "      <td>0.500000</td>\n",
       "      <td>-0.002255</td>\n",
       "      <td>-1.999999</td>\n",
       "    </tr>\n",
       "    <tr>\n",
       "      <th>11</th>\n",
       "      <td>promo2_since_week</td>\n",
       "      <td>1.0</td>\n",
       "      <td>52.0</td>\n",
       "      <td>51.0</td>\n",
       "      <td>23.619033</td>\n",
       "      <td>22.0</td>\n",
       "      <td>14.310057</td>\n",
       "      <td>0.178723</td>\n",
       "      <td>-1.184046</td>\n",
       "    </tr>\n",
       "    <tr>\n",
       "      <th>12</th>\n",
       "      <td>promo2_since_year</td>\n",
       "      <td>2009.0</td>\n",
       "      <td>2015.0</td>\n",
       "      <td>6.0</td>\n",
       "      <td>2012.793297</td>\n",
       "      <td>2013.0</td>\n",
       "      <td>1.662657</td>\n",
       "      <td>-0.784436</td>\n",
       "      <td>-0.210075</td>\n",
       "    </tr>\n",
       "    <tr>\n",
       "      <th>13</th>\n",
       "      <td>is_promo</td>\n",
       "      <td>0.0</td>\n",
       "      <td>1.0</td>\n",
       "      <td>1.0</td>\n",
       "      <td>0.155134</td>\n",
       "      <td>0.0</td>\n",
       "      <td>0.362033</td>\n",
       "      <td>1.905166</td>\n",
       "      <td>1.629662</td>\n",
       "    </tr>\n",
       "  </tbody>\n",
       "</table>\n",
       "</div>"
      ],
      "text/plain": [
       "                      attributes     min       max     range         mean  \\\n",
       "0                          store     1.0    1115.0    1114.0   558.429727   \n",
       "1                    day_of_week     1.0       7.0       6.0     3.998341   \n",
       "2                          sales     0.0   41551.0   41551.0  5773.818972   \n",
       "3                      customers     0.0    7388.0    7388.0   633.145946   \n",
       "4                           open     0.0       1.0       1.0     0.830107   \n",
       "5                          promo     0.0       1.0       1.0     0.381515   \n",
       "6                 school_holiday     0.0       1.0       1.0     0.178647   \n",
       "7           competition_distance    20.0  200000.0  199980.0  5935.442677   \n",
       "8   competition_open_since_month     1.0      12.0      11.0     6.786849   \n",
       "9    competition_open_since_year  1900.0    2015.0     115.0  2010.324840   \n",
       "10                        promo2     0.0       1.0       1.0     0.500564   \n",
       "11             promo2_since_week     1.0      52.0      51.0    23.619033   \n",
       "12             promo2_since_year  2009.0    2015.0       6.0  2012.793297   \n",
       "13                      is_promo     0.0       1.0       1.0     0.155134   \n",
       "\n",
       "    median           std       skew    kurtosis  \n",
       "0    558.0    321.908493  -0.000955   -1.200524  \n",
       "1      4.0      1.997390   0.001593   -1.246873  \n",
       "2   5744.0   3849.924283   0.641460    1.778375  \n",
       "3    609.0    464.411506   1.598650    7.091773  \n",
       "4      1.0      0.375539  -1.758045    1.090723  \n",
       "5      0.0      0.485758   0.487838   -1.762018  \n",
       "6      0.0      0.383056   1.677842    0.815154  \n",
       "7   2330.0  12547.646829  10.242344  147.789712  \n",
       "8      7.0      3.311085  -0.042076   -1.232607  \n",
       "9   2012.0      5.515591  -7.235657  124.071304  \n",
       "10     1.0      0.500000  -0.002255   -1.999999  \n",
       "11    22.0     14.310057   0.178723   -1.184046  \n",
       "12  2013.0      1.662657  -0.784436   -0.210075  \n",
       "13     0.0      0.362033   1.905166    1.629662  "
      ]
     },
     "execution_count": 29,
     "metadata": {},
     "output_type": "execute_result"
    }
   ],
   "source": [
    "#Análise geral:\n",
    "m"
   ]
  },
  {
   "cell_type": "code",
   "execution_count": 30,
   "id": "e781d3eb",
   "metadata": {
    "ExecuteTime": {
     "end_time": "2021-12-14T13:46:15.028949Z",
     "start_time": "2021-12-14T13:46:14.782701Z"
    },
    "hidden": true
   },
   "outputs": [],
   "source": [
    "#Anlálise de SALES\n",
    "\n",
    "#Vou retirar as vendas = 0 pra analisar o gráfico mais limpo:\n",
    "df_sales_pos = df1.loc[ df1['sales'] > 0 ]"
   ]
  },
  {
   "cell_type": "code",
   "execution_count": 31,
   "id": "7c4ecddc",
   "metadata": {
    "ExecuteTime": {
     "end_time": "2021-12-14T13:46:17.760012Z",
     "start_time": "2021-12-14T13:46:15.031905Z"
    },
    "hidden": true
   },
   "outputs": [
    {
     "data": {
      "image/png": "[encoded data removed]",
      "text/plain": [
       "<Figure size 360x360 with 1 Axes>"
      ]
     },
     "metadata": {
      "needs_background": "light"
     },
     "output_type": "display_data"
    }
   ],
   "source": [
    "p = sns.displot ( df_sales_pos['sales'] )\n",
    "#p.fig.set_dpi(100)\n",
    "plt.show()"
   ]
  },
  {
   "cell_type": "code",
   "execution_count": 32,
   "id": "87a4900a",
   "metadata": {
    "ExecuteTime": {
     "end_time": "2021-12-14T13:46:20.629455Z",
     "start_time": "2021-12-14T13:46:17.765568Z"
    },
    "hidden": true
   },
   "outputs": [
    {
     "data": {
      "image/png": "[encoded data removed]",
      "text/plain": [
       "<Figure size 500x500 with 1 Axes>"
      ]
     },
     "metadata": {
      "needs_background": "light"
     },
     "output_type": "display_data"
    }
   ],
   "source": [
    "#Abaixo, ploto o gráfico do Sales original, porque o m que estou analistando \n",
    "# considera os zeros nas vendas também!\n",
    "p = sns.displot ( df1['sales'] )\n",
    "p.fig.set_dpi(100)\n",
    "plt.show()"
   ]
  },
  {
   "cell_type": "markdown",
   "id": "860df4a7",
   "metadata": {
    "hidden": true
   },
   "source": [
    "ANÁLISE SALES:\n",
    "\n",
    "- Média e mediana bem próximas, não vai ter deslocamento da distribuição muito grande, vide skew.\n",
    "- Skew 0.6 positivo (deslocamento leve para esquerda), mas bem próximo a zero, logo distribuição bem próxima de uma normal. \n",
    "- Kurtosis 1.77 positiva, próxima de 2, tem um pico grande.\n",
    "- A média é de 5773 vendas/dia, e o std de 3850: Isto significa que em 78% dos dias (±1 std), temos entre 1923 (5773-3850) e 9.623 (5773+3850) vendas."
   ]
  },
  {
   "cell_type": "code",
   "execution_count": 33,
   "id": "db7c7c72",
   "metadata": {
    "ExecuteTime": {
     "end_time": "2021-12-14T13:46:20.676526Z",
     "start_time": "2021-12-14T13:46:20.633294Z"
    },
    "hidden": true
   },
   "outputs": [
    {
     "data": {
      "text/html": [
       "<div>\n",
       "<style scoped>\n",
       "    .dataframe tbody tr th:only-of-type {\n",
       "        vertical-align: middle;\n",
       "    }\n",
       "\n",
       "    .dataframe tbody tr th {\n",
       "        vertical-align: top;\n",
       "    }\n",
       "\n",
       "    .dataframe thead th {\n",
       "        text-align: right;\n",
       "    }\n",
       "</style>\n",
       "<table border=\"1\" class=\"dataframe\">\n",
       "  <thead>\n",
       "    <tr style=\"text-align: right;\">\n",
       "      <th></th>\n",
       "      <th>attributes</th>\n",
       "      <th>min</th>\n",
       "      <th>max</th>\n",
       "      <th>range</th>\n",
       "      <th>mean</th>\n",
       "      <th>median</th>\n",
       "      <th>std</th>\n",
       "      <th>skew</th>\n",
       "      <th>kurtosis</th>\n",
       "    </tr>\n",
       "  </thead>\n",
       "  <tbody>\n",
       "    <tr>\n",
       "      <th>0</th>\n",
       "      <td>store</td>\n",
       "      <td>1.0</td>\n",
       "      <td>1115.0</td>\n",
       "      <td>1114.0</td>\n",
       "      <td>558.429727</td>\n",
       "      <td>558.0</td>\n",
       "      <td>321.908493</td>\n",
       "      <td>-0.000955</td>\n",
       "      <td>-1.200524</td>\n",
       "    </tr>\n",
       "    <tr>\n",
       "      <th>1</th>\n",
       "      <td>day_of_week</td>\n",
       "      <td>1.0</td>\n",
       "      <td>7.0</td>\n",
       "      <td>6.0</td>\n",
       "      <td>3.998341</td>\n",
       "      <td>4.0</td>\n",
       "      <td>1.997390</td>\n",
       "      <td>0.001593</td>\n",
       "      <td>-1.246873</td>\n",
       "    </tr>\n",
       "    <tr>\n",
       "      <th>2</th>\n",
       "      <td>sales</td>\n",
       "      <td>0.0</td>\n",
       "      <td>41551.0</td>\n",
       "      <td>41551.0</td>\n",
       "      <td>5773.818972</td>\n",
       "      <td>5744.0</td>\n",
       "      <td>3849.924283</td>\n",
       "      <td>0.641460</td>\n",
       "      <td>1.778375</td>\n",
       "    </tr>\n",
       "    <tr>\n",
       "      <th>3</th>\n",
       "      <td>customers</td>\n",
       "      <td>0.0</td>\n",
       "      <td>7388.0</td>\n",
       "      <td>7388.0</td>\n",
       "      <td>633.145946</td>\n",
       "      <td>609.0</td>\n",
       "      <td>464.411506</td>\n",
       "      <td>1.598650</td>\n",
       "      <td>7.091773</td>\n",
       "    </tr>\n",
       "    <tr>\n",
       "      <th>4</th>\n",
       "      <td>open</td>\n",
       "      <td>0.0</td>\n",
       "      <td>1.0</td>\n",
       "      <td>1.0</td>\n",
       "      <td>0.830107</td>\n",
       "      <td>1.0</td>\n",
       "      <td>0.375539</td>\n",
       "      <td>-1.758045</td>\n",
       "      <td>1.090723</td>\n",
       "    </tr>\n",
       "    <tr>\n",
       "      <th>5</th>\n",
       "      <td>promo</td>\n",
       "      <td>0.0</td>\n",
       "      <td>1.0</td>\n",
       "      <td>1.0</td>\n",
       "      <td>0.381515</td>\n",
       "      <td>0.0</td>\n",
       "      <td>0.485758</td>\n",
       "      <td>0.487838</td>\n",
       "      <td>-1.762018</td>\n",
       "    </tr>\n",
       "    <tr>\n",
       "      <th>6</th>\n",
       "      <td>school_holiday</td>\n",
       "      <td>0.0</td>\n",
       "      <td>1.0</td>\n",
       "      <td>1.0</td>\n",
       "      <td>0.178647</td>\n",
       "      <td>0.0</td>\n",
       "      <td>0.383056</td>\n",
       "      <td>1.677842</td>\n",
       "      <td>0.815154</td>\n",
       "    </tr>\n",
       "    <tr>\n",
       "      <th>7</th>\n",
       "      <td>competition_distance</td>\n",
       "      <td>20.0</td>\n",
       "      <td>200000.0</td>\n",
       "      <td>199980.0</td>\n",
       "      <td>5935.442677</td>\n",
       "      <td>2330.0</td>\n",
       "      <td>12547.646829</td>\n",
       "      <td>10.242344</td>\n",
       "      <td>147.789712</td>\n",
       "    </tr>\n",
       "    <tr>\n",
       "      <th>8</th>\n",
       "      <td>competition_open_since_month</td>\n",
       "      <td>1.0</td>\n",
       "      <td>12.0</td>\n",
       "      <td>11.0</td>\n",
       "      <td>6.786849</td>\n",
       "      <td>7.0</td>\n",
       "      <td>3.311085</td>\n",
       "      <td>-0.042076</td>\n",
       "      <td>-1.232607</td>\n",
       "    </tr>\n",
       "    <tr>\n",
       "      <th>9</th>\n",
       "      <td>competition_open_since_year</td>\n",
       "      <td>1900.0</td>\n",
       "      <td>2015.0</td>\n",
       "      <td>115.0</td>\n",
       "      <td>2010.324840</td>\n",
       "      <td>2012.0</td>\n",
       "      <td>5.515591</td>\n",
       "      <td>-7.235657</td>\n",
       "      <td>124.071304</td>\n",
       "    </tr>\n",
       "    <tr>\n",
       "      <th>10</th>\n",
       "      <td>promo2</td>\n",
       "      <td>0.0</td>\n",
       "      <td>1.0</td>\n",
       "      <td>1.0</td>\n",
       "      <td>0.500564</td>\n",
       "      <td>1.0</td>\n",
       "      <td>0.500000</td>\n",
       "      <td>-0.002255</td>\n",
       "      <td>-1.999999</td>\n",
       "    </tr>\n",
       "    <tr>\n",
       "      <th>11</th>\n",
       "      <td>promo2_since_week</td>\n",
       "      <td>1.0</td>\n",
       "      <td>52.0</td>\n",
       "      <td>51.0</td>\n",
       "      <td>23.619033</td>\n",
       "      <td>22.0</td>\n",
       "      <td>14.310057</td>\n",
       "      <td>0.178723</td>\n",
       "      <td>-1.184046</td>\n",
       "    </tr>\n",
       "    <tr>\n",
       "      <th>12</th>\n",
       "      <td>promo2_since_year</td>\n",
       "      <td>2009.0</td>\n",
       "      <td>2015.0</td>\n",
       "      <td>6.0</td>\n",
       "      <td>2012.793297</td>\n",
       "      <td>2013.0</td>\n",
       "      <td>1.662657</td>\n",
       "      <td>-0.784436</td>\n",
       "      <td>-0.210075</td>\n",
       "    </tr>\n",
       "    <tr>\n",
       "      <th>13</th>\n",
       "      <td>is_promo</td>\n",
       "      <td>0.0</td>\n",
       "      <td>1.0</td>\n",
       "      <td>1.0</td>\n",
       "      <td>0.155134</td>\n",
       "      <td>0.0</td>\n",
       "      <td>0.362033</td>\n",
       "      <td>1.905166</td>\n",
       "      <td>1.629662</td>\n",
       "    </tr>\n",
       "  </tbody>\n",
       "</table>\n",
       "</div>"
      ],
      "text/plain": [
       "                      attributes     min       max     range         mean  \\\n",
       "0                          store     1.0    1115.0    1114.0   558.429727   \n",
       "1                    day_of_week     1.0       7.0       6.0     3.998341   \n",
       "2                          sales     0.0   41551.0   41551.0  5773.818972   \n",
       "3                      customers     0.0    7388.0    7388.0   633.145946   \n",
       "4                           open     0.0       1.0       1.0     0.830107   \n",
       "5                          promo     0.0       1.0       1.0     0.381515   \n",
       "6                 school_holiday     0.0       1.0       1.0     0.178647   \n",
       "7           competition_distance    20.0  200000.0  199980.0  5935.442677   \n",
       "8   competition_open_since_month     1.0      12.0      11.0     6.786849   \n",
       "9    competition_open_since_year  1900.0    2015.0     115.0  2010.324840   \n",
       "10                        promo2     0.0       1.0       1.0     0.500564   \n",
       "11             promo2_since_week     1.0      52.0      51.0    23.619033   \n",
       "12             promo2_since_year  2009.0    2015.0       6.0  2012.793297   \n",
       "13                      is_promo     0.0       1.0       1.0     0.155134   \n",
       "\n",
       "    median           std       skew    kurtosis  \n",
       "0    558.0    321.908493  -0.000955   -1.200524  \n",
       "1      4.0      1.997390   0.001593   -1.246873  \n",
       "2   5744.0   3849.924283   0.641460    1.778375  \n",
       "3    609.0    464.411506   1.598650    7.091773  \n",
       "4      1.0      0.375539  -1.758045    1.090723  \n",
       "5      0.0      0.485758   0.487838   -1.762018  \n",
       "6      0.0      0.383056   1.677842    0.815154  \n",
       "7   2330.0  12547.646829  10.242344  147.789712  \n",
       "8      7.0      3.311085  -0.042076   -1.232607  \n",
       "9   2012.0      5.515591  -7.235657  124.071304  \n",
       "10     1.0      0.500000  -0.002255   -1.999999  \n",
       "11    22.0     14.310057   0.178723   -1.184046  \n",
       "12  2013.0      1.662657  -0.784436   -0.210075  \n",
       "13     0.0      0.362033   1.905166    1.629662  "
      ]
     },
     "execution_count": 33,
     "metadata": {},
     "output_type": "execute_result"
    }
   ],
   "source": [
    "m"
   ]
  },
  {
   "cell_type": "code",
   "execution_count": 34,
   "id": "0beed9d6",
   "metadata": {
    "ExecuteTime": {
     "end_time": "2021-12-14T13:46:27.633709Z",
     "start_time": "2021-12-14T13:46:20.680068Z"
    },
    "hidden": true,
    "scrolled": true
   },
   "outputs": [
    {
     "data": {
      "image/png": "[encoded data removed]",
      "text/plain": [
       "<Figure size 750x750 with 1 Axes>"
      ]
     },
     "metadata": {
      "needs_background": "light"
     },
     "output_type": "display_data"
    }
   ],
   "source": [
    "#Análise competition distance\n",
    "p = sns.displot ( df1['competition_distance'] )\n",
    "p.fig.set_dpi(150)\n",
    "plt.show()"
   ]
  },
  {
   "cell_type": "code",
   "execution_count": 35,
   "id": "f7ccb174",
   "metadata": {
    "ExecuteTime": {
     "end_time": "2021-12-14T13:46:27.679749Z",
     "start_time": "2021-12-14T13:46:27.666044Z"
    },
    "hidden": true
   },
   "outputs": [
    {
     "ename": "SyntaxError",
     "evalue": "invalid syntax (<ipython-input-35-642d74a923b1>, line 1)",
     "output_type": "error",
     "traceback": [
      "\u001b[0;36m  File \u001b[0;32m\"<ipython-input-35-642d74a923b1>\"\u001b[0;36m, line \u001b[0;32m1\u001b[0m\n\u001b[0;31m    ANÁLISE COMPETITION DISTANDE:(apenas > 0):\u001b[0m\n\u001b[0m            ^\u001b[0m\n\u001b[0;31mSyntaxError\u001b[0m\u001b[0;31m:\u001b[0m invalid syntax\n"
     ]
    }
   ],
   "source": [
    "ANÁLISE COMPETITION DISTANDE:(apenas > 0):\n",
    "\n",
    "- Média e mediana bem longe uma da outra, logo vai ter deslocamento da normal muito grande, \n",
    "vide skew.\n",
    "- Skew 10.2 positiva (deslocamento enorme pra esquerda), indicando grande concentração de \n",
    "distâncias menores até os concorrentes.\n",
    "- Kurtosis 147 positiva, indicando um pico gigantesco."
   ]
  },
  {
   "cell_type": "code",
   "execution_count": null,
   "id": "2f243d8e",
   "metadata": {
    "ExecuteTime": {
     "end_time": "2021-12-14T13:46:27.693157Z",
     "start_time": "2021-12-14T13:43:30.434Z"
    },
    "hidden": true
   },
   "outputs": [],
   "source": [
    "#Análise customers\n",
    "#Vou retirar customers = 0 pra analisar o gráfico mais limpo:\n",
    "\n",
    "df_cust_pos = df1.loc[ df1['customers'] > 0 ]"
   ]
  },
  {
   "cell_type": "code",
   "execution_count": null,
   "id": "68a274fa",
   "metadata": {
    "ExecuteTime": {
     "end_time": "2021-12-14T13:46:27.696724Z",
     "start_time": "2021-12-14T13:43:30.441Z"
    },
    "hidden": true,
    "scrolled": true
   },
   "outputs": [],
   "source": [
    "p = sns.displot ( df_cust_pos['customers'] )\n",
    "#p.fig.set_dpi(150)\n",
    "plt.show()"
   ]
  },
  {
   "cell_type": "code",
   "execution_count": null,
   "id": "422d2497",
   "metadata": {
    "ExecuteTime": {
     "end_time": "2021-12-14T13:46:27.713313Z",
     "start_time": "2021-12-14T13:43:30.445Z"
    },
    "hidden": true
   },
   "outputs": [],
   "source": [
    "#Abaixo, ploto o gráfico do Customer original, porque o m que estou analistando \n",
    "# considera os zeros nos customers também!\n",
    "p = sns.displot ( df1['customers'] )\n",
    "p.fig.set_dpi(100)\n",
    "plt.show()"
   ]
  },
  {
   "cell_type": "markdown",
   "id": "9f9f901b",
   "metadata": {
    "hidden": true
   },
   "source": [
    "ANÁLISE CUSTOMERS:\n",
    "\n",
    "- Média (633) e mediana (609) próximas, mas mediana menor: deslocamento da curva levemente pra esquerda.\n",
    "\n",
    "- Logo, skew levemente positiva, indicando maior concentração dos valores mais abaixo da média (ponto central).\n",
    "\n",
    "- Kursosis de 7, logo pico muito alto /distribuição bem dispersa em número de clientes por dia.\n",
    "\n",
    "- Std de 464, e média de clientes por dia de 633: em 78% dos dias (34% ref. 1 std positivo + 34% ref. 1 std negativo), tivemos entre 169 (633-464) e 1097 (633+464) clientes. \n",
    "\n"
   ]
  },
  {
   "cell_type": "code",
   "execution_count": null,
   "id": "2cb64252",
   "metadata": {
    "ExecuteTime": {
     "end_time": "2021-12-14T13:46:27.722341Z",
     "start_time": "2021-12-14T13:43:30.452Z"
    },
    "hidden": true
   },
   "outputs": [],
   "source": [
    "m"
   ]
  },
  {
   "cell_type": "markdown",
   "id": "20d56e11",
   "metadata": {
    "ExecuteTime": {
     "end_time": "2021-12-13T19:26:22.028599Z",
     "start_time": "2021-12-13T19:26:22.023327Z"
    },
    "heading_collapsed": true,
    "hidden": true
   },
   "source": [
    "### Categorical Attibures"
   ]
  },
  {
   "cell_type": "code",
   "execution_count": null,
   "id": "44e249f8",
   "metadata": {
    "ExecuteTime": {
     "end_time": "2021-12-14T13:46:27.728054Z",
     "start_time": "2021-12-14T13:43:30.460Z"
    },
    "hidden": true
   },
   "outputs": [],
   "source": [
    "cat_attributes.apply ( lambda x: x.unique().shape[0] )"
   ]
  },
  {
   "cell_type": "code",
   "execution_count": null,
   "id": "5d016b76",
   "metadata": {
    "ExecuteTime": {
     "end_time": "2021-12-14T13:46:27.743810Z",
     "start_time": "2021-12-14T13:43:30.464Z"
    },
    "hidden": true
   },
   "outputs": [],
   "source": [
    "df1['state_holiday'].value_counts()"
   ]
  },
  {
   "cell_type": "code",
   "execution_count": null,
   "id": "92feb249",
   "metadata": {
    "ExecuteTime": {
     "end_time": "2021-12-14T13:46:27.747324Z",
     "start_time": "2021-12-14T13:43:30.471Z"
    },
    "hidden": true
   },
   "outputs": [],
   "source": [
    "#Boxplot tem todas as medidas de dispersão e tendência central. Vamos usar ele.\n",
    "\n",
    "#vendas nos feriados: remover dias não feriado e dias onde não teve vendas \n",
    "aux1 = df1[ (df1['state_holiday'] != '0') & (df1['sales'] > 0) ]\n",
    "\n",
    "#setar tamanho:\n",
    "sns.set(rc={'figure.figsize':(18,9)})\n",
    "\n",
    "plt.subplot (1, 3, 1)\n",
    "sns.boxplot( x='state_holiday', y='sales', data=aux1 )\n",
    "\n",
    "plt.subplot (1, 3, 2)\n",
    "sns.boxplot( x='store_type', y='sales', data=aux1 )\n",
    "\n",
    "plt.subplot (1, 3, 3)\n",
    "sns.boxplot( x='assortment', y='sales', data=aux1 )"
   ]
  },
  {
   "cell_type": "markdown",
   "id": "668b8a68",
   "metadata": {
    "hidden": true
   },
   "source": [
    "Acima, a linha meio de cada imagem colorida é o 50º quartil, ou seja a mediana.\n",
    "A borda da figura de baixo é o quartil 25, a de cima o 75.\n",
    "Logo, dentro da imagem laranja, tenho o volume do quartil 25 ao 50, e do 50 ao 75. \n",
    "Fora da figura até os riscos superior e inferior é o valor mínimo e máximo.\n",
    "Pontos após os riscos das bordas (valores máximos) são outliers: > 3 vezes o desvio padrão.\n",
    "\n",
    "Logo, quanto mais achatada é a figura, maior a concentração em torno da mediana."
   ]
  },
  {
   "cell_type": "markdown",
   "id": "d50ae2fb",
   "metadata": {
    "hidden": true
   },
   "source": [
    "Análise do boxplot 1 - quantidade de vendas por tipo de feriado:\n",
    "Legenda state_holiday: a = public holiday | b = Easter holiday |  c = Christmas\n",
    "\n",
    "-A mediana de vendas de páscoa(b) e natal (c) é mais alta que de feriados publicos (a).\n",
    "-A mediana de vendas de páscoa(b) e natal (c) é parecida, mas a dispersão é maior na páscoa."
   ]
  },
  {
   "cell_type": "markdown",
   "id": "0a264859",
   "metadata": {
    "hidden": true
   },
   "source": [
    "Análise do boxplot 2 - quantidade de vendas por tipo de loja:\n",
    "    Legenda de StoreType - differentiates between 4 different store models: a, b, c, d\n",
    "        \n",
    "-Loja tipo b vende muito mais na mediana que as demais, aprox. o dobro da tipo a.\n",
    "-Loja do tipo c tem concentração de vendas maior em torno da mediana.\n"
   ]
  },
  {
   "cell_type": "code",
   "execution_count": null,
   "id": "b3be1309",
   "metadata": {
    "ExecuteTime": {
     "end_time": "2021-12-14T13:46:27.760613Z",
     "start_time": "2021-12-14T13:43:30.478Z"
    },
    "hidden": true
   },
   "outputs": [],
   "source": [
    "Análise do boxplot 3 - quantidade de vendas por mix de produtos:\n",
    "    Legenda de Assortment - describes an assortment level: a = basic, b = extra, c = extended\n",
    "        \n",
    "-Há muito mais vendas do mix b do que dos demais. E o número de vendas varia mais também\n",
    "neste mix.\n",
    "-O mix A tem uma grande quantidade de outliers, mas uma distribuição bem uniforme fora isto."
   ]
  },
  {
   "cell_type": "code",
   "execution_count": null,
   "id": "2cf63b0e",
   "metadata": {
    "ExecuteTime": {
     "end_time": "2021-12-14T13:46:27.765858Z",
     "start_time": "2021-12-14T13:43:30.488Z"
    },
    "code_folding": [
     0
    ],
    "hidden": true
   },
   "outputs": [],
   "source": [
    "#Boxplot tem todas as medidas de dispersão e tendência central. Vamos usar ele.\n",
    "\n",
    "#vendas nos feriados: remover dias não feriado e dias onde não teve vendas \n",
    "aux1 = df1[ (df1['state_holiday'] != '0') & (df1['sales'] > 0) ]\n",
    "\n",
    "#setar tamanho:\n",
    "sns.set(rc={'figure.figsize':(18,9)})\n",
    "\n",
    "plt.subplot (1, 3, 1)\n",
    "sns.boxplot( x='state_holiday', y='sales', data=aux1 )\n",
    "\n",
    "plt.subplot (1, 3, 2)\n",
    "sns.boxplot( x='store_type', y='sales', data=aux1 )\n",
    "\n",
    "plt.subplot (1, 3, 3)\n",
    "sns.boxplot( x='assortment', y='sales', data=aux1 )"
   ]
  },
  {
   "cell_type": "markdown",
   "id": "fecf32d3",
   "metadata": {
    "ExecuteTime": {
     "end_time": "2021-12-14T12:24:58.130789Z",
     "start_time": "2021-12-14T12:24:58.118649Z"
    }
   },
   "source": [
    "# PASSO 2 - Feature Engeneering (apagar o que está antes, tá no arquivo mod_2)"
   ]
  },
  {
   "cell_type": "code",
   "execution_count": 37,
   "id": "129dcf83",
   "metadata": {
    "ExecuteTime": {
     "end_time": "2021-12-14T13:50:02.143439Z",
     "start_time": "2021-12-14T13:50:02.023150Z"
    }
   },
   "outputs": [],
   "source": [
    "df2 = df1.copy()"
   ]
  },
  {
   "cell_type": "code",
   "execution_count": 36,
   "id": "d682d7a2",
   "metadata": {
    "ExecuteTime": {
     "end_time": "2021-12-14T13:49:51.065445Z",
     "start_time": "2021-12-14T13:49:51.047654Z"
    },
    "scrolled": true
   },
   "outputs": [
    {
     "data": {
      "image/png": "[encoded data removed]",
      "text/plain": [
       "<IPython.core.display.Image object>"
      ]
     },
     "execution_count": 36,
     "metadata": {},
     "output_type": "execute_result"
    }
   ],
   "source": [
    "Image ('img/MindMapHypothesis.png')"
   ]
  },
  {
   "cell_type": "markdown",
   "id": "0a2cdb96",
   "metadata": {
    "ExecuteTime": {
     "end_time": "2021-12-14T12:57:41.804023Z",
     "start_time": "2021-12-14T12:57:41.798698Z"
    },
    "heading_collapsed": true
   },
   "source": [
    "## Criação das Hipóteses"
   ]
  },
  {
   "cell_type": "code",
   "execution_count": null,
   "id": "7f6b9219",
   "metadata": {
    "ExecuteTime": {
     "end_time": "2021-12-14T13:46:27.791486Z",
     "start_time": "2021-12-14T13:43:30.499Z"
    },
    "hidden": true
   },
   "outputs": [],
   "source": [
    "Hipóteses são Apostas.\n",
    "\n",
    "Exemplos nesse contexto são:\n",
    "- Lojas de MAIOR porte (atributo) deveriam vender (fenômeno) MAIS.\n",
    "- Lojas com MAIOR sortimento (atributo) deveriam vender (fenômeno) MAIS.\n",
    "- Lojas com MAIS competidores por perto (atributo) deveriam vender (fenômeno) MENOS.\n",
    "\n",
    "Vamos agora criar hipóteses olhando para o mapa, relacionando o fenômeno e cada agente \n",
    " e seus atributos:\n",
    "        Na prática, isto é capturado em reunião de brainstorm com o time de negócio.\n",
    "        Deixar claro que são apostas, e não são relações de causa e efeito, mas correlações:\n",
    "            Isto porque estamos mapeando todos os atributos correlacionados com vendas, \n",
    "            e não há um único."
   ]
  },
  {
   "cell_type": "markdown",
   "id": "dcc24db4",
   "metadata": {
    "heading_collapsed": true,
    "hidden": true
   },
   "source": [
    "### Hipóteses Loja"
   ]
  },
  {
   "cell_type": "markdown",
   "id": "f0866242",
   "metadata": {
    "ExecuteTime": {
     "end_time": "2021-12-14T13:00:12.610959Z",
     "start_time": "2021-12-14T13:00:12.605853Z"
    },
    "hidden": true
   },
   "source": [
    "#### Lojas com maior quadro de funcionários deveriam vender mais."
   ]
  },
  {
   "cell_type": "markdown",
   "id": "cf907d8b",
   "metadata": {
    "ExecuteTime": {
     "end_time": "2021-12-14T13:00:12.610959Z",
     "start_time": "2021-12-14T13:00:12.605853Z"
    },
    "hidden": true
   },
   "source": [
    "#### Lojas com maior estoque deveriam vender mais."
   ]
  },
  {
   "cell_type": "markdown",
   "id": "93a133e3",
   "metadata": {
    "ExecuteTime": {
     "end_time": "2021-12-14T13:00:12.610959Z",
     "start_time": "2021-12-14T13:00:12.605853Z"
    },
    "hidden": true
   },
   "source": [
    "#### Lojas com maior porte deveriam vender mais."
   ]
  },
  {
   "cell_type": "markdown",
   "id": "b1cdb5b3",
   "metadata": {
    "ExecuteTime": {
     "end_time": "2021-12-14T13:00:12.610959Z",
     "start_time": "2021-12-14T13:00:12.605853Z"
    },
    "hidden": true
   },
   "source": [
    "#### Lojas com maior sortimento deveriam vender mais."
   ]
  },
  {
   "cell_type": "markdown",
   "id": "971c5404",
   "metadata": {
    "ExecuteTime": {
     "end_time": "2021-12-14T13:00:12.610959Z",
     "start_time": "2021-12-14T13:00:12.605853Z"
    },
    "hidden": true
   },
   "source": [
    "#### Lojas com competidores mais próximos deveriam vender menos.\n"
   ]
  },
  {
   "cell_type": "markdown",
   "id": "f0d41554",
   "metadata": {
    "ExecuteTime": {
     "end_time": "2021-12-14T13:00:12.610959Z",
     "start_time": "2021-12-14T13:00:12.605853Z"
    },
    "hidden": true
   },
   "source": [
    "#### Lojas com competidores à mais tempo deveriam vender mais."
   ]
  },
  {
   "cell_type": "markdown",
   "id": "91977ae3",
   "metadata": {
    "heading_collapsed": true,
    "hidden": true
   },
   "source": [
    "### Hipóteses Produto"
   ]
  },
  {
   "cell_type": "markdown",
   "id": "07e750e4",
   "metadata": {
    "ExecuteTime": {
     "end_time": "2021-12-14T13:00:12.610959Z",
     "start_time": "2021-12-14T13:00:12.605853Z"
    },
    "hidden": true
   },
   "source": [
    "#### Lojas que investem mais em marketing deveriam vender mais."
   ]
  },
  {
   "cell_type": "markdown",
   "id": "7a08f2bd",
   "metadata": {
    "ExecuteTime": {
     "end_time": "2021-12-14T13:00:12.610959Z",
     "start_time": "2021-12-14T13:00:12.605853Z"
    },
    "hidden": true
   },
   "source": [
    "#### Lojas com maior exposição de produto nas vitrines deveriam vender mais."
   ]
  },
  {
   "cell_type": "markdown",
   "id": "f9b304e1",
   "metadata": {
    "ExecuteTime": {
     "end_time": "2021-12-14T13:00:12.610959Z",
     "start_time": "2021-12-14T13:00:12.605853Z"
    },
    "hidden": true
   },
   "source": [
    "#### Lojas com produtos de preço menor deveriam vender mais."
   ]
  },
  {
   "cell_type": "markdown",
   "id": "936c627f",
   "metadata": {
    "ExecuteTime": {
     "end_time": "2021-12-14T13:16:44.376200Z",
     "start_time": "2021-12-14T13:16:44.367840Z"
    },
    "hidden": true
   },
   "source": [
    "#### Lojas com promoções mais agressivas (descontos maiores), deveriam vender mais."
   ]
  },
  {
   "cell_type": "markdown",
   "id": "1a6e99db",
   "metadata": {
    "ExecuteTime": {
     "end_time": "2021-12-14T13:00:12.610959Z",
     "start_time": "2021-12-14T13:00:12.605853Z"
    },
    "hidden": true
   },
   "source": [
    "#### Lojas com promoções ativas por mais tempo deveriam vender mais."
   ]
  },
  {
   "cell_type": "markdown",
   "id": "5118daa4",
   "metadata": {
    "ExecuteTime": {
     "end_time": "2021-12-14T13:00:12.610959Z",
     "start_time": "2021-12-14T13:00:12.605853Z"
    },
    "hidden": true
   },
   "source": [
    "#### Lojas com mais dias de promoção deveriam vender mais."
   ]
  },
  {
   "cell_type": "markdown",
   "id": "c268df19",
   "metadata": {
    "ExecuteTime": {
     "end_time": "2021-12-14T13:00:12.610959Z",
     "start_time": "2021-12-14T13:00:12.605853Z"
    },
    "hidden": true
   },
   "source": [
    "#### Lojas com mais promoções consecutivas deveriam vender mais."
   ]
  },
  {
   "cell_type": "markdown",
   "id": "0ff30e57",
   "metadata": {
    "heading_collapsed": true,
    "hidden": true
   },
   "source": [
    "### Hipóteses Sazonalidade"
   ]
  },
  {
   "cell_type": "markdown",
   "id": "684125f7",
   "metadata": {
    "ExecuteTime": {
     "end_time": "2021-12-14T13:00:12.610959Z",
     "start_time": "2021-12-14T13:00:12.605853Z"
    },
    "hidden": true
   },
   "source": [
    "#### Lojas abertas duantes o feriado de natal deveriam vender mais."
   ]
  },
  {
   "cell_type": "markdown",
   "id": "4e807812",
   "metadata": {
    "ExecuteTime": {
     "end_time": "2021-12-14T13:00:12.610959Z",
     "start_time": "2021-12-14T13:00:12.605853Z"
    },
    "hidden": true
   },
   "source": [
    "#### Lojas deveriam vender mais ao longo dos anos."
   ]
  },
  {
   "cell_type": "markdown",
   "id": "3a3f92d0",
   "metadata": {
    "ExecuteTime": {
     "end_time": "2021-12-14T13:00:12.610959Z",
     "start_time": "2021-12-14T13:00:12.605853Z"
    },
    "hidden": true
   },
   "source": [
    "#### Lojas deveriam vender no segundo semestre do ano."
   ]
  },
  {
   "cell_type": "markdown",
   "id": "09c3115b",
   "metadata": {
    "ExecuteTime": {
     "end_time": "2021-12-14T13:00:12.610959Z",
     "start_time": "2021-12-14T13:00:12.605853Z"
    },
    "hidden": true
   },
   "source": [
    "#### Lojas deveriam vender mais no dia 10 de cada mês."
   ]
  },
  {
   "cell_type": "markdown",
   "id": "1d96f030",
   "metadata": {
    "ExecuteTime": {
     "end_time": "2021-12-14T13:00:12.610959Z",
     "start_time": "2021-12-14T13:00:12.605853Z"
    },
    "hidden": true
   },
   "source": [
    "#### Lojas deveriam vender menos aos finais de semana."
   ]
  },
  {
   "cell_type": "markdown",
   "id": "6cdafc2e",
   "metadata": {
    "ExecuteTime": {
     "end_time": "2021-12-14T13:00:12.610959Z",
     "start_time": "2021-12-14T13:00:12.605853Z"
    },
    "hidden": true
   },
   "source": [
    "#### Lojas deveriam vender menos durante os feriados escolares."
   ]
  },
  {
   "cell_type": "markdown",
   "id": "da92da21",
   "metadata": {},
   "source": [
    "## Lista Final de Hipóteses (priorização)"
   ]
  },
  {
   "cell_type": "markdown",
   "id": "7875e006",
   "metadata": {},
   "source": [
    "Critério: tenho ou não o dado disponível agora?\n",
    "    Se tenho, vou priorizar neste primeiro ciclo (listadas abaixo).\n",
    "    Se não tenho, num ciclo futuro se necessário avalio coletar, conforme a performance do modelo.\n",
    "    \n",
    "   Cada hipótese vai gerar tabela, gráfico pra poder avaliar correlação com o fenômeno, como a força dessa correlação."
   ]
  },
  {
   "cell_type": "markdown",
   "id": "52857a98",
   "metadata": {
    "ExecuteTime": {
     "end_time": "2021-12-14T13:00:12.610959Z",
     "start_time": "2021-12-14T13:00:12.605853Z"
    }
   },
   "source": [
    "#### (H1 - loja) Lojas com maior sortimento deveriam vender mais."
   ]
  },
  {
   "cell_type": "markdown",
   "id": "8818073a",
   "metadata": {
    "ExecuteTime": {
     "end_time": "2021-12-14T13:00:12.610959Z",
     "start_time": "2021-12-14T13:00:12.605853Z"
    }
   },
   "source": [
    "#### (H2 - loja) Lojas com competidores mais próximos deveriam vender menos.\n"
   ]
  },
  {
   "cell_type": "markdown",
   "id": "88f2a723",
   "metadata": {
    "ExecuteTime": {
     "end_time": "2021-12-14T13:00:12.610959Z",
     "start_time": "2021-12-14T13:00:12.605853Z"
    }
   },
   "source": [
    "#### (H3 - loja) Lojas com competidores à mais tempo deveriam vender mais."
   ]
  },
  {
   "cell_type": "markdown",
   "id": "1a8697ae",
   "metadata": {
    "ExecuteTime": {
     "end_time": "2021-12-14T13:00:12.610959Z",
     "start_time": "2021-12-14T13:00:12.605853Z"
    }
   },
   "source": [
    "#### (H4 - prod) Lojas com promoções ativas por mais tempo deveriam vender mais."
   ]
  },
  {
   "cell_type": "markdown",
   "id": "0ff716c2",
   "metadata": {
    "ExecuteTime": {
     "end_time": "2021-12-14T13:00:12.610959Z",
     "start_time": "2021-12-14T13:00:12.605853Z"
    }
   },
   "source": [
    "#### (H5 - prod) Lojas com mais dias de promoção deveriam vender mais."
   ]
  },
  {
   "cell_type": "markdown",
   "id": "2be3fadf",
   "metadata": {
    "ExecuteTime": {
     "end_time": "2021-12-14T13:00:12.610959Z",
     "start_time": "2021-12-14T13:00:12.605853Z"
    }
   },
   "source": [
    "#### (H6 - prod) Lojas com mais promoções consecutivas deveriam vender mais."
   ]
  },
  {
   "cell_type": "markdown",
   "id": "6def9343",
   "metadata": {
    "ExecuteTime": {
     "end_time": "2021-12-14T13:00:12.610959Z",
     "start_time": "2021-12-14T13:00:12.605853Z"
    }
   },
   "source": [
    "#### (H7 - sazo) Lojas abertas duantes o feriado de natal deveriam vender mais."
   ]
  },
  {
   "cell_type": "markdown",
   "id": "1b49bacf",
   "metadata": {
    "ExecuteTime": {
     "end_time": "2021-12-14T13:00:12.610959Z",
     "start_time": "2021-12-14T13:00:12.605853Z"
    }
   },
   "source": [
    "#### (H8 - sazo) Lojas deveriam vender mais ao longo dos anos."
   ]
  },
  {
   "cell_type": "markdown",
   "id": "f7728dc3",
   "metadata": {
    "ExecuteTime": {
     "end_time": "2021-12-14T13:00:12.610959Z",
     "start_time": "2021-12-14T13:00:12.605853Z"
    }
   },
   "source": [
    "#### (H9 - sazo) Lojas deveriam vender no segundo semestre do ano."
   ]
  },
  {
   "cell_type": "markdown",
   "id": "c01d7893",
   "metadata": {
    "ExecuteTime": {
     "end_time": "2021-12-14T13:00:12.610959Z",
     "start_time": "2021-12-14T13:00:12.605853Z"
    }
   },
   "source": [
    "#### (H10 - sazo) Lojas deveriam vender mais no dia 10 de cada mês."
   ]
  },
  {
   "cell_type": "markdown",
   "id": "358a9d38",
   "metadata": {
    "ExecuteTime": {
     "end_time": "2021-12-14T13:00:12.610959Z",
     "start_time": "2021-12-14T13:00:12.605853Z"
    }
   },
   "source": [
    "#### (H11 - sazo) Lojas deveriam vender menos aos finais de semana."
   ]
  },
  {
   "cell_type": "markdown",
   "id": "73d044e0",
   "metadata": {
    "ExecuteTime": {
     "end_time": "2021-12-14T13:00:12.610959Z",
     "start_time": "2021-12-14T13:00:12.605853Z"
    }
   },
   "source": [
    "#### (H12 - sazo) Lojas deveriam vender menos durante os feriados escolares."
   ]
  },
  {
   "cell_type": "markdown",
   "id": "27a9c052",
   "metadata": {},
   "source": [
    "## Feature Engeneering"
   ]
  },
  {
   "cell_type": "markdown",
   "id": "d66dd82f",
   "metadata": {},
   "source": [
    "Aqui, vou criar as variáveis que preciso derivar pra depois validar as hipóteses:"
   ]
  },
  {
   "cell_type": "markdown",
   "id": "30ccdba5",
   "metadata": {},
   "source": [
    "-year\n",
    "-Month\n",
    "-day\n",
    "-week_of_year\n",
    "-year_week\n",
    "\n",
    "-competition_since - da data da compra, há quanto tempo tenho competidores\n",
    "    juntar: competition_open_since_month + competition_open_since_year e pegar a diferença até date.\n",
    "\n",
    "-promo_since - desde quando tenho a promoção ativa\n",
    "    tenho promo2_since_week (semana do ano) e promo2_since_year, vou criar a partir deles\n",
    "    \n",
    "-assortment - trocar letras a b e c pelo mix de produtos\n",
    "-state_holiday - trocar letras a b c pelo nome por extenso"
   ]
  },
  {
   "cell_type": "code",
   "execution_count": 40,
   "id": "5cc4772f",
   "metadata": {
    "ExecuteTime": {
     "end_time": "2021-12-14T13:50:36.908557Z",
     "start_time": "2021-12-14T13:50:36.783461Z"
    }
   },
   "outputs": [
    {
     "data": {
      "text/html": [
       "<div>\n",
       "<style scoped>\n",
       "    .dataframe tbody tr th:only-of-type {\n",
       "        vertical-align: middle;\n",
       "    }\n",
       "\n",
       "    .dataframe tbody tr th {\n",
       "        vertical-align: top;\n",
       "    }\n",
       "\n",
       "    .dataframe thead th {\n",
       "        text-align: right;\n",
       "    }\n",
       "</style>\n",
       "<table border=\"1\" class=\"dataframe\">\n",
       "  <thead>\n",
       "    <tr style=\"text-align: right;\">\n",
       "      <th></th>\n",
       "      <th>store</th>\n",
       "      <th>day_of_week</th>\n",
       "      <th>date</th>\n",
       "      <th>sales</th>\n",
       "      <th>customers</th>\n",
       "      <th>open</th>\n",
       "      <th>promo</th>\n",
       "      <th>state_holiday</th>\n",
       "      <th>school_holiday</th>\n",
       "      <th>store_type</th>\n",
       "      <th>assortment</th>\n",
       "      <th>competition_distance</th>\n",
       "      <th>competition_open_since_month</th>\n",
       "      <th>competition_open_since_year</th>\n",
       "      <th>promo2</th>\n",
       "      <th>promo2_since_week</th>\n",
       "      <th>promo2_since_year</th>\n",
       "      <th>promo_interval</th>\n",
       "      <th>month_map</th>\n",
       "      <th>is_promo</th>\n",
       "    </tr>\n",
       "  </thead>\n",
       "  <tbody>\n",
       "    <tr>\n",
       "      <th>583436</th>\n",
       "      <td>1077</td>\n",
       "      <td>6</td>\n",
       "      <td>2014-01-25</td>\n",
       "      <td>2780</td>\n",
       "      <td>328</td>\n",
       "      <td>1</td>\n",
       "      <td>0</td>\n",
       "      <td>0</td>\n",
       "      <td>0</td>\n",
       "      <td>a</td>\n",
       "      <td>a</td>\n",
       "      <td>3750.0</td>\n",
       "      <td>11</td>\n",
       "      <td>2001</td>\n",
       "      <td>1</td>\n",
       "      <td>35</td>\n",
       "      <td>2010</td>\n",
       "      <td>Mar,Jun,Sept,Dec</td>\n",
       "      <td>Jan</td>\n",
       "      <td>0</td>\n",
       "    </tr>\n",
       "  </tbody>\n",
       "</table>\n",
       "</div>"
      ],
      "text/plain": [
       "        store  day_of_week       date  sales  customers  open  promo  \\\n",
       "583436   1077            6 2014-01-25   2780        328     1      0   \n",
       "\n",
       "       state_holiday  school_holiday store_type assortment  \\\n",
       "583436             0               0          a          a   \n",
       "\n",
       "        competition_distance  competition_open_since_month  \\\n",
       "583436                3750.0                            11   \n",
       "\n",
       "        competition_open_since_year  promo2  promo2_since_week  \\\n",
       "583436                         2001       1                 35   \n",
       "\n",
       "        promo2_since_year    promo_interval month_map  is_promo  \n",
       "583436               2010  Mar,Jun,Sept,Dec       Jan         0  "
      ]
     },
     "execution_count": 40,
     "metadata": {},
     "output_type": "execute_result"
    }
   ],
   "source": [
    "df2.sample()"
   ]
  },
  {
   "cell_type": "code",
   "execution_count": 84,
   "id": "9802f8cc",
   "metadata": {
    "ExecuteTime": {
     "end_time": "2021-12-14T14:28:08.882319Z",
     "start_time": "2021-12-14T14:27:01.850157Z"
    }
   },
   "outputs": [
    {
     "name": "stderr",
     "output_type": "stream",
     "text": [
      "<ipython-input-84-8032b7bb032e>:8: FutureWarning: Series.dt.weekofyear and Series.dt.week have been deprecated.  Please use Series.dt.isocalendar().week instead.\n",
      "  df2['week_of_year'] = df2['date'].dt.weekofyear\n"
     ]
    }
   ],
   "source": [
    "#year\n",
    "df2['year'] = df2['date'].dt.year\n",
    "#Month\n",
    "df2['month'] = df2['date'].dt.month\n",
    "#day\n",
    "df2['day'] = df2['date'].dt.day\n",
    "#week_of_year\n",
    "df2['week_of_year'] = df2['date'].dt.weekofyear\n",
    "#year_week\n",
    "df2['year_week'] = df2['date'].dt.strftime( '%Y-%W' )\n",
    "\n",
    "#competition_since - da data da compra, há quanto tempo tenho competidores\n",
    "    # juntar: competition_open_since_month + competition_open_since_year e pegar a diferença \n",
    "    # até date.\n",
    "    \n",
    "#criar um datetime contendo dia 1, e pegando o mês e ano:\n",
    "df2['competition_since'] = df2.apply (lambda x: dt.datetime (year=x['competition_open_since_year'], \n",
    "                   month=x['competition_open_since_month'], day=1 ), axis=1)\n",
    "#cria coluna em meses desde que a competição começou:  \n",
    "df2['competition_time_month'] = ( (df2['date'] - df2['competition_since']) / 30 ).apply (lambda x: x.days).astype ( int )"
   ]
  },
  {
   "cell_type": "code",
   "execution_count": 117,
   "id": "d969b0e9",
   "metadata": {
    "ExecuteTime": {
     "end_time": "2021-12-14T16:12:58.631761Z",
     "start_time": "2021-12-14T16:12:06.859443Z"
    }
   },
   "outputs": [],
   "source": [
    "#promo_since - desde quando tenho a promoção ativa\n",
    "    #tenho promo2_since_week (semana do ano) e promo2_since_year (ano), \n",
    "    #vou criar a partir deles nova string concatenando ambas pra ficar assim:'2015-31':\n",
    "df2['promo2_since'] = df2['promo2_since_year'].astype( str ) + '-' + df2['promo2_since_week'].astype( str )\n",
    "    #agora, converter essa string em data: ('%Y-%W-$w') -> ano, semana do ano, inicia domingo.\n",
    "df2['promo2_since'] = df2['promo2_since'].apply \\\n",
    "    ( lambda x: dt.datetime.strptime( x + '-1', '%Y-%W-%w' ) - dt.timedelta( days=7 ) )         \n",
    "    #agora tendo as duas datas, subtrai venda - data de início da promoção, pra obter \n",
    "    #o tempo que a promoção ficou ativa ativa em semanas\n",
    "df2['promo2_time_week'] = ( ( df2['date'] - df2['promo2_since'] ) / 7).apply \\\n",
    "                           ( lambda x: x.days ).astype (int)"
   ]
  },
  {
   "cell_type": "code",
   "execution_count": 114,
   "id": "f987729d",
   "metadata": {
    "ExecuteTime": {
     "end_time": "2021-12-14T16:11:27.904502Z",
     "start_time": "2021-12-14T16:11:27.892604Z"
    }
   },
   "outputs": [
    {
     "data": {
      "text/plain": [
       "0    2015-31\n",
       "1    2010-13\n",
       "2    2011-14\n",
       "3    2015-31\n",
       "4    2015-31\n",
       "Name: promo2_since, dtype: object"
      ]
     },
     "execution_count": 114,
     "metadata": {},
     "output_type": "execute_result"
    }
   ],
   "source": [
    "df2['promo2_since'].head()"
   ]
  },
  {
   "cell_type": "code",
   "execution_count": 116,
   "id": "c6943008",
   "metadata": {
    "ExecuteTime": {
     "end_time": "2021-12-14T16:12:02.977665Z",
     "start_time": "2021-12-14T16:12:02.965142Z"
    },
    "scrolled": true
   },
   "outputs": [
    {
     "data": {
      "text/plain": [
       "0   2015-07-27\n",
       "1   2010-03-22\n",
       "2   2011-03-28\n",
       "3   2015-07-27\n",
       "4   2015-07-27\n",
       "Name: promo2_since, dtype: datetime64[ns]"
      ]
     },
     "execution_count": 116,
     "metadata": {},
     "output_type": "execute_result"
    }
   ],
   "source": [
    "df2['promo2_since'].head()"
   ]
  },
  {
   "cell_type": "code",
   "execution_count": 118,
   "id": "039ecedc",
   "metadata": {
    "ExecuteTime": {
     "end_time": "2021-12-14T16:13:08.919550Z",
     "start_time": "2021-12-14T16:13:08.906887Z"
    },
    "scrolled": true
   },
   "outputs": [
    {
     "data": {
      "text/plain": [
       "0            0\n",
       "1          279\n",
       "2          226\n",
       "3            0\n",
       "4            0\n",
       "          ... \n",
       "1017204    -30\n",
       "1017205      0\n",
       "1017206      0\n",
       "1017207      0\n",
       "1017208     32\n",
       "Name: promo2_time_week, Length: 1017209, dtype: int64"
      ]
     },
     "execution_count": 118,
     "metadata": {},
     "output_type": "execute_result"
    }
   ],
   "source": [
    "df2['promo2_time_week']"
   ]
  },
  {
   "cell_type": "code",
   "execution_count": 137,
   "id": "8911760c",
   "metadata": {
    "ExecuteTime": {
     "end_time": "2021-12-14T16:26:45.135339Z",
     "start_time": "2021-12-14T16:26:44.911315Z"
    }
   },
   "outputs": [],
   "source": [
    "#assortment - trocar letras a b e c pelo mix de produtos:\n",
    "    #Assortment - describes an assortment level: a = basic, b = extra, c = extended\n",
    "df2['assortment'] = df2['assortment'].apply ( lambda x: \n",
    "                               'basic' if x == 'a' else\n",
    "                               'extra' if x == 'b' else \n",
    "                            'extended' if x == 'c' else x) "
   ]
  },
  {
   "cell_type": "code",
   "execution_count": 138,
   "id": "cf406d42",
   "metadata": {
    "ExecuteTime": {
     "end_time": "2021-12-14T16:26:51.064916Z",
     "start_time": "2021-12-14T16:26:50.958845Z"
    }
   },
   "outputs": [
    {
     "data": {
      "text/plain": [
       "basic       537445\n",
       "extended    471470\n",
       "extra         8294\n",
       "Name: assortment, dtype: int64"
      ]
     },
     "execution_count": 138,
     "metadata": {},
     "output_type": "execute_result"
    }
   ],
   "source": [
    "df2['assortment'].value_counts()"
   ]
  },
  {
   "cell_type": "code",
   "execution_count": 153,
   "id": "46e2eeb3",
   "metadata": {
    "ExecuteTime": {
     "end_time": "2021-12-14T16:33:23.319624Z",
     "start_time": "2021-12-14T16:33:23.007906Z"
    }
   },
   "outputs": [],
   "source": [
    "#state_holiday - trocar letras a b c pelo nome por extenso\n",
    "    #StateHoliday - indicates a state holiday. Normally all stores, with few exceptions, are \n",
    "    #closed on state holidays. Note that all schools are closed on public holidays and \n",
    "    #weekends. a = public holiday, b = easter_holiday, c = christmas, 0 = None\n",
    "df2['state_holiday'] = df2['state_holiday'].apply ( lambda x: \n",
    "                                'public_holiday' if x == 'a' else\n",
    "                                'easter_holiday' if x == 'b' else\n",
    "                                     'christmas' if x == 'c' else \n",
    "                                   'regular_day' )"
   ]
  },
  {
   "cell_type": "code",
   "execution_count": 154,
   "id": "26b3127a",
   "metadata": {
    "ExecuteTime": {
     "end_time": "2021-12-14T16:33:25.099368Z",
     "start_time": "2021-12-14T16:33:24.973819Z"
    }
   },
   "outputs": [
    {
     "data": {
      "text/plain": [
       "regular_day       986159\n",
       "public_holiday     20260\n",
       "easter_holiday      6690\n",
       "christmas           4100\n",
       "Name: state_holiday, dtype: int64"
      ]
     },
     "execution_count": 154,
     "metadata": {},
     "output_type": "execute_result"
    }
   ],
   "source": [
    "df2['state_holiday'].value_counts()"
   ]
  },
  {
   "cell_type": "code",
   "execution_count": 155,
   "id": "ce94cf6c",
   "metadata": {
    "ExecuteTime": {
     "end_time": "2021-12-14T16:33:27.824902Z",
     "start_time": "2021-12-14T16:33:27.719576Z"
    }
   },
   "outputs": [
    {
     "data": {
      "text/html": [
       "<div>\n",
       "<style scoped>\n",
       "    .dataframe tbody tr th:only-of-type {\n",
       "        vertical-align: middle;\n",
       "    }\n",
       "\n",
       "    .dataframe tbody tr th {\n",
       "        vertical-align: top;\n",
       "    }\n",
       "\n",
       "    .dataframe thead th {\n",
       "        text-align: right;\n",
       "    }\n",
       "</style>\n",
       "<table border=\"1\" class=\"dataframe\">\n",
       "  <thead>\n",
       "    <tr style=\"text-align: right;\">\n",
       "      <th></th>\n",
       "      <th>161322</th>\n",
       "      <th>271377</th>\n",
       "      <th>474258</th>\n",
       "      <th>604640</th>\n",
       "      <th>484722</th>\n",
       "    </tr>\n",
       "  </thead>\n",
       "  <tbody>\n",
       "    <tr>\n",
       "      <th>store</th>\n",
       "      <td>763</td>\n",
       "      <td>478</td>\n",
       "      <td>54</td>\n",
       "      <td>1096</td>\n",
       "      <td>483</td>\n",
       "    </tr>\n",
       "    <tr>\n",
       "      <th>day_of_week</th>\n",
       "      <td>1</td>\n",
       "      <td>1</td>\n",
       "      <td>5</td>\n",
       "      <td>1</td>\n",
       "      <td>3</td>\n",
       "    </tr>\n",
       "    <tr>\n",
       "      <th>date</th>\n",
       "      <td>2015-03-09 00:00:00</td>\n",
       "      <td>2014-11-24 00:00:00</td>\n",
       "      <td>2014-05-02 00:00:00</td>\n",
       "      <td>2014-01-06 00:00:00</td>\n",
       "      <td>2014-04-23 00:00:00</td>\n",
       "    </tr>\n",
       "    <tr>\n",
       "      <th>sales</th>\n",
       "      <td>4934</td>\n",
       "      <td>8524</td>\n",
       "      <td>13767</td>\n",
       "      <td>9912</td>\n",
       "      <td>4006</td>\n",
       "    </tr>\n",
       "    <tr>\n",
       "      <th>customers</th>\n",
       "      <td>531</td>\n",
       "      <td>801</td>\n",
       "      <td>1222</td>\n",
       "      <td>943</td>\n",
       "      <td>610</td>\n",
       "    </tr>\n",
       "    <tr>\n",
       "      <th>open</th>\n",
       "      <td>1</td>\n",
       "      <td>1</td>\n",
       "      <td>1</td>\n",
       "      <td>1</td>\n",
       "      <td>1</td>\n",
       "    </tr>\n",
       "    <tr>\n",
       "      <th>promo</th>\n",
       "      <td>0</td>\n",
       "      <td>1</td>\n",
       "      <td>1</td>\n",
       "      <td>1</td>\n",
       "      <td>0</td>\n",
       "    </tr>\n",
       "    <tr>\n",
       "      <th>state_holiday</th>\n",
       "      <td>regular_day</td>\n",
       "      <td>regular_day</td>\n",
       "      <td>regular_day</td>\n",
       "      <td>regular_day</td>\n",
       "      <td>regular_day</td>\n",
       "    </tr>\n",
       "    <tr>\n",
       "      <th>school_holiday</th>\n",
       "      <td>0</td>\n",
       "      <td>0</td>\n",
       "      <td>0</td>\n",
       "      <td>1</td>\n",
       "      <td>0</td>\n",
       "    </tr>\n",
       "    <tr>\n",
       "      <th>store_type</th>\n",
       "      <td>d</td>\n",
       "      <td>d</td>\n",
       "      <td>d</td>\n",
       "      <td>a</td>\n",
       "      <td>a</td>\n",
       "    </tr>\n",
       "    <tr>\n",
       "      <th>assortment</th>\n",
       "      <td>extended</td>\n",
       "      <td>extended</td>\n",
       "      <td>extended</td>\n",
       "      <td>extended</td>\n",
       "      <td>extended</td>\n",
       "    </tr>\n",
       "    <tr>\n",
       "      <th>competition_distance</th>\n",
       "      <td>32240.0</td>\n",
       "      <td>1940.0</td>\n",
       "      <td>7170.0</td>\n",
       "      <td>1130.0</td>\n",
       "      <td>2310.0</td>\n",
       "    </tr>\n",
       "    <tr>\n",
       "      <th>competition_open_since_month</th>\n",
       "      <td>3</td>\n",
       "      <td>3</td>\n",
       "      <td>8</td>\n",
       "      <td>1</td>\n",
       "      <td>9</td>\n",
       "    </tr>\n",
       "    <tr>\n",
       "      <th>competition_open_since_year</th>\n",
       "      <td>2010</td>\n",
       "      <td>2012</td>\n",
       "      <td>2014</td>\n",
       "      <td>2014</td>\n",
       "      <td>2011</td>\n",
       "    </tr>\n",
       "    <tr>\n",
       "      <th>promo2</th>\n",
       "      <td>0</td>\n",
       "      <td>0</td>\n",
       "      <td>1</td>\n",
       "      <td>1</td>\n",
       "      <td>1</td>\n",
       "    </tr>\n",
       "    <tr>\n",
       "      <th>promo2_since_week</th>\n",
       "      <td>11</td>\n",
       "      <td>48</td>\n",
       "      <td>5</td>\n",
       "      <td>10</td>\n",
       "      <td>13</td>\n",
       "    </tr>\n",
       "    <tr>\n",
       "      <th>promo2_since_year</th>\n",
       "      <td>2015</td>\n",
       "      <td>2014</td>\n",
       "      <td>2013</td>\n",
       "      <td>2014</td>\n",
       "      <td>2010</td>\n",
       "    </tr>\n",
       "    <tr>\n",
       "      <th>promo_interval</th>\n",
       "      <td>0</td>\n",
       "      <td>0</td>\n",
       "      <td>Feb,May,Aug,Nov</td>\n",
       "      <td>Mar,Jun,Sept,Dec</td>\n",
       "      <td>Jan,Apr,Jul,Oct</td>\n",
       "    </tr>\n",
       "    <tr>\n",
       "      <th>month_map</th>\n",
       "      <td>Mar</td>\n",
       "      <td>Nov</td>\n",
       "      <td>May</td>\n",
       "      <td>Jan</td>\n",
       "      <td>Apr</td>\n",
       "    </tr>\n",
       "    <tr>\n",
       "      <th>is_promo</th>\n",
       "      <td>0</td>\n",
       "      <td>0</td>\n",
       "      <td>1</td>\n",
       "      <td>0</td>\n",
       "      <td>1</td>\n",
       "    </tr>\n",
       "    <tr>\n",
       "      <th>year</th>\n",
       "      <td>2015</td>\n",
       "      <td>2014</td>\n",
       "      <td>2014</td>\n",
       "      <td>2014</td>\n",
       "      <td>2014</td>\n",
       "    </tr>\n",
       "    <tr>\n",
       "      <th>month</th>\n",
       "      <td>3</td>\n",
       "      <td>11</td>\n",
       "      <td>5</td>\n",
       "      <td>1</td>\n",
       "      <td>4</td>\n",
       "    </tr>\n",
       "    <tr>\n",
       "      <th>day</th>\n",
       "      <td>9</td>\n",
       "      <td>24</td>\n",
       "      <td>2</td>\n",
       "      <td>6</td>\n",
       "      <td>23</td>\n",
       "    </tr>\n",
       "    <tr>\n",
       "      <th>week_of_year</th>\n",
       "      <td>11</td>\n",
       "      <td>48</td>\n",
       "      <td>18</td>\n",
       "      <td>2</td>\n",
       "      <td>17</td>\n",
       "    </tr>\n",
       "    <tr>\n",
       "      <th>year_week</th>\n",
       "      <td>2015-10</td>\n",
       "      <td>2014-47</td>\n",
       "      <td>2014-17</td>\n",
       "      <td>2014-01</td>\n",
       "      <td>2014-16</td>\n",
       "    </tr>\n",
       "    <tr>\n",
       "      <th>competition_since</th>\n",
       "      <td>2010-03-01 00:00:00</td>\n",
       "      <td>2012-03-01 00:00:00</td>\n",
       "      <td>2014-08-01 00:00:00</td>\n",
       "      <td>2014-01-01 00:00:00</td>\n",
       "      <td>2011-09-01 00:00:00</td>\n",
       "    </tr>\n",
       "    <tr>\n",
       "      <th>competition_time_month</th>\n",
       "      <td>61</td>\n",
       "      <td>33</td>\n",
       "      <td>-4</td>\n",
       "      <td>0</td>\n",
       "      <td>32</td>\n",
       "    </tr>\n",
       "    <tr>\n",
       "      <th>promo2_since</th>\n",
       "      <td>2015-03-09 00:00:00</td>\n",
       "      <td>2014-11-24 00:00:00</td>\n",
       "      <td>2013-01-28 00:00:00</td>\n",
       "      <td>2014-03-03 00:00:00</td>\n",
       "      <td>2010-03-22 00:00:00</td>\n",
       "    </tr>\n",
       "    <tr>\n",
       "      <th>promo2_time_week</th>\n",
       "      <td>0</td>\n",
       "      <td>0</td>\n",
       "      <td>65</td>\n",
       "      <td>-8</td>\n",
       "      <td>213</td>\n",
       "    </tr>\n",
       "    <tr>\n",
       "      <th>assortment_new</th>\n",
       "      <td>extended</td>\n",
       "      <td>extended</td>\n",
       "      <td>extended</td>\n",
       "      <td>extended</td>\n",
       "      <td>extended</td>\n",
       "    </tr>\n",
       "  </tbody>\n",
       "</table>\n",
       "</div>"
      ],
      "text/plain": [
       "                                           161322               271377  \\\n",
       "store                                         763                  478   \n",
       "day_of_week                                     1                    1   \n",
       "date                          2015-03-09 00:00:00  2014-11-24 00:00:00   \n",
       "sales                                        4934                 8524   \n",
       "customers                                     531                  801   \n",
       "open                                            1                    1   \n",
       "promo                                           0                    1   \n",
       "state_holiday                         regular_day          regular_day   \n",
       "school_holiday                                  0                    0   \n",
       "store_type                                      d                    d   \n",
       "assortment                               extended             extended   \n",
       "competition_distance                      32240.0               1940.0   \n",
       "competition_open_since_month                    3                    3   \n",
       "competition_open_since_year                  2010                 2012   \n",
       "promo2                                          0                    0   \n",
       "promo2_since_week                              11                   48   \n",
       "promo2_since_year                            2015                 2014   \n",
       "promo_interval                                  0                    0   \n",
       "month_map                                     Mar                  Nov   \n",
       "is_promo                                        0                    0   \n",
       "year                                         2015                 2014   \n",
       "month                                           3                   11   \n",
       "day                                             9                   24   \n",
       "week_of_year                                   11                   48   \n",
       "year_week                                 2015-10              2014-47   \n",
       "competition_since             2010-03-01 00:00:00  2012-03-01 00:00:00   \n",
       "competition_time_month                         61                   33   \n",
       "promo2_since                  2015-03-09 00:00:00  2014-11-24 00:00:00   \n",
       "promo2_time_week                                0                    0   \n",
       "assortment_new                           extended             extended   \n",
       "\n",
       "                                           474258               604640  \\\n",
       "store                                          54                 1096   \n",
       "day_of_week                                     5                    1   \n",
       "date                          2014-05-02 00:00:00  2014-01-06 00:00:00   \n",
       "sales                                       13767                 9912   \n",
       "customers                                    1222                  943   \n",
       "open                                            1                    1   \n",
       "promo                                           1                    1   \n",
       "state_holiday                         regular_day          regular_day   \n",
       "school_holiday                                  0                    1   \n",
       "store_type                                      d                    a   \n",
       "assortment                               extended             extended   \n",
       "competition_distance                       7170.0               1130.0   \n",
       "competition_open_since_month                    8                    1   \n",
       "competition_open_since_year                  2014                 2014   \n",
       "promo2                                          1                    1   \n",
       "promo2_since_week                               5                   10   \n",
       "promo2_since_year                            2013                 2014   \n",
       "promo_interval                    Feb,May,Aug,Nov     Mar,Jun,Sept,Dec   \n",
       "month_map                                     May                  Jan   \n",
       "is_promo                                        1                    0   \n",
       "year                                         2014                 2014   \n",
       "month                                           5                    1   \n",
       "day                                             2                    6   \n",
       "week_of_year                                   18                    2   \n",
       "year_week                                 2014-17              2014-01   \n",
       "competition_since             2014-08-01 00:00:00  2014-01-01 00:00:00   \n",
       "competition_time_month                         -4                    0   \n",
       "promo2_since                  2013-01-28 00:00:00  2014-03-03 00:00:00   \n",
       "promo2_time_week                               65                   -8   \n",
       "assortment_new                           extended             extended   \n",
       "\n",
       "                                           484722  \n",
       "store                                         483  \n",
       "day_of_week                                     3  \n",
       "date                          2014-04-23 00:00:00  \n",
       "sales                                        4006  \n",
       "customers                                     610  \n",
       "open                                            1  \n",
       "promo                                           0  \n",
       "state_holiday                         regular_day  \n",
       "school_holiday                                  0  \n",
       "store_type                                      a  \n",
       "assortment                               extended  \n",
       "competition_distance                       2310.0  \n",
       "competition_open_since_month                    9  \n",
       "competition_open_since_year                  2011  \n",
       "promo2                                          1  \n",
       "promo2_since_week                              13  \n",
       "promo2_since_year                            2010  \n",
       "promo_interval                    Jan,Apr,Jul,Oct  \n",
       "month_map                                     Apr  \n",
       "is_promo                                        1  \n",
       "year                                         2014  \n",
       "month                                           4  \n",
       "day                                            23  \n",
       "week_of_year                                   17  \n",
       "year_week                                 2014-16  \n",
       "competition_since             2011-09-01 00:00:00  \n",
       "competition_time_month                         32  \n",
       "promo2_since                  2010-03-22 00:00:00  \n",
       "promo2_time_week                              213  \n",
       "assortment_new                           extended  "
      ]
     },
     "execution_count": 155,
     "metadata": {},
     "output_type": "execute_result"
    }
   ],
   "source": [
    "df2.sample(5).T"
   ]
  },
  {
   "cell_type": "markdown",
   "id": "c7b68b92",
   "metadata": {
    "ExecuteTime": {
     "end_time": "2021-12-14T13:00:12.610959Z",
     "start_time": "2021-12-14T13:00:12.605853Z"
    }
   },
   "source": [
    "#### Lojas deveriam vender menos durante os feriados escolares."
   ]
  },
  {
   "cell_type": "code",
   "execution_count": null,
   "id": "998996f6",
   "metadata": {},
   "outputs": [],
   "source": [
    "#Date Handling - extract parts of it:\n",
    "data['year'] = pd.to_datetime(data['scrap_datetime']).dt.strftime('%Y')\n",
    "data['month'] = pd.to_datetime(data['scrap_datetime']).dt.strftime('%m')\n",
    "data['day'] = pd.to_datetime(data['scrap_datetime']).dt.strftime('%d')\n",
    "data['hour'] = pd.to_datetime(data['scrap_datetime']).dt.strftime('%H')\n",
    "data['minute'] = pd.to_datetime(data['scrap_datetime']).dt.strftime('%M')\n",
    "data['second'] = pd.to_datetime(data['scrap_datetime']).dt.strftime('%S')"
   ]
  },
  {
   "cell_type": "code",
   "execution_count": null,
   "id": "1be44ddc",
   "metadata": {},
   "outputs": [],
   "source": []
  },
  {
   "cell_type": "code",
   "execution_count": null,
   "id": "629acc78",
   "metadata": {},
   "outputs": [],
   "source": []
  },
  {
   "cell_type": "code",
   "execution_count": null,
   "id": "1044af0f",
   "metadata": {},
   "outputs": [],
   "source": []
  }
 ],
 "metadata": {
  "kernelspec": {
   "display_name": "Python 3",
   "language": "python",
   "name": "python3"
  },
  "language_info": {
   "codemirror_mode": {
    "name": "ipython",
    "version": 3
   },
   "file_extension": ".py",
   "mimetype": "text/x-python",
   "name": "python",
   "nbconvert_exporter": "python",
   "pygments_lexer": "ipython3",
   "version": "3.8.8"
  },
  "toc": {
   "base_numbering": 1,
   "nav_menu": {},
   "number_sections": true,
   "sideBar": true,
   "skip_h1_title": false,
   "title_cell": "Table of Contents",
   "title_sidebar": "Contents",
   "toc_cell": false,
   "toc_position": {},
   "toc_section_display": true,
   "toc_window_display": false
  }
 },
 "nbformat": 4,
 "nbformat_minor": 5
}
