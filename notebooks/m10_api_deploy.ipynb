{
 "cells": [
  {
   "cell_type": "markdown",
   "id": "eb0f4754",
   "metadata": {},
   "source": [
    "# Imports"
   ]
  },
  {
   "cell_type": "code",
   "execution_count": 49,
   "id": "426e81ad",
   "metadata": {
    "ExecuteTime": {
     "end_time": "2022-01-19T10:24:13.821851Z",
     "start_time": "2022-01-19T10:24:13.809395Z"
    }
   },
   "outputs": [],
   "source": [
    "import pandas as pd \n",
    "import pickle\n",
    "\n",
    "# import math\n",
    "# import inflection\n",
    "# \n",
    "# import numpy as np\n",
    "# import seaborn as sns\n",
    "# import datetime as dt\n",
    "# import xgboost as xgb\n",
    "# import random\n",
    "# import pickle\n",
    "\n",
    "#from pacote [pasta.nome_arquivo] import nome classe\n",
    "# from matplotlib            import pyplot as plt\n",
    "# from IPython.core.display  import HTML\n",
    "# from IPython.display       import Image\n",
    "# from tabulate              import tabulate\n",
    "# from scipy                 import stats\n",
    "# from sklearn.preprocessing import RobustScaler, MinMaxScaler, LabelEncoder\n",
    "# from datetime              import timedelta\n",
    "# from boruta                import BorutaPy\n",
    "# from sklearn.ensemble      import RandomForestRegressor\n",
    "# from sklearn.metrics       import mean_absolute_error, mean_absolute_percentage_error, mean_squared_error\n",
    "# from sklearn.linear_model  import LinearRegression, Lasso"
   ]
  },
  {
   "cell_type": "markdown",
   "id": "26539f04",
   "metadata": {},
   "source": [
    "# Passo 10 - Deploy Model to Production"
   ]
  },
  {
   "cell_type": "markdown",
   "id": "e5d03aa5",
   "metadata": {},
   "source": [
    "- 1 Criar uma Classe com as limpezas, transformações e encoding (Rossmann.py)\n",
    "- 2 Criar a API (Handler.py)\n",
    "- 3 Criar um Script para testar a API."
   ]
  },
  {
   "cell_type": "markdown",
   "id": "1fbbbabe",
   "metadata": {},
   "source": [
    "Conferir se exportei o modelo treinado (model_rossmann_trained) (ok)\n",
    "\n",
    "Exportar parâmetros pra aplicar nos novos dados que chegam via api (no Data Preparation -> Rescaling)"
   ]
  },
  {
   "cell_type": "markdown",
   "id": "128a8b42",
   "metadata": {},
   "source": [
    "### Testando o carregamento do modelo via pickle"
   ]
  },
  {
   "cell_type": "code",
   "execution_count": 50,
   "id": "7e4c1b87",
   "metadata": {
    "ExecuteTime": {
     "end_time": "2022-01-19T10:24:20.585765Z",
     "start_time": "2022-01-19T10:24:18.561502Z"
    }
   },
   "outputs": [],
   "source": [
    "# Testando o carregamento do modelo via pickle: (ok, sem customer)\n",
    "model_rossmann_final = pickle.load(open(\"../model/model_rossmann.pkl\", \"rb\"))"
   ]
  },
  {
   "cell_type": "code",
   "execution_count": 51,
   "id": "e5ef7083",
   "metadata": {
    "ExecuteTime": {
     "end_time": "2022-01-19T10:24:25.167663Z",
     "start_time": "2022-01-19T10:24:25.126678Z"
    }
   },
   "outputs": [
    {
     "data": {
      "text/plain": [
       "XGBRegressor(colsample_bytree=0.9, eta=0.01, max_depth=9, min_child_weight=15,\n",
       "             missing=nan, n_estimators=5000, objective='reg:squarederror',\n",
       "             subsample=0.1)"
      ]
     },
     "execution_count": 51,
     "metadata": {},
     "output_type": "execute_result"
    }
   ],
   "source": [
    "model_rossmann_final #v.090"
   ]
  },
  {
   "cell_type": "code",
   "execution_count": 5,
   "id": "3d98a859",
   "metadata": {
    "ExecuteTime": {
     "end_time": "2022-01-12T15:42:15.609601Z",
     "start_time": "2022-01-12T15:42:15.535033Z"
    }
   },
   "outputs": [
    {
     "data": {
      "text/plain": [
       "XGBRegressor(base_score=0.5, booster='gbtree', colsample_bylevel=1,\n",
       "             colsample_bynode=1, colsample_bytree=0.9, enable_categorical=False,\n",
       "             eta=0.01, gamma=0, gpu_id=-1, importance_type=None,\n",
       "             interaction_constraints='', learning_rate=0.00999999978,\n",
       "             max_delta_step=0, max_depth=9, min_child_weight=15, missing=nan,\n",
       "             monotone_constraints='()', n_estimators=3500, n_jobs=4,\n",
       "             num_parallel_tree=1, predictor='auto', random_state=0, reg_alpha=0,\n",
       "             reg_lambda=1, scale_pos_weight=1, subsample=0.1,\n",
       "             tree_method='exact', validate_parameters=1, verbosity=None)"
      ]
     },
     "execution_count": 5,
     "metadata": {},
     "output_type": "execute_result"
    }
   ],
   "source": [
    "model_rossmann_final #v 1.5.1"
   ]
  },
  {
   "cell_type": "code",
   "execution_count": 52,
   "id": "733efa30",
   "metadata": {
    "ExecuteTime": {
     "end_time": "2022-01-19T10:40:25.591349Z",
     "start_time": "2022-01-19T10:40:25.574286Z"
    }
   },
   "outputs": [],
   "source": [
    "cols_when_model_builds_final = model_rossmann_final.get_booster().feature_names"
   ]
  },
  {
   "cell_type": "code",
   "execution_count": 53,
   "id": "0496d97f",
   "metadata": {
    "ExecuteTime": {
     "end_time": "2022-01-19T10:40:30.608570Z",
     "start_time": "2022-01-19T10:40:30.592580Z"
    }
   },
   "outputs": [
    {
     "data": {
      "text/plain": [
       "['store',\n",
       " 'promo',\n",
       " 'store_type',\n",
       " 'assortment',\n",
       " 'competition_distance',\n",
       " 'competition_open_since_month',\n",
       " 'competition_open_since_year',\n",
       " 'promo2',\n",
       " 'promo2_since_week',\n",
       " 'promo2_since_year',\n",
       " 'competition_time_month',\n",
       " 'promo2_time_week',\n",
       " 'month_cos',\n",
       " 'month_sin',\n",
       " 'day_cos',\n",
       " 'day_sin',\n",
       " 'week_of_year_cos',\n",
       " 'week_of_year_sin',\n",
       " 'day_of_week_sin',\n",
       " 'day_of_week_cos']"
      ]
     },
     "execution_count": 53,
     "metadata": {},
     "output_type": "execute_result"
    }
   ],
   "source": [
    "cols_when_model_builds_final"
   ]
  },
  {
   "cell_type": "markdown",
   "id": "1675a01e",
   "metadata": {},
   "source": [
    "## Rossmann Class\n"
   ]
  },
  {
   "cell_type": "markdown",
   "id": "1e28b476",
   "metadata": {},
   "source": [
    "1 - Criar uma Classe com as limpezas, transformações e encoding (Rossmann.py)\n",
    "Sobe e copia do passo 1 do Rename Columns até o Change Data Types e cola aqui.\n",
    "SHIFT + M pra fazer um merge de tudo.\n",
    "Pega também da Feature Engeneerign até a filtragem de variáveis-Seleção das Colunas\n",
    "Pega também do Rescaling até Nature Transformation \n",
    "Pega também as cols do Boruta no Manual Feature Selection\n",
    "\n",
    "Script será colado no projeto em api/rossmann/Rossmann.py"
   ]
  },
  {
   "cell_type": "code",
   "execution_count": 54,
   "id": "edbe834d",
   "metadata": {
    "ExecuteTime": {
     "end_time": "2022-01-19T10:45:56.364856Z",
     "start_time": "2022-01-19T10:45:56.260073Z"
    },
    "code_folding": [
     9,
     19,
     74,
     109,
     154
    ],
    "scrolled": true
   },
   "outputs": [],
   "source": [
    "import pickle\n",
    "import inflection\n",
    "import pandas as pd\n",
    "import numpy as np\n",
    "import math\n",
    "import datetime\n",
    "\n",
    "class Rossmann ( object ):\n",
    "    #construtor - primeira função que classe roda quando é instanciada\n",
    "    def __init__ ( self ):\n",
    "        #toda vez que instanciar esta classe, guarda na memória todas as transformações dos arquivos pickle\n",
    "        #self - variáveis dentro da classe Rossmann só poderão ser acessadas internamente\n",
    "        self.home_path='/Users/home/repos/pharmacy_sales_forecast/'\n",
    "        self.competition_distance_scaler     = pickle.load (open (self.home_path + 'parameter/competition_distance_scaler.pkl', 'rb') )\n",
    "        self.competition_time_month_scaler   = pickle.load (open (self.home_path + 'parameter/competition_time_month_scaler.pkl', 'rb') )\n",
    "        self.promo2_time_week_scaler         = pickle.load (open (self.home_path + 'parameter/promo2_time_week_scaler.pkl', 'rb') )\n",
    "        self.year_scaler                     = pickle.load (open (self.home_path + 'parameter/year_scaler.pkl', 'rb') )\n",
    "        self.store_type_scaler               = pickle.load (open (self.home_path + 'parameter/store_type_scaler.pkl', 'rb' ) )\n",
    "    \n",
    "    def data_cleaning ( self, df1 ):\n",
    "        ## 1.1 Rename Columns\n",
    "        cols_old = ['Store', 'DayOfWeek', 'Date', 'Open', 'Promo',\n",
    "           'StateHoliday', 'SchoolHoliday', 'StoreType', 'Assortment',\n",
    "           'CompetitionDistance', 'CompetitionOpenSinceMonth',\n",
    "           'CompetitionOpenSinceYear', 'Promo2', 'Promo2SinceWeek',\n",
    "           'Promo2SinceYear', 'PromoInterval']\n",
    "\n",
    "        #cria função pra transformar em snake_case\n",
    "        snakecase = lambda x: inflection.underscore ( x )\n",
    "        #aplica a função em todas as palabras de cols_old, guarda em lista na cols_new\n",
    "        cols_new = list( map( snakecase, cols_old ) )\n",
    "        #rename\n",
    "        df1.columns = cols_new\n",
    "\n",
    "\n",
    "        ## 1.3 Data Types\n",
    "        #convert 'date' to datetim e:\n",
    "        df1['date'] = pd.to_datetime( df1['date'] )\n",
    "\n",
    "        ## 1.5 Fillout NA\n",
    "        #competition_distance\n",
    "        df1['competition_distance'] = df1['competition_distance'].apply( lambda x: 200000.0 if math.isnan( x ) else x ) \n",
    "        #competition_open_since_month\n",
    "        df1['competition_open_since_month'] = df1.apply ( lambda x: x['date'].month if math.isnan( x['competition_open_since_month'] ) else x['competition_open_since_month'], axis=1 ) \n",
    "\n",
    "        #competition_open_since_year\n",
    "        df1['competition_open_since_year'] = df1.apply ( lambda x: x['date'].year if math.isnan( x['competition_open_since_year'] ) else x['competition_open_since_year'], axis=1 ) \n",
    "\n",
    "        #promo2_since_week\n",
    "        df1['promo2_since_week'] = df1.apply ( lambda x: x['date'].week if math.isnan( x['promo2_since_week'] ) else x['promo2_since_week'], axis=1 )\n",
    "\n",
    "        #promo2_since_year: \n",
    "        df1['promo2_since_year'] = df1.apply ( lambda x: x['date'].year if math.isnan( x['promo2_since_year'] ) else x['promo2_since_year'], axis=1 )\n",
    "\n",
    "        #promo_interval\n",
    "        month_map = {1: 'Jan', 2: 'Feb', 3: 'Mar', 4: 'Apr', 5: 'May', 6: 'Jun', 7: 'Jul', 8: 'Aug', 9: 'Sep', 10: 'Oct', 11: 'Nov', 12: 'Dec' }\n",
    "        df1['promo_interval'].fillna(0, inplace=True)\n",
    "\n",
    "        #cria coluna 'month_map' e seta o mes nela\n",
    "        df1['month_map'] = df1['date'].dt.month.map( month_map )\n",
    "\n",
    "        #cria coluna 'is_promo', e seta 1 se 'month_map' estiver em 'promo_interval', senão 0.\n",
    "        df1['is_promo'] = df1[['promo_interval', 'month_map']].apply ( lambda x: 0 if x['promo_interval'] == 0 else 1 if x['month_map'] in x['promo_interval'].split(',') else 0, axis =1 )\n",
    "\n",
    "        ## 1.6 Change Types\n",
    "        #competition\n",
    "        df1['competition_open_since_month'] = df1['competition_open_since_month'].astype( int )\n",
    "        df1['competition_open_since_year'] = df1['competition_open_since_year'].astype( int )\n",
    "        #promo2\n",
    "        df1['promo2_since_week'] = df1['promo2_since_week'].astype( int )\n",
    "        df1['promo2_since_year'] = df1['promo2_since_year'].astype( int )\n",
    "        \n",
    "        return df1\n",
    "\n",
    "    def feature_engineering( self, df2 ):\n",
    "        \n",
    "        # Passo 3 -  Filtragem de Variáveis\n",
    "        #year\n",
    "        df2['year'] = df2['date'].dt.year\n",
    "        #Month\n",
    "        df2['month'] = df2['date'].dt.month\n",
    "        #day\n",
    "        df2['day'] = df2['date'].dt.day\n",
    "        #week_of_year\n",
    "        df2['week_of_year'] = df2['date'].dt.isocalendar().week\n",
    "        #year_week\n",
    "        df2['year_week'] = df2['date'].dt.strftime( '%Y-%W' )\n",
    "        #competition_since\n",
    "        df2['competition_since'] = df2.apply (lambda x: datetime.datetime (year=x['competition_open_since_year'], month=x['competition_open_since_month'], day=1 ), axis=1)\n",
    "        df2['competition_time_month'] = ( (df2['date'] - df2['competition_since']) / 30 ).apply (lambda x: x.days).astype ( int )\n",
    "        #promo_since \n",
    "        df2['promo_since'] = df2['promo2_since_year'].astype( str ) + '-' + df2['promo2_since_week'].astype( str )\n",
    "        df2['promo_since'] = df2['promo_since'].apply ( lambda x: datetime.datetime.strptime( x + '-1', '%Y-%W-%w' ) - datetime.timedelta( days=7 ) )         \n",
    "        df2['promo2_time_week'] = ( ( df2['date'] - df2['promo_since'] )/ 7).apply ( lambda x: x.days ).astype (int)\n",
    "        #assortment\n",
    "        df2['assortment'] = df2['assortment'].apply( lambda x: 'basic' if x == 'a' else 'extra' if x == 'b' else 'extended' )\n",
    "        #state_holiday \n",
    "        df2['state_holiday'] = df2['state_holiday'].apply ( lambda x: 'public_holiday' if x == 'a' else 'easter_holiday' if x == 'b' else 'christmas' if x == 'c' else 'regular_day' )\n",
    "        \n",
    "        # 3.1 -  Filtragem de Linhas\n",
    "        #df2 = df2.loc[ df2['open'] != 0 ]\n",
    "        df2 = df2[df2['open'] != 0]\n",
    "        \n",
    "        # 3.2 - Seleção das Colunas\n",
    "        cols_drop = [ 'open', 'promo_interval', 'month_map' ]\n",
    "        df2.drop (cols_drop, axis=1)\n",
    "\n",
    "        return df2\n",
    "\n",
    "    def data_preparation ( self, df5 ):\n",
    "\n",
    "        ## 5.2 Rescaling\n",
    "        #competition_distance\n",
    "        df5['competition_distance'] = self.competition_distance_scaler.transform(df5[['competition_distance']].values )\n",
    "        #competition_time_month\n",
    "        df5['competition_time_month'] = self.competition_time_month_scaler.transform(df5[['competition_time_month']].values ) \n",
    "        #promo2_time_week\n",
    "        df5['promo2_time_week'] = self.promo2_time_week_scaler.transform(df5[['promo2_time_week']].values ) \n",
    "        \n",
    "        #year\n",
    "        df5['year'] = self.year_scaler.transform(df5[['year']].values ) \n",
    "        \n",
    "        ## 5.3 Transformação\n",
    "        ### 5.3.1 Encoding\n",
    "        #### state_holiday - (One-Hot-Encoding)\n",
    "        df5 = pd.get_dummies( df5, prefix=['state_holiday'], columns=['state_holiday'] )\n",
    "        #### store_type (Label Encoding)\n",
    "        #Precisou do fit_transform, só com transform a API retornava erro: ValueError: y contains previously unseen labels: 'a'\n",
    "        df5['store_type'] = self.store_type_scaler.fit_transform( df5['store_type'] )\n",
    "        #### assortment (Ordinal Encoding)\n",
    "        assortment_dict = {'basic': 1, 'extra': 2, 'extended': 3}\n",
    "        df5['assortment'] = df5['assortment'].map( assortment_dict )\n",
    "\n",
    "        ### 5.3.3 Nature Transformation\n",
    "        #month\n",
    "        df5['month_sin'] = df5['month'].apply (lambda x: np.sin(x * ( 2. * np.pi/12 ) ) )\n",
    "        df5['month_cos'] = df5['month'].apply (lambda x: np.cos(x * ( 2. * np.pi/12 ) ) )\n",
    "        #day\n",
    "        df5['day_sin'] = df5['day'].apply (lambda x: np.sin(x * ( 2. * np.pi/30 ) ) )\n",
    "        df5['day_cos'] = df5['day'].apply (lambda x: np.cos(x * ( 2. * np.pi/30 ) ) )\n",
    "        #week_of_year\n",
    "        df5['week_of_year_sin'] = df5['week_of_year'].apply (lambda x: np.sin(x * ( 2. * np.pi/52 ) ) )\n",
    "        df5['week_of_year_cos'] = df5['week_of_year'].apply (lambda x: np.cos(x * ( 2. * np.pi/52 ) ) )\n",
    "        #day_of_week\n",
    "        df5['day_of_week_sin'] = df5['day_of_week'].apply (lambda x: np.sin(x * ( 2. * np.pi/7 ) ) )\n",
    "        df5['day_of_week_cos'] = df5['day_of_week'].apply (lambda x: np.cos(x * ( 2. * np.pi/7 ) ) )\n",
    "    \n",
    "        cols_selected = ['store','promo','store_type','assortment','competition_distance','competition_open_since_month',\n",
    "            'competition_open_since_year','promo2','promo2_since_week','promo2_since_year','competition_time_month',\n",
    "            'promo2_time_week','month_cos','month_sin','day_cos','day_sin','week_of_year_cos','week_of_year_sin',\n",
    "            'day_of_week_sin','day_of_week_cos'] #20 cols\n",
    "\n",
    "        return df5[ cols_selected ]\n",
    "    \n",
    "    def get_prediction( self, model, original_data, test_data ):\n",
    "        #prediction\n",
    "        pred = model.predict( test_data )\n",
    "        \n",
    "        #retorna o dataset recebido, com a coluna prediction preenchida\n",
    "        original_data['prediction'] = np.expm1( pred )\n",
    "        \n",
    "        return original_data.to_json( orient='records', date_format='iso' )\n",
    "    "
   ]
  },
  {
   "cell_type": "markdown",
   "id": "3bb8f764",
   "metadata": {},
   "source": [
    "## API Handler"
   ]
  },
  {
   "cell_type": "markdown",
   "id": "3289c890",
   "metadata": {},
   "source": [
    "2 - Criar a API (Handler.py)\n",
    "Vamos usar a biblioteca Flesk, para receber requisições em API, responder, manter o endpoint funcionando, etc.\n",
    "\n",
    "Script será colado no projeto em api/handler.py"
   ]
  },
  {
   "cell_type": "code",
   "execution_count": 55,
   "id": "d225ee0e",
   "metadata": {
    "ExecuteTime": {
     "end_time": "2022-01-19T11:01:13.206617Z",
     "start_time": "2022-01-19T11:01:13.008452Z"
    },
    "code_folding": []
   },
   "outputs": [
    {
     "ename": "ModuleNotFoundError",
     "evalue": "No module named 'rossmann'",
     "output_type": "error",
     "traceback": [
      "\u001b[0;31m---------------------------------------------------------------------------\u001b[0m",
      "\u001b[0;31mModuleNotFoundError\u001b[0m                       Traceback (most recent call last)",
      "\u001b[0;32m/var/folders/z7/spd20rg13kl9j0xgnkbzdrf40000gn/T/ipykernel_7263/1082108646.py\u001b[0m in \u001b[0;36m<module>\u001b[0;34m\u001b[0m\n\u001b[1;32m      1\u001b[0m \u001b[0;32mimport\u001b[0m \u001b[0mpickle\u001b[0m\u001b[0;34m\u001b[0m\u001b[0;34m\u001b[0m\u001b[0m\n\u001b[1;32m      2\u001b[0m \u001b[0;32mimport\u001b[0m \u001b[0mpandas\u001b[0m \u001b[0;32mas\u001b[0m \u001b[0mpd\u001b[0m\u001b[0;34m\u001b[0m\u001b[0;34m\u001b[0m\u001b[0m\n\u001b[0;32m----> 3\u001b[0;31m \u001b[0;32mfrom\u001b[0m \u001b[0mrossmann\u001b[0m\u001b[0;34m.\u001b[0m\u001b[0mRossmann\u001b[0m \u001b[0;32mimport\u001b[0m \u001b[0mRossmann\u001b[0m\u001b[0;34m\u001b[0m\u001b[0;34m\u001b[0m\u001b[0m\n\u001b[0m\u001b[1;32m      4\u001b[0m \u001b[0;32mfrom\u001b[0m \u001b[0mflask\u001b[0m             \u001b[0;32mimport\u001b[0m \u001b[0mFlask\u001b[0m\u001b[0;34m,\u001b[0m \u001b[0mrequest\u001b[0m\u001b[0;34m,\u001b[0m \u001b[0mResponse\u001b[0m\u001b[0;34m\u001b[0m\u001b[0;34m\u001b[0m\u001b[0m\n\u001b[1;32m      5\u001b[0m \u001b[0;34m\u001b[0m\u001b[0m\n",
      "\u001b[0;31mModuleNotFoundError\u001b[0m: No module named 'rossmann'"
     ]
    }
   ],
   "source": [
    "import pickle\n",
    "import pandas as pd\n",
    "from rossmann.Rossmann import Rossmann\n",
    "from flask             import Flask, request, Response\n",
    "\n",
    "#carregar modelo em memória\n",
    "model = pickle.load( open ('/Users/home/repos/pharmacy_sales_forecast/model/model_rossmann.pkl', 'rb' ) )\n",
    "             \n",
    "app = Flask (__name__)\n",
    "\n",
    "#criar o endpoint\n",
    "@app.route( '/rossmann/predict', methods=['POST'] )\n",
    "#ao receber chamada, executa:\n",
    "def rossmann_predict():\n",
    "    test_json = request.get_json()\n",
    "\n",
    "    #conversão do json em dataframe\n",
    "    if test_json: #se recebeu dados\n",
    "        #se vier um só json\n",
    "        if isinstance( test_json, dict ):\n",
    "            test_raw = pd.DataFrame( test_json, index=[0] )\n",
    "        # se vierem vários jsons\n",
    "        else:\n",
    "            #pega todas as chaves da primeira linha (json é um dicionário), e assume estas chaves como colunas \n",
    "            test_raw = pd.DataFrame( test_json, columns=test_json[0].keys() )\n",
    "            \n",
    "        # Instanciar Rossmann class, pra ter acesso aos seus métodos.\n",
    "        pipeline = Rossmann()\n",
    "        \n",
    "        #data cleaning\n",
    "        df1 = pipeline.data_cleaning( test_raw )\n",
    "        \n",
    "        #feature engineering\n",
    "        df2 = pipeline.feature_engineering( df1 )\n",
    "        \n",
    "        #data preparation\n",
    "        df3 = pipeline.data_preparation( df2 )\n",
    "        \n",
    "        #prediction                   #modelo, dados originais, dados preparados\n",
    "        df_response = pipeline.get_prediction( model, test_raw, df3 )\n",
    "            \n",
    "        return df_response\n",
    "    else:\n",
    "        #requisição deu certo, mas retorna vazio pois recebeu vazio.\n",
    "        return Response( '{}', status=200, mimetype='application/json' )\n",
    "if __name__ == '__main__':  \n",
    "    #rodar no localhost\n",
    "    app.run ( '0.0.0.0' )\n"
   ]
  },
  {
   "cell_type": "markdown",
   "id": "df42df87",
   "metadata": {},
   "source": [
    "## API Tester"
   ]
  },
  {
   "cell_type": "markdown",
   "id": "230e6cdd",
   "metadata": {},
   "source": [
    "3 - Criar um Script para testar a API."
   ]
  },
  {
   "cell_type": "code",
   "execution_count": 93,
   "id": "1d37bee3",
   "metadata": {
    "ExecuteTime": {
     "end_time": "2022-01-19T16:09:29.985317Z",
     "start_time": "2022-01-19T16:09:29.970432Z"
    }
   },
   "outputs": [],
   "source": [
    "import pandas as pd\n",
    "import requests\n",
    "import json"
   ]
  },
  {
   "cell_type": "code",
   "execution_count": 94,
   "id": "5a6ae2ee",
   "metadata": {
    "ExecuteTime": {
     "end_time": "2022-01-19T16:09:30.658710Z",
     "start_time": "2022-01-19T16:09:30.599247Z"
    }
   },
   "outputs": [],
   "source": [
    "#loading test dataset\n",
    "df10 = pd.read_csv( '/Users/home/repos/pharmacy_sales_forecast/data/test.csv' )\n",
    "df_store_raw = pd.read_csv(\"/Users/home/repos/pharmacy_sales_forecast/data/store.csv\", low_memory=False)"
   ]
  },
  {
   "cell_type": "code",
   "execution_count": 95,
   "id": "a75c4f9b",
   "metadata": {
    "ExecuteTime": {
     "end_time": "2022-01-19T16:09:31.158024Z",
     "start_time": "2022-01-19T16:09:31.135500Z"
    }
   },
   "outputs": [
    {
     "data": {
      "text/html": [
       "<div>\n",
       "<style scoped>\n",
       "    .dataframe tbody tr th:only-of-type {\n",
       "        vertical-align: middle;\n",
       "    }\n",
       "\n",
       "    .dataframe tbody tr th {\n",
       "        vertical-align: top;\n",
       "    }\n",
       "\n",
       "    .dataframe thead th {\n",
       "        text-align: right;\n",
       "    }\n",
       "</style>\n",
       "<table border=\"1\" class=\"dataframe\">\n",
       "  <thead>\n",
       "    <tr style=\"text-align: right;\">\n",
       "      <th></th>\n",
       "      <th>Store</th>\n",
       "      <th>StoreType</th>\n",
       "      <th>Assortment</th>\n",
       "      <th>CompetitionDistance</th>\n",
       "      <th>CompetitionOpenSinceMonth</th>\n",
       "      <th>CompetitionOpenSinceYear</th>\n",
       "      <th>Promo2</th>\n",
       "      <th>Promo2SinceWeek</th>\n",
       "      <th>Promo2SinceYear</th>\n",
       "      <th>PromoInterval</th>\n",
       "    </tr>\n",
       "  </thead>\n",
       "  <tbody>\n",
       "    <tr>\n",
       "      <th>0</th>\n",
       "      <td>1</td>\n",
       "      <td>c</td>\n",
       "      <td>a</td>\n",
       "      <td>1270.0</td>\n",
       "      <td>9.0</td>\n",
       "      <td>2008.0</td>\n",
       "      <td>0</td>\n",
       "      <td>NaN</td>\n",
       "      <td>NaN</td>\n",
       "      <td>NaN</td>\n",
       "    </tr>\n",
       "    <tr>\n",
       "      <th>1</th>\n",
       "      <td>2</td>\n",
       "      <td>a</td>\n",
       "      <td>a</td>\n",
       "      <td>570.0</td>\n",
       "      <td>11.0</td>\n",
       "      <td>2007.0</td>\n",
       "      <td>1</td>\n",
       "      <td>13.0</td>\n",
       "      <td>2010.0</td>\n",
       "      <td>Jan,Apr,Jul,Oct</td>\n",
       "    </tr>\n",
       "    <tr>\n",
       "      <th>2</th>\n",
       "      <td>3</td>\n",
       "      <td>a</td>\n",
       "      <td>a</td>\n",
       "      <td>14130.0</td>\n",
       "      <td>12.0</td>\n",
       "      <td>2006.0</td>\n",
       "      <td>1</td>\n",
       "      <td>14.0</td>\n",
       "      <td>2011.0</td>\n",
       "      <td>Jan,Apr,Jul,Oct</td>\n",
       "    </tr>\n",
       "    <tr>\n",
       "      <th>3</th>\n",
       "      <td>4</td>\n",
       "      <td>c</td>\n",
       "      <td>c</td>\n",
       "      <td>620.0</td>\n",
       "      <td>9.0</td>\n",
       "      <td>2009.0</td>\n",
       "      <td>0</td>\n",
       "      <td>NaN</td>\n",
       "      <td>NaN</td>\n",
       "      <td>NaN</td>\n",
       "    </tr>\n",
       "    <tr>\n",
       "      <th>4</th>\n",
       "      <td>5</td>\n",
       "      <td>a</td>\n",
       "      <td>a</td>\n",
       "      <td>29910.0</td>\n",
       "      <td>4.0</td>\n",
       "      <td>2015.0</td>\n",
       "      <td>0</td>\n",
       "      <td>NaN</td>\n",
       "      <td>NaN</td>\n",
       "      <td>NaN</td>\n",
       "    </tr>\n",
       "  </tbody>\n",
       "</table>\n",
       "</div>"
      ],
      "text/plain": [
       "   Store StoreType Assortment  CompetitionDistance  CompetitionOpenSinceMonth  \\\n",
       "0      1         c          a               1270.0                        9.0   \n",
       "1      2         a          a                570.0                       11.0   \n",
       "2      3         a          a              14130.0                       12.0   \n",
       "3      4         c          c                620.0                        9.0   \n",
       "4      5         a          a              29910.0                        4.0   \n",
       "\n",
       "   CompetitionOpenSinceYear  Promo2  Promo2SinceWeek  Promo2SinceYear  \\\n",
       "0                    2008.0       0              NaN              NaN   \n",
       "1                    2007.0       1             13.0           2010.0   \n",
       "2                    2006.0       1             14.0           2011.0   \n",
       "3                    2009.0       0              NaN              NaN   \n",
       "4                    2015.0       0              NaN              NaN   \n",
       "\n",
       "     PromoInterval  \n",
       "0              NaN  \n",
       "1  Jan,Apr,Jul,Oct  \n",
       "2  Jan,Apr,Jul,Oct  \n",
       "3              NaN  \n",
       "4              NaN  "
      ]
     },
     "execution_count": 95,
     "metadata": {},
     "output_type": "execute_result"
    }
   ],
   "source": [
    "df_store_raw.head(5)"
   ]
  },
  {
   "cell_type": "code",
   "execution_count": 112,
   "id": "4793b731",
   "metadata": {
    "ExecuteTime": {
     "end_time": "2022-01-19T16:10:36.810461Z",
     "start_time": "2022-01-19T16:10:36.766228Z"
    }
   },
   "outputs": [],
   "source": [
    "#merge test dataset + store - para ter todos os dados necessários para as predições\n",
    "df_test = pd.merge( df10, df_store_raw, how='left', on='Store' )\n",
    "\n",
    "#choose store for prediction - prever só p/ 1 loja no teste\n",
    "#df_test = df_test[df_test['Store'] == 22 ]\n",
    "df_test = df_test[df_test['Store'].isin( [1, 3, 16, 24, 12, 100] )]\n",
    "\n",
    "\n",
    "df_test = df_test[df_test['Open'] != 0] #remove closed days\n",
    "df_test = df_test[~df_test['Open'].isnull()]##pegar linhas que não tem o Open vazio (sem impacto na loja 22..)\n",
    "df_test = df_test.drop( 'Id', axis=1 )#drop id"
   ]
  },
  {
   "cell_type": "code",
   "execution_count": 115,
   "id": "8d41895b",
   "metadata": {
    "ExecuteTime": {
     "end_time": "2022-01-19T16:10:40.372958Z",
     "start_time": "2022-01-19T16:10:40.357619Z"
    }
   },
   "outputs": [],
   "source": [
    "#convert Dataframe to json pra poder enviar via API \n",
    "#cada linha vira um json assim -> {\"Store\": 22, \"DayOfWeek\": 4, (demais chave+valor) }\n",
    "data = json.dumps( df_test.to_dict( orient='records' ) )"
   ]
  },
  {
   "cell_type": "code",
   "execution_count": 116,
   "id": "55a1b0f4",
   "metadata": {
    "ExecuteTime": {
     "end_time": "2022-01-19T16:10:40.912309Z",
     "start_time": "2022-01-19T16:10:40.890084Z"
    }
   },
   "outputs": [
    {
     "data": {
      "text/plain": [
       "'[{\"Store\": 1, \"DayOfWeek\": 4, \"Date\": \"2015-09-17\", \"Open\": 1.0, \"Promo\": 1, \"StateHoliday\": \"0\", \"SchoolHoliday\": 0, \"StoreType\": \"c\", \"Assortment\": \"a\", \"CompetitionDistance\": 1270.0, \"CompetitionOpenSinceMonth\": 9.0, \"CompetitionOpenSinceYear\": 2008.0, \"Promo2\": 0, \"Promo2SinceWeek\": NaN, \"Promo2SinceYear\": NaN, \"PromoInterval\": NaN}, {\"Store\": 3, \"DayOfWeek\": 4, \"Date\": \"2015-09-17\", \"Open\": 1.0, \"Promo\": 1, \"StateHoliday\": \"0\", \"SchoolHoliday\": 0, \"StoreType\": \"a\", \"Assortment\": \"a\", \"CompetitionDistance\": 14130.0, \"CompetitionOpenSinceMonth\": 12.0, \"CompetitionOpenSinceYear\": 2006.0, \"Promo2\": 1, \"Promo2SinceWeek\": 14.0, \"Promo2SinceYear\": 2011.0, \"PromoInterval\": \"Jan,Apr,Jul,Oct\"}, {\"Store\": 12, \"DayOfWeek\": 4, \"Date\": \"2015-09-17\", \"Open\": 1.0, \"Promo\": 1, \"StateHoliday\": \"0\", \"SchoolHoliday\": 0, \"StoreType\": \"a\", \"Assortment\": \"c\", \"CompetitionDistance\": 1070.0, \"CompetitionOpenSinceMonth\": NaN, \"CompetitionOpenSinceYear\": NaN, \"Promo2\": 1, \"Promo2SinceWeek\": 13.0, \"Promo2SinceYear\": 2010.0, \"PromoInterval\": \"Jan,Apr,Jul,Oct\"}, {\"Store\": 16, \"DayOfWeek\": 4, \"Date\": \"2015-09-17\", \"Open\": 1.0, \"Promo\": 1, \"StateHoliday\": \"0\", \"SchoolHoliday\": 0, \"StoreType\": \"a\", \"Assortment\": \"c\", \"CompetitionDistance\": 3270.0, \"CompetitionOpenSinceMonth\": NaN, \"CompetitionOpenSinceYear\": NaN, \"Promo2\": 0, \"Promo2SinceWeek\": NaN, \"Promo2SinceYear\": NaN, \"PromoInterval\": NaN}, {\"Store\": 24, \"DayOfWeek\": 4, \"Date\": \"2015-09-17\", \"Open\": 1.0, \"Promo\": 1, \"StateHoliday\": \"0\", \"SchoolHoliday\": 0, \"StoreType\": \"a\", \"Assortment\": \"c\", \"CompetitionDistance\": 4590.0, \"CompetitionOpenSinceMonth\": 3.0, \"CompetitionOpenSinceYear\": 2000.0, \"Promo2\": 1, \"Promo2SinceWeek\": 40.0, \"Promo2SinceYear\": 2011.0, \"PromoInterval\": \"Jan,Apr,Jul,Oct\"}, {\"Store\": 100, \"DayOfWeek\": 4, \"Date\": \"2015-09-17\", \"Open\": 1.0, \"Promo\": 1, \"StateHoliday\": \"0\", \"SchoolHoliday\": 0, \"StoreType\": \"d\", \"Assortment\": \"a\", \"CompetitionDistance\": 17930.0, \"CompetitionOpenSinceMonth\": NaN, \"CompetitionOpenSinceYear\": NaN, \"Promo2\": 0, \"Promo2SinceWeek\": NaN, \"Promo2SinceYear\": NaN, \"PromoInterval\": NaN}, {\"Store\": 1, \"DayOfWeek\": 3, \"Date\": \"2015-09-16\", \"Open\": 1.0, \"Promo\": 1, \"StateHoliday\": \"0\", \"SchoolHoliday\": 0, \"StoreType\": \"c\", \"Assortment\": \"a\", \"CompetitionDistance\": 1270.0, \"CompetitionOpenSinceMonth\": 9.0, \"CompetitionOpenSinceYear\": 2008.0, \"Promo2\": 0, \"Promo2SinceWeek\": NaN, \"Promo2SinceYear\": NaN, \"PromoInterval\": NaN}, {\"Store\": 3, \"DayOfWeek\": 3, \"Date\": \"2015-09-16\", \"Open\": 1.0, \"Promo\": 1, \"StateHoliday\": \"0\", \"SchoolHoliday\": 0, \"StoreType\": \"a\", \"Assortment\": \"a\", \"CompetitionDistance\": 14130.0, \"CompetitionOpenSinceMonth\": 12.0, \"CompetitionOpenSinceYear\": 2006.0, \"Promo2\": 1, \"Promo2SinceWeek\": 14.0, \"Promo2SinceYear\": 2011.0, \"PromoInterval\": \"Jan,Apr,Jul,Oct\"}, {\"Store\": 12, \"DayOfWeek\": 3, \"Date\": \"2015-09-16\", \"Open\": 1.0, \"Promo\": 1, \"StateHoliday\": \"0\", \"SchoolHoliday\": 0, \"StoreType\": \"a\", \"Assortment\": \"c\", \"CompetitionDistance\": 1070.0, \"CompetitionOpenSinceMonth\": NaN, \"CompetitionOpenSinceYear\": NaN, \"Promo2\": 1, \"Promo2SinceWeek\": 13.0, \"Promo2SinceYear\": 2010.0, \"PromoInterval\": \"Jan,Apr,Jul,Oct\"}, {\"Store\": 16, \"DayOfWeek\": 3, \"Date\": \"2015-09-16\", \"Open\": 1.0, \"Promo\": 1, \"StateHoliday\": \"0\", \"SchoolHoliday\": 0, \"StoreType\": \"a\", \"Assortment\": \"c\", \"CompetitionDistance\": 3270.0, \"CompetitionOpenSinceMonth\": NaN, \"CompetitionOpenSinceYear\": NaN, \"Promo2\": 0, \"Promo2SinceWeek\": NaN, \"Promo2SinceYear\": NaN, \"PromoInterval\": NaN}, {\"Store\": 24, \"DayOfWeek\": 3, \"Date\": \"2015-09-16\", \"Open\": 1.0, \"Promo\": 1, \"StateHoliday\": \"0\", \"SchoolHoliday\": 0, \"StoreType\": \"a\", \"Assortment\": \"c\", \"CompetitionDistance\": 4590.0, \"CompetitionOpenSinceMonth\": 3.0, \"CompetitionOpenSinceYear\": 2000.0, \"Promo2\": 1, \"Promo2SinceWeek\": 40.0, \"Promo2SinceYear\": 2011.0, \"PromoInterval\": \"Jan,Apr,Jul,Oct\"}, {\"Store\": 100, \"DayOfWeek\": 3, \"Date\": \"2015-09-16\", \"Open\": 1.0, \"Promo\": 1, \"StateHoliday\": \"0\", \"SchoolHoliday\": 0, \"StoreType\": \"d\", \"Assortment\": \"a\", \"CompetitionDistance\": 17930.0, \"CompetitionOpenSinceMonth\": NaN, \"CompetitionOpenSinceYear\": NaN, \"Promo2\": 0, \"Promo2SinceWeek\": NaN, \"Promo2SinceYear\": NaN, \"PromoInterval\": NaN}, {\"Store\": 1, \"DayOfWeek\": 2, \"Date\": \"2015-09-15\", \"Open\": 1.0, \"Promo\": 1, \"StateHoliday\": \"0\", \"SchoolHoliday\": 0, \"StoreType\": \"c\", \"Assortment\": \"a\", \"CompetitionDistance\": 1270.0, \"CompetitionOpenSinceMonth\": 9.0, \"CompetitionOpenSinceYear\": 2008.0, \"Promo2\": 0, \"Promo2SinceWeek\": NaN, \"Promo2SinceYear\": NaN, \"PromoInterval\": NaN}, {\"Store\": 3, \"DayOfWeek\": 2, \"Date\": \"2015-09-15\", \"Open\": 1.0, \"Promo\": 1, \"StateHoliday\": \"0\", \"SchoolHoliday\": 0, \"StoreType\": \"a\", \"Assortment\": \"a\", \"CompetitionDistance\": 14130.0, \"CompetitionOpenSinceMonth\": 12.0, \"CompetitionOpenSinceYear\": 2006.0, \"Promo2\": 1, \"Promo2SinceWeek\": 14.0, \"Promo2SinceYear\": 2011.0, \"PromoInterval\": \"Jan,Apr,Jul,Oct\"}, {\"Store\": 12, \"DayOfWeek\": 2, \"Date\": \"2015-09-15\", \"Open\": 1.0, \"Promo\": 1, \"StateHoliday\": \"0\", \"SchoolHoliday\": 0, \"StoreType\": \"a\", \"Assortment\": \"c\", \"CompetitionDistance\": 1070.0, \"CompetitionOpenSinceMonth\": NaN, \"CompetitionOpenSinceYear\": NaN, \"Promo2\": 1, \"Promo2SinceWeek\": 13.0, \"Promo2SinceYear\": 2010.0, \"PromoInterval\": \"Jan,Apr,Jul,Oct\"}, {\"Store\": 16, \"DayOfWeek\": 2, \"Date\": \"2015-09-15\", \"Open\": 1.0, \"Promo\": 1, \"StateHoliday\": \"0\", \"SchoolHoliday\": 0, \"StoreType\": \"a\", \"Assortment\": \"c\", \"CompetitionDistance\": 3270.0, \"CompetitionOpenSinceMonth\": NaN, \"CompetitionOpenSinceYear\": NaN, \"Promo2\": 0, \"Promo2SinceWeek\": NaN, \"Promo2SinceYear\": NaN, \"PromoInterval\": NaN}, {\"Store\": 24, \"DayOfWeek\": 2, \"Date\": \"2015-09-15\", \"Open\": 1.0, \"Promo\": 1, \"StateHoliday\": \"0\", \"SchoolHoliday\": 0, \"StoreType\": \"a\", \"Assortment\": \"c\", \"CompetitionDistance\": 4590.0, \"CompetitionOpenSinceMonth\": 3.0, \"CompetitionOpenSinceYear\": 2000.0, \"Promo2\": 1, \"Promo2SinceWeek\": 40.0, \"Promo2SinceYear\": 2011.0, \"PromoInterval\": \"Jan,Apr,Jul,Oct\"}, {\"Store\": 100, \"DayOfWeek\": 2, \"Date\": \"2015-09-15\", \"Open\": 1.0, \"Promo\": 1, \"StateHoliday\": \"0\", \"SchoolHoliday\": 0, \"StoreType\": \"d\", \"Assortment\": \"a\", \"CompetitionDistance\": 17930.0, \"CompetitionOpenSinceMonth\": NaN, \"CompetitionOpenSinceYear\": NaN, \"Promo2\": 0, \"Promo2SinceWeek\": NaN, \"Promo2SinceYear\": NaN, \"PromoInterval\": NaN}, {\"Store\": 1, \"DayOfWeek\": 1, \"Date\": \"2015-09-14\", \"Open\": 1.0, \"Promo\": 1, \"StateHoliday\": \"0\", \"SchoolHoliday\": 0, \"StoreType\": \"c\", \"Assortment\": \"a\", \"CompetitionDistance\": 1270.0, \"CompetitionOpenSinceMonth\": 9.0, \"CompetitionOpenSinceYear\": 2008.0, \"Promo2\": 0, \"Promo2SinceWeek\": NaN, \"Promo2SinceYear\": NaN, \"PromoInterval\": NaN}, {\"Store\": 3, \"DayOfWeek\": 1, \"Date\": \"2015-09-14\", \"Open\": 1.0, \"Promo\": 1, \"StateHoliday\": \"0\", \"SchoolHoliday\": 0, \"StoreType\": \"a\", \"Assortment\": \"a\", \"CompetitionDistance\": 14130.0, \"CompetitionOpenSinceMonth\": 12.0, \"CompetitionOpenSinceYear\": 2006.0, \"Promo2\": 1, \"Promo2SinceWeek\": 14.0, \"Promo2SinceYear\": 2011.0, \"PromoInterval\": \"Jan,Apr,Jul,Oct\"}, {\"Store\": 12, \"DayOfWeek\": 1, \"Date\": \"2015-09-14\", \"Open\": 1.0, \"Promo\": 1, \"StateHoliday\": \"0\", \"SchoolHoliday\": 0, \"StoreType\": \"a\", \"Assortment\": \"c\", \"CompetitionDistance\": 1070.0, \"CompetitionOpenSinceMonth\": NaN, \"CompetitionOpenSinceYear\": NaN, \"Promo2\": 1, \"Promo2SinceWeek\": 13.0, \"Promo2SinceYear\": 2010.0, \"PromoInterval\": \"Jan,Apr,Jul,Oct\"}, {\"Store\": 16, \"DayOfWeek\": 1, \"Date\": \"2015-09-14\", \"Open\": 1.0, \"Promo\": 1, \"StateHoliday\": \"0\", \"SchoolHoliday\": 0, \"StoreType\": \"a\", \"Assortment\": \"c\", \"CompetitionDistance\": 3270.0, \"CompetitionOpenSinceMonth\": NaN, \"CompetitionOpenSinceYear\": NaN, \"Promo2\": 0, \"Promo2SinceWeek\": NaN, \"Promo2SinceYear\": NaN, \"PromoInterval\": NaN}, {\"Store\": 24, \"DayOfWeek\": 1, \"Date\": \"2015-09-14\", \"Open\": 1.0, \"Promo\": 1, \"StateHoliday\": \"0\", \"SchoolHoliday\": 0, \"StoreType\": \"a\", \"Assortment\": \"c\", \"CompetitionDistance\": 4590.0, \"CompetitionOpenSinceMonth\": 3.0, \"CompetitionOpenSinceYear\": 2000.0, \"Promo2\": 1, \"Promo2SinceWeek\": 40.0, \"Promo2SinceYear\": 2011.0, \"PromoInterval\": \"Jan,Apr,Jul,Oct\"}, {\"Store\": 100, \"DayOfWeek\": 1, \"Date\": \"2015-09-14\", \"Open\": 1.0, \"Promo\": 1, \"StateHoliday\": \"0\", \"SchoolHoliday\": 1, \"StoreType\": \"d\", \"Assortment\": \"a\", \"CompetitionDistance\": 17930.0, \"CompetitionOpenSinceMonth\": NaN, \"CompetitionOpenSinceYear\": NaN, \"Promo2\": 0, \"Promo2SinceWeek\": NaN, \"Promo2SinceYear\": NaN, \"PromoInterval\": NaN}, {\"Store\": 1, \"DayOfWeek\": 6, \"Date\": \"2015-09-12\", \"Open\": 1.0, \"Promo\": 0, \"StateHoliday\": \"0\", \"SchoolHoliday\": 0, \"StoreType\": \"c\", \"Assortment\": \"a\", \"CompetitionDistance\": 1270.0, \"CompetitionOpenSinceMonth\": 9.0, \"CompetitionOpenSinceYear\": 2008.0, \"Promo2\": 0, \"Promo2SinceWeek\": NaN, \"Promo2SinceYear\": NaN, \"PromoInterval\": NaN}, {\"Store\": 3, \"DayOfWeek\": 6, \"Date\": \"2015-09-12\", \"Open\": 1.0, \"Promo\": 0, \"StateHoliday\": \"0\", \"SchoolHoliday\": 0, \"StoreType\": \"a\", \"Assortment\": \"a\", \"CompetitionDistance\": 14130.0, \"CompetitionOpenSinceMonth\": 12.0, \"CompetitionOpenSinceYear\": 2006.0, \"Promo2\": 1, \"Promo2SinceWeek\": 14.0, \"Promo2SinceYear\": 2011.0, \"PromoInterval\": \"Jan,Apr,Jul,Oct\"}, {\"Store\": 12, \"DayOfWeek\": 6, \"Date\": \"2015-09-12\", \"Open\": 1.0, \"Promo\": 0, \"StateHoliday\": \"0\", \"SchoolHoliday\": 0, \"StoreType\": \"a\", \"Assortment\": \"c\", \"CompetitionDistance\": 1070.0, \"CompetitionOpenSinceMonth\": NaN, \"CompetitionOpenSinceYear\": NaN, \"Promo2\": 1, \"Promo2SinceWeek\": 13.0, \"Promo2SinceYear\": 2010.0, \"PromoInterval\": \"Jan,Apr,Jul,Oct\"}, {\"Store\": 16, \"DayOfWeek\": 6, \"Date\": \"2015-09-12\", \"Open\": 1.0, \"Promo\": 0, \"StateHoliday\": \"0\", \"SchoolHoliday\": 0, \"StoreType\": \"a\", \"Assortment\": \"c\", \"CompetitionDistance\": 3270.0, \"CompetitionOpenSinceMonth\": NaN, \"CompetitionOpenSinceYear\": NaN, \"Promo2\": 0, \"Promo2SinceWeek\": NaN, \"Promo2SinceYear\": NaN, \"PromoInterval\": NaN}, {\"Store\": 24, \"DayOfWeek\": 6, \"Date\": \"2015-09-12\", \"Open\": 1.0, \"Promo\": 0, \"StateHoliday\": \"0\", \"SchoolHoliday\": 0, \"StoreType\": \"a\", \"Assortment\": \"c\", \"CompetitionDistance\": 4590.0, \"CompetitionOpenSinceMonth\": 3.0, \"CompetitionOpenSinceYear\": 2000.0, \"Promo2\": 1, \"Promo2SinceWeek\": 40.0, \"Promo2SinceYear\": 2011.0, \"PromoInterval\": \"Jan,Apr,Jul,Oct\"}, {\"Store\": 100, \"DayOfWeek\": 6, \"Date\": \"2015-09-12\", \"Open\": 1.0, \"Promo\": 0, \"StateHoliday\": \"0\", \"SchoolHoliday\": 0, \"StoreType\": \"d\", \"Assortment\": \"a\", \"CompetitionDistance\": 17930.0, \"CompetitionOpenSinceMonth\": NaN, \"CompetitionOpenSinceYear\": NaN, \"Promo2\": 0, \"Promo2SinceWeek\": NaN, \"Promo2SinceYear\": NaN, \"PromoInterval\": NaN}, {\"Store\": 1, \"DayOfWeek\": 5, \"Date\": \"2015-09-11\", \"Open\": 1.0, \"Promo\": 0, \"StateHoliday\": \"0\", \"SchoolHoliday\": 0, \"StoreType\": \"c\", \"Assortment\": \"a\", \"CompetitionDistance\": 1270.0, \"CompetitionOpenSinceMonth\": 9.0, \"CompetitionOpenSinceYear\": 2008.0, \"Promo2\": 0, \"Promo2SinceWeek\": NaN, \"Promo2SinceYear\": NaN, \"PromoInterval\": NaN}, {\"Store\": 3, \"DayOfWeek\": 5, \"Date\": \"2015-09-11\", \"Open\": 1.0, \"Promo\": 0, \"StateHoliday\": \"0\", \"SchoolHoliday\": 0, \"StoreType\": \"a\", \"Assortment\": \"a\", \"CompetitionDistance\": 14130.0, \"CompetitionOpenSinceMonth\": 12.0, \"CompetitionOpenSinceYear\": 2006.0, \"Promo2\": 1, \"Promo2SinceWeek\": 14.0, \"Promo2SinceYear\": 2011.0, \"PromoInterval\": \"Jan,Apr,Jul,Oct\"}, {\"Store\": 12, \"DayOfWeek\": 5, \"Date\": \"2015-09-11\", \"Open\": 1.0, \"Promo\": 0, \"StateHoliday\": \"0\", \"SchoolHoliday\": 0, \"StoreType\": \"a\", \"Assortment\": \"c\", \"CompetitionDistance\": 1070.0, \"CompetitionOpenSinceMonth\": NaN, \"CompetitionOpenSinceYear\": NaN, \"Promo2\": 1, \"Promo2SinceWeek\": 13.0, \"Promo2SinceYear\": 2010.0, \"PromoInterval\": \"Jan,Apr,Jul,Oct\"}, {\"Store\": 16, \"DayOfWeek\": 5, \"Date\": \"2015-09-11\", \"Open\": 1.0, \"Promo\": 0, \"StateHoliday\": \"0\", \"SchoolHoliday\": 1, \"StoreType\": \"a\", \"Assortment\": \"c\", \"CompetitionDistance\": 3270.0, \"CompetitionOpenSinceMonth\": NaN, \"CompetitionOpenSinceYear\": NaN, \"Promo2\": 0, \"Promo2SinceWeek\": NaN, \"Promo2SinceYear\": NaN, \"PromoInterval\": NaN}, {\"Store\": 24, \"DayOfWeek\": 5, \"Date\": \"2015-09-11\", \"Open\": 1.0, \"Promo\": 0, \"StateHoliday\": \"0\", \"SchoolHoliday\": 0, \"StoreType\": \"a\", \"Assortment\": \"c\", \"CompetitionDistance\": 4590.0, \"CompetitionOpenSinceMonth\": 3.0, \"CompetitionOpenSinceYear\": 2000.0, \"Promo2\": 1, \"Promo2SinceWeek\": 40.0, \"Promo2SinceYear\": 2011.0, \"PromoInterval\": \"Jan,Apr,Jul,Oct\"}, {\"Store\": 100, \"DayOfWeek\": 5, \"Date\": \"2015-09-11\", \"Open\": 1.0, \"Promo\": 0, \"StateHoliday\": \"0\", \"SchoolHoliday\": 1, \"StoreType\": \"d\", \"Assortment\": \"a\", \"CompetitionDistance\": 17930.0, \"CompetitionOpenSinceMonth\": NaN, \"CompetitionOpenSinceYear\": NaN, \"Promo2\": 0, \"Promo2SinceWeek\": NaN, \"Promo2SinceYear\": NaN, \"PromoInterval\": NaN}, {\"Store\": 1, \"DayOfWeek\": 4, \"Date\": \"2015-09-10\", \"Open\": 1.0, \"Promo\": 0, \"StateHoliday\": \"0\", \"SchoolHoliday\": 0, \"StoreType\": \"c\", \"Assortment\": \"a\", \"CompetitionDistance\": 1270.0, \"CompetitionOpenSinceMonth\": 9.0, \"CompetitionOpenSinceYear\": 2008.0, \"Promo2\": 0, \"Promo2SinceWeek\": NaN, \"Promo2SinceYear\": NaN, \"PromoInterval\": NaN}, {\"Store\": 3, \"DayOfWeek\": 4, \"Date\": \"2015-09-10\", \"Open\": 1.0, \"Promo\": 0, \"StateHoliday\": \"0\", \"SchoolHoliday\": 0, \"StoreType\": \"a\", \"Assortment\": \"a\", \"CompetitionDistance\": 14130.0, \"CompetitionOpenSinceMonth\": 12.0, \"CompetitionOpenSinceYear\": 2006.0, \"Promo2\": 1, \"Promo2SinceWeek\": 14.0, \"Promo2SinceYear\": 2011.0, \"PromoInterval\": \"Jan,Apr,Jul,Oct\"}, {\"Store\": 12, \"DayOfWeek\": 4, \"Date\": \"2015-09-10\", \"Open\": 1.0, \"Promo\": 0, \"StateHoliday\": \"0\", \"SchoolHoliday\": 0, \"StoreType\": \"a\", \"Assortment\": \"c\", \"CompetitionDistance\": 1070.0, \"CompetitionOpenSinceMonth\": NaN, \"CompetitionOpenSinceYear\": NaN, \"Promo2\": 1, \"Promo2SinceWeek\": 13.0, \"Promo2SinceYear\": 2010.0, \"PromoInterval\": \"Jan,Apr,Jul,Oct\"}, {\"Store\": 16, \"DayOfWeek\": 4, \"Date\": \"2015-09-10\", \"Open\": 1.0, \"Promo\": 0, \"StateHoliday\": \"0\", \"SchoolHoliday\": 1, \"StoreType\": \"a\", \"Assortment\": \"c\", \"CompetitionDistance\": 3270.0, \"CompetitionOpenSinceMonth\": NaN, \"CompetitionOpenSinceYear\": NaN, \"Promo2\": 0, \"Promo2SinceWeek\": NaN, \"Promo2SinceYear\": NaN, \"PromoInterval\": NaN}, {\"Store\": 24, \"DayOfWeek\": 4, \"Date\": \"2015-09-10\", \"Open\": 1.0, \"Promo\": 0, \"StateHoliday\": \"0\", \"SchoolHoliday\": 0, \"StoreType\": \"a\", \"Assortment\": \"c\", \"CompetitionDistance\": 4590.0, \"CompetitionOpenSinceMonth\": 3.0, \"CompetitionOpenSinceYear\": 2000.0, \"Promo2\": 1, \"Promo2SinceWeek\": 40.0, \"Promo2SinceYear\": 2011.0, \"PromoInterval\": \"Jan,Apr,Jul,Oct\"}, {\"Store\": 100, \"DayOfWeek\": 4, \"Date\": \"2015-09-10\", \"Open\": 1.0, \"Promo\": 0, \"StateHoliday\": \"0\", \"SchoolHoliday\": 1, \"StoreType\": \"d\", \"Assortment\": \"a\", \"CompetitionDistance\": 17930.0, \"CompetitionOpenSinceMonth\": NaN, \"CompetitionOpenSinceYear\": NaN, \"Promo2\": 0, \"Promo2SinceWeek\": NaN, \"Promo2SinceYear\": NaN, \"PromoInterval\": NaN}, {\"Store\": 1, \"DayOfWeek\": 3, \"Date\": \"2015-09-09\", \"Open\": 1.0, \"Promo\": 0, \"StateHoliday\": \"0\", \"SchoolHoliday\": 0, \"StoreType\": \"c\", \"Assortment\": \"a\", \"CompetitionDistance\": 1270.0, \"CompetitionOpenSinceMonth\": 9.0, \"CompetitionOpenSinceYear\": 2008.0, \"Promo2\": 0, \"Promo2SinceWeek\": NaN, \"Promo2SinceYear\": NaN, \"PromoInterval\": NaN}, {\"Store\": 3, \"DayOfWeek\": 3, \"Date\": \"2015-09-09\", \"Open\": 1.0, \"Promo\": 0, \"StateHoliday\": \"0\", \"SchoolHoliday\": 0, \"StoreType\": \"a\", \"Assortment\": \"a\", \"CompetitionDistance\": 14130.0, \"CompetitionOpenSinceMonth\": 12.0, \"CompetitionOpenSinceYear\": 2006.0, \"Promo2\": 1, \"Promo2SinceWeek\": 14.0, \"Promo2SinceYear\": 2011.0, \"PromoInterval\": \"Jan,Apr,Jul,Oct\"}, {\"Store\": 12, \"DayOfWeek\": 3, \"Date\": \"2015-09-09\", \"Open\": 1.0, \"Promo\": 0, \"StateHoliday\": \"0\", \"SchoolHoliday\": 0, \"StoreType\": \"a\", \"Assortment\": \"c\", \"CompetitionDistance\": 1070.0, \"CompetitionOpenSinceMonth\": NaN, \"CompetitionOpenSinceYear\": NaN, \"Promo2\": 1, \"Promo2SinceWeek\": 13.0, \"Promo2SinceYear\": 2010.0, \"PromoInterval\": \"Jan,Apr,Jul,Oct\"}, {\"Store\": 16, \"DayOfWeek\": 3, \"Date\": \"2015-09-09\", \"Open\": 1.0, \"Promo\": 0, \"StateHoliday\": \"0\", \"SchoolHoliday\": 1, \"StoreType\": \"a\", \"Assortment\": \"c\", \"CompetitionDistance\": 3270.0, \"CompetitionOpenSinceMonth\": NaN, \"CompetitionOpenSinceYear\": NaN, \"Promo2\": 0, \"Promo2SinceWeek\": NaN, \"Promo2SinceYear\": NaN, \"PromoInterval\": NaN}, {\"Store\": 24, \"DayOfWeek\": 3, \"Date\": \"2015-09-09\", \"Open\": 1.0, \"Promo\": 0, \"StateHoliday\": \"0\", \"SchoolHoliday\": 0, \"StoreType\": \"a\", \"Assortment\": \"c\", \"CompetitionDistance\": 4590.0, \"CompetitionOpenSinceMonth\": 3.0, \"CompetitionOpenSinceYear\": 2000.0, \"Promo2\": 1, \"Promo2SinceWeek\": 40.0, \"Promo2SinceYear\": 2011.0, \"PromoInterval\": \"Jan,Apr,Jul,Oct\"}, {\"Store\": 100, \"DayOfWeek\": 3, \"Date\": \"2015-09-09\", \"Open\": 1.0, \"Promo\": 0, \"StateHoliday\": \"0\", \"SchoolHoliday\": 1, \"StoreType\": \"d\", \"Assortment\": \"a\", \"CompetitionDistance\": 17930.0, \"CompetitionOpenSinceMonth\": NaN, \"CompetitionOpenSinceYear\": NaN, \"Promo2\": 0, \"Promo2SinceWeek\": NaN, \"Promo2SinceYear\": NaN, \"PromoInterval\": NaN}, {\"Store\": 1, \"DayOfWeek\": 2, \"Date\": \"2015-09-08\", \"Open\": 1.0, \"Promo\": 0, \"StateHoliday\": \"0\", \"SchoolHoliday\": 0, \"StoreType\": \"c\", \"Assortment\": \"a\", \"CompetitionDistance\": 1270.0, \"CompetitionOpenSinceMonth\": 9.0, \"CompetitionOpenSinceYear\": 2008.0, \"Promo2\": 0, \"Promo2SinceWeek\": NaN, \"Promo2SinceYear\": NaN, \"PromoInterval\": NaN}, {\"Store\": 3, \"DayOfWeek\": 2, \"Date\": \"2015-09-08\", \"Open\": 1.0, \"Promo\": 0, \"StateHoliday\": \"0\", \"SchoolHoliday\": 0, \"StoreType\": \"a\", \"Assortment\": \"a\", \"CompetitionDistance\": 14130.0, \"CompetitionOpenSinceMonth\": 12.0, \"CompetitionOpenSinceYear\": 2006.0, \"Promo2\": 1, \"Promo2SinceWeek\": 14.0, \"Promo2SinceYear\": 2011.0, \"PromoInterval\": \"Jan,Apr,Jul,Oct\"}, {\"Store\": 12, \"DayOfWeek\": 2, \"Date\": \"2015-09-08\", \"Open\": 1.0, \"Promo\": 0, \"StateHoliday\": \"0\", \"SchoolHoliday\": 0, \"StoreType\": \"a\", \"Assortment\": \"c\", \"CompetitionDistance\": 1070.0, \"CompetitionOpenSinceMonth\": NaN, \"CompetitionOpenSinceYear\": NaN, \"Promo2\": 1, \"Promo2SinceWeek\": 13.0, \"Promo2SinceYear\": 2010.0, \"PromoInterval\": \"Jan,Apr,Jul,Oct\"}, {\"Store\": 16, \"DayOfWeek\": 2, \"Date\": \"2015-09-08\", \"Open\": 1.0, \"Promo\": 0, \"StateHoliday\": \"0\", \"SchoolHoliday\": 1, \"StoreType\": \"a\", \"Assortment\": \"c\", \"CompetitionDistance\": 3270.0, \"CompetitionOpenSinceMonth\": NaN, \"CompetitionOpenSinceYear\": NaN, \"Promo2\": 0, \"Promo2SinceWeek\": NaN, \"Promo2SinceYear\": NaN, \"PromoInterval\": NaN}, {\"Store\": 24, \"DayOfWeek\": 2, \"Date\": \"2015-09-08\", \"Open\": 1.0, \"Promo\": 0, \"StateHoliday\": \"0\", \"SchoolHoliday\": 0, \"StoreType\": \"a\", \"Assortment\": \"c\", \"CompetitionDistance\": 4590.0, \"CompetitionOpenSinceMonth\": 3.0, \"CompetitionOpenSinceYear\": 2000.0, \"Promo2\": 1, \"Promo2SinceWeek\": 40.0, \"Promo2SinceYear\": 2011.0, \"PromoInterval\": \"Jan,Apr,Jul,Oct\"}, {\"Store\": 100, \"DayOfWeek\": 2, \"Date\": \"2015-09-08\", \"Open\": 1.0, \"Promo\": 0, \"StateHoliday\": \"0\", \"SchoolHoliday\": 1, \"StoreType\": \"d\", \"Assortment\": \"a\", \"CompetitionDistance\": 17930.0, \"CompetitionOpenSinceMonth\": NaN, \"CompetitionOpenSinceYear\": NaN, \"Promo2\": 0, \"Promo2SinceWeek\": NaN, \"Promo2SinceYear\": NaN, \"PromoInterval\": NaN}, {\"Store\": 1, \"DayOfWeek\": 1, \"Date\": \"2015-09-07\", \"Open\": 1.0, \"Promo\": 0, \"StateHoliday\": \"0\", \"SchoolHoliday\": 0, \"StoreType\": \"c\", \"Assortment\": \"a\", \"CompetitionDistance\": 1270.0, \"CompetitionOpenSinceMonth\": 9.0, \"CompetitionOpenSinceYear\": 2008.0, \"Promo2\": 0, \"Promo2SinceWeek\": NaN, \"Promo2SinceYear\": NaN, \"PromoInterval\": NaN}, {\"Store\": 3, \"DayOfWeek\": 1, \"Date\": \"2015-09-07\", \"Open\": 1.0, \"Promo\": 0, \"StateHoliday\": \"0\", \"SchoolHoliday\": 0, \"StoreType\": \"a\", \"Assortment\": \"a\", \"CompetitionDistance\": 14130.0, \"CompetitionOpenSinceMonth\": 12.0, \"CompetitionOpenSinceYear\": 2006.0, \"Promo2\": 1, \"Promo2SinceWeek\": 14.0, \"Promo2SinceYear\": 2011.0, \"PromoInterval\": \"Jan,Apr,Jul,Oct\"}, {\"Store\": 12, \"DayOfWeek\": 1, \"Date\": \"2015-09-07\", \"Open\": 1.0, \"Promo\": 0, \"StateHoliday\": \"0\", \"SchoolHoliday\": 0, \"StoreType\": \"a\", \"Assortment\": \"c\", \"CompetitionDistance\": 1070.0, \"CompetitionOpenSinceMonth\": NaN, \"CompetitionOpenSinceYear\": NaN, \"Promo2\": 1, \"Promo2SinceWeek\": 13.0, \"Promo2SinceYear\": 2010.0, \"PromoInterval\": \"Jan,Apr,Jul,Oct\"}, {\"Store\": 16, \"DayOfWeek\": 1, \"Date\": \"2015-09-07\", \"Open\": 1.0, \"Promo\": 0, \"StateHoliday\": \"0\", \"SchoolHoliday\": 1, \"StoreType\": \"a\", \"Assortment\": \"c\", \"CompetitionDistance\": 3270.0, \"CompetitionOpenSinceMonth\": NaN, \"CompetitionOpenSinceYear\": NaN, \"Promo2\": 0, \"Promo2SinceWeek\": NaN, \"Promo2SinceYear\": NaN, \"PromoInterval\": NaN}, {\"Store\": 24, \"DayOfWeek\": 1, \"Date\": \"2015-09-07\", \"Open\": 1.0, \"Promo\": 0, \"StateHoliday\": \"0\", \"SchoolHoliday\": 0, \"StoreType\": \"a\", \"Assortment\": \"c\", \"CompetitionDistance\": 4590.0, \"CompetitionOpenSinceMonth\": 3.0, \"CompetitionOpenSinceYear\": 2000.0, \"Promo2\": 1, \"Promo2SinceWeek\": 40.0, \"Promo2SinceYear\": 2011.0, \"PromoInterval\": \"Jan,Apr,Jul,Oct\"}, {\"Store\": 100, \"DayOfWeek\": 1, \"Date\": \"2015-09-07\", \"Open\": 1.0, \"Promo\": 0, \"StateHoliday\": \"0\", \"SchoolHoliday\": 1, \"StoreType\": \"d\", \"Assortment\": \"a\", \"CompetitionDistance\": 17930.0, \"CompetitionOpenSinceMonth\": NaN, \"CompetitionOpenSinceYear\": NaN, \"Promo2\": 0, \"Promo2SinceWeek\": NaN, \"Promo2SinceYear\": NaN, \"PromoInterval\": NaN}, {\"Store\": 1, \"DayOfWeek\": 6, \"Date\": \"2015-09-05\", \"Open\": 1.0, \"Promo\": 0, \"StateHoliday\": \"0\", \"SchoolHoliday\": 0, \"StoreType\": \"c\", \"Assortment\": \"a\", \"CompetitionDistance\": 1270.0, \"CompetitionOpenSinceMonth\": 9.0, \"CompetitionOpenSinceYear\": 2008.0, \"Promo2\": 0, \"Promo2SinceWeek\": NaN, \"Promo2SinceYear\": NaN, \"PromoInterval\": NaN}, {\"Store\": 3, \"DayOfWeek\": 6, \"Date\": \"2015-09-05\", \"Open\": 1.0, \"Promo\": 0, \"StateHoliday\": \"0\", \"SchoolHoliday\": 0, \"StoreType\": \"a\", \"Assortment\": \"a\", \"CompetitionDistance\": 14130.0, \"CompetitionOpenSinceMonth\": 12.0, \"CompetitionOpenSinceYear\": 2006.0, \"Promo2\": 1, \"Promo2SinceWeek\": 14.0, \"Promo2SinceYear\": 2011.0, \"PromoInterval\": \"Jan,Apr,Jul,Oct\"}, {\"Store\": 12, \"DayOfWeek\": 6, \"Date\": \"2015-09-05\", \"Open\": 1.0, \"Promo\": 0, \"StateHoliday\": \"0\", \"SchoolHoliday\": 0, \"StoreType\": \"a\", \"Assortment\": \"c\", \"CompetitionDistance\": 1070.0, \"CompetitionOpenSinceMonth\": NaN, \"CompetitionOpenSinceYear\": NaN, \"Promo2\": 1, \"Promo2SinceWeek\": 13.0, \"Promo2SinceYear\": 2010.0, \"PromoInterval\": \"Jan,Apr,Jul,Oct\"}, {\"Store\": 16, \"DayOfWeek\": 6, \"Date\": \"2015-09-05\", \"Open\": 1.0, \"Promo\": 0, \"StateHoliday\": \"0\", \"SchoolHoliday\": 0, \"StoreType\": \"a\", \"Assortment\": \"c\", \"CompetitionDistance\": 3270.0, \"CompetitionOpenSinceMonth\": NaN, \"CompetitionOpenSinceYear\": NaN, \"Promo2\": 0, \"Promo2SinceWeek\": NaN, \"Promo2SinceYear\": NaN, \"PromoInterval\": NaN}, {\"Store\": 24, \"DayOfWeek\": 6, \"Date\": \"2015-09-05\", \"Open\": 1.0, \"Promo\": 0, \"StateHoliday\": \"0\", \"SchoolHoliday\": 0, \"StoreType\": \"a\", \"Assortment\": \"c\", \"CompetitionDistance\": 4590.0, \"CompetitionOpenSinceMonth\": 3.0, \"CompetitionOpenSinceYear\": 2000.0, \"Promo2\": 1, \"Promo2SinceWeek\": 40.0, \"Promo2SinceYear\": 2011.0, \"PromoInterval\": \"Jan,Apr,Jul,Oct\"}, {\"Store\": 100, \"DayOfWeek\": 6, \"Date\": \"2015-09-05\", \"Open\": 1.0, \"Promo\": 0, \"StateHoliday\": \"0\", \"SchoolHoliday\": 0, \"StoreType\": \"d\", \"Assortment\": \"a\", \"CompetitionDistance\": 17930.0, \"CompetitionOpenSinceMonth\": NaN, \"CompetitionOpenSinceYear\": NaN, \"Promo2\": 0, \"Promo2SinceWeek\": NaN, \"Promo2SinceYear\": NaN, \"PromoInterval\": NaN}, {\"Store\": 1, \"DayOfWeek\": 5, \"Date\": \"2015-09-04\", \"Open\": 1.0, \"Promo\": 1, \"StateHoliday\": \"0\", \"SchoolHoliday\": 1, \"StoreType\": \"c\", \"Assortment\": \"a\", \"CompetitionDistance\": 1270.0, \"CompetitionOpenSinceMonth\": 9.0, \"CompetitionOpenSinceYear\": 2008.0, \"Promo2\": 0, \"Promo2SinceWeek\": NaN, \"Promo2SinceYear\": NaN, \"PromoInterval\": NaN}, {\"Store\": 3, \"DayOfWeek\": 5, \"Date\": \"2015-09-04\", \"Open\": 1.0, \"Promo\": 1, \"StateHoliday\": \"0\", \"SchoolHoliday\": 0, \"StoreType\": \"a\", \"Assortment\": \"a\", \"CompetitionDistance\": 14130.0, \"CompetitionOpenSinceMonth\": 12.0, \"CompetitionOpenSinceYear\": 2006.0, \"Promo2\": 1, \"Promo2SinceWeek\": 14.0, \"Promo2SinceYear\": 2011.0, \"PromoInterval\": \"Jan,Apr,Jul,Oct\"}, {\"Store\": 12, \"DayOfWeek\": 5, \"Date\": \"2015-09-04\", \"Open\": 1.0, \"Promo\": 1, \"StateHoliday\": \"0\", \"SchoolHoliday\": 0, \"StoreType\": \"a\", \"Assortment\": \"c\", \"CompetitionDistance\": 1070.0, \"CompetitionOpenSinceMonth\": NaN, \"CompetitionOpenSinceYear\": NaN, \"Promo2\": 1, \"Promo2SinceWeek\": 13.0, \"Promo2SinceYear\": 2010.0, \"PromoInterval\": \"Jan,Apr,Jul,Oct\"}, {\"Store\": 16, \"DayOfWeek\": 5, \"Date\": \"2015-09-04\", \"Open\": 1.0, \"Promo\": 1, \"StateHoliday\": \"0\", \"SchoolHoliday\": 1, \"StoreType\": \"a\", \"Assortment\": \"c\", \"CompetitionDistance\": 3270.0, \"CompetitionOpenSinceMonth\": NaN, \"CompetitionOpenSinceYear\": NaN, \"Promo2\": 0, \"Promo2SinceWeek\": NaN, \"Promo2SinceYear\": NaN, \"PromoInterval\": NaN}, {\"Store\": 24, \"DayOfWeek\": 5, \"Date\": \"2015-09-04\", \"Open\": 1.0, \"Promo\": 1, \"StateHoliday\": \"0\", \"SchoolHoliday\": 0, \"StoreType\": \"a\", \"Assortment\": \"c\", \"CompetitionDistance\": 4590.0, \"CompetitionOpenSinceMonth\": 3.0, \"CompetitionOpenSinceYear\": 2000.0, \"Promo2\": 1, \"Promo2SinceWeek\": 40.0, \"Promo2SinceYear\": 2011.0, \"PromoInterval\": \"Jan,Apr,Jul,Oct\"}, {\"Store\": 100, \"DayOfWeek\": 5, \"Date\": \"2015-09-04\", \"Open\": 1.0, \"Promo\": 1, \"StateHoliday\": \"0\", \"SchoolHoliday\": 1, \"StoreType\": \"d\", \"Assortment\": \"a\", \"CompetitionDistance\": 17930.0, \"CompetitionOpenSinceMonth\": NaN, \"CompetitionOpenSinceYear\": NaN, \"Promo2\": 0, \"Promo2SinceWeek\": NaN, \"Promo2SinceYear\": NaN, \"PromoInterval\": NaN}, {\"Store\": 1, \"DayOfWeek\": 4, \"Date\": \"2015-09-03\", \"Open\": 1.0, \"Promo\": 1, \"StateHoliday\": \"0\", \"SchoolHoliday\": 1, \"StoreType\": \"c\", \"Assortment\": \"a\", \"CompetitionDistance\": 1270.0, \"CompetitionOpenSinceMonth\": 9.0, \"CompetitionOpenSinceYear\": 2008.0, \"Promo2\": 0, \"Promo2SinceWeek\": NaN, \"Promo2SinceYear\": NaN, \"PromoInterval\": NaN}, {\"Store\": 3, \"DayOfWeek\": 4, \"Date\": \"2015-09-03\", \"Open\": 1.0, \"Promo\": 1, \"StateHoliday\": \"0\", \"SchoolHoliday\": 0, \"StoreType\": \"a\", \"Assortment\": \"a\", \"CompetitionDistance\": 14130.0, \"CompetitionOpenSinceMonth\": 12.0, \"CompetitionOpenSinceYear\": 2006.0, \"Promo2\": 1, \"Promo2SinceWeek\": 14.0, \"Promo2SinceYear\": 2011.0, \"PromoInterval\": \"Jan,Apr,Jul,Oct\"}, {\"Store\": 12, \"DayOfWeek\": 4, \"Date\": \"2015-09-03\", \"Open\": 1.0, \"Promo\": 1, \"StateHoliday\": \"0\", \"SchoolHoliday\": 0, \"StoreType\": \"a\", \"Assortment\": \"c\", \"CompetitionDistance\": 1070.0, \"CompetitionOpenSinceMonth\": NaN, \"CompetitionOpenSinceYear\": NaN, \"Promo2\": 1, \"Promo2SinceWeek\": 13.0, \"Promo2SinceYear\": 2010.0, \"PromoInterval\": \"Jan,Apr,Jul,Oct\"}, {\"Store\": 16, \"DayOfWeek\": 4, \"Date\": \"2015-09-03\", \"Open\": 1.0, \"Promo\": 1, \"StateHoliday\": \"0\", \"SchoolHoliday\": 1, \"StoreType\": \"a\", \"Assortment\": \"c\", \"CompetitionDistance\": 3270.0, \"CompetitionOpenSinceMonth\": NaN, \"CompetitionOpenSinceYear\": NaN, \"Promo2\": 0, \"Promo2SinceWeek\": NaN, \"Promo2SinceYear\": NaN, \"PromoInterval\": NaN}, {\"Store\": 24, \"DayOfWeek\": 4, \"Date\": \"2015-09-03\", \"Open\": 1.0, \"Promo\": 1, \"StateHoliday\": \"0\", \"SchoolHoliday\": 0, \"StoreType\": \"a\", \"Assortment\": \"c\", \"CompetitionDistance\": 4590.0, \"CompetitionOpenSinceMonth\": 3.0, \"CompetitionOpenSinceYear\": 2000.0, \"Promo2\": 1, \"Promo2SinceWeek\": 40.0, \"Promo2SinceYear\": 2011.0, \"PromoInterval\": \"Jan,Apr,Jul,Oct\"}, {\"Store\": 100, \"DayOfWeek\": 4, \"Date\": \"2015-09-03\", \"Open\": 1.0, \"Promo\": 1, \"StateHoliday\": \"0\", \"SchoolHoliday\": 1, \"StoreType\": \"d\", \"Assortment\": \"a\", \"CompetitionDistance\": 17930.0, \"CompetitionOpenSinceMonth\": NaN, \"CompetitionOpenSinceYear\": NaN, \"Promo2\": 0, \"Promo2SinceWeek\": NaN, \"Promo2SinceYear\": NaN, \"PromoInterval\": NaN}, {\"Store\": 1, \"DayOfWeek\": 3, \"Date\": \"2015-09-02\", \"Open\": 1.0, \"Promo\": 1, \"StateHoliday\": \"0\", \"SchoolHoliday\": 1, \"StoreType\": \"c\", \"Assortment\": \"a\", \"CompetitionDistance\": 1270.0, \"CompetitionOpenSinceMonth\": 9.0, \"CompetitionOpenSinceYear\": 2008.0, \"Promo2\": 0, \"Promo2SinceWeek\": NaN, \"Promo2SinceYear\": NaN, \"PromoInterval\": NaN}, {\"Store\": 3, \"DayOfWeek\": 3, \"Date\": \"2015-09-02\", \"Open\": 1.0, \"Promo\": 1, \"StateHoliday\": \"0\", \"SchoolHoliday\": 0, \"StoreType\": \"a\", \"Assortment\": \"a\", \"CompetitionDistance\": 14130.0, \"CompetitionOpenSinceMonth\": 12.0, \"CompetitionOpenSinceYear\": 2006.0, \"Promo2\": 1, \"Promo2SinceWeek\": 14.0, \"Promo2SinceYear\": 2011.0, \"PromoInterval\": \"Jan,Apr,Jul,Oct\"}, {\"Store\": 12, \"DayOfWeek\": 3, \"Date\": \"2015-09-02\", \"Open\": 1.0, \"Promo\": 1, \"StateHoliday\": \"0\", \"SchoolHoliday\": 0, \"StoreType\": \"a\", \"Assortment\": \"c\", \"CompetitionDistance\": 1070.0, \"CompetitionOpenSinceMonth\": NaN, \"CompetitionOpenSinceYear\": NaN, \"Promo2\": 1, \"Promo2SinceWeek\": 13.0, \"Promo2SinceYear\": 2010.0, \"PromoInterval\": \"Jan,Apr,Jul,Oct\"}, {\"Store\": 16, \"DayOfWeek\": 3, \"Date\": \"2015-09-02\", \"Open\": 1.0, \"Promo\": 1, \"StateHoliday\": \"0\", \"SchoolHoliday\": 1, \"StoreType\": \"a\", \"Assortment\": \"c\", \"CompetitionDistance\": 3270.0, \"CompetitionOpenSinceMonth\": NaN, \"CompetitionOpenSinceYear\": NaN, \"Promo2\": 0, \"Promo2SinceWeek\": NaN, \"Promo2SinceYear\": NaN, \"PromoInterval\": NaN}, {\"Store\": 24, \"DayOfWeek\": 3, \"Date\": \"2015-09-02\", \"Open\": 1.0, \"Promo\": 1, \"StateHoliday\": \"0\", \"SchoolHoliday\": 0, \"StoreType\": \"a\", \"Assortment\": \"c\", \"CompetitionDistance\": 4590.0, \"CompetitionOpenSinceMonth\": 3.0, \"CompetitionOpenSinceYear\": 2000.0, \"Promo2\": 1, \"Promo2SinceWeek\": 40.0, \"Promo2SinceYear\": 2011.0, \"PromoInterval\": \"Jan,Apr,Jul,Oct\"}, {\"Store\": 100, \"DayOfWeek\": 3, \"Date\": \"2015-09-02\", \"Open\": 1.0, \"Promo\": 1, \"StateHoliday\": \"0\", \"SchoolHoliday\": 1, \"StoreType\": \"d\", \"Assortment\": \"a\", \"CompetitionDistance\": 17930.0, \"CompetitionOpenSinceMonth\": NaN, \"CompetitionOpenSinceYear\": NaN, \"Promo2\": 0, \"Promo2SinceWeek\": NaN, \"Promo2SinceYear\": NaN, \"PromoInterval\": NaN}, {\"Store\": 1, \"DayOfWeek\": 2, \"Date\": \"2015-09-01\", \"Open\": 1.0, \"Promo\": 1, \"StateHoliday\": \"0\", \"SchoolHoliday\": 1, \"StoreType\": \"c\", \"Assortment\": \"a\", \"CompetitionDistance\": 1270.0, \"CompetitionOpenSinceMonth\": 9.0, \"CompetitionOpenSinceYear\": 2008.0, \"Promo2\": 0, \"Promo2SinceWeek\": NaN, \"Promo2SinceYear\": NaN, \"PromoInterval\": NaN}, {\"Store\": 3, \"DayOfWeek\": 2, \"Date\": \"2015-09-01\", \"Open\": 1.0, \"Promo\": 1, \"StateHoliday\": \"0\", \"SchoolHoliday\": 0, \"StoreType\": \"a\", \"Assortment\": \"a\", \"CompetitionDistance\": 14130.0, \"CompetitionOpenSinceMonth\": 12.0, \"CompetitionOpenSinceYear\": 2006.0, \"Promo2\": 1, \"Promo2SinceWeek\": 14.0, \"Promo2SinceYear\": 2011.0, \"PromoInterval\": \"Jan,Apr,Jul,Oct\"}, {\"Store\": 12, \"DayOfWeek\": 2, \"Date\": \"2015-09-01\", \"Open\": 1.0, \"Promo\": 1, \"StateHoliday\": \"0\", \"SchoolHoliday\": 0, \"StoreType\": \"a\", \"Assortment\": \"c\", \"CompetitionDistance\": 1070.0, \"CompetitionOpenSinceMonth\": NaN, \"CompetitionOpenSinceYear\": NaN, \"Promo2\": 1, \"Promo2SinceWeek\": 13.0, \"Promo2SinceYear\": 2010.0, \"PromoInterval\": \"Jan,Apr,Jul,Oct\"}, {\"Store\": 16, \"DayOfWeek\": 2, \"Date\": \"2015-09-01\", \"Open\": 1.0, \"Promo\": 1, \"StateHoliday\": \"0\", \"SchoolHoliday\": 1, \"StoreType\": \"a\", \"Assortment\": \"c\", \"CompetitionDistance\": 3270.0, \"CompetitionOpenSinceMonth\": NaN, \"CompetitionOpenSinceYear\": NaN, \"Promo2\": 0, \"Promo2SinceWeek\": NaN, \"Promo2SinceYear\": NaN, \"PromoInterval\": NaN}, {\"Store\": 24, \"DayOfWeek\": 2, \"Date\": \"2015-09-01\", \"Open\": 1.0, \"Promo\": 1, \"StateHoliday\": \"0\", \"SchoolHoliday\": 0, \"StoreType\": \"a\", \"Assortment\": \"c\", \"CompetitionDistance\": 4590.0, \"CompetitionOpenSinceMonth\": 3.0, \"CompetitionOpenSinceYear\": 2000.0, \"Promo2\": 1, \"Promo2SinceWeek\": 40.0, \"Promo2SinceYear\": 2011.0, \"PromoInterval\": \"Jan,Apr,Jul,Oct\"}, {\"Store\": 100, \"DayOfWeek\": 2, \"Date\": \"2015-09-01\", \"Open\": 1.0, \"Promo\": 1, \"StateHoliday\": \"0\", \"SchoolHoliday\": 1, \"StoreType\": \"d\", \"Assortment\": \"a\", \"CompetitionDistance\": 17930.0, \"CompetitionOpenSinceMonth\": NaN, \"CompetitionOpenSinceYear\": NaN, \"Promo2\": 0, \"Promo2SinceWeek\": NaN, \"Promo2SinceYear\": NaN, \"PromoInterval\": NaN}, {\"Store\": 1, \"DayOfWeek\": 1, \"Date\": \"2015-08-31\", \"Open\": 1.0, \"Promo\": 1, \"StateHoliday\": \"0\", \"SchoolHoliday\": 1, \"StoreType\": \"c\", \"Assortment\": \"a\", \"CompetitionDistance\": 1270.0, \"CompetitionOpenSinceMonth\": 9.0, \"CompetitionOpenSinceYear\": 2008.0, \"Promo2\": 0, \"Promo2SinceWeek\": NaN, \"Promo2SinceYear\": NaN, \"PromoInterval\": NaN}, {\"Store\": 3, \"DayOfWeek\": 1, \"Date\": \"2015-08-31\", \"Open\": 1.0, \"Promo\": 1, \"StateHoliday\": \"0\", \"SchoolHoliday\": 0, \"StoreType\": \"a\", \"Assortment\": \"a\", \"CompetitionDistance\": 14130.0, \"CompetitionOpenSinceMonth\": 12.0, \"CompetitionOpenSinceYear\": 2006.0, \"Promo2\": 1, \"Promo2SinceWeek\": 14.0, \"Promo2SinceYear\": 2011.0, \"PromoInterval\": \"Jan,Apr,Jul,Oct\"}, {\"Store\": 12, \"DayOfWeek\": 1, \"Date\": \"2015-08-31\", \"Open\": 1.0, \"Promo\": 1, \"StateHoliday\": \"0\", \"SchoolHoliday\": 0, \"StoreType\": \"a\", \"Assortment\": \"c\", \"CompetitionDistance\": 1070.0, \"CompetitionOpenSinceMonth\": NaN, \"CompetitionOpenSinceYear\": NaN, \"Promo2\": 1, \"Promo2SinceWeek\": 13.0, \"Promo2SinceYear\": 2010.0, \"PromoInterval\": \"Jan,Apr,Jul,Oct\"}, {\"Store\": 16, \"DayOfWeek\": 1, \"Date\": \"2015-08-31\", \"Open\": 1.0, \"Promo\": 1, \"StateHoliday\": \"0\", \"SchoolHoliday\": 1, \"StoreType\": \"a\", \"Assortment\": \"c\", \"CompetitionDistance\": 3270.0, \"CompetitionOpenSinceMonth\": NaN, \"CompetitionOpenSinceYear\": NaN, \"Promo2\": 0, \"Promo2SinceWeek\": NaN, \"Promo2SinceYear\": NaN, \"PromoInterval\": NaN}, {\"Store\": 24, \"DayOfWeek\": 1, \"Date\": \"2015-08-31\", \"Open\": 1.0, \"Promo\": 1, \"StateHoliday\": \"0\", \"SchoolHoliday\": 0, \"StoreType\": \"a\", \"Assortment\": \"c\", \"CompetitionDistance\": 4590.0, \"CompetitionOpenSinceMonth\": 3.0, \"CompetitionOpenSinceYear\": 2000.0, \"Promo2\": 1, \"Promo2SinceWeek\": 40.0, \"Promo2SinceYear\": 2011.0, \"PromoInterval\": \"Jan,Apr,Jul,Oct\"}, {\"Store\": 100, \"DayOfWeek\": 1, \"Date\": \"2015-08-31\", \"Open\": 1.0, \"Promo\": 1, \"StateHoliday\": \"0\", \"SchoolHoliday\": 1, \"StoreType\": \"d\", \"Assortment\": \"a\", \"CompetitionDistance\": 17930.0, \"CompetitionOpenSinceMonth\": NaN, \"CompetitionOpenSinceYear\": NaN, \"Promo2\": 0, \"Promo2SinceWeek\": NaN, \"Promo2SinceYear\": NaN, \"PromoInterval\": NaN}, {\"Store\": 1, \"DayOfWeek\": 6, \"Date\": \"2015-08-29\", \"Open\": 1.0, \"Promo\": 0, \"StateHoliday\": \"0\", \"SchoolHoliday\": 1, \"StoreType\": \"c\", \"Assortment\": \"a\", \"CompetitionDistance\": 1270.0, \"CompetitionOpenSinceMonth\": 9.0, \"CompetitionOpenSinceYear\": 2008.0, \"Promo2\": 0, \"Promo2SinceWeek\": NaN, \"Promo2SinceYear\": NaN, \"PromoInterval\": NaN}, {\"Store\": 3, \"DayOfWeek\": 6, \"Date\": \"2015-08-29\", \"Open\": 1.0, \"Promo\": 0, \"StateHoliday\": \"0\", \"SchoolHoliday\": 0, \"StoreType\": \"a\", \"Assortment\": \"a\", \"CompetitionDistance\": 14130.0, \"CompetitionOpenSinceMonth\": 12.0, \"CompetitionOpenSinceYear\": 2006.0, \"Promo2\": 1, \"Promo2SinceWeek\": 14.0, \"Promo2SinceYear\": 2011.0, \"PromoInterval\": \"Jan,Apr,Jul,Oct\"}, {\"Store\": 12, \"DayOfWeek\": 6, \"Date\": \"2015-08-29\", \"Open\": 1.0, \"Promo\": 0, \"StateHoliday\": \"0\", \"SchoolHoliday\": 0, \"StoreType\": \"a\", \"Assortment\": \"c\", \"CompetitionDistance\": 1070.0, \"CompetitionOpenSinceMonth\": NaN, \"CompetitionOpenSinceYear\": NaN, \"Promo2\": 1, \"Promo2SinceWeek\": 13.0, \"Promo2SinceYear\": 2010.0, \"PromoInterval\": \"Jan,Apr,Jul,Oct\"}, {\"Store\": 16, \"DayOfWeek\": 6, \"Date\": \"2015-08-29\", \"Open\": 1.0, \"Promo\": 0, \"StateHoliday\": \"0\", \"SchoolHoliday\": 0, \"StoreType\": \"a\", \"Assortment\": \"c\", \"CompetitionDistance\": 3270.0, \"CompetitionOpenSinceMonth\": NaN, \"CompetitionOpenSinceYear\": NaN, \"Promo2\": 0, \"Promo2SinceWeek\": NaN, \"Promo2SinceYear\": NaN, \"PromoInterval\": NaN}, {\"Store\": 24, \"DayOfWeek\": 6, \"Date\": \"2015-08-29\", \"Open\": 1.0, \"Promo\": 0, \"StateHoliday\": \"0\", \"SchoolHoliday\": 0, \"StoreType\": \"a\", \"Assortment\": \"c\", \"CompetitionDistance\": 4590.0, \"CompetitionOpenSinceMonth\": 3.0, \"CompetitionOpenSinceYear\": 2000.0, \"Promo2\": 1, \"Promo2SinceWeek\": 40.0, \"Promo2SinceYear\": 2011.0, \"PromoInterval\": \"Jan,Apr,Jul,Oct\"}, {\"Store\": 100, \"DayOfWeek\": 6, \"Date\": \"2015-08-29\", \"Open\": 1.0, \"Promo\": 0, \"StateHoliday\": \"0\", \"SchoolHoliday\": 0, \"StoreType\": \"d\", \"Assortment\": \"a\", \"CompetitionDistance\": 17930.0, \"CompetitionOpenSinceMonth\": NaN, \"CompetitionOpenSinceYear\": NaN, \"Promo2\": 0, \"Promo2SinceWeek\": NaN, \"Promo2SinceYear\": NaN, \"PromoInterval\": NaN}, {\"Store\": 1, \"DayOfWeek\": 5, \"Date\": \"2015-08-28\", \"Open\": 1.0, \"Promo\": 0, \"StateHoliday\": \"0\", \"SchoolHoliday\": 1, \"StoreType\": \"c\", \"Assortment\": \"a\", \"CompetitionDistance\": 1270.0, \"CompetitionOpenSinceMonth\": 9.0, \"CompetitionOpenSinceYear\": 2008.0, \"Promo2\": 0, \"Promo2SinceWeek\": NaN, \"Promo2SinceYear\": NaN, \"PromoInterval\": NaN}, {\"Store\": 3, \"DayOfWeek\": 5, \"Date\": \"2015-08-28\", \"Open\": 1.0, \"Promo\": 0, \"StateHoliday\": \"0\", \"SchoolHoliday\": 0, \"StoreType\": \"a\", \"Assortment\": \"a\", \"CompetitionDistance\": 14130.0, \"CompetitionOpenSinceMonth\": 12.0, \"CompetitionOpenSinceYear\": 2006.0, \"Promo2\": 1, \"Promo2SinceWeek\": 14.0, \"Promo2SinceYear\": 2011.0, \"PromoInterval\": \"Jan,Apr,Jul,Oct\"}, {\"Store\": 12, \"DayOfWeek\": 5, \"Date\": \"2015-08-28\", \"Open\": 1.0, \"Promo\": 0, \"StateHoliday\": \"0\", \"SchoolHoliday\": 1, \"StoreType\": \"a\", \"Assortment\": \"c\", \"CompetitionDistance\": 1070.0, \"CompetitionOpenSinceMonth\": NaN, \"CompetitionOpenSinceYear\": NaN, \"Promo2\": 1, \"Promo2SinceWeek\": 13.0, \"Promo2SinceYear\": 2010.0, \"PromoInterval\": \"Jan,Apr,Jul,Oct\"}, {\"Store\": 16, \"DayOfWeek\": 5, \"Date\": \"2015-08-28\", \"Open\": 1.0, \"Promo\": 0, \"StateHoliday\": \"0\", \"SchoolHoliday\": 1, \"StoreType\": \"a\", \"Assortment\": \"c\", \"CompetitionDistance\": 3270.0, \"CompetitionOpenSinceMonth\": NaN, \"CompetitionOpenSinceYear\": NaN, \"Promo2\": 0, \"Promo2SinceWeek\": NaN, \"Promo2SinceYear\": NaN, \"PromoInterval\": NaN}, {\"Store\": 24, \"DayOfWeek\": 5, \"Date\": \"2015-08-28\", \"Open\": 1.0, \"Promo\": 0, \"StateHoliday\": \"0\", \"SchoolHoliday\": 0, \"StoreType\": \"a\", \"Assortment\": \"c\", \"CompetitionDistance\": 4590.0, \"CompetitionOpenSinceMonth\": 3.0, \"CompetitionOpenSinceYear\": 2000.0, \"Promo2\": 1, \"Promo2SinceWeek\": 40.0, \"Promo2SinceYear\": 2011.0, \"PromoInterval\": \"Jan,Apr,Jul,Oct\"}, {\"Store\": 100, \"DayOfWeek\": 5, \"Date\": \"2015-08-28\", \"Open\": 1.0, \"Promo\": 0, \"StateHoliday\": \"0\", \"SchoolHoliday\": 1, \"StoreType\": \"d\", \"Assortment\": \"a\", \"CompetitionDistance\": 17930.0, \"CompetitionOpenSinceMonth\": NaN, \"CompetitionOpenSinceYear\": NaN, \"Promo2\": 0, \"Promo2SinceWeek\": NaN, \"Promo2SinceYear\": NaN, \"PromoInterval\": NaN}, {\"Store\": 1, \"DayOfWeek\": 4, \"Date\": \"2015-08-27\", \"Open\": 1.0, \"Promo\": 0, \"StateHoliday\": \"0\", \"SchoolHoliday\": 1, \"StoreType\": \"c\", \"Assortment\": \"a\", \"CompetitionDistance\": 1270.0, \"CompetitionOpenSinceMonth\": 9.0, \"CompetitionOpenSinceYear\": 2008.0, \"Promo2\": 0, \"Promo2SinceWeek\": NaN, \"Promo2SinceYear\": NaN, \"PromoInterval\": NaN}, {\"Store\": 3, \"DayOfWeek\": 4, \"Date\": \"2015-08-27\", \"Open\": 1.0, \"Promo\": 0, \"StateHoliday\": \"0\", \"SchoolHoliday\": 0, \"StoreType\": \"a\", \"Assortment\": \"a\", \"CompetitionDistance\": 14130.0, \"CompetitionOpenSinceMonth\": 12.0, \"CompetitionOpenSinceYear\": 2006.0, \"Promo2\": 1, \"Promo2SinceWeek\": 14.0, \"Promo2SinceYear\": 2011.0, \"PromoInterval\": \"Jan,Apr,Jul,Oct\"}, {\"Store\": 12, \"DayOfWeek\": 4, \"Date\": \"2015-08-27\", \"Open\": 1.0, \"Promo\": 0, \"StateHoliday\": \"0\", \"SchoolHoliday\": 1, \"StoreType\": \"a\", \"Assortment\": \"c\", \"CompetitionDistance\": 1070.0, \"CompetitionOpenSinceMonth\": NaN, \"CompetitionOpenSinceYear\": NaN, \"Promo2\": 1, \"Promo2SinceWeek\": 13.0, \"Promo2SinceYear\": 2010.0, \"PromoInterval\": \"Jan,Apr,Jul,Oct\"}, {\"Store\": 16, \"DayOfWeek\": 4, \"Date\": \"2015-08-27\", \"Open\": 1.0, \"Promo\": 0, \"StateHoliday\": \"0\", \"SchoolHoliday\": 1, \"StoreType\": \"a\", \"Assortment\": \"c\", \"CompetitionDistance\": 3270.0, \"CompetitionOpenSinceMonth\": NaN, \"CompetitionOpenSinceYear\": NaN, \"Promo2\": 0, \"Promo2SinceWeek\": NaN, \"Promo2SinceYear\": NaN, \"PromoInterval\": NaN}, {\"Store\": 24, \"DayOfWeek\": 4, \"Date\": \"2015-08-27\", \"Open\": 1.0, \"Promo\": 0, \"StateHoliday\": \"0\", \"SchoolHoliday\": 0, \"StoreType\": \"a\", \"Assortment\": \"c\", \"CompetitionDistance\": 4590.0, \"CompetitionOpenSinceMonth\": 3.0, \"CompetitionOpenSinceYear\": 2000.0, \"Promo2\": 1, \"Promo2SinceWeek\": 40.0, \"Promo2SinceYear\": 2011.0, \"PromoInterval\": \"Jan,Apr,Jul,Oct\"}, {\"Store\": 100, \"DayOfWeek\": 4, \"Date\": \"2015-08-27\", \"Open\": 1.0, \"Promo\": 0, \"StateHoliday\": \"0\", \"SchoolHoliday\": 1, \"StoreType\": \"d\", \"Assortment\": \"a\", \"CompetitionDistance\": 17930.0, \"CompetitionOpenSinceMonth\": NaN, \"CompetitionOpenSinceYear\": NaN, \"Promo2\": 0, \"Promo2SinceWeek\": NaN, \"Promo2SinceYear\": NaN, \"PromoInterval\": NaN}, {\"Store\": 1, \"DayOfWeek\": 3, \"Date\": \"2015-08-26\", \"Open\": 1.0, \"Promo\": 0, \"StateHoliday\": \"0\", \"SchoolHoliday\": 1, \"StoreType\": \"c\", \"Assortment\": \"a\", \"CompetitionDistance\": 1270.0, \"CompetitionOpenSinceMonth\": 9.0, \"CompetitionOpenSinceYear\": 2008.0, \"Promo2\": 0, \"Promo2SinceWeek\": NaN, \"Promo2SinceYear\": NaN, \"PromoInterval\": NaN}, {\"Store\": 3, \"DayOfWeek\": 3, \"Date\": \"2015-08-26\", \"Open\": 1.0, \"Promo\": 0, \"StateHoliday\": \"0\", \"SchoolHoliday\": 0, \"StoreType\": \"a\", \"Assortment\": \"a\", \"CompetitionDistance\": 14130.0, \"CompetitionOpenSinceMonth\": 12.0, \"CompetitionOpenSinceYear\": 2006.0, \"Promo2\": 1, \"Promo2SinceWeek\": 14.0, \"Promo2SinceYear\": 2011.0, \"PromoInterval\": \"Jan,Apr,Jul,Oct\"}, {\"Store\": 12, \"DayOfWeek\": 3, \"Date\": \"2015-08-26\", \"Open\": 1.0, \"Promo\": 0, \"StateHoliday\": \"0\", \"SchoolHoliday\": 1, \"StoreType\": \"a\", \"Assortment\": \"c\", \"CompetitionDistance\": 1070.0, \"CompetitionOpenSinceMonth\": NaN, \"CompetitionOpenSinceYear\": NaN, \"Promo2\": 1, \"Promo2SinceWeek\": 13.0, \"Promo2SinceYear\": 2010.0, \"PromoInterval\": \"Jan,Apr,Jul,Oct\"}, {\"Store\": 16, \"DayOfWeek\": 3, \"Date\": \"2015-08-26\", \"Open\": 1.0, \"Promo\": 0, \"StateHoliday\": \"0\", \"SchoolHoliday\": 1, \"StoreType\": \"a\", \"Assortment\": \"c\", \"CompetitionDistance\": 3270.0, \"CompetitionOpenSinceMonth\": NaN, \"CompetitionOpenSinceYear\": NaN, \"Promo2\": 0, \"Promo2SinceWeek\": NaN, \"Promo2SinceYear\": NaN, \"PromoInterval\": NaN}, {\"Store\": 24, \"DayOfWeek\": 3, \"Date\": \"2015-08-26\", \"Open\": 1.0, \"Promo\": 0, \"StateHoliday\": \"0\", \"SchoolHoliday\": 0, \"StoreType\": \"a\", \"Assortment\": \"c\", \"CompetitionDistance\": 4590.0, \"CompetitionOpenSinceMonth\": 3.0, \"CompetitionOpenSinceYear\": 2000.0, \"Promo2\": 1, \"Promo2SinceWeek\": 40.0, \"Promo2SinceYear\": 2011.0, \"PromoInterval\": \"Jan,Apr,Jul,Oct\"}, {\"Store\": 100, \"DayOfWeek\": 3, \"Date\": \"2015-08-26\", \"Open\": 1.0, \"Promo\": 0, \"StateHoliday\": \"0\", \"SchoolHoliday\": 1, \"StoreType\": \"d\", \"Assortment\": \"a\", \"CompetitionDistance\": 17930.0, \"CompetitionOpenSinceMonth\": NaN, \"CompetitionOpenSinceYear\": NaN, \"Promo2\": 0, \"Promo2SinceWeek\": NaN, \"Promo2SinceYear\": NaN, \"PromoInterval\": NaN}, {\"Store\": 1, \"DayOfWeek\": 2, \"Date\": \"2015-08-25\", \"Open\": 1.0, \"Promo\": 0, \"StateHoliday\": \"0\", \"SchoolHoliday\": 1, \"StoreType\": \"c\", \"Assortment\": \"a\", \"CompetitionDistance\": 1270.0, \"CompetitionOpenSinceMonth\": 9.0, \"CompetitionOpenSinceYear\": 2008.0, \"Promo2\": 0, \"Promo2SinceWeek\": NaN, \"Promo2SinceYear\": NaN, \"PromoInterval\": NaN}, {\"Store\": 3, \"DayOfWeek\": 2, \"Date\": \"2015-08-25\", \"Open\": 1.0, \"Promo\": 0, \"StateHoliday\": \"0\", \"SchoolHoliday\": 0, \"StoreType\": \"a\", \"Assortment\": \"a\", \"CompetitionDistance\": 14130.0, \"CompetitionOpenSinceMonth\": 12.0, \"CompetitionOpenSinceYear\": 2006.0, \"Promo2\": 1, \"Promo2SinceWeek\": 14.0, \"Promo2SinceYear\": 2011.0, \"PromoInterval\": \"Jan,Apr,Jul,Oct\"}, {\"Store\": 12, \"DayOfWeek\": 2, \"Date\": \"2015-08-25\", \"Open\": 1.0, \"Promo\": 0, \"StateHoliday\": \"0\", \"SchoolHoliday\": 1, \"StoreType\": \"a\", \"Assortment\": \"c\", \"CompetitionDistance\": 1070.0, \"CompetitionOpenSinceMonth\": NaN, \"CompetitionOpenSinceYear\": NaN, \"Promo2\": 1, \"Promo2SinceWeek\": 13.0, \"Promo2SinceYear\": 2010.0, \"PromoInterval\": \"Jan,Apr,Jul,Oct\"}, {\"Store\": 16, \"DayOfWeek\": 2, \"Date\": \"2015-08-25\", \"Open\": 1.0, \"Promo\": 0, \"StateHoliday\": \"0\", \"SchoolHoliday\": 1, \"StoreType\": \"a\", \"Assortment\": \"c\", \"CompetitionDistance\": 3270.0, \"CompetitionOpenSinceMonth\": NaN, \"CompetitionOpenSinceYear\": NaN, \"Promo2\": 0, \"Promo2SinceWeek\": NaN, \"Promo2SinceYear\": NaN, \"PromoInterval\": NaN}, {\"Store\": 24, \"DayOfWeek\": 2, \"Date\": \"2015-08-25\", \"Open\": 1.0, \"Promo\": 0, \"StateHoliday\": \"0\", \"SchoolHoliday\": 0, \"StoreType\": \"a\", \"Assortment\": \"c\", \"CompetitionDistance\": 4590.0, \"CompetitionOpenSinceMonth\": 3.0, \"CompetitionOpenSinceYear\": 2000.0, \"Promo2\": 1, \"Promo2SinceWeek\": 40.0, \"Promo2SinceYear\": 2011.0, \"PromoInterval\": \"Jan,Apr,Jul,Oct\"}, {\"Store\": 100, \"DayOfWeek\": 2, \"Date\": \"2015-08-25\", \"Open\": 1.0, \"Promo\": 0, \"StateHoliday\": \"0\", \"SchoolHoliday\": 1, \"StoreType\": \"d\", \"Assortment\": \"a\", \"CompetitionDistance\": 17930.0, \"CompetitionOpenSinceMonth\": NaN, \"CompetitionOpenSinceYear\": NaN, \"Promo2\": 0, \"Promo2SinceWeek\": NaN, \"Promo2SinceYear\": NaN, \"PromoInterval\": NaN}, {\"Store\": 1, \"DayOfWeek\": 1, \"Date\": \"2015-08-24\", \"Open\": 1.0, \"Promo\": 0, \"StateHoliday\": \"0\", \"SchoolHoliday\": 1, \"StoreType\": \"c\", \"Assortment\": \"a\", \"CompetitionDistance\": 1270.0, \"CompetitionOpenSinceMonth\": 9.0, \"CompetitionOpenSinceYear\": 2008.0, \"Promo2\": 0, \"Promo2SinceWeek\": NaN, \"Promo2SinceYear\": NaN, \"PromoInterval\": NaN}, {\"Store\": 3, \"DayOfWeek\": 1, \"Date\": \"2015-08-24\", \"Open\": 1.0, \"Promo\": 0, \"StateHoliday\": \"0\", \"SchoolHoliday\": 0, \"StoreType\": \"a\", \"Assortment\": \"a\", \"CompetitionDistance\": 14130.0, \"CompetitionOpenSinceMonth\": 12.0, \"CompetitionOpenSinceYear\": 2006.0, \"Promo2\": 1, \"Promo2SinceWeek\": 14.0, \"Promo2SinceYear\": 2011.0, \"PromoInterval\": \"Jan,Apr,Jul,Oct\"}, {\"Store\": 12, \"DayOfWeek\": 1, \"Date\": \"2015-08-24\", \"Open\": 1.0, \"Promo\": 0, \"StateHoliday\": \"0\", \"SchoolHoliday\": 1, \"StoreType\": \"a\", \"Assortment\": \"c\", \"CompetitionDistance\": 1070.0, \"CompetitionOpenSinceMonth\": NaN, \"CompetitionOpenSinceYear\": NaN, \"Promo2\": 1, \"Promo2SinceWeek\": 13.0, \"Promo2SinceYear\": 2010.0, \"PromoInterval\": \"Jan,Apr,Jul,Oct\"}, {\"Store\": 16, \"DayOfWeek\": 1, \"Date\": \"2015-08-24\", \"Open\": 1.0, \"Promo\": 0, \"StateHoliday\": \"0\", \"SchoolHoliday\": 1, \"StoreType\": \"a\", \"Assortment\": \"c\", \"CompetitionDistance\": 3270.0, \"CompetitionOpenSinceMonth\": NaN, \"CompetitionOpenSinceYear\": NaN, \"Promo2\": 0, \"Promo2SinceWeek\": NaN, \"Promo2SinceYear\": NaN, \"PromoInterval\": NaN}, {\"Store\": 24, \"DayOfWeek\": 1, \"Date\": \"2015-08-24\", \"Open\": 1.0, \"Promo\": 0, \"StateHoliday\": \"0\", \"SchoolHoliday\": 0, \"StoreType\": \"a\", \"Assortment\": \"c\", \"CompetitionDistance\": 4590.0, \"CompetitionOpenSinceMonth\": 3.0, \"CompetitionOpenSinceYear\": 2000.0, \"Promo2\": 1, \"Promo2SinceWeek\": 40.0, \"Promo2SinceYear\": 2011.0, \"PromoInterval\": \"Jan,Apr,Jul,Oct\"}, {\"Store\": 100, \"DayOfWeek\": 1, \"Date\": \"2015-08-24\", \"Open\": 1.0, \"Promo\": 0, \"StateHoliday\": \"0\", \"SchoolHoliday\": 1, \"StoreType\": \"d\", \"Assortment\": \"a\", \"CompetitionDistance\": 17930.0, \"CompetitionOpenSinceMonth\": NaN, \"CompetitionOpenSinceYear\": NaN, \"Promo2\": 0, \"Promo2SinceWeek\": NaN, \"Promo2SinceYear\": NaN, \"PromoInterval\": NaN}, {\"Store\": 1, \"DayOfWeek\": 6, \"Date\": \"2015-08-22\", \"Open\": 1.0, \"Promo\": 0, \"StateHoliday\": \"0\", \"SchoolHoliday\": 1, \"StoreType\": \"c\", \"Assortment\": \"a\", \"CompetitionDistance\": 1270.0, \"CompetitionOpenSinceMonth\": 9.0, \"CompetitionOpenSinceYear\": 2008.0, \"Promo2\": 0, \"Promo2SinceWeek\": NaN, \"Promo2SinceYear\": NaN, \"PromoInterval\": NaN}, {\"Store\": 3, \"DayOfWeek\": 6, \"Date\": \"2015-08-22\", \"Open\": 1.0, \"Promo\": 0, \"StateHoliday\": \"0\", \"SchoolHoliday\": 0, \"StoreType\": \"a\", \"Assortment\": \"a\", \"CompetitionDistance\": 14130.0, \"CompetitionOpenSinceMonth\": 12.0, \"CompetitionOpenSinceYear\": 2006.0, \"Promo2\": 1, \"Promo2SinceWeek\": 14.0, \"Promo2SinceYear\": 2011.0, \"PromoInterval\": \"Jan,Apr,Jul,Oct\"}, {\"Store\": 12, \"DayOfWeek\": 6, \"Date\": \"2015-08-22\", \"Open\": 1.0, \"Promo\": 0, \"StateHoliday\": \"0\", \"SchoolHoliday\": 0, \"StoreType\": \"a\", \"Assortment\": \"c\", \"CompetitionDistance\": 1070.0, \"CompetitionOpenSinceMonth\": NaN, \"CompetitionOpenSinceYear\": NaN, \"Promo2\": 1, \"Promo2SinceWeek\": 13.0, \"Promo2SinceYear\": 2010.0, \"PromoInterval\": \"Jan,Apr,Jul,Oct\"}, {\"Store\": 16, \"DayOfWeek\": 6, \"Date\": \"2015-08-22\", \"Open\": 1.0, \"Promo\": 0, \"StateHoliday\": \"0\", \"SchoolHoliday\": 0, \"StoreType\": \"a\", \"Assortment\": \"c\", \"CompetitionDistance\": 3270.0, \"CompetitionOpenSinceMonth\": NaN, \"CompetitionOpenSinceYear\": NaN, \"Promo2\": 0, \"Promo2SinceWeek\": NaN, \"Promo2SinceYear\": NaN, \"PromoInterval\": NaN}, {\"Store\": 24, \"DayOfWeek\": 6, \"Date\": \"2015-08-22\", \"Open\": 1.0, \"Promo\": 0, \"StateHoliday\": \"0\", \"SchoolHoliday\": 0, \"StoreType\": \"a\", \"Assortment\": \"c\", \"CompetitionDistance\": 4590.0, \"CompetitionOpenSinceMonth\": 3.0, \"CompetitionOpenSinceYear\": 2000.0, \"Promo2\": 1, \"Promo2SinceWeek\": 40.0, \"Promo2SinceYear\": 2011.0, \"PromoInterval\": \"Jan,Apr,Jul,Oct\"}, {\"Store\": 100, \"DayOfWeek\": 6, \"Date\": \"2015-08-22\", \"Open\": 1.0, \"Promo\": 0, \"StateHoliday\": \"0\", \"SchoolHoliday\": 0, \"StoreType\": \"d\", \"Assortment\": \"a\", \"CompetitionDistance\": 17930.0, \"CompetitionOpenSinceMonth\": NaN, \"CompetitionOpenSinceYear\": NaN, \"Promo2\": 0, \"Promo2SinceWeek\": NaN, \"Promo2SinceYear\": NaN, \"PromoInterval\": NaN}, {\"Store\": 1, \"DayOfWeek\": 5, \"Date\": \"2015-08-21\", \"Open\": 1.0, \"Promo\": 1, \"StateHoliday\": \"0\", \"SchoolHoliday\": 1, \"StoreType\": \"c\", \"Assortment\": \"a\", \"CompetitionDistance\": 1270.0, \"CompetitionOpenSinceMonth\": 9.0, \"CompetitionOpenSinceYear\": 2008.0, \"Promo2\": 0, \"Promo2SinceWeek\": NaN, \"Promo2SinceYear\": NaN, \"PromoInterval\": NaN}, {\"Store\": 3, \"DayOfWeek\": 5, \"Date\": \"2015-08-21\", \"Open\": 1.0, \"Promo\": 1, \"StateHoliday\": \"0\", \"SchoolHoliday\": 0, \"StoreType\": \"a\", \"Assortment\": \"a\", \"CompetitionDistance\": 14130.0, \"CompetitionOpenSinceMonth\": 12.0, \"CompetitionOpenSinceYear\": 2006.0, \"Promo2\": 1, \"Promo2SinceWeek\": 14.0, \"Promo2SinceYear\": 2011.0, \"PromoInterval\": \"Jan,Apr,Jul,Oct\"}, {\"Store\": 12, \"DayOfWeek\": 5, \"Date\": \"2015-08-21\", \"Open\": 1.0, \"Promo\": 1, \"StateHoliday\": \"0\", \"SchoolHoliday\": 1, \"StoreType\": \"a\", \"Assortment\": \"c\", \"CompetitionDistance\": 1070.0, \"CompetitionOpenSinceMonth\": NaN, \"CompetitionOpenSinceYear\": NaN, \"Promo2\": 1, \"Promo2SinceWeek\": 13.0, \"Promo2SinceYear\": 2010.0, \"PromoInterval\": \"Jan,Apr,Jul,Oct\"}, {\"Store\": 16, \"DayOfWeek\": 5, \"Date\": \"2015-08-21\", \"Open\": 1.0, \"Promo\": 1, \"StateHoliday\": \"0\", \"SchoolHoliday\": 1, \"StoreType\": \"a\", \"Assortment\": \"c\", \"CompetitionDistance\": 3270.0, \"CompetitionOpenSinceMonth\": NaN, \"CompetitionOpenSinceYear\": NaN, \"Promo2\": 0, \"Promo2SinceWeek\": NaN, \"Promo2SinceYear\": NaN, \"PromoInterval\": NaN}, {\"Store\": 24, \"DayOfWeek\": 5, \"Date\": \"2015-08-21\", \"Open\": 1.0, \"Promo\": 1, \"StateHoliday\": \"0\", \"SchoolHoliday\": 0, \"StoreType\": \"a\", \"Assortment\": \"c\", \"CompetitionDistance\": 4590.0, \"CompetitionOpenSinceMonth\": 3.0, \"CompetitionOpenSinceYear\": 2000.0, \"Promo2\": 1, \"Promo2SinceWeek\": 40.0, \"Promo2SinceYear\": 2011.0, \"PromoInterval\": \"Jan,Apr,Jul,Oct\"}, {\"Store\": 100, \"DayOfWeek\": 5, \"Date\": \"2015-08-21\", \"Open\": 1.0, \"Promo\": 1, \"StateHoliday\": \"0\", \"SchoolHoliday\": 1, \"StoreType\": \"d\", \"Assortment\": \"a\", \"CompetitionDistance\": 17930.0, \"CompetitionOpenSinceMonth\": NaN, \"CompetitionOpenSinceYear\": NaN, \"Promo2\": 0, \"Promo2SinceWeek\": NaN, \"Promo2SinceYear\": NaN, \"PromoInterval\": NaN}, {\"Store\": 1, \"DayOfWeek\": 4, \"Date\": \"2015-08-20\", \"Open\": 1.0, \"Promo\": 1, \"StateHoliday\": \"0\", \"SchoolHoliday\": 1, \"StoreType\": \"c\", \"Assortment\": \"a\", \"CompetitionDistance\": 1270.0, \"CompetitionOpenSinceMonth\": 9.0, \"CompetitionOpenSinceYear\": 2008.0, \"Promo2\": 0, \"Promo2SinceWeek\": NaN, \"Promo2SinceYear\": NaN, \"PromoInterval\": NaN}, {\"Store\": 3, \"DayOfWeek\": 4, \"Date\": \"2015-08-20\", \"Open\": 1.0, \"Promo\": 1, \"StateHoliday\": \"0\", \"SchoolHoliday\": 0, \"StoreType\": \"a\", \"Assortment\": \"a\", \"CompetitionDistance\": 14130.0, \"CompetitionOpenSinceMonth\": 12.0, \"CompetitionOpenSinceYear\": 2006.0, \"Promo2\": 1, \"Promo2SinceWeek\": 14.0, \"Promo2SinceYear\": 2011.0, \"PromoInterval\": \"Jan,Apr,Jul,Oct\"}, {\"Store\": 12, \"DayOfWeek\": 4, \"Date\": \"2015-08-20\", \"Open\": 1.0, \"Promo\": 1, \"StateHoliday\": \"0\", \"SchoolHoliday\": 1, \"StoreType\": \"a\", \"Assortment\": \"c\", \"CompetitionDistance\": 1070.0, \"CompetitionOpenSinceMonth\": NaN, \"CompetitionOpenSinceYear\": NaN, \"Promo2\": 1, \"Promo2SinceWeek\": 13.0, \"Promo2SinceYear\": 2010.0, \"PromoInterval\": \"Jan,Apr,Jul,Oct\"}, {\"Store\": 16, \"DayOfWeek\": 4, \"Date\": \"2015-08-20\", \"Open\": 1.0, \"Promo\": 1, \"StateHoliday\": \"0\", \"SchoolHoliday\": 1, \"StoreType\": \"a\", \"Assortment\": \"c\", \"CompetitionDistance\": 3270.0, \"CompetitionOpenSinceMonth\": NaN, \"CompetitionOpenSinceYear\": NaN, \"Promo2\": 0, \"Promo2SinceWeek\": NaN, \"Promo2SinceYear\": NaN, \"PromoInterval\": NaN}, {\"Store\": 24, \"DayOfWeek\": 4, \"Date\": \"2015-08-20\", \"Open\": 1.0, \"Promo\": 1, \"StateHoliday\": \"0\", \"SchoolHoliday\": 0, \"StoreType\": \"a\", \"Assortment\": \"c\", \"CompetitionDistance\": 4590.0, \"CompetitionOpenSinceMonth\": 3.0, \"CompetitionOpenSinceYear\": 2000.0, \"Promo2\": 1, \"Promo2SinceWeek\": 40.0, \"Promo2SinceYear\": 2011.0, \"PromoInterval\": \"Jan,Apr,Jul,Oct\"}, {\"Store\": 100, \"DayOfWeek\": 4, \"Date\": \"2015-08-20\", \"Open\": 1.0, \"Promo\": 1, \"StateHoliday\": \"0\", \"SchoolHoliday\": 1, \"StoreType\": \"d\", \"Assortment\": \"a\", \"CompetitionDistance\": 17930.0, \"CompetitionOpenSinceMonth\": NaN, \"CompetitionOpenSinceYear\": NaN, \"Promo2\": 0, \"Promo2SinceWeek\": NaN, \"Promo2SinceYear\": NaN, \"PromoInterval\": NaN}, {\"Store\": 1, \"DayOfWeek\": 3, \"Date\": \"2015-08-19\", \"Open\": 1.0, \"Promo\": 1, \"StateHoliday\": \"0\", \"SchoolHoliday\": 1, \"StoreType\": \"c\", \"Assortment\": \"a\", \"CompetitionDistance\": 1270.0, \"CompetitionOpenSinceMonth\": 9.0, \"CompetitionOpenSinceYear\": 2008.0, \"Promo2\": 0, \"Promo2SinceWeek\": NaN, \"Promo2SinceYear\": NaN, \"PromoInterval\": NaN}, {\"Store\": 3, \"DayOfWeek\": 3, \"Date\": \"2015-08-19\", \"Open\": 1.0, \"Promo\": 1, \"StateHoliday\": \"0\", \"SchoolHoliday\": 0, \"StoreType\": \"a\", \"Assortment\": \"a\", \"CompetitionDistance\": 14130.0, \"CompetitionOpenSinceMonth\": 12.0, \"CompetitionOpenSinceYear\": 2006.0, \"Promo2\": 1, \"Promo2SinceWeek\": 14.0, \"Promo2SinceYear\": 2011.0, \"PromoInterval\": \"Jan,Apr,Jul,Oct\"}, {\"Store\": 12, \"DayOfWeek\": 3, \"Date\": \"2015-08-19\", \"Open\": 1.0, \"Promo\": 1, \"StateHoliday\": \"0\", \"SchoolHoliday\": 1, \"StoreType\": \"a\", \"Assortment\": \"c\", \"CompetitionDistance\": 1070.0, \"CompetitionOpenSinceMonth\": NaN, \"CompetitionOpenSinceYear\": NaN, \"Promo2\": 1, \"Promo2SinceWeek\": 13.0, \"Promo2SinceYear\": 2010.0, \"PromoInterval\": \"Jan,Apr,Jul,Oct\"}, {\"Store\": 16, \"DayOfWeek\": 3, \"Date\": \"2015-08-19\", \"Open\": 1.0, \"Promo\": 1, \"StateHoliday\": \"0\", \"SchoolHoliday\": 1, \"StoreType\": \"a\", \"Assortment\": \"c\", \"CompetitionDistance\": 3270.0, \"CompetitionOpenSinceMonth\": NaN, \"CompetitionOpenSinceYear\": NaN, \"Promo2\": 0, \"Promo2SinceWeek\": NaN, \"Promo2SinceYear\": NaN, \"PromoInterval\": NaN}, {\"Store\": 24, \"DayOfWeek\": 3, \"Date\": \"2015-08-19\", \"Open\": 1.0, \"Promo\": 1, \"StateHoliday\": \"0\", \"SchoolHoliday\": 0, \"StoreType\": \"a\", \"Assortment\": \"c\", \"CompetitionDistance\": 4590.0, \"CompetitionOpenSinceMonth\": 3.0, \"CompetitionOpenSinceYear\": 2000.0, \"Promo2\": 1, \"Promo2SinceWeek\": 40.0, \"Promo2SinceYear\": 2011.0, \"PromoInterval\": \"Jan,Apr,Jul,Oct\"}, {\"Store\": 100, \"DayOfWeek\": 3, \"Date\": \"2015-08-19\", \"Open\": 1.0, \"Promo\": 1, \"StateHoliday\": \"0\", \"SchoolHoliday\": 1, \"StoreType\": \"d\", \"Assortment\": \"a\", \"CompetitionDistance\": 17930.0, \"CompetitionOpenSinceMonth\": NaN, \"CompetitionOpenSinceYear\": NaN, \"Promo2\": 0, \"Promo2SinceWeek\": NaN, \"Promo2SinceYear\": NaN, \"PromoInterval\": NaN}, {\"Store\": 1, \"DayOfWeek\": 2, \"Date\": \"2015-08-18\", \"Open\": 1.0, \"Promo\": 1, \"StateHoliday\": \"0\", \"SchoolHoliday\": 1, \"StoreType\": \"c\", \"Assortment\": \"a\", \"CompetitionDistance\": 1270.0, \"CompetitionOpenSinceMonth\": 9.0, \"CompetitionOpenSinceYear\": 2008.0, \"Promo2\": 0, \"Promo2SinceWeek\": NaN, \"Promo2SinceYear\": NaN, \"PromoInterval\": NaN}, {\"Store\": 3, \"DayOfWeek\": 2, \"Date\": \"2015-08-18\", \"Open\": 1.0, \"Promo\": 1, \"StateHoliday\": \"0\", \"SchoolHoliday\": 0, \"StoreType\": \"a\", \"Assortment\": \"a\", \"CompetitionDistance\": 14130.0, \"CompetitionOpenSinceMonth\": 12.0, \"CompetitionOpenSinceYear\": 2006.0, \"Promo2\": 1, \"Promo2SinceWeek\": 14.0, \"Promo2SinceYear\": 2011.0, \"PromoInterval\": \"Jan,Apr,Jul,Oct\"}, {\"Store\": 12, \"DayOfWeek\": 2, \"Date\": \"2015-08-18\", \"Open\": 1.0, \"Promo\": 1, \"StateHoliday\": \"0\", \"SchoolHoliday\": 1, \"StoreType\": \"a\", \"Assortment\": \"c\", \"CompetitionDistance\": 1070.0, \"CompetitionOpenSinceMonth\": NaN, \"CompetitionOpenSinceYear\": NaN, \"Promo2\": 1, \"Promo2SinceWeek\": 13.0, \"Promo2SinceYear\": 2010.0, \"PromoInterval\": \"Jan,Apr,Jul,Oct\"}, {\"Store\": 16, \"DayOfWeek\": 2, \"Date\": \"2015-08-18\", \"Open\": 1.0, \"Promo\": 1, \"StateHoliday\": \"0\", \"SchoolHoliday\": 1, \"StoreType\": \"a\", \"Assortment\": \"c\", \"CompetitionDistance\": 3270.0, \"CompetitionOpenSinceMonth\": NaN, \"CompetitionOpenSinceYear\": NaN, \"Promo2\": 0, \"Promo2SinceWeek\": NaN, \"Promo2SinceYear\": NaN, \"PromoInterval\": NaN}, {\"Store\": 24, \"DayOfWeek\": 2, \"Date\": \"2015-08-18\", \"Open\": 1.0, \"Promo\": 1, \"StateHoliday\": \"0\", \"SchoolHoliday\": 0, \"StoreType\": \"a\", \"Assortment\": \"c\", \"CompetitionDistance\": 4590.0, \"CompetitionOpenSinceMonth\": 3.0, \"CompetitionOpenSinceYear\": 2000.0, \"Promo2\": 1, \"Promo2SinceWeek\": 40.0, \"Promo2SinceYear\": 2011.0, \"PromoInterval\": \"Jan,Apr,Jul,Oct\"}, {\"Store\": 100, \"DayOfWeek\": 2, \"Date\": \"2015-08-18\", \"Open\": 1.0, \"Promo\": 1, \"StateHoliday\": \"0\", \"SchoolHoliday\": 1, \"StoreType\": \"d\", \"Assortment\": \"a\", \"CompetitionDistance\": 17930.0, \"CompetitionOpenSinceMonth\": NaN, \"CompetitionOpenSinceYear\": NaN, \"Promo2\": 0, \"Promo2SinceWeek\": NaN, \"Promo2SinceYear\": NaN, \"PromoInterval\": NaN}, {\"Store\": 1, \"DayOfWeek\": 1, \"Date\": \"2015-08-17\", \"Open\": 1.0, \"Promo\": 1, \"StateHoliday\": \"0\", \"SchoolHoliday\": 1, \"StoreType\": \"c\", \"Assortment\": \"a\", \"CompetitionDistance\": 1270.0, \"CompetitionOpenSinceMonth\": 9.0, \"CompetitionOpenSinceYear\": 2008.0, \"Promo2\": 0, \"Promo2SinceWeek\": NaN, \"Promo2SinceYear\": NaN, \"PromoInterval\": NaN}, {\"Store\": 3, \"DayOfWeek\": 1, \"Date\": \"2015-08-17\", \"Open\": 1.0, \"Promo\": 1, \"StateHoliday\": \"0\", \"SchoolHoliday\": 0, \"StoreType\": \"a\", \"Assortment\": \"a\", \"CompetitionDistance\": 14130.0, \"CompetitionOpenSinceMonth\": 12.0, \"CompetitionOpenSinceYear\": 2006.0, \"Promo2\": 1, \"Promo2SinceWeek\": 14.0, \"Promo2SinceYear\": 2011.0, \"PromoInterval\": \"Jan,Apr,Jul,Oct\"}, {\"Store\": 12, \"DayOfWeek\": 1, \"Date\": \"2015-08-17\", \"Open\": 1.0, \"Promo\": 1, \"StateHoliday\": \"0\", \"SchoolHoliday\": 1, \"StoreType\": \"a\", \"Assortment\": \"c\", \"CompetitionDistance\": 1070.0, \"CompetitionOpenSinceMonth\": NaN, \"CompetitionOpenSinceYear\": NaN, \"Promo2\": 1, \"Promo2SinceWeek\": 13.0, \"Promo2SinceYear\": 2010.0, \"PromoInterval\": \"Jan,Apr,Jul,Oct\"}, {\"Store\": 16, \"DayOfWeek\": 1, \"Date\": \"2015-08-17\", \"Open\": 1.0, \"Promo\": 1, \"StateHoliday\": \"0\", \"SchoolHoliday\": 1, \"StoreType\": \"a\", \"Assortment\": \"c\", \"CompetitionDistance\": 3270.0, \"CompetitionOpenSinceMonth\": NaN, \"CompetitionOpenSinceYear\": NaN, \"Promo2\": 0, \"Promo2SinceWeek\": NaN, \"Promo2SinceYear\": NaN, \"PromoInterval\": NaN}, {\"Store\": 24, \"DayOfWeek\": 1, \"Date\": \"2015-08-17\", \"Open\": 1.0, \"Promo\": 1, \"StateHoliday\": \"0\", \"SchoolHoliday\": 0, \"StoreType\": \"a\", \"Assortment\": \"c\", \"CompetitionDistance\": 4590.0, \"CompetitionOpenSinceMonth\": 3.0, \"CompetitionOpenSinceYear\": 2000.0, \"Promo2\": 1, \"Promo2SinceWeek\": 40.0, \"Promo2SinceYear\": 2011.0, \"PromoInterval\": \"Jan,Apr,Jul,Oct\"}, {\"Store\": 100, \"DayOfWeek\": 1, \"Date\": \"2015-08-17\", \"Open\": 1.0, \"Promo\": 1, \"StateHoliday\": \"0\", \"SchoolHoliday\": 1, \"StoreType\": \"d\", \"Assortment\": \"a\", \"CompetitionDistance\": 17930.0, \"CompetitionOpenSinceMonth\": NaN, \"CompetitionOpenSinceYear\": NaN, \"Promo2\": 0, \"Promo2SinceWeek\": NaN, \"Promo2SinceYear\": NaN, \"PromoInterval\": NaN}, {\"Store\": 1, \"DayOfWeek\": 6, \"Date\": \"2015-08-15\", \"Open\": 1.0, \"Promo\": 0, \"StateHoliday\": \"0\", \"SchoolHoliday\": 1, \"StoreType\": \"c\", \"Assortment\": \"a\", \"CompetitionDistance\": 1270.0, \"CompetitionOpenSinceMonth\": 9.0, \"CompetitionOpenSinceYear\": 2008.0, \"Promo2\": 0, \"Promo2SinceWeek\": NaN, \"Promo2SinceYear\": NaN, \"PromoInterval\": NaN}, {\"Store\": 3, \"DayOfWeek\": 6, \"Date\": \"2015-08-15\", \"Open\": 1.0, \"Promo\": 0, \"StateHoliday\": \"0\", \"SchoolHoliday\": 0, \"StoreType\": \"a\", \"Assortment\": \"a\", \"CompetitionDistance\": 14130.0, \"CompetitionOpenSinceMonth\": 12.0, \"CompetitionOpenSinceYear\": 2006.0, \"Promo2\": 1, \"Promo2SinceWeek\": 14.0, \"Promo2SinceYear\": 2011.0, \"PromoInterval\": \"Jan,Apr,Jul,Oct\"}, {\"Store\": 12, \"DayOfWeek\": 6, \"Date\": \"2015-08-15\", \"Open\": 1.0, \"Promo\": 0, \"StateHoliday\": \"0\", \"SchoolHoliday\": 0, \"StoreType\": \"a\", \"Assortment\": \"c\", \"CompetitionDistance\": 1070.0, \"CompetitionOpenSinceMonth\": NaN, \"CompetitionOpenSinceYear\": NaN, \"Promo2\": 1, \"Promo2SinceWeek\": 13.0, \"Promo2SinceYear\": 2010.0, \"PromoInterval\": \"Jan,Apr,Jul,Oct\"}, {\"Store\": 16, \"DayOfWeek\": 6, \"Date\": \"2015-08-15\", \"Open\": 1.0, \"Promo\": 0, \"StateHoliday\": \"0\", \"SchoolHoliday\": 0, \"StoreType\": \"a\", \"Assortment\": \"c\", \"CompetitionDistance\": 3270.0, \"CompetitionOpenSinceMonth\": NaN, \"CompetitionOpenSinceYear\": NaN, \"Promo2\": 0, \"Promo2SinceWeek\": NaN, \"Promo2SinceYear\": NaN, \"PromoInterval\": NaN}, {\"Store\": 24, \"DayOfWeek\": 6, \"Date\": \"2015-08-15\", \"Open\": 1.0, \"Promo\": 0, \"StateHoliday\": \"0\", \"SchoolHoliday\": 0, \"StoreType\": \"a\", \"Assortment\": \"c\", \"CompetitionDistance\": 4590.0, \"CompetitionOpenSinceMonth\": 3.0, \"CompetitionOpenSinceYear\": 2000.0, \"Promo2\": 1, \"Promo2SinceWeek\": 40.0, \"Promo2SinceYear\": 2011.0, \"PromoInterval\": \"Jan,Apr,Jul,Oct\"}, {\"Store\": 1, \"DayOfWeek\": 5, \"Date\": \"2015-08-14\", \"Open\": 1.0, \"Promo\": 0, \"StateHoliday\": \"0\", \"SchoolHoliday\": 1, \"StoreType\": \"c\", \"Assortment\": \"a\", \"CompetitionDistance\": 1270.0, \"CompetitionOpenSinceMonth\": 9.0, \"CompetitionOpenSinceYear\": 2008.0, \"Promo2\": 0, \"Promo2SinceWeek\": NaN, \"Promo2SinceYear\": NaN, \"PromoInterval\": NaN}, {\"Store\": 3, \"DayOfWeek\": 5, \"Date\": \"2015-08-14\", \"Open\": 1.0, \"Promo\": 0, \"StateHoliday\": \"0\", \"SchoolHoliday\": 0, \"StoreType\": \"a\", \"Assortment\": \"a\", \"CompetitionDistance\": 14130.0, \"CompetitionOpenSinceMonth\": 12.0, \"CompetitionOpenSinceYear\": 2006.0, \"Promo2\": 1, \"Promo2SinceWeek\": 14.0, \"Promo2SinceYear\": 2011.0, \"PromoInterval\": \"Jan,Apr,Jul,Oct\"}, {\"Store\": 12, \"DayOfWeek\": 5, \"Date\": \"2015-08-14\", \"Open\": 1.0, \"Promo\": 0, \"StateHoliday\": \"0\", \"SchoolHoliday\": 1, \"StoreType\": \"a\", \"Assortment\": \"c\", \"CompetitionDistance\": 1070.0, \"CompetitionOpenSinceMonth\": NaN, \"CompetitionOpenSinceYear\": NaN, \"Promo2\": 1, \"Promo2SinceWeek\": 13.0, \"Promo2SinceYear\": 2010.0, \"PromoInterval\": \"Jan,Apr,Jul,Oct\"}, {\"Store\": 16, \"DayOfWeek\": 5, \"Date\": \"2015-08-14\", \"Open\": 1.0, \"Promo\": 0, \"StateHoliday\": \"0\", \"SchoolHoliday\": 1, \"StoreType\": \"a\", \"Assortment\": \"c\", \"CompetitionDistance\": 3270.0, \"CompetitionOpenSinceMonth\": NaN, \"CompetitionOpenSinceYear\": NaN, \"Promo2\": 0, \"Promo2SinceWeek\": NaN, \"Promo2SinceYear\": NaN, \"PromoInterval\": NaN}, {\"Store\": 24, \"DayOfWeek\": 5, \"Date\": \"2015-08-14\", \"Open\": 1.0, \"Promo\": 0, \"StateHoliday\": \"0\", \"SchoolHoliday\": 0, \"StoreType\": \"a\", \"Assortment\": \"c\", \"CompetitionDistance\": 4590.0, \"CompetitionOpenSinceMonth\": 3.0, \"CompetitionOpenSinceYear\": 2000.0, \"Promo2\": 1, \"Promo2SinceWeek\": 40.0, \"Promo2SinceYear\": 2011.0, \"PromoInterval\": \"Jan,Apr,Jul,Oct\"}, {\"Store\": 100, \"DayOfWeek\": 5, \"Date\": \"2015-08-14\", \"Open\": 1.0, \"Promo\": 0, \"StateHoliday\": \"0\", \"SchoolHoliday\": 1, \"StoreType\": \"d\", \"Assortment\": \"a\", \"CompetitionDistance\": 17930.0, \"CompetitionOpenSinceMonth\": NaN, \"CompetitionOpenSinceYear\": NaN, \"Promo2\": 0, \"Promo2SinceWeek\": NaN, \"Promo2SinceYear\": NaN, \"PromoInterval\": NaN}, {\"Store\": 1, \"DayOfWeek\": 4, \"Date\": \"2015-08-13\", \"Open\": 1.0, \"Promo\": 0, \"StateHoliday\": \"0\", \"SchoolHoliday\": 1, \"StoreType\": \"c\", \"Assortment\": \"a\", \"CompetitionDistance\": 1270.0, \"CompetitionOpenSinceMonth\": 9.0, \"CompetitionOpenSinceYear\": 2008.0, \"Promo2\": 0, \"Promo2SinceWeek\": NaN, \"Promo2SinceYear\": NaN, \"PromoInterval\": NaN}, {\"Store\": 3, \"DayOfWeek\": 4, \"Date\": \"2015-08-13\", \"Open\": 1.0, \"Promo\": 0, \"StateHoliday\": \"0\", \"SchoolHoliday\": 0, \"StoreType\": \"a\", \"Assortment\": \"a\", \"CompetitionDistance\": 14130.0, \"CompetitionOpenSinceMonth\": 12.0, \"CompetitionOpenSinceYear\": 2006.0, \"Promo2\": 1, \"Promo2SinceWeek\": 14.0, \"Promo2SinceYear\": 2011.0, \"PromoInterval\": \"Jan,Apr,Jul,Oct\"}, {\"Store\": 12, \"DayOfWeek\": 4, \"Date\": \"2015-08-13\", \"Open\": 1.0, \"Promo\": 0, \"StateHoliday\": \"0\", \"SchoolHoliday\": 1, \"StoreType\": \"a\", \"Assortment\": \"c\", \"CompetitionDistance\": 1070.0, \"CompetitionOpenSinceMonth\": NaN, \"CompetitionOpenSinceYear\": NaN, \"Promo2\": 1, \"Promo2SinceWeek\": 13.0, \"Promo2SinceYear\": 2010.0, \"PromoInterval\": \"Jan,Apr,Jul,Oct\"}, {\"Store\": 16, \"DayOfWeek\": 4, \"Date\": \"2015-08-13\", \"Open\": 1.0, \"Promo\": 0, \"StateHoliday\": \"0\", \"SchoolHoliday\": 1, \"StoreType\": \"a\", \"Assortment\": \"c\", \"CompetitionDistance\": 3270.0, \"CompetitionOpenSinceMonth\": NaN, \"CompetitionOpenSinceYear\": NaN, \"Promo2\": 0, \"Promo2SinceWeek\": NaN, \"Promo2SinceYear\": NaN, \"PromoInterval\": NaN}, {\"Store\": 24, \"DayOfWeek\": 4, \"Date\": \"2015-08-13\", \"Open\": 1.0, \"Promo\": 0, \"StateHoliday\": \"0\", \"SchoolHoliday\": 0, \"StoreType\": \"a\", \"Assortment\": \"c\", \"CompetitionDistance\": 4590.0, \"CompetitionOpenSinceMonth\": 3.0, \"CompetitionOpenSinceYear\": 2000.0, \"Promo2\": 1, \"Promo2SinceWeek\": 40.0, \"Promo2SinceYear\": 2011.0, \"PromoInterval\": \"Jan,Apr,Jul,Oct\"}, {\"Store\": 100, \"DayOfWeek\": 4, \"Date\": \"2015-08-13\", \"Open\": 1.0, \"Promo\": 0, \"StateHoliday\": \"0\", \"SchoolHoliday\": 1, \"StoreType\": \"d\", \"Assortment\": \"a\", \"CompetitionDistance\": 17930.0, \"CompetitionOpenSinceMonth\": NaN, \"CompetitionOpenSinceYear\": NaN, \"Promo2\": 0, \"Promo2SinceWeek\": NaN, \"Promo2SinceYear\": NaN, \"PromoInterval\": NaN}, {\"Store\": 1, \"DayOfWeek\": 3, \"Date\": \"2015-08-12\", \"Open\": 1.0, \"Promo\": 0, \"StateHoliday\": \"0\", \"SchoolHoliday\": 1, \"StoreType\": \"c\", \"Assortment\": \"a\", \"CompetitionDistance\": 1270.0, \"CompetitionOpenSinceMonth\": 9.0, \"CompetitionOpenSinceYear\": 2008.0, \"Promo2\": 0, \"Promo2SinceWeek\": NaN, \"Promo2SinceYear\": NaN, \"PromoInterval\": NaN}, {\"Store\": 3, \"DayOfWeek\": 3, \"Date\": \"2015-08-12\", \"Open\": 1.0, \"Promo\": 0, \"StateHoliday\": \"0\", \"SchoolHoliday\": 0, \"StoreType\": \"a\", \"Assortment\": \"a\", \"CompetitionDistance\": 14130.0, \"CompetitionOpenSinceMonth\": 12.0, \"CompetitionOpenSinceYear\": 2006.0, \"Promo2\": 1, \"Promo2SinceWeek\": 14.0, \"Promo2SinceYear\": 2011.0, \"PromoInterval\": \"Jan,Apr,Jul,Oct\"}, {\"Store\": 12, \"DayOfWeek\": 3, \"Date\": \"2015-08-12\", \"Open\": 1.0, \"Promo\": 0, \"StateHoliday\": \"0\", \"SchoolHoliday\": 1, \"StoreType\": \"a\", \"Assortment\": \"c\", \"CompetitionDistance\": 1070.0, \"CompetitionOpenSinceMonth\": NaN, \"CompetitionOpenSinceYear\": NaN, \"Promo2\": 1, \"Promo2SinceWeek\": 13.0, \"Promo2SinceYear\": 2010.0, \"PromoInterval\": \"Jan,Apr,Jul,Oct\"}, {\"Store\": 16, \"DayOfWeek\": 3, \"Date\": \"2015-08-12\", \"Open\": 1.0, \"Promo\": 0, \"StateHoliday\": \"0\", \"SchoolHoliday\": 1, \"StoreType\": \"a\", \"Assortment\": \"c\", \"CompetitionDistance\": 3270.0, \"CompetitionOpenSinceMonth\": NaN, \"CompetitionOpenSinceYear\": NaN, \"Promo2\": 0, \"Promo2SinceWeek\": NaN, \"Promo2SinceYear\": NaN, \"PromoInterval\": NaN}, {\"Store\": 24, \"DayOfWeek\": 3, \"Date\": \"2015-08-12\", \"Open\": 1.0, \"Promo\": 0, \"StateHoliday\": \"0\", \"SchoolHoliday\": 0, \"StoreType\": \"a\", \"Assortment\": \"c\", \"CompetitionDistance\": 4590.0, \"CompetitionOpenSinceMonth\": 3.0, \"CompetitionOpenSinceYear\": 2000.0, \"Promo2\": 1, \"Promo2SinceWeek\": 40.0, \"Promo2SinceYear\": 2011.0, \"PromoInterval\": \"Jan,Apr,Jul,Oct\"}, {\"Store\": 100, \"DayOfWeek\": 3, \"Date\": \"2015-08-12\", \"Open\": 1.0, \"Promo\": 0, \"StateHoliday\": \"0\", \"SchoolHoliday\": 1, \"StoreType\": \"d\", \"Assortment\": \"a\", \"CompetitionDistance\": 17930.0, \"CompetitionOpenSinceMonth\": NaN, \"CompetitionOpenSinceYear\": NaN, \"Promo2\": 0, \"Promo2SinceWeek\": NaN, \"Promo2SinceYear\": NaN, \"PromoInterval\": NaN}, {\"Store\": 1, \"DayOfWeek\": 2, \"Date\": \"2015-08-11\", \"Open\": 1.0, \"Promo\": 0, \"StateHoliday\": \"0\", \"SchoolHoliday\": 1, \"StoreType\": \"c\", \"Assortment\": \"a\", \"CompetitionDistance\": 1270.0, \"CompetitionOpenSinceMonth\": 9.0, \"CompetitionOpenSinceYear\": 2008.0, \"Promo2\": 0, \"Promo2SinceWeek\": NaN, \"Promo2SinceYear\": NaN, \"PromoInterval\": NaN}, {\"Store\": 3, \"DayOfWeek\": 2, \"Date\": \"2015-08-11\", \"Open\": 1.0, \"Promo\": 0, \"StateHoliday\": \"0\", \"SchoolHoliday\": 1, \"StoreType\": \"a\", \"Assortment\": \"a\", \"CompetitionDistance\": 14130.0, \"CompetitionOpenSinceMonth\": 12.0, \"CompetitionOpenSinceYear\": 2006.0, \"Promo2\": 1, \"Promo2SinceWeek\": 14.0, \"Promo2SinceYear\": 2011.0, \"PromoInterval\": \"Jan,Apr,Jul,Oct\"}, {\"Store\": 12, \"DayOfWeek\": 2, \"Date\": \"2015-08-11\", \"Open\": 1.0, \"Promo\": 0, \"StateHoliday\": \"0\", \"SchoolHoliday\": 1, \"StoreType\": \"a\", \"Assortment\": \"c\", \"CompetitionDistance\": 1070.0, \"CompetitionOpenSinceMonth\": NaN, \"CompetitionOpenSinceYear\": NaN, \"Promo2\": 1, \"Promo2SinceWeek\": 13.0, \"Promo2SinceYear\": 2010.0, \"PromoInterval\": \"Jan,Apr,Jul,Oct\"}, {\"Store\": 16, \"DayOfWeek\": 2, \"Date\": \"2015-08-11\", \"Open\": 1.0, \"Promo\": 0, \"StateHoliday\": \"0\", \"SchoolHoliday\": 1, \"StoreType\": \"a\", \"Assortment\": \"c\", \"CompetitionDistance\": 3270.0, \"CompetitionOpenSinceMonth\": NaN, \"CompetitionOpenSinceYear\": NaN, \"Promo2\": 0, \"Promo2SinceWeek\": NaN, \"Promo2SinceYear\": NaN, \"PromoInterval\": NaN}, {\"Store\": 24, \"DayOfWeek\": 2, \"Date\": \"2015-08-11\", \"Open\": 1.0, \"Promo\": 0, \"StateHoliday\": \"0\", \"SchoolHoliday\": 1, \"StoreType\": \"a\", \"Assortment\": \"c\", \"CompetitionDistance\": 4590.0, \"CompetitionOpenSinceMonth\": 3.0, \"CompetitionOpenSinceYear\": 2000.0, \"Promo2\": 1, \"Promo2SinceWeek\": 40.0, \"Promo2SinceYear\": 2011.0, \"PromoInterval\": \"Jan,Apr,Jul,Oct\"}, {\"Store\": 100, \"DayOfWeek\": 2, \"Date\": \"2015-08-11\", \"Open\": 1.0, \"Promo\": 0, \"StateHoliday\": \"0\", \"SchoolHoliday\": 1, \"StoreType\": \"d\", \"Assortment\": \"a\", \"CompetitionDistance\": 17930.0, \"CompetitionOpenSinceMonth\": NaN, \"CompetitionOpenSinceYear\": NaN, \"Promo2\": 0, \"Promo2SinceWeek\": NaN, \"Promo2SinceYear\": NaN, \"PromoInterval\": NaN}, {\"Store\": 1, \"DayOfWeek\": 1, \"Date\": \"2015-08-10\", \"Open\": 1.0, \"Promo\": 0, \"StateHoliday\": \"0\", \"SchoolHoliday\": 1, \"StoreType\": \"c\", \"Assortment\": \"a\", \"CompetitionDistance\": 1270.0, \"CompetitionOpenSinceMonth\": 9.0, \"CompetitionOpenSinceYear\": 2008.0, \"Promo2\": 0, \"Promo2SinceWeek\": NaN, \"Promo2SinceYear\": NaN, \"PromoInterval\": NaN}, {\"Store\": 3, \"DayOfWeek\": 1, \"Date\": \"2015-08-10\", \"Open\": 1.0, \"Promo\": 0, \"StateHoliday\": \"0\", \"SchoolHoliday\": 1, \"StoreType\": \"a\", \"Assortment\": \"a\", \"CompetitionDistance\": 14130.0, \"CompetitionOpenSinceMonth\": 12.0, \"CompetitionOpenSinceYear\": 2006.0, \"Promo2\": 1, \"Promo2SinceWeek\": 14.0, \"Promo2SinceYear\": 2011.0, \"PromoInterval\": \"Jan,Apr,Jul,Oct\"}, {\"Store\": 12, \"DayOfWeek\": 1, \"Date\": \"2015-08-10\", \"Open\": 1.0, \"Promo\": 0, \"StateHoliday\": \"0\", \"SchoolHoliday\": 1, \"StoreType\": \"a\", \"Assortment\": \"c\", \"CompetitionDistance\": 1070.0, \"CompetitionOpenSinceMonth\": NaN, \"CompetitionOpenSinceYear\": NaN, \"Promo2\": 1, \"Promo2SinceWeek\": 13.0, \"Promo2SinceYear\": 2010.0, \"PromoInterval\": \"Jan,Apr,Jul,Oct\"}, {\"Store\": 16, \"DayOfWeek\": 1, \"Date\": \"2015-08-10\", \"Open\": 1.0, \"Promo\": 0, \"StateHoliday\": \"0\", \"SchoolHoliday\": 1, \"StoreType\": \"a\", \"Assortment\": \"c\", \"CompetitionDistance\": 3270.0, \"CompetitionOpenSinceMonth\": NaN, \"CompetitionOpenSinceYear\": NaN, \"Promo2\": 0, \"Promo2SinceWeek\": NaN, \"Promo2SinceYear\": NaN, \"PromoInterval\": NaN}, {\"Store\": 24, \"DayOfWeek\": 1, \"Date\": \"2015-08-10\", \"Open\": 1.0, \"Promo\": 0, \"StateHoliday\": \"0\", \"SchoolHoliday\": 1, \"StoreType\": \"a\", \"Assortment\": \"c\", \"CompetitionDistance\": 4590.0, \"CompetitionOpenSinceMonth\": 3.0, \"CompetitionOpenSinceYear\": 2000.0, \"Promo2\": 1, \"Promo2SinceWeek\": 40.0, \"Promo2SinceYear\": 2011.0, \"PromoInterval\": \"Jan,Apr,Jul,Oct\"}, {\"Store\": 100, \"DayOfWeek\": 1, \"Date\": \"2015-08-10\", \"Open\": 1.0, \"Promo\": 0, \"StateHoliday\": \"0\", \"SchoolHoliday\": 1, \"StoreType\": \"d\", \"Assortment\": \"a\", \"CompetitionDistance\": 17930.0, \"CompetitionOpenSinceMonth\": NaN, \"CompetitionOpenSinceYear\": NaN, \"Promo2\": 0, \"Promo2SinceWeek\": NaN, \"Promo2SinceYear\": NaN, \"PromoInterval\": NaN}, {\"Store\": 1, \"DayOfWeek\": 6, \"Date\": \"2015-08-08\", \"Open\": 1.0, \"Promo\": 0, \"StateHoliday\": \"0\", \"SchoolHoliday\": 1, \"StoreType\": \"c\", \"Assortment\": \"a\", \"CompetitionDistance\": 1270.0, \"CompetitionOpenSinceMonth\": 9.0, \"CompetitionOpenSinceYear\": 2008.0, \"Promo2\": 0, \"Promo2SinceWeek\": NaN, \"Promo2SinceYear\": NaN, \"PromoInterval\": NaN}, {\"Store\": 3, \"DayOfWeek\": 6, \"Date\": \"2015-08-08\", \"Open\": 1.0, \"Promo\": 0, \"StateHoliday\": \"0\", \"SchoolHoliday\": 0, \"StoreType\": \"a\", \"Assortment\": \"a\", \"CompetitionDistance\": 14130.0, \"CompetitionOpenSinceMonth\": 12.0, \"CompetitionOpenSinceYear\": 2006.0, \"Promo2\": 1, \"Promo2SinceWeek\": 14.0, \"Promo2SinceYear\": 2011.0, \"PromoInterval\": \"Jan,Apr,Jul,Oct\"}, {\"Store\": 12, \"DayOfWeek\": 6, \"Date\": \"2015-08-08\", \"Open\": 1.0, \"Promo\": 0, \"StateHoliday\": \"0\", \"SchoolHoliday\": 0, \"StoreType\": \"a\", \"Assortment\": \"c\", \"CompetitionDistance\": 1070.0, \"CompetitionOpenSinceMonth\": NaN, \"CompetitionOpenSinceYear\": NaN, \"Promo2\": 1, \"Promo2SinceWeek\": 13.0, \"Promo2SinceYear\": 2010.0, \"PromoInterval\": \"Jan,Apr,Jul,Oct\"}, {\"Store\": 16, \"DayOfWeek\": 6, \"Date\": \"2015-08-08\", \"Open\": 1.0, \"Promo\": 0, \"StateHoliday\": \"0\", \"SchoolHoliday\": 0, \"StoreType\": \"a\", \"Assortment\": \"c\", \"CompetitionDistance\": 3270.0, \"CompetitionOpenSinceMonth\": NaN, \"CompetitionOpenSinceYear\": NaN, \"Promo2\": 0, \"Promo2SinceWeek\": NaN, \"Promo2SinceYear\": NaN, \"PromoInterval\": NaN}, {\"Store\": 24, \"DayOfWeek\": 6, \"Date\": \"2015-08-08\", \"Open\": 1.0, \"Promo\": 0, \"StateHoliday\": \"0\", \"SchoolHoliday\": 0, \"StoreType\": \"a\", \"Assortment\": \"c\", \"CompetitionDistance\": 4590.0, \"CompetitionOpenSinceMonth\": 3.0, \"CompetitionOpenSinceYear\": 2000.0, \"Promo2\": 1, \"Promo2SinceWeek\": 40.0, \"Promo2SinceYear\": 2011.0, \"PromoInterval\": \"Jan,Apr,Jul,Oct\"}, {\"Store\": 100, \"DayOfWeek\": 6, \"Date\": \"2015-08-08\", \"Open\": 1.0, \"Promo\": 0, \"StateHoliday\": \"0\", \"SchoolHoliday\": 0, \"StoreType\": \"d\", \"Assortment\": \"a\", \"CompetitionDistance\": 17930.0, \"CompetitionOpenSinceMonth\": NaN, \"CompetitionOpenSinceYear\": NaN, \"Promo2\": 0, \"Promo2SinceWeek\": NaN, \"Promo2SinceYear\": NaN, \"PromoInterval\": NaN}, {\"Store\": 1, \"DayOfWeek\": 5, \"Date\": \"2015-08-07\", \"Open\": 1.0, \"Promo\": 1, \"StateHoliday\": \"0\", \"SchoolHoliday\": 1, \"StoreType\": \"c\", \"Assortment\": \"a\", \"CompetitionDistance\": 1270.0, \"CompetitionOpenSinceMonth\": 9.0, \"CompetitionOpenSinceYear\": 2008.0, \"Promo2\": 0, \"Promo2SinceWeek\": NaN, \"Promo2SinceYear\": NaN, \"PromoInterval\": NaN}, {\"Store\": 3, \"DayOfWeek\": 5, \"Date\": \"2015-08-07\", \"Open\": 1.0, \"Promo\": 1, \"StateHoliday\": \"0\", \"SchoolHoliday\": 1, \"StoreType\": \"a\", \"Assortment\": \"a\", \"CompetitionDistance\": 14130.0, \"CompetitionOpenSinceMonth\": 12.0, \"CompetitionOpenSinceYear\": 2006.0, \"Promo2\": 1, \"Promo2SinceWeek\": 14.0, \"Promo2SinceYear\": 2011.0, \"PromoInterval\": \"Jan,Apr,Jul,Oct\"}, {\"Store\": 12, \"DayOfWeek\": 5, \"Date\": \"2015-08-07\", \"Open\": 1.0, \"Promo\": 1, \"StateHoliday\": \"0\", \"SchoolHoliday\": 1, \"StoreType\": \"a\", \"Assortment\": \"c\", \"CompetitionDistance\": 1070.0, \"CompetitionOpenSinceMonth\": NaN, \"CompetitionOpenSinceYear\": NaN, \"Promo2\": 1, \"Promo2SinceWeek\": 13.0, \"Promo2SinceYear\": 2010.0, \"PromoInterval\": \"Jan,Apr,Jul,Oct\"}, {\"Store\": 16, \"DayOfWeek\": 5, \"Date\": \"2015-08-07\", \"Open\": 1.0, \"Promo\": 1, \"StateHoliday\": \"0\", \"SchoolHoliday\": 1, \"StoreType\": \"a\", \"Assortment\": \"c\", \"CompetitionDistance\": 3270.0, \"CompetitionOpenSinceMonth\": NaN, \"CompetitionOpenSinceYear\": NaN, \"Promo2\": 0, \"Promo2SinceWeek\": NaN, \"Promo2SinceYear\": NaN, \"PromoInterval\": NaN}, {\"Store\": 24, \"DayOfWeek\": 5, \"Date\": \"2015-08-07\", \"Open\": 1.0, \"Promo\": 1, \"StateHoliday\": \"0\", \"SchoolHoliday\": 1, \"StoreType\": \"a\", \"Assortment\": \"c\", \"CompetitionDistance\": 4590.0, \"CompetitionOpenSinceMonth\": 3.0, \"CompetitionOpenSinceYear\": 2000.0, \"Promo2\": 1, \"Promo2SinceWeek\": 40.0, \"Promo2SinceYear\": 2011.0, \"PromoInterval\": \"Jan,Apr,Jul,Oct\"}, {\"Store\": 100, \"DayOfWeek\": 5, \"Date\": \"2015-08-07\", \"Open\": 1.0, \"Promo\": 1, \"StateHoliday\": \"0\", \"SchoolHoliday\": 1, \"StoreType\": \"d\", \"Assortment\": \"a\", \"CompetitionDistance\": 17930.0, \"CompetitionOpenSinceMonth\": NaN, \"CompetitionOpenSinceYear\": NaN, \"Promo2\": 0, \"Promo2SinceWeek\": NaN, \"Promo2SinceYear\": NaN, \"PromoInterval\": NaN}, {\"Store\": 1, \"DayOfWeek\": 4, \"Date\": \"2015-08-06\", \"Open\": 1.0, \"Promo\": 1, \"StateHoliday\": \"0\", \"SchoolHoliday\": 1, \"StoreType\": \"c\", \"Assortment\": \"a\", \"CompetitionDistance\": 1270.0, \"CompetitionOpenSinceMonth\": 9.0, \"CompetitionOpenSinceYear\": 2008.0, \"Promo2\": 0, \"Promo2SinceWeek\": NaN, \"Promo2SinceYear\": NaN, \"PromoInterval\": NaN}, {\"Store\": 3, \"DayOfWeek\": 4, \"Date\": \"2015-08-06\", \"Open\": 1.0, \"Promo\": 1, \"StateHoliday\": \"0\", \"SchoolHoliday\": 1, \"StoreType\": \"a\", \"Assortment\": \"a\", \"CompetitionDistance\": 14130.0, \"CompetitionOpenSinceMonth\": 12.0, \"CompetitionOpenSinceYear\": 2006.0, \"Promo2\": 1, \"Promo2SinceWeek\": 14.0, \"Promo2SinceYear\": 2011.0, \"PromoInterval\": \"Jan,Apr,Jul,Oct\"}, {\"Store\": 12, \"DayOfWeek\": 4, \"Date\": \"2015-08-06\", \"Open\": 1.0, \"Promo\": 1, \"StateHoliday\": \"0\", \"SchoolHoliday\": 1, \"StoreType\": \"a\", \"Assortment\": \"c\", \"CompetitionDistance\": 1070.0, \"CompetitionOpenSinceMonth\": NaN, \"CompetitionOpenSinceYear\": NaN, \"Promo2\": 1, \"Promo2SinceWeek\": 13.0, \"Promo2SinceYear\": 2010.0, \"PromoInterval\": \"Jan,Apr,Jul,Oct\"}, {\"Store\": 16, \"DayOfWeek\": 4, \"Date\": \"2015-08-06\", \"Open\": 1.0, \"Promo\": 1, \"StateHoliday\": \"0\", \"SchoolHoliday\": 1, \"StoreType\": \"a\", \"Assortment\": \"c\", \"CompetitionDistance\": 3270.0, \"CompetitionOpenSinceMonth\": NaN, \"CompetitionOpenSinceYear\": NaN, \"Promo2\": 0, \"Promo2SinceWeek\": NaN, \"Promo2SinceYear\": NaN, \"PromoInterval\": NaN}, {\"Store\": 24, \"DayOfWeek\": 4, \"Date\": \"2015-08-06\", \"Open\": 1.0, \"Promo\": 1, \"StateHoliday\": \"0\", \"SchoolHoliday\": 1, \"StoreType\": \"a\", \"Assortment\": \"c\", \"CompetitionDistance\": 4590.0, \"CompetitionOpenSinceMonth\": 3.0, \"CompetitionOpenSinceYear\": 2000.0, \"Promo2\": 1, \"Promo2SinceWeek\": 40.0, \"Promo2SinceYear\": 2011.0, \"PromoInterval\": \"Jan,Apr,Jul,Oct\"}, {\"Store\": 100, \"DayOfWeek\": 4, \"Date\": \"2015-08-06\", \"Open\": 1.0, \"Promo\": 1, \"StateHoliday\": \"0\", \"SchoolHoliday\": 1, \"StoreType\": \"d\", \"Assortment\": \"a\", \"CompetitionDistance\": 17930.0, \"CompetitionOpenSinceMonth\": NaN, \"CompetitionOpenSinceYear\": NaN, \"Promo2\": 0, \"Promo2SinceWeek\": NaN, \"Promo2SinceYear\": NaN, \"PromoInterval\": NaN}, {\"Store\": 1, \"DayOfWeek\": 3, \"Date\": \"2015-08-05\", \"Open\": 1.0, \"Promo\": 1, \"StateHoliday\": \"0\", \"SchoolHoliday\": 1, \"StoreType\": \"c\", \"Assortment\": \"a\", \"CompetitionDistance\": 1270.0, \"CompetitionOpenSinceMonth\": 9.0, \"CompetitionOpenSinceYear\": 2008.0, \"Promo2\": 0, \"Promo2SinceWeek\": NaN, \"Promo2SinceYear\": NaN, \"PromoInterval\": NaN}, {\"Store\": 3, \"DayOfWeek\": 3, \"Date\": \"2015-08-05\", \"Open\": 1.0, \"Promo\": 1, \"StateHoliday\": \"0\", \"SchoolHoliday\": 1, \"StoreType\": \"a\", \"Assortment\": \"a\", \"CompetitionDistance\": 14130.0, \"CompetitionOpenSinceMonth\": 12.0, \"CompetitionOpenSinceYear\": 2006.0, \"Promo2\": 1, \"Promo2SinceWeek\": 14.0, \"Promo2SinceYear\": 2011.0, \"PromoInterval\": \"Jan,Apr,Jul,Oct\"}, {\"Store\": 12, \"DayOfWeek\": 3, \"Date\": \"2015-08-05\", \"Open\": 1.0, \"Promo\": 1, \"StateHoliday\": \"0\", \"SchoolHoliday\": 1, \"StoreType\": \"a\", \"Assortment\": \"c\", \"CompetitionDistance\": 1070.0, \"CompetitionOpenSinceMonth\": NaN, \"CompetitionOpenSinceYear\": NaN, \"Promo2\": 1, \"Promo2SinceWeek\": 13.0, \"Promo2SinceYear\": 2010.0, \"PromoInterval\": \"Jan,Apr,Jul,Oct\"}, {\"Store\": 16, \"DayOfWeek\": 3, \"Date\": \"2015-08-05\", \"Open\": 1.0, \"Promo\": 1, \"StateHoliday\": \"0\", \"SchoolHoliday\": 1, \"StoreType\": \"a\", \"Assortment\": \"c\", \"CompetitionDistance\": 3270.0, \"CompetitionOpenSinceMonth\": NaN, \"CompetitionOpenSinceYear\": NaN, \"Promo2\": 0, \"Promo2SinceWeek\": NaN, \"Promo2SinceYear\": NaN, \"PromoInterval\": NaN}, {\"Store\": 24, \"DayOfWeek\": 3, \"Date\": \"2015-08-05\", \"Open\": 1.0, \"Promo\": 1, \"StateHoliday\": \"0\", \"SchoolHoliday\": 1, \"StoreType\": \"a\", \"Assortment\": \"c\", \"CompetitionDistance\": 4590.0, \"CompetitionOpenSinceMonth\": 3.0, \"CompetitionOpenSinceYear\": 2000.0, \"Promo2\": 1, \"Promo2SinceWeek\": 40.0, \"Promo2SinceYear\": 2011.0, \"PromoInterval\": \"Jan,Apr,Jul,Oct\"}, {\"Store\": 100, \"DayOfWeek\": 3, \"Date\": \"2015-08-05\", \"Open\": 1.0, \"Promo\": 1, \"StateHoliday\": \"0\", \"SchoolHoliday\": 1, \"StoreType\": \"d\", \"Assortment\": \"a\", \"CompetitionDistance\": 17930.0, \"CompetitionOpenSinceMonth\": NaN, \"CompetitionOpenSinceYear\": NaN, \"Promo2\": 0, \"Promo2SinceWeek\": NaN, \"Promo2SinceYear\": NaN, \"PromoInterval\": NaN}, {\"Store\": 1, \"DayOfWeek\": 2, \"Date\": \"2015-08-04\", \"Open\": 1.0, \"Promo\": 1, \"StateHoliday\": \"0\", \"SchoolHoliday\": 1, \"StoreType\": \"c\", \"Assortment\": \"a\", \"CompetitionDistance\": 1270.0, \"CompetitionOpenSinceMonth\": 9.0, \"CompetitionOpenSinceYear\": 2008.0, \"Promo2\": 0, \"Promo2SinceWeek\": NaN, \"Promo2SinceYear\": NaN, \"PromoInterval\": NaN}, {\"Store\": 3, \"DayOfWeek\": 2, \"Date\": \"2015-08-04\", \"Open\": 1.0, \"Promo\": 1, \"StateHoliday\": \"0\", \"SchoolHoliday\": 1, \"StoreType\": \"a\", \"Assortment\": \"a\", \"CompetitionDistance\": 14130.0, \"CompetitionOpenSinceMonth\": 12.0, \"CompetitionOpenSinceYear\": 2006.0, \"Promo2\": 1, \"Promo2SinceWeek\": 14.0, \"Promo2SinceYear\": 2011.0, \"PromoInterval\": \"Jan,Apr,Jul,Oct\"}, {\"Store\": 12, \"DayOfWeek\": 2, \"Date\": \"2015-08-04\", \"Open\": 1.0, \"Promo\": 1, \"StateHoliday\": \"0\", \"SchoolHoliday\": 1, \"StoreType\": \"a\", \"Assortment\": \"c\", \"CompetitionDistance\": 1070.0, \"CompetitionOpenSinceMonth\": NaN, \"CompetitionOpenSinceYear\": NaN, \"Promo2\": 1, \"Promo2SinceWeek\": 13.0, \"Promo2SinceYear\": 2010.0, \"PromoInterval\": \"Jan,Apr,Jul,Oct\"}, {\"Store\": 16, \"DayOfWeek\": 2, \"Date\": \"2015-08-04\", \"Open\": 1.0, \"Promo\": 1, \"StateHoliday\": \"0\", \"SchoolHoliday\": 1, \"StoreType\": \"a\", \"Assortment\": \"c\", \"CompetitionDistance\": 3270.0, \"CompetitionOpenSinceMonth\": NaN, \"CompetitionOpenSinceYear\": NaN, \"Promo2\": 0, \"Promo2SinceWeek\": NaN, \"Promo2SinceYear\": NaN, \"PromoInterval\": NaN}, {\"Store\": 24, \"DayOfWeek\": 2, \"Date\": \"2015-08-04\", \"Open\": 1.0, \"Promo\": 1, \"StateHoliday\": \"0\", \"SchoolHoliday\": 1, \"StoreType\": \"a\", \"Assortment\": \"c\", \"CompetitionDistance\": 4590.0, \"CompetitionOpenSinceMonth\": 3.0, \"CompetitionOpenSinceYear\": 2000.0, \"Promo2\": 1, \"Promo2SinceWeek\": 40.0, \"Promo2SinceYear\": 2011.0, \"PromoInterval\": \"Jan,Apr,Jul,Oct\"}, {\"Store\": 100, \"DayOfWeek\": 2, \"Date\": \"2015-08-04\", \"Open\": 1.0, \"Promo\": 1, \"StateHoliday\": \"0\", \"SchoolHoliday\": 1, \"StoreType\": \"d\", \"Assortment\": \"a\", \"CompetitionDistance\": 17930.0, \"CompetitionOpenSinceMonth\": NaN, \"CompetitionOpenSinceYear\": NaN, \"Promo2\": 0, \"Promo2SinceWeek\": NaN, \"Promo2SinceYear\": NaN, \"PromoInterval\": NaN}, {\"Store\": 1, \"DayOfWeek\": 1, \"Date\": \"2015-08-03\", \"Open\": 1.0, \"Promo\": 1, \"StateHoliday\": \"0\", \"SchoolHoliday\": 1, \"StoreType\": \"c\", \"Assortment\": \"a\", \"CompetitionDistance\": 1270.0, \"CompetitionOpenSinceMonth\": 9.0, \"CompetitionOpenSinceYear\": 2008.0, \"Promo2\": 0, \"Promo2SinceWeek\": NaN, \"Promo2SinceYear\": NaN, \"PromoInterval\": NaN}, {\"Store\": 3, \"DayOfWeek\": 1, \"Date\": \"2015-08-03\", \"Open\": 1.0, \"Promo\": 1, \"StateHoliday\": \"0\", \"SchoolHoliday\": 1, \"StoreType\": \"a\", \"Assortment\": \"a\", \"CompetitionDistance\": 14130.0, \"CompetitionOpenSinceMonth\": 12.0, \"CompetitionOpenSinceYear\": 2006.0, \"Promo2\": 1, \"Promo2SinceWeek\": 14.0, \"Promo2SinceYear\": 2011.0, \"PromoInterval\": \"Jan,Apr,Jul,Oct\"}, {\"Store\": 12, \"DayOfWeek\": 1, \"Date\": \"2015-08-03\", \"Open\": 1.0, \"Promo\": 1, \"StateHoliday\": \"0\", \"SchoolHoliday\": 1, \"StoreType\": \"a\", \"Assortment\": \"c\", \"CompetitionDistance\": 1070.0, \"CompetitionOpenSinceMonth\": NaN, \"CompetitionOpenSinceYear\": NaN, \"Promo2\": 1, \"Promo2SinceWeek\": 13.0, \"Promo2SinceYear\": 2010.0, \"PromoInterval\": \"Jan,Apr,Jul,Oct\"}, {\"Store\": 16, \"DayOfWeek\": 1, \"Date\": \"2015-08-03\", \"Open\": 1.0, \"Promo\": 1, \"StateHoliday\": \"0\", \"SchoolHoliday\": 1, \"StoreType\": \"a\", \"Assortment\": \"c\", \"CompetitionDistance\": 3270.0, \"CompetitionOpenSinceMonth\": NaN, \"CompetitionOpenSinceYear\": NaN, \"Promo2\": 0, \"Promo2SinceWeek\": NaN, \"Promo2SinceYear\": NaN, \"PromoInterval\": NaN}, {\"Store\": 24, \"DayOfWeek\": 1, \"Date\": \"2015-08-03\", \"Open\": 1.0, \"Promo\": 1, \"StateHoliday\": \"0\", \"SchoolHoliday\": 1, \"StoreType\": \"a\", \"Assortment\": \"c\", \"CompetitionDistance\": 4590.0, \"CompetitionOpenSinceMonth\": 3.0, \"CompetitionOpenSinceYear\": 2000.0, \"Promo2\": 1, \"Promo2SinceWeek\": 40.0, \"Promo2SinceYear\": 2011.0, \"PromoInterval\": \"Jan,Apr,Jul,Oct\"}, {\"Store\": 100, \"DayOfWeek\": 1, \"Date\": \"2015-08-03\", \"Open\": 1.0, \"Promo\": 1, \"StateHoliday\": \"0\", \"SchoolHoliday\": 1, \"StoreType\": \"d\", \"Assortment\": \"a\", \"CompetitionDistance\": 17930.0, \"CompetitionOpenSinceMonth\": NaN, \"CompetitionOpenSinceYear\": NaN, \"Promo2\": 0, \"Promo2SinceWeek\": NaN, \"Promo2SinceYear\": NaN, \"PromoInterval\": NaN}, {\"Store\": 1, \"DayOfWeek\": 6, \"Date\": \"2015-08-01\", \"Open\": 1.0, \"Promo\": 0, \"StateHoliday\": \"0\", \"SchoolHoliday\": 1, \"StoreType\": \"c\", \"Assortment\": \"a\", \"CompetitionDistance\": 1270.0, \"CompetitionOpenSinceMonth\": 9.0, \"CompetitionOpenSinceYear\": 2008.0, \"Promo2\": 0, \"Promo2SinceWeek\": NaN, \"Promo2SinceYear\": NaN, \"PromoInterval\": NaN}, {\"Store\": 3, \"DayOfWeek\": 6, \"Date\": \"2015-08-01\", \"Open\": 1.0, \"Promo\": 0, \"StateHoliday\": \"0\", \"SchoolHoliday\": 0, \"StoreType\": \"a\", \"Assortment\": \"a\", \"CompetitionDistance\": 14130.0, \"CompetitionOpenSinceMonth\": 12.0, \"CompetitionOpenSinceYear\": 2006.0, \"Promo2\": 1, \"Promo2SinceWeek\": 14.0, \"Promo2SinceYear\": 2011.0, \"PromoInterval\": \"Jan,Apr,Jul,Oct\"}, {\"Store\": 12, \"DayOfWeek\": 6, \"Date\": \"2015-08-01\", \"Open\": 1.0, \"Promo\": 0, \"StateHoliday\": \"0\", \"SchoolHoliday\": 0, \"StoreType\": \"a\", \"Assortment\": \"c\", \"CompetitionDistance\": 1070.0, \"CompetitionOpenSinceMonth\": NaN, \"CompetitionOpenSinceYear\": NaN, \"Promo2\": 1, \"Promo2SinceWeek\": 13.0, \"Promo2SinceYear\": 2010.0, \"PromoInterval\": \"Jan,Apr,Jul,Oct\"}, {\"Store\": 16, \"DayOfWeek\": 6, \"Date\": \"2015-08-01\", \"Open\": 1.0, \"Promo\": 0, \"StateHoliday\": \"0\", \"SchoolHoliday\": 0, \"StoreType\": \"a\", \"Assortment\": \"c\", \"CompetitionDistance\": 3270.0, \"CompetitionOpenSinceMonth\": NaN, \"CompetitionOpenSinceYear\": NaN, \"Promo2\": 0, \"Promo2SinceWeek\": NaN, \"Promo2SinceYear\": NaN, \"PromoInterval\": NaN}, {\"Store\": 24, \"DayOfWeek\": 6, \"Date\": \"2015-08-01\", \"Open\": 1.0, \"Promo\": 0, \"StateHoliday\": \"0\", \"SchoolHoliday\": 0, \"StoreType\": \"a\", \"Assortment\": \"c\", \"CompetitionDistance\": 4590.0, \"CompetitionOpenSinceMonth\": 3.0, \"CompetitionOpenSinceYear\": 2000.0, \"Promo2\": 1, \"Promo2SinceWeek\": 40.0, \"Promo2SinceYear\": 2011.0, \"PromoInterval\": \"Jan,Apr,Jul,Oct\"}, {\"Store\": 100, \"DayOfWeek\": 6, \"Date\": \"2015-08-01\", \"Open\": 1.0, \"Promo\": 0, \"StateHoliday\": \"0\", \"SchoolHoliday\": 0, \"StoreType\": \"d\", \"Assortment\": \"a\", \"CompetitionDistance\": 17930.0, \"CompetitionOpenSinceMonth\": NaN, \"CompetitionOpenSinceYear\": NaN, \"Promo2\": 0, \"Promo2SinceWeek\": NaN, \"Promo2SinceYear\": NaN, \"PromoInterval\": NaN}]'"
      ]
     },
     "execution_count": 116,
     "metadata": {},
     "output_type": "execute_result"
    }
   ],
   "source": [
    "data"
   ]
  },
  {
   "cell_type": "markdown",
   "id": "7cc51349",
   "metadata": {
    "heading_collapsed": true
   },
   "source": [
    "### Teste da API na máquina local"
   ]
  },
  {
   "cell_type": "code",
   "execution_count": 92,
   "id": "6c44fbbf",
   "metadata": {
    "ExecuteTime": {
     "end_time": "2022-01-19T14:10:51.895808Z",
     "start_time": "2022-01-19T14:10:51.703481Z"
    },
    "hidden": true
   },
   "outputs": [
    {
     "name": "stdout",
     "output_type": "stream",
     "text": [
      "Status Code 200\n"
     ]
    }
   ],
   "source": [
    "#API Call - roda dentro de API no terminal: handler.py\n",
    "#5000 é a porta padrão do flesk\n",
    "url = 'http://0.0.0.0:5000/rossmann/predict' #ulr local\n",
    "header = {'Content-type':'application/json'}\n",
    "data = data\n",
    "\n",
    "#enviar dados\n",
    "r = requests.post( url, data=data, headers=header )\n",
    "print( 'Status Code {}'.format( r.status_code ) )"
   ]
  },
  {
   "cell_type": "markdown",
   "id": "f53a05ec",
   "metadata": {},
   "source": [
    "### Teste da API na Cloud Heroku"
   ]
  },
  {
   "cell_type": "code",
   "execution_count": 129,
   "id": "391e07c5",
   "metadata": {
    "ExecuteTime": {
     "end_time": "2022-01-19T16:33:10.831682Z",
     "start_time": "2022-01-19T16:33:08.711845Z"
    }
   },
   "outputs": [
    {
     "name": "stdout",
     "output_type": "stream",
     "text": [
      "Status Code 200\n"
     ]
    }
   ],
   "source": [
    "#API Call \n",
    "url = 'https://rossmann-store-prediction.herokuapp.com/rossmann/predict' #ulr heroku + endpoint rossman/predict\n",
    "header = {'Content-type':'application/json'}\n",
    "data = data\n",
    "\n",
    "#enviar dados\n",
    "r = requests.post( url, data=data, headers=header )\n",
    "print( 'Status Code {}'.format( r.status_code ) )"
   ]
  },
  {
   "cell_type": "markdown",
   "id": "f28149b3",
   "metadata": {},
   "source": [
    "### Exibição dos dados"
   ]
  },
  {
   "cell_type": "code",
   "execution_count": 124,
   "id": "bcbb6f55",
   "metadata": {
    "ExecuteTime": {
     "end_time": "2022-01-19T16:11:11.703486Z",
     "start_time": "2022-01-19T16:11:11.687125Z"
    }
   },
   "outputs": [
    {
     "data": {
      "text/plain": [
       "{'store': 1,\n",
       " 'day_of_week': 4,\n",
       " 'date': '2015-09-17T00:00:00.000Z',\n",
       " 'open': 1.0,\n",
       " 'promo': 1,\n",
       " 'state_holiday': 'regular_day',\n",
       " 'school_holiday': 0,\n",
       " 'store_type': 'c',\n",
       " 'assortment': 'basic',\n",
       " 'competition_distance': 1270.0,\n",
       " 'competition_open_since_month': 9,\n",
       " 'competition_open_since_year': 2008,\n",
       " 'promo2': 0,\n",
       " 'promo2_since_week': 38,\n",
       " 'promo2_since_year': 2015,\n",
       " 'promo_interval': 0,\n",
       " 'month_map': 'Sep',\n",
       " 'is_promo': 0,\n",
       " 'year': 2015,\n",
       " 'month': 9,\n",
       " 'day': 17,\n",
       " 'week_of_year': 38,\n",
       " 'year_week': '2015-37',\n",
       " 'competition_since': '2008-09-01T00:00:00.000Z',\n",
       " 'competition_time_month': 85,\n",
       " 'promo_since': '2015-09-14T00:00:00.000Z',\n",
       " 'promo2_time_week': 0,\n",
       " 'prediction': 4634.0595703125}"
      ]
     },
     "execution_count": 124,
     "metadata": {},
     "output_type": "execute_result"
    }
   ],
   "source": [
    "r.json()[0]"
   ]
  },
  {
   "cell_type": "code",
   "execution_count": 125,
   "id": "f904b947",
   "metadata": {
    "ExecuteTime": {
     "end_time": "2022-01-19T16:11:14.447791Z",
     "start_time": "2022-01-19T16:11:14.421227Z"
    }
   },
   "outputs": [],
   "source": [
    "#converter novamente para um DF a partir do json retornado\n",
    "d1 = pd.DataFrame( r.json(), columns=r.json()[0].keys() )"
   ]
  },
  {
   "cell_type": "code",
   "execution_count": 126,
   "id": "e88a6f03",
   "metadata": {
    "ExecuteTime": {
     "end_time": "2022-01-19T16:11:16.099985Z",
     "start_time": "2022-01-19T16:11:16.062948Z"
    }
   },
   "outputs": [
    {
     "data": {
      "text/html": [
       "<div>\n",
       "<style scoped>\n",
       "    .dataframe tbody tr th:only-of-type {\n",
       "        vertical-align: middle;\n",
       "    }\n",
       "\n",
       "    .dataframe tbody tr th {\n",
       "        vertical-align: top;\n",
       "    }\n",
       "\n",
       "    .dataframe thead th {\n",
       "        text-align: right;\n",
       "    }\n",
       "</style>\n",
       "<table border=\"1\" class=\"dataframe\">\n",
       "  <thead>\n",
       "    <tr style=\"text-align: right;\">\n",
       "      <th></th>\n",
       "      <th>store</th>\n",
       "      <th>day_of_week</th>\n",
       "      <th>date</th>\n",
       "      <th>open</th>\n",
       "      <th>promo</th>\n",
       "      <th>state_holiday</th>\n",
       "      <th>school_holiday</th>\n",
       "      <th>store_type</th>\n",
       "      <th>assortment</th>\n",
       "      <th>competition_distance</th>\n",
       "      <th>...</th>\n",
       "      <th>year</th>\n",
       "      <th>month</th>\n",
       "      <th>day</th>\n",
       "      <th>week_of_year</th>\n",
       "      <th>year_week</th>\n",
       "      <th>competition_since</th>\n",
       "      <th>competition_time_month</th>\n",
       "      <th>promo_since</th>\n",
       "      <th>promo2_time_week</th>\n",
       "      <th>prediction</th>\n",
       "    </tr>\n",
       "  </thead>\n",
       "  <tbody>\n",
       "    <tr>\n",
       "      <th>0</th>\n",
       "      <td>1</td>\n",
       "      <td>4</td>\n",
       "      <td>2015-09-17T00:00:00.000Z</td>\n",
       "      <td>1.0</td>\n",
       "      <td>1</td>\n",
       "      <td>regular_day</td>\n",
       "      <td>0</td>\n",
       "      <td>c</td>\n",
       "      <td>basic</td>\n",
       "      <td>1270.0</td>\n",
       "      <td>...</td>\n",
       "      <td>2015</td>\n",
       "      <td>9</td>\n",
       "      <td>17</td>\n",
       "      <td>38</td>\n",
       "      <td>2015-37</td>\n",
       "      <td>2008-09-01T00:00:00.000Z</td>\n",
       "      <td>85</td>\n",
       "      <td>2015-09-14T00:00:00.000Z</td>\n",
       "      <td>0</td>\n",
       "      <td>4634.059570</td>\n",
       "    </tr>\n",
       "    <tr>\n",
       "      <th>1</th>\n",
       "      <td>3</td>\n",
       "      <td>4</td>\n",
       "      <td>2015-09-17T00:00:00.000Z</td>\n",
       "      <td>1.0</td>\n",
       "      <td>1</td>\n",
       "      <td>regular_day</td>\n",
       "      <td>0</td>\n",
       "      <td>a</td>\n",
       "      <td>basic</td>\n",
       "      <td>14130.0</td>\n",
       "      <td>...</td>\n",
       "      <td>2015</td>\n",
       "      <td>9</td>\n",
       "      <td>17</td>\n",
       "      <td>38</td>\n",
       "      <td>2015-37</td>\n",
       "      <td>2006-12-01T00:00:00.000Z</td>\n",
       "      <td>107</td>\n",
       "      <td>2011-03-28T00:00:00.000Z</td>\n",
       "      <td>233</td>\n",
       "      <td>4167.449707</td>\n",
       "    </tr>\n",
       "    <tr>\n",
       "      <th>2</th>\n",
       "      <td>12</td>\n",
       "      <td>4</td>\n",
       "      <td>2015-09-17T00:00:00.000Z</td>\n",
       "      <td>1.0</td>\n",
       "      <td>1</td>\n",
       "      <td>regular_day</td>\n",
       "      <td>0</td>\n",
       "      <td>a</td>\n",
       "      <td>extended</td>\n",
       "      <td>1070.0</td>\n",
       "      <td>...</td>\n",
       "      <td>2015</td>\n",
       "      <td>9</td>\n",
       "      <td>17</td>\n",
       "      <td>38</td>\n",
       "      <td>2015-37</td>\n",
       "      <td>2015-09-01T00:00:00.000Z</td>\n",
       "      <td>0</td>\n",
       "      <td>2010-03-22T00:00:00.000Z</td>\n",
       "      <td>286</td>\n",
       "      <td>6262.280273</td>\n",
       "    </tr>\n",
       "    <tr>\n",
       "      <th>3</th>\n",
       "      <td>16</td>\n",
       "      <td>4</td>\n",
       "      <td>2015-09-17T00:00:00.000Z</td>\n",
       "      <td>1.0</td>\n",
       "      <td>1</td>\n",
       "      <td>regular_day</td>\n",
       "      <td>0</td>\n",
       "      <td>a</td>\n",
       "      <td>extended</td>\n",
       "      <td>3270.0</td>\n",
       "      <td>...</td>\n",
       "      <td>2015</td>\n",
       "      <td>9</td>\n",
       "      <td>17</td>\n",
       "      <td>38</td>\n",
       "      <td>2015-37</td>\n",
       "      <td>2015-09-01T00:00:00.000Z</td>\n",
       "      <td>0</td>\n",
       "      <td>2015-09-14T00:00:00.000Z</td>\n",
       "      <td>0</td>\n",
       "      <td>4171.805176</td>\n",
       "    </tr>\n",
       "    <tr>\n",
       "      <th>4</th>\n",
       "      <td>24</td>\n",
       "      <td>4</td>\n",
       "      <td>2015-09-17T00:00:00.000Z</td>\n",
       "      <td>1.0</td>\n",
       "      <td>1</td>\n",
       "      <td>regular_day</td>\n",
       "      <td>0</td>\n",
       "      <td>a</td>\n",
       "      <td>extended</td>\n",
       "      <td>4590.0</td>\n",
       "      <td>...</td>\n",
       "      <td>2015</td>\n",
       "      <td>9</td>\n",
       "      <td>17</td>\n",
       "      <td>38</td>\n",
       "      <td>2015-37</td>\n",
       "      <td>2000-03-01T00:00:00.000Z</td>\n",
       "      <td>189</td>\n",
       "      <td>2011-09-26T00:00:00.000Z</td>\n",
       "      <td>207</td>\n",
       "      <td>8376.798828</td>\n",
       "    </tr>\n",
       "  </tbody>\n",
       "</table>\n",
       "<p>5 rows × 28 columns</p>\n",
       "</div>"
      ],
      "text/plain": [
       "   store  day_of_week                      date  open  promo state_holiday  \\\n",
       "0      1            4  2015-09-17T00:00:00.000Z   1.0      1   regular_day   \n",
       "1      3            4  2015-09-17T00:00:00.000Z   1.0      1   regular_day   \n",
       "2     12            4  2015-09-17T00:00:00.000Z   1.0      1   regular_day   \n",
       "3     16            4  2015-09-17T00:00:00.000Z   1.0      1   regular_day   \n",
       "4     24            4  2015-09-17T00:00:00.000Z   1.0      1   regular_day   \n",
       "\n",
       "   school_holiday store_type assortment  competition_distance  ...  year  \\\n",
       "0               0          c      basic                1270.0  ...  2015   \n",
       "1               0          a      basic               14130.0  ...  2015   \n",
       "2               0          a   extended                1070.0  ...  2015   \n",
       "3               0          a   extended                3270.0  ...  2015   \n",
       "4               0          a   extended                4590.0  ...  2015   \n",
       "\n",
       "   month  day  week_of_year  year_week         competition_since  \\\n",
       "0      9   17            38    2015-37  2008-09-01T00:00:00.000Z   \n",
       "1      9   17            38    2015-37  2006-12-01T00:00:00.000Z   \n",
       "2      9   17            38    2015-37  2015-09-01T00:00:00.000Z   \n",
       "3      9   17            38    2015-37  2015-09-01T00:00:00.000Z   \n",
       "4      9   17            38    2015-37  2000-03-01T00:00:00.000Z   \n",
       "\n",
       "  competition_time_month               promo_since  promo2_time_week  \\\n",
       "0                     85  2015-09-14T00:00:00.000Z                 0   \n",
       "1                    107  2011-03-28T00:00:00.000Z               233   \n",
       "2                      0  2010-03-22T00:00:00.000Z               286   \n",
       "3                      0  2015-09-14T00:00:00.000Z                 0   \n",
       "4                    189  2011-09-26T00:00:00.000Z               207   \n",
       "\n",
       "    prediction  \n",
       "0  4634.059570  \n",
       "1  4167.449707  \n",
       "2  6262.280273  \n",
       "3  4171.805176  \n",
       "4  8376.798828  \n",
       "\n",
       "[5 rows x 28 columns]"
      ]
     },
     "execution_count": 126,
     "metadata": {},
     "output_type": "execute_result"
    }
   ],
   "source": [
    "#previsão de vendas diária para 6 semanas da loja 22:\n",
    "d1.head()"
   ]
  },
  {
   "cell_type": "code",
   "execution_count": 127,
   "id": "737c9e07",
   "metadata": {
    "ExecuteTime": {
     "end_time": "2022-01-19T16:11:18.522352Z",
     "start_time": "2022-01-19T16:11:18.504109Z"
    }
   },
   "outputs": [
    {
     "name": "stdout",
     "output_type": "stream",
     "text": [
      "Store number 1 will sell R$158,650.14 in the next 6 weeks\n",
      "Store number 3 will sell R$148,299.42 in the next 6 weeks\n",
      "Store number 12 will sell R$256,162.68 in the next 6 weeks\n",
      "Store number 16 will sell R$184,757.28 in the next 6 weeks\n",
      "Store number 24 will sell R$293,196.48 in the next 6 weeks\n",
      "Store number 100 will sell R$192,158.80 in the next 6 weeks\n"
     ]
    }
   ],
   "source": [
    "d2 = d1[['store','prediction']].groupby( 'store' ).sum().reset_index()\n",
    "\n",
    "for i in range (len(d2)):\n",
    "    print('Store number {} will sell R${:,.2f} in the next 6 weeks'.format(\n",
    "        d2.loc[i, 'store'],\n",
    "        d2.loc[i, 'prediction'] ))"
   ]
  },
  {
   "cell_type": "code",
   "execution_count": 128,
   "id": "1ce699c9",
   "metadata": {
    "ExecuteTime": {
     "end_time": "2022-01-19T16:11:22.652015Z",
     "start_time": "2022-01-19T16:11:22.638307Z"
    }
   },
   "outputs": [
    {
     "data": {
      "text/html": [
       "<div>\n",
       "<style scoped>\n",
       "    .dataframe tbody tr th:only-of-type {\n",
       "        vertical-align: middle;\n",
       "    }\n",
       "\n",
       "    .dataframe tbody tr th {\n",
       "        vertical-align: top;\n",
       "    }\n",
       "\n",
       "    .dataframe thead th {\n",
       "        text-align: right;\n",
       "    }\n",
       "</style>\n",
       "<table border=\"1\" class=\"dataframe\">\n",
       "  <thead>\n",
       "    <tr style=\"text-align: right;\">\n",
       "      <th></th>\n",
       "      <th>store</th>\n",
       "      <th>prediction</th>\n",
       "    </tr>\n",
       "  </thead>\n",
       "  <tbody>\n",
       "    <tr>\n",
       "      <th>0</th>\n",
       "      <td>1</td>\n",
       "      <td>158650.141846</td>\n",
       "    </tr>\n",
       "    <tr>\n",
       "      <th>1</th>\n",
       "      <td>3</td>\n",
       "      <td>148299.419678</td>\n",
       "    </tr>\n",
       "    <tr>\n",
       "      <th>2</th>\n",
       "      <td>12</td>\n",
       "      <td>256162.676514</td>\n",
       "    </tr>\n",
       "    <tr>\n",
       "      <th>3</th>\n",
       "      <td>16</td>\n",
       "      <td>184757.279541</td>\n",
       "    </tr>\n",
       "    <tr>\n",
       "      <th>4</th>\n",
       "      <td>24</td>\n",
       "      <td>293196.476562</td>\n",
       "    </tr>\n",
       "    <tr>\n",
       "      <th>5</th>\n",
       "      <td>100</td>\n",
       "      <td>192158.798096</td>\n",
       "    </tr>\n",
       "  </tbody>\n",
       "</table>\n",
       "</div>"
      ],
      "text/plain": [
       "   store     prediction\n",
       "0      1  158650.141846\n",
       "1      3  148299.419678\n",
       "2     12  256162.676514\n",
       "3     16  184757.279541\n",
       "4     24  293196.476562\n",
       "5    100  192158.798096"
      ]
     },
     "execution_count": 128,
     "metadata": {},
     "output_type": "execute_result"
    }
   ],
   "source": [
    "#previsão para 6 semanas da loja 22:\n",
    "d2"
   ]
  }
 ],
 "metadata": {
  "kernelspec": {
   "display_name": "Python 3 (ipykernel)",
   "language": "python",
   "name": "python3"
  },
  "language_info": {
   "codemirror_mode": {
    "name": "ipython",
    "version": 3
   },
   "file_extension": ".py",
   "mimetype": "text/x-python",
   "name": "python",
   "nbconvert_exporter": "python",
   "pygments_lexer": "ipython3",
   "version": "3.8.12"
  },
  "toc": {
   "base_numbering": 1,
   "nav_menu": {},
   "number_sections": true,
   "sideBar": true,
   "skip_h1_title": false,
   "title_cell": "Table of Contents",
   "title_sidebar": "Contents",
   "toc_cell": false,
   "toc_position": {},
   "toc_section_display": true,
   "toc_window_display": false
  }
 },
 "nbformat": 4,
 "nbformat_minor": 5
}
