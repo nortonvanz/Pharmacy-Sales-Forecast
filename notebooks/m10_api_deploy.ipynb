{
 "cells": [
  {
   "cell_type": "markdown",
   "id": "eb0f4754",
   "metadata": {},
   "source": [
    "# Imports"
   ]
  },
  {
   "cell_type": "code",
   "execution_count": null,
   "id": "426e81ad",
   "metadata": {},
   "outputs": [],
   "source": [
    "import math\n",
    "import inflection\n",
    "import pandas as pd \n",
    "import numpy as np\n",
    "import seaborn as sns\n",
    "import datetime as dt\n",
    "import xgboost as xgb\n",
    "import random\n",
    "import pickle\n",
    "\n",
    "from matplotlib            import pyplot as plt\n",
    "from IPython.core.display  import HTML\n",
    "from IPython.display       import Image\n",
    "from tabulate              import tabulate\n",
    "from scipy                 import stats\n",
    "from sklearn.preprocessing import RobustScaler, MinMaxScaler, LabelEncoder\n",
    "from datetime              import timedelta\n",
    "from boruta                import BorutaPy\n",
    "from sklearn.ensemble      import RandomForestRegressor\n",
    "from sklearn.metrics       import mean_absolute_error, mean_absolute_percentage_error, mean_squared_error\n",
    "from sklearn.linear_model  import LinearRegression, Lasso"
   ]
  },
  {
   "cell_type": "markdown",
   "id": "26539f04",
   "metadata": {},
   "source": [
    "# Passo 10 - Deploy Model to Production"
   ]
  },
  {
   "cell_type": "markdown",
   "id": "e5d03aa5",
   "metadata": {},
   "source": [
    "1 Criar uma Classe com as limpezas, transformações e encoding (Rossmann.py)\n",
    "2 Criar a API (Handler.py)\n",
    "3 Criar um Script para testar a API."
   ]
  },
  {
   "cell_type": "markdown",
   "id": "1fbbbabe",
   "metadata": {},
   "source": [
    "Conferir se exportei o modelo treinado (model_rossmann_trained) (ok)\n",
    "Exportar parâmetros pra aplicar nos novos dados que chegam via api (no Data Preparation -> Rescaling)"
   ]
  },
  {
   "cell_type": "markdown",
   "id": "128a8b42",
   "metadata": {
    "heading_collapsed": true
   },
   "source": [
    "### Testando o carregamento do modelo via pickle"
   ]
  },
  {
   "cell_type": "code",
   "execution_count": 4,
   "id": "7e4c1b87",
   "metadata": {
    "ExecuteTime": {
     "end_time": "2022-01-12T15:42:15.530241Z",
     "start_time": "2022-01-12T15:42:09.987091Z"
    },
    "hidden": true
   },
   "outputs": [],
   "source": [
    "# Testando o carregamento do modelo via pickle: (ok, sem customer)\n",
    "model_rossmann_final = pickle.load(open(\"../model/model_rossmann.pkl\", \"rb\"))"
   ]
  },
  {
   "cell_type": "code",
   "execution_count": 5,
   "id": "3d98a859",
   "metadata": {
    "ExecuteTime": {
     "end_time": "2022-01-12T15:42:15.609601Z",
     "start_time": "2022-01-12T15:42:15.535033Z"
    },
    "hidden": true
   },
   "outputs": [
    {
     "data": {
      "text/plain": [
       "XGBRegressor(base_score=0.5, booster='gbtree', colsample_bylevel=1,\n",
       "             colsample_bynode=1, colsample_bytree=0.9, enable_categorical=False,\n",
       "             eta=0.01, gamma=0, gpu_id=-1, importance_type=None,\n",
       "             interaction_constraints='', learning_rate=0.00999999978,\n",
       "             max_delta_step=0, max_depth=9, min_child_weight=15, missing=nan,\n",
       "             monotone_constraints='()', n_estimators=3500, n_jobs=4,\n",
       "             num_parallel_tree=1, predictor='auto', random_state=0, reg_alpha=0,\n",
       "             reg_lambda=1, scale_pos_weight=1, subsample=0.1,\n",
       "             tree_method='exact', validate_parameters=1, verbosity=None)"
      ]
     },
     "execution_count": 5,
     "metadata": {},
     "output_type": "execute_result"
    }
   ],
   "source": [
    "model_rossmann_final"
   ]
  },
  {
   "cell_type": "code",
   "execution_count": 7,
   "id": "733efa30",
   "metadata": {
    "ExecuteTime": {
     "end_time": "2022-01-12T15:42:23.038365Z",
     "start_time": "2022-01-12T15:42:23.032716Z"
    },
    "hidden": true
   },
   "outputs": [],
   "source": [
    "cols_when_model_builds_final = model_rossmann_final.get_booster().feature_names"
   ]
  },
  {
   "cell_type": "code",
   "execution_count": 8,
   "id": "dc7f457a",
   "metadata": {
    "ExecuteTime": {
     "end_time": "2022-01-12T15:42:23.854930Z",
     "start_time": "2022-01-12T15:42:23.846425Z"
    },
    "hidden": true
   },
   "outputs": [
    {
     "data": {
      "text/plain": [
       "['store',\n",
       " 'promo',\n",
       " 'store_type',\n",
       " 'assortment',\n",
       " 'competition_distance',\n",
       " 'competition_open_since_month',\n",
       " 'competition_open_since_year',\n",
       " 'promo2',\n",
       " 'promo2_since_week',\n",
       " 'promo2_since_year',\n",
       " 'competition_time_month',\n",
       " 'promo2_time_week',\n",
       " 'month_cos',\n",
       " 'month_sin',\n",
       " 'day_cos',\n",
       " 'day_sin',\n",
       " 'week_of_year_cos',\n",
       " 'week_of_year_sin',\n",
       " 'day_of_week_sin',\n",
       " 'day_of_week_cos']"
      ]
     },
     "execution_count": 8,
     "metadata": {},
     "output_type": "execute_result"
    }
   ],
   "source": [
    "cols_when_model_builds_final"
   ]
  },
  {
   "cell_type": "markdown",
   "id": "1675a01e",
   "metadata": {
    "heading_collapsed": true
   },
   "source": [
    "## Rossmann Class\n"
   ]
  },
  {
   "cell_type": "markdown",
   "id": "1e28b476",
   "metadata": {
    "hidden": true
   },
   "source": [
    "1 - Criar uma Classe com as limpezas, transformações e encoding (Rossmann.py)\n",
    "Sobe e copia do passo 1 do Rename Columns até o Change Data Types e cola aqui.\n",
    "SHIFT + M pra fazer um merge de tudo.\n",
    "Pega também da Feature Engeneerign até a filtragem de variáveis-Seleção das Colunas\n",
    "Pega também do Rescaling até Nature Transformation \n",
    "Pega também as cols do Boruta no Manual Feature Selection\n",
    "\n",
    "Script será colado no projeto em api/rossmann/Rossmann.py"
   ]
  },
  {
   "cell_type": "code",
   "execution_count": 5,
   "id": "edbe834d",
   "metadata": {
    "ExecuteTime": {
     "end_time": "2022-01-12T16:53:15.608317Z",
     "start_time": "2022-01-12T16:53:15.552945Z"
    },
    "code_folding": [
     9,
     19,
     21,
     74,
     109,
     154
    ],
    "hidden": true,
    "scrolled": true
   },
   "outputs": [],
   "source": [
    "import pickle\n",
    "import inflection\n",
    "import pandas as pd\n",
    "import numpy as np\n",
    "import math\n",
    "import datetime\n",
    "\n",
    "class Rossmann ( object ):\n",
    "    #construtor - primeira função que classe roda quando é instanciada\n",
    "    def __init__ ( self ):\n",
    "        #toda vez que instanciar esta classe, guarda na memória todas as transformações dos arquivos pickle\n",
    "        #self - variáveis dentro da classe Rossmann só poderão ser acessadas internamente\n",
    "        self.home_path='/Users/home/pharmacy_sales_forecast/'\n",
    "        self.competition_distance_scaler     = pickle.load (open (self.home_path + 'parameter/competition_distance_scaler.pkl', 'rb') )\n",
    "        self.competition_time_month_scaler   = pickle.load (open (self.home_path + 'parameter/competition_time_month_scaler.pkl', 'rb') )\n",
    "        self.promo2_time_week_scaler         = pickle.load (open (self.home_path + 'parameter/promo2_time_week_scaler.pkl', 'rb') )\n",
    "        self.year_scaler                     = pickle.load (open (self.home_path + 'parameter/year_scaler.pkl', 'rb') )\n",
    "        self.store_type_scaler               = pickle.load (open (self.home_path + 'parameter/store_type_scaler.pkl', 'rb' ) )\n",
    "    \n",
    "    def data_cleaning ( self, df1 ):\n",
    "        ## 1.1 Rename Columns\n",
    "        cols_old = ['Store', 'DayOfWeek', 'Date', 'Open', 'Promo',\n",
    "           'StateHoliday', 'SchoolHoliday', 'StoreType', 'Assortment',\n",
    "           'CompetitionDistance', 'CompetitionOpenSinceMonth',\n",
    "           'CompetitionOpenSinceYear', 'Promo2', 'Promo2SinceWeek',\n",
    "           'Promo2SinceYear', 'PromoInterval']\n",
    "\n",
    "        #cria função pra transformar em snake_case\n",
    "        snakecase = lambda x: inflection.underscore ( x )\n",
    "        #aplica a função em todas as palabras de cols_old, guarda em lista na cols_new\n",
    "        cols_new = list( map( snakecase, cols_old ) )\n",
    "        #rename\n",
    "        df1.columns = cols_new\n",
    "\n",
    "\n",
    "        ## 1.3 Data Types\n",
    "        #convert 'date' to datetim e:\n",
    "        df1['date'] = pd.to_datetime( df1['date'] )\n",
    "\n",
    "        ## 1.5 Fillout NA\n",
    "        #competition_distance\n",
    "        df1['competition_distance'] = df1['competition_distance'].apply( lambda x: 200000.0 if math.isnan( x ) else x ) \n",
    "        #competition_open_since_month\n",
    "        df1['competition_open_since_month'] = df1.apply ( lambda x: x['date'].month if math.isnan( x['competition_open_since_month'] ) else x['competition_open_since_month'], axis=1 ) \n",
    "\n",
    "        #competition_open_since_year\n",
    "        df1['competition_open_since_year'] = df1.apply ( lambda x: x['date'].year if math.isnan( x['competition_open_since_year'] ) else x['competition_open_since_year'], axis=1 ) \n",
    "\n",
    "        #promo2_since_week\n",
    "        df1['promo2_since_week'] = df1.apply ( lambda x: x['date'].week if math.isnan( x['promo2_since_week'] ) else x['promo2_since_week'], axis=1 )\n",
    "\n",
    "        #promo2_since_year: \n",
    "        df1['promo2_since_year'] = df1.apply ( lambda x: x['date'].year if math.isnan( x['promo2_since_year'] ) else x['promo2_since_year'], axis=1 )\n",
    "\n",
    "        #promo_interval\n",
    "        month_map = {1: 'Jan', 2: 'Feb', 3: 'Mar', 4: 'Apr', 5: 'May', 6: 'Jun', 7: 'Jul', 8: 'Aug', 9: 'Sep', 10: 'Oct', 11: 'Nov', 12: 'Dec' }\n",
    "        df1['promo_interval'].fillna(0, inplace=True)\n",
    "\n",
    "        #cria coluna 'month_map' e seta o mes nela\n",
    "        df1['month_map'] = df1['date'].dt.month.map( month_map )\n",
    "\n",
    "        #cria coluna 'is_promo', e seta 1 se 'month_map' estiver em 'promo_interval', senão 0.\n",
    "        df1['is_promo'] = df1[['promo_interval', 'month_map']].apply ( lambda x: 0 if x['promo_interval'] == 0 else 1 if x['month_map'] in x['promo_interval'].split(',') else 0, axis =1 )\n",
    "\n",
    "        ## 1.6 Change Types\n",
    "        #competition\n",
    "        df1['competition_open_since_month'] = df1['competition_open_since_month'].astype( int )\n",
    "        df1['competition_open_since_year'] = df1['competition_open_since_year'].astype( int )\n",
    "        #promo2\n",
    "        df1['promo2_since_week'] = df1['promo2_since_week'].astype( int )\n",
    "        df1['promo2_since_year'] = df1['promo2_since_year'].astype( int )\n",
    "        \n",
    "        return df1\n",
    "\n",
    "    def feature_engineering( self, df2 ):\n",
    "        \n",
    "        # Passo 3 -  Filtragem de Variáveis\n",
    "        #year\n",
    "        df2['year'] = df2['date'].dt.year\n",
    "        #Month\n",
    "        df2['month'] = df2['date'].dt.month\n",
    "        #day\n",
    "        df2['day'] = df2['date'].dt.day\n",
    "        #week_of_year\n",
    "        df2['week_of_year'] = df2['date'].dt.isocalendar().week\n",
    "        #year_week\n",
    "        df2['year_week'] = df2['date'].dt.strftime( '%Y-%W' )\n",
    "        #competition_since\n",
    "        df2['competition_since'] = df2.apply (lambda x: datetime.datetime (year=x['competition_open_since_year'], month=x['competition_open_since_month'], day=1 ), axis=1)\n",
    "        df2['competition_time_month'] = ( (df2['date'] - df2['competition_since']) / 30 ).apply (lambda x: x.days).astype ( int )\n",
    "        #promo_since \n",
    "        df2['promo_since'] = df2['promo2_since_year'].astype( str ) + '-' + df2['promo2_since_week'].astype( str )\n",
    "        df2['promo_since'] = df2['promo_since'].apply ( lambda x: datetime.datetime.strptime( x + '-1', '%Y-%W-%w' ) - datetime.timedelta( days=7 ) )         \n",
    "        df2['promo2_time_week'] = ( ( df2['date'] - df2['promo_since'] )/ 7).apply ( lambda x: x.days ).astype (int)\n",
    "        #assortment\n",
    "        df2['assortment'] = df2['assortment'].apply( lambda x: 'basic' if x == 'a' else 'extra' if x == 'b' else 'extended' )\n",
    "        #state_holiday \n",
    "        df2['state_holiday'] = df2['state_holiday'].apply ( lambda x: 'public_holiday' if x == 'a' else 'easter_holiday' if x == 'b' else 'christmas' if x == 'c' else 'regular_day' )\n",
    "        \n",
    "        # 3.1 -  Filtragem de Linhas\n",
    "        #df2 = df2.loc[ df2['open'] != 0 ]\n",
    "        df2 = df2[df2['open'] != 0]\n",
    "        \n",
    "        # 3.2 - Seleção das Colunas\n",
    "        cols_drop = [ 'open', 'promo_interval', 'month_map' ]\n",
    "        df2.drop (cols_drop, axis=1)\n",
    "\n",
    "        return df2\n",
    "\n",
    "    def data_preparation ( self, df5 ):\n",
    "\n",
    "        ## 5.2 Rescaling\n",
    "        #competition_distance\n",
    "        df5['competition_distance'] = self.competition_distance_scaler.transform(df5[['competition_distance']].values )\n",
    "        #competition_time_month\n",
    "        df5['competition_time_month'] = self.competition_time_month_scaler.transform(df5[['competition_time_month']].values ) \n",
    "        #promo2_time_week\n",
    "        df5['promo2_time_week'] = self.promo2_time_week_scaler.transform(df5[['promo2_time_week']].values ) \n",
    "        \n",
    "        #year\n",
    "        df5['year'] = self.year_scaler.transform(df5[['year']].values ) \n",
    "        \n",
    "        ## 5.3 Transformação\n",
    "        ### 5.3.1 Encoding\n",
    "        #### state_holiday - (One-Hot-Encoding)\n",
    "        df5 = pd.get_dummies( df5, prefix=['state_holiday'], columns=['state_holiday'] )\n",
    "        #### store_type (Label Encoding)\n",
    "        #Precisou do fit_transform, só com transform a API retornava erro: ValueError: y contains previously unseen labels: 'a'\n",
    "        df5['store_type'] = self.store_type_scaler.fit_transform( df5['store_type'] )\n",
    "        #### assortment (Ordinal Encoding)\n",
    "        assortment_dict = {'basic': 1, 'extra': 2, 'extended': 3}\n",
    "        df5['assortment'] = df5['assortment'].map( assortment_dict )\n",
    "\n",
    "        ### 5.3.3 Nature Transformation\n",
    "        #month\n",
    "        df5['month_sin'] = df5['month'].apply (lambda x: np.sin(x * ( 2. * np.pi/12 ) ) )\n",
    "        df5['month_cos'] = df5['month'].apply (lambda x: np.cos(x * ( 2. * np.pi/12 ) ) )\n",
    "        #day\n",
    "        df5['day_sin'] = df5['day'].apply (lambda x: np.sin(x * ( 2. * np.pi/30 ) ) )\n",
    "        df5['day_cos'] = df5['day'].apply (lambda x: np.cos(x * ( 2. * np.pi/30 ) ) )\n",
    "        #week_of_year\n",
    "        df5['week_of_year_sin'] = df5['week_of_year'].apply (lambda x: np.sin(x * ( 2. * np.pi/52 ) ) )\n",
    "        df5['week_of_year_cos'] = df5['week_of_year'].apply (lambda x: np.cos(x * ( 2. * np.pi/52 ) ) )\n",
    "        #day_of_week\n",
    "        df5['day_of_week_sin'] = df5['day_of_week'].apply (lambda x: np.sin(x * ( 2. * np.pi/7 ) ) )\n",
    "        df5['day_of_week_cos'] = df5['day_of_week'].apply (lambda x: np.cos(x * ( 2. * np.pi/7 ) ) )\n",
    "    \n",
    "        cols_selected = ['store','promo','store_type','assortment','competition_distance','competition_open_since_month',\n",
    "            'competition_open_since_year','promo2','promo2_since_week','promo2_since_year','competition_time_month',\n",
    "            'promo2_time_week','month_cos','month_sin','day_cos','day_sin','week_of_year_cos','week_of_year_sin',\n",
    "            'day_of_week_sin','day_of_week_cos'] #20 cols\n",
    "\n",
    "        return df5[ cols_selected ]\n",
    "    \n",
    "    def get_prediction( self, model, original_data, test_data ):\n",
    "        #prediction\n",
    "        pred = model.predict( test_data )\n",
    "        \n",
    "        #retorna o dataset recebido, com a coluna prediction preenchida\n",
    "        original_data['prediction'] = np.expm1( pred )\n",
    "        \n",
    "        return original_data.to_json( orient='records', date_format='iso' )\n",
    "    "
   ]
  },
  {
   "cell_type": "markdown",
   "id": "3bb8f764",
   "metadata": {
    "heading_collapsed": true
   },
   "source": [
    "## API Handler"
   ]
  },
  {
   "cell_type": "markdown",
   "id": "3289c890",
   "metadata": {
    "hidden": true
   },
   "source": [
    "2 - Criar a API (Handler.py)\n",
    "Vamos usar a biblioteca Flesk, para receber requisições em API, responder, manter o endpoint funcionando, etc.\n",
    "\n",
    "Script será colado no projeto em api/handler.py"
   ]
  },
  {
   "cell_type": "code",
   "execution_count": 6,
   "id": "d225ee0e",
   "metadata": {
    "ExecuteTime": {
     "end_time": "2022-01-12T16:53:20.965809Z",
     "start_time": "2022-01-12T16:53:20.578366Z"
    },
    "code_folding": [
     14
    ],
    "hidden": true
   },
   "outputs": [
    {
     "ename": "ModuleNotFoundError",
     "evalue": "No module named 'rossmann'",
     "output_type": "error",
     "traceback": [
      "\u001b[0;31m---------------------------------------------------------------------------\u001b[0m",
      "\u001b[0;31mModuleNotFoundError\u001b[0m                       Traceback (most recent call last)",
      "\u001b[0;32m/var/folders/z7/spd20rg13kl9j0xgnkbzdrf40000gn/T/ipykernel_1373/2235738830.py\u001b[0m in \u001b[0;36m<module>\u001b[0;34m\u001b[0m\n\u001b[1;32m      2\u001b[0m \u001b[0;32mimport\u001b[0m \u001b[0mpandas\u001b[0m \u001b[0;32mas\u001b[0m \u001b[0mpd\u001b[0m\u001b[0;34m\u001b[0m\u001b[0;34m\u001b[0m\u001b[0m\n\u001b[1;32m      3\u001b[0m \u001b[0;31m#from pacote [pasta.nome_arquivo] import nome classe\u001b[0m\u001b[0;34m\u001b[0m\u001b[0;34m\u001b[0m\u001b[0;34m\u001b[0m\u001b[0m\n\u001b[0;32m----> 4\u001b[0;31m \u001b[0;32mfrom\u001b[0m \u001b[0mrossmann\u001b[0m\u001b[0;34m.\u001b[0m\u001b[0mRossmann\u001b[0m \u001b[0;32mimport\u001b[0m \u001b[0mRossmann\u001b[0m\u001b[0;34m\u001b[0m\u001b[0;34m\u001b[0m\u001b[0m\n\u001b[0m\u001b[1;32m      5\u001b[0m \u001b[0;32mfrom\u001b[0m \u001b[0mflask\u001b[0m             \u001b[0;32mimport\u001b[0m \u001b[0mFlask\u001b[0m\u001b[0;34m,\u001b[0m \u001b[0mrequest\u001b[0m\u001b[0;34m,\u001b[0m \u001b[0mResponse\u001b[0m\u001b[0;34m\u001b[0m\u001b[0;34m\u001b[0m\u001b[0m\n\u001b[1;32m      6\u001b[0m \u001b[0;34m\u001b[0m\u001b[0m\n",
      "\u001b[0;31mModuleNotFoundError\u001b[0m: No module named 'rossmann'"
     ]
    }
   ],
   "source": [
    "import pickle\n",
    "import pandas as pd\n",
    "#from pacote [pasta.nome_arquivo] import nome classe\n",
    "from rossmann.Rossmann import Rossmann\n",
    "from flask             import Flask, request, Response\n",
    "\n",
    "#carregar modelo em memória\n",
    "model = pickle.load( open ('/Users/home/repos/pharmacy_sales_forecast/model/model_rossmann.pkl', 'rb' ) )\n",
    "             \n",
    "app = Flask (__name__)\n",
    "\n",
    "#criar o endpoint\n",
    "@app.route( '/rossmann/predict', methods=['POST'] )\n",
    "#ao receber chamada, executa:\n",
    "def rossmann_predict():\n",
    "    test_json = request.get_json()\n",
    "\n",
    "    #conversão do json em dataframe\n",
    "    if test_json: #se recebeu dados\n",
    "        #se vier um só json\n",
    "        if isinstance( test_json, dict ):\n",
    "            test_raw = pd.DataFrame( test_json, index=[0] )\n",
    "        # se vierem vários jsons\n",
    "        else:\n",
    "            #pega todas as chaves da primeira linha (json é um dicionário), e assume estas chaves como colunas \n",
    "            test_raw = pd.DataFrame( test_json, columns=test_json[0].keys() )\n",
    "            \n",
    "        # Instanciar Rossmann class, pra ter acesso aos seus métodos.\n",
    "        pipeline = Rossmann()\n",
    "        \n",
    "        #data cleaning\n",
    "        df1 = pipeline.data_cleaning( test_raw )\n",
    "        \n",
    "        #feature engineering\n",
    "        df2 = pipeline.feature_engineering( df1 )\n",
    "        \n",
    "        #data preparation\n",
    "        df3 = pipeline.data_preparation( df2 )\n",
    "        \n",
    "        #prediction                   #modelo, dados originais, dados preparados\n",
    "        df_response = pipeline.get_prediction( model, test_raw, df3 )\n",
    "            \n",
    "        return df_response\n",
    "    else:\n",
    "        #requisição deu certo, mas retorna vazio pois recebeu vazio.\n",
    "        return Response( '{}', status=200, mimetype='application/json' )\n",
    "if __name__ == '__main__':  \n",
    "    #rodar no localhost\n",
    "    app.run ( '0.0.0.0' )\n"
   ]
  },
  {
   "cell_type": "markdown",
   "id": "df42df87",
   "metadata": {},
   "source": [
    "## API Tester"
   ]
  },
  {
   "cell_type": "markdown",
   "id": "230e6cdd",
   "metadata": {},
   "source": [
    "3 - Criar um Script para testar a API."
   ]
  },
  {
   "cell_type": "code",
   "execution_count": 26,
   "id": "1d37bee3",
   "metadata": {
    "ExecuteTime": {
     "end_time": "2022-01-16T13:29:11.142570Z",
     "start_time": "2022-01-16T13:29:11.136618Z"
    }
   },
   "outputs": [],
   "source": [
    "# Revisado e Norton API Tester = Meigarom API Tester 100%\n",
    "import pandas as pd\n",
    "import requests\n",
    "import json"
   ]
  },
  {
   "cell_type": "code",
   "execution_count": 27,
   "id": "5a6ae2ee",
   "metadata": {
    "ExecuteTime": {
     "end_time": "2022-01-16T13:29:12.169724Z",
     "start_time": "2022-01-16T13:29:12.118631Z"
    }
   },
   "outputs": [],
   "source": [
    "#loading test dataset\n",
    "df10 = pd.read_csv( '/Users/home/repos/pharmacy_sales_forecast/data/test.csv' )\n",
    "df_store_raw = pd.read_csv(\"/Users/home/repos/pharmacy_sales_forecast/data/store.csv\", low_memory=False)"
   ]
  },
  {
   "cell_type": "code",
   "execution_count": 28,
   "id": "a75c4f9b",
   "metadata": {
    "ExecuteTime": {
     "end_time": "2022-01-16T13:29:12.727014Z",
     "start_time": "2022-01-16T13:29:12.703902Z"
    }
   },
   "outputs": [
    {
     "data": {
      "text/html": [
       "<div>\n",
       "<style scoped>\n",
       "    .dataframe tbody tr th:only-of-type {\n",
       "        vertical-align: middle;\n",
       "    }\n",
       "\n",
       "    .dataframe tbody tr th {\n",
       "        vertical-align: top;\n",
       "    }\n",
       "\n",
       "    .dataframe thead th {\n",
       "        text-align: right;\n",
       "    }\n",
       "</style>\n",
       "<table border=\"1\" class=\"dataframe\">\n",
       "  <thead>\n",
       "    <tr style=\"text-align: right;\">\n",
       "      <th></th>\n",
       "      <th>Store</th>\n",
       "      <th>StoreType</th>\n",
       "      <th>Assortment</th>\n",
       "      <th>CompetitionDistance</th>\n",
       "      <th>CompetitionOpenSinceMonth</th>\n",
       "      <th>CompetitionOpenSinceYear</th>\n",
       "      <th>Promo2</th>\n",
       "      <th>Promo2SinceWeek</th>\n",
       "      <th>Promo2SinceYear</th>\n",
       "      <th>PromoInterval</th>\n",
       "    </tr>\n",
       "  </thead>\n",
       "  <tbody>\n",
       "    <tr>\n",
       "      <th>0</th>\n",
       "      <td>1</td>\n",
       "      <td>c</td>\n",
       "      <td>a</td>\n",
       "      <td>1270.0</td>\n",
       "      <td>9.0</td>\n",
       "      <td>2008.0</td>\n",
       "      <td>0</td>\n",
       "      <td>NaN</td>\n",
       "      <td>NaN</td>\n",
       "      <td>NaN</td>\n",
       "    </tr>\n",
       "    <tr>\n",
       "      <th>1</th>\n",
       "      <td>2</td>\n",
       "      <td>a</td>\n",
       "      <td>a</td>\n",
       "      <td>570.0</td>\n",
       "      <td>11.0</td>\n",
       "      <td>2007.0</td>\n",
       "      <td>1</td>\n",
       "      <td>13.0</td>\n",
       "      <td>2010.0</td>\n",
       "      <td>Jan,Apr,Jul,Oct</td>\n",
       "    </tr>\n",
       "    <tr>\n",
       "      <th>2</th>\n",
       "      <td>3</td>\n",
       "      <td>a</td>\n",
       "      <td>a</td>\n",
       "      <td>14130.0</td>\n",
       "      <td>12.0</td>\n",
       "      <td>2006.0</td>\n",
       "      <td>1</td>\n",
       "      <td>14.0</td>\n",
       "      <td>2011.0</td>\n",
       "      <td>Jan,Apr,Jul,Oct</td>\n",
       "    </tr>\n",
       "    <tr>\n",
       "      <th>3</th>\n",
       "      <td>4</td>\n",
       "      <td>c</td>\n",
       "      <td>c</td>\n",
       "      <td>620.0</td>\n",
       "      <td>9.0</td>\n",
       "      <td>2009.0</td>\n",
       "      <td>0</td>\n",
       "      <td>NaN</td>\n",
       "      <td>NaN</td>\n",
       "      <td>NaN</td>\n",
       "    </tr>\n",
       "    <tr>\n",
       "      <th>4</th>\n",
       "      <td>5</td>\n",
       "      <td>a</td>\n",
       "      <td>a</td>\n",
       "      <td>29910.0</td>\n",
       "      <td>4.0</td>\n",
       "      <td>2015.0</td>\n",
       "      <td>0</td>\n",
       "      <td>NaN</td>\n",
       "      <td>NaN</td>\n",
       "      <td>NaN</td>\n",
       "    </tr>\n",
       "  </tbody>\n",
       "</table>\n",
       "</div>"
      ],
      "text/plain": [
       "   Store StoreType Assortment  CompetitionDistance  CompetitionOpenSinceMonth  \\\n",
       "0      1         c          a               1270.0                        9.0   \n",
       "1      2         a          a                570.0                       11.0   \n",
       "2      3         a          a              14130.0                       12.0   \n",
       "3      4         c          c                620.0                        9.0   \n",
       "4      5         a          a              29910.0                        4.0   \n",
       "\n",
       "   CompetitionOpenSinceYear  Promo2  Promo2SinceWeek  Promo2SinceYear  \\\n",
       "0                    2008.0       0              NaN              NaN   \n",
       "1                    2007.0       1             13.0           2010.0   \n",
       "2                    2006.0       1             14.0           2011.0   \n",
       "3                    2009.0       0              NaN              NaN   \n",
       "4                    2015.0       0              NaN              NaN   \n",
       "\n",
       "     PromoInterval  \n",
       "0              NaN  \n",
       "1  Jan,Apr,Jul,Oct  \n",
       "2  Jan,Apr,Jul,Oct  \n",
       "3              NaN  \n",
       "4              NaN  "
      ]
     },
     "execution_count": 28,
     "metadata": {},
     "output_type": "execute_result"
    }
   ],
   "source": [
    "df_store_raw.head(5)"
   ]
  },
  {
   "cell_type": "code",
   "execution_count": 29,
   "id": "4793b731",
   "metadata": {
    "ExecuteTime": {
     "end_time": "2022-01-16T13:29:13.283109Z",
     "start_time": "2022-01-16T13:29:13.240218Z"
    }
   },
   "outputs": [],
   "source": [
    "#merge test dataset + store - para ter todos os dados necessários para as predições\n",
    "df_test = pd.merge( df10, df_store_raw, how='left', on='Store' )\n",
    "\n",
    "#choose store for prediction - prever só p/ 1 loja no teste\n",
    "df_test = df_test[df_test['Store'] == 100 ]\n",
    "#df_test = df_test[df_test['Store'].isin( [1, 3, 16, 24, 12, 100] )]\n",
    "\n",
    "\n",
    "df_test = df_test[df_test['Open'] != 0] #remove closed days\n",
    "df_test = df_test[~df_test['Open'].isnull()]##pegar linhas que não tem o Open vazio (sem impacto na loja 22..)\n",
    "df_test = df_test.drop( 'Id', axis=1 )#drop id"
   ]
  },
  {
   "cell_type": "code",
   "execution_count": 30,
   "id": "8d41895b",
   "metadata": {
    "ExecuteTime": {
     "end_time": "2022-01-16T13:29:13.854954Z",
     "start_time": "2022-01-16T13:29:13.847074Z"
    }
   },
   "outputs": [],
   "source": [
    "#convert Dataframe to json pra poder enviar via API \n",
    "#cada linha vira um json assim -> {\"Store\": 22, \"DayOfWeek\": 4, (demais chave+valor) }\n",
    "data = json.dumps( df_test.to_dict( orient='records' ) )"
   ]
  },
  {
   "cell_type": "code",
   "execution_count": 31,
   "id": "55a1b0f4",
   "metadata": {
    "ExecuteTime": {
     "end_time": "2022-01-16T13:29:15.065999Z",
     "start_time": "2022-01-16T13:29:15.023516Z"
    }
   },
   "outputs": [
    {
     "data": {
      "text/plain": [
       "'[{\"Store\": 100, \"DayOfWeek\": 4, \"Date\": \"2015-09-17\", \"Open\": 1.0, \"Promo\": 1, \"StateHoliday\": \"0\", \"SchoolHoliday\": 0, \"StoreType\": \"d\", \"Assortment\": \"a\", \"CompetitionDistance\": 17930.0, \"CompetitionOpenSinceMonth\": NaN, \"CompetitionOpenSinceYear\": NaN, \"Promo2\": 0, \"Promo2SinceWeek\": NaN, \"Promo2SinceYear\": NaN, \"PromoInterval\": NaN}, {\"Store\": 100, \"DayOfWeek\": 3, \"Date\": \"2015-09-16\", \"Open\": 1.0, \"Promo\": 1, \"StateHoliday\": \"0\", \"SchoolHoliday\": 0, \"StoreType\": \"d\", \"Assortment\": \"a\", \"CompetitionDistance\": 17930.0, \"CompetitionOpenSinceMonth\": NaN, \"CompetitionOpenSinceYear\": NaN, \"Promo2\": 0, \"Promo2SinceWeek\": NaN, \"Promo2SinceYear\": NaN, \"PromoInterval\": NaN}, {\"Store\": 100, \"DayOfWeek\": 2, \"Date\": \"2015-09-15\", \"Open\": 1.0, \"Promo\": 1, \"StateHoliday\": \"0\", \"SchoolHoliday\": 0, \"StoreType\": \"d\", \"Assortment\": \"a\", \"CompetitionDistance\": 17930.0, \"CompetitionOpenSinceMonth\": NaN, \"CompetitionOpenSinceYear\": NaN, \"Promo2\": 0, \"Promo2SinceWeek\": NaN, \"Promo2SinceYear\": NaN, \"PromoInterval\": NaN}, {\"Store\": 100, \"DayOfWeek\": 1, \"Date\": \"2015-09-14\", \"Open\": 1.0, \"Promo\": 1, \"StateHoliday\": \"0\", \"SchoolHoliday\": 1, \"StoreType\": \"d\", \"Assortment\": \"a\", \"CompetitionDistance\": 17930.0, \"CompetitionOpenSinceMonth\": NaN, \"CompetitionOpenSinceYear\": NaN, \"Promo2\": 0, \"Promo2SinceWeek\": NaN, \"Promo2SinceYear\": NaN, \"PromoInterval\": NaN}, {\"Store\": 100, \"DayOfWeek\": 6, \"Date\": \"2015-09-12\", \"Open\": 1.0, \"Promo\": 0, \"StateHoliday\": \"0\", \"SchoolHoliday\": 0, \"StoreType\": \"d\", \"Assortment\": \"a\", \"CompetitionDistance\": 17930.0, \"CompetitionOpenSinceMonth\": NaN, \"CompetitionOpenSinceYear\": NaN, \"Promo2\": 0, \"Promo2SinceWeek\": NaN, \"Promo2SinceYear\": NaN, \"PromoInterval\": NaN}, {\"Store\": 100, \"DayOfWeek\": 5, \"Date\": \"2015-09-11\", \"Open\": 1.0, \"Promo\": 0, \"StateHoliday\": \"0\", \"SchoolHoliday\": 1, \"StoreType\": \"d\", \"Assortment\": \"a\", \"CompetitionDistance\": 17930.0, \"CompetitionOpenSinceMonth\": NaN, \"CompetitionOpenSinceYear\": NaN, \"Promo2\": 0, \"Promo2SinceWeek\": NaN, \"Promo2SinceYear\": NaN, \"PromoInterval\": NaN}, {\"Store\": 100, \"DayOfWeek\": 4, \"Date\": \"2015-09-10\", \"Open\": 1.0, \"Promo\": 0, \"StateHoliday\": \"0\", \"SchoolHoliday\": 1, \"StoreType\": \"d\", \"Assortment\": \"a\", \"CompetitionDistance\": 17930.0, \"CompetitionOpenSinceMonth\": NaN, \"CompetitionOpenSinceYear\": NaN, \"Promo2\": 0, \"Promo2SinceWeek\": NaN, \"Promo2SinceYear\": NaN, \"PromoInterval\": NaN}, {\"Store\": 100, \"DayOfWeek\": 3, \"Date\": \"2015-09-09\", \"Open\": 1.0, \"Promo\": 0, \"StateHoliday\": \"0\", \"SchoolHoliday\": 1, \"StoreType\": \"d\", \"Assortment\": \"a\", \"CompetitionDistance\": 17930.0, \"CompetitionOpenSinceMonth\": NaN, \"CompetitionOpenSinceYear\": NaN, \"Promo2\": 0, \"Promo2SinceWeek\": NaN, \"Promo2SinceYear\": NaN, \"PromoInterval\": NaN}, {\"Store\": 100, \"DayOfWeek\": 2, \"Date\": \"2015-09-08\", \"Open\": 1.0, \"Promo\": 0, \"StateHoliday\": \"0\", \"SchoolHoliday\": 1, \"StoreType\": \"d\", \"Assortment\": \"a\", \"CompetitionDistance\": 17930.0, \"CompetitionOpenSinceMonth\": NaN, \"CompetitionOpenSinceYear\": NaN, \"Promo2\": 0, \"Promo2SinceWeek\": NaN, \"Promo2SinceYear\": NaN, \"PromoInterval\": NaN}, {\"Store\": 100, \"DayOfWeek\": 1, \"Date\": \"2015-09-07\", \"Open\": 1.0, \"Promo\": 0, \"StateHoliday\": \"0\", \"SchoolHoliday\": 1, \"StoreType\": \"d\", \"Assortment\": \"a\", \"CompetitionDistance\": 17930.0, \"CompetitionOpenSinceMonth\": NaN, \"CompetitionOpenSinceYear\": NaN, \"Promo2\": 0, \"Promo2SinceWeek\": NaN, \"Promo2SinceYear\": NaN, \"PromoInterval\": NaN}, {\"Store\": 100, \"DayOfWeek\": 6, \"Date\": \"2015-09-05\", \"Open\": 1.0, \"Promo\": 0, \"StateHoliday\": \"0\", \"SchoolHoliday\": 0, \"StoreType\": \"d\", \"Assortment\": \"a\", \"CompetitionDistance\": 17930.0, \"CompetitionOpenSinceMonth\": NaN, \"CompetitionOpenSinceYear\": NaN, \"Promo2\": 0, \"Promo2SinceWeek\": NaN, \"Promo2SinceYear\": NaN, \"PromoInterval\": NaN}, {\"Store\": 100, \"DayOfWeek\": 5, \"Date\": \"2015-09-04\", \"Open\": 1.0, \"Promo\": 1, \"StateHoliday\": \"0\", \"SchoolHoliday\": 1, \"StoreType\": \"d\", \"Assortment\": \"a\", \"CompetitionDistance\": 17930.0, \"CompetitionOpenSinceMonth\": NaN, \"CompetitionOpenSinceYear\": NaN, \"Promo2\": 0, \"Promo2SinceWeek\": NaN, \"Promo2SinceYear\": NaN, \"PromoInterval\": NaN}, {\"Store\": 100, \"DayOfWeek\": 4, \"Date\": \"2015-09-03\", \"Open\": 1.0, \"Promo\": 1, \"StateHoliday\": \"0\", \"SchoolHoliday\": 1, \"StoreType\": \"d\", \"Assortment\": \"a\", \"CompetitionDistance\": 17930.0, \"CompetitionOpenSinceMonth\": NaN, \"CompetitionOpenSinceYear\": NaN, \"Promo2\": 0, \"Promo2SinceWeek\": NaN, \"Promo2SinceYear\": NaN, \"PromoInterval\": NaN}, {\"Store\": 100, \"DayOfWeek\": 3, \"Date\": \"2015-09-02\", \"Open\": 1.0, \"Promo\": 1, \"StateHoliday\": \"0\", \"SchoolHoliday\": 1, \"StoreType\": \"d\", \"Assortment\": \"a\", \"CompetitionDistance\": 17930.0, \"CompetitionOpenSinceMonth\": NaN, \"CompetitionOpenSinceYear\": NaN, \"Promo2\": 0, \"Promo2SinceWeek\": NaN, \"Promo2SinceYear\": NaN, \"PromoInterval\": NaN}, {\"Store\": 100, \"DayOfWeek\": 2, \"Date\": \"2015-09-01\", \"Open\": 1.0, \"Promo\": 1, \"StateHoliday\": \"0\", \"SchoolHoliday\": 1, \"StoreType\": \"d\", \"Assortment\": \"a\", \"CompetitionDistance\": 17930.0, \"CompetitionOpenSinceMonth\": NaN, \"CompetitionOpenSinceYear\": NaN, \"Promo2\": 0, \"Promo2SinceWeek\": NaN, \"Promo2SinceYear\": NaN, \"PromoInterval\": NaN}, {\"Store\": 100, \"DayOfWeek\": 1, \"Date\": \"2015-08-31\", \"Open\": 1.0, \"Promo\": 1, \"StateHoliday\": \"0\", \"SchoolHoliday\": 1, \"StoreType\": \"d\", \"Assortment\": \"a\", \"CompetitionDistance\": 17930.0, \"CompetitionOpenSinceMonth\": NaN, \"CompetitionOpenSinceYear\": NaN, \"Promo2\": 0, \"Promo2SinceWeek\": NaN, \"Promo2SinceYear\": NaN, \"PromoInterval\": NaN}, {\"Store\": 100, \"DayOfWeek\": 6, \"Date\": \"2015-08-29\", \"Open\": 1.0, \"Promo\": 0, \"StateHoliday\": \"0\", \"SchoolHoliday\": 0, \"StoreType\": \"d\", \"Assortment\": \"a\", \"CompetitionDistance\": 17930.0, \"CompetitionOpenSinceMonth\": NaN, \"CompetitionOpenSinceYear\": NaN, \"Promo2\": 0, \"Promo2SinceWeek\": NaN, \"Promo2SinceYear\": NaN, \"PromoInterval\": NaN}, {\"Store\": 100, \"DayOfWeek\": 5, \"Date\": \"2015-08-28\", \"Open\": 1.0, \"Promo\": 0, \"StateHoliday\": \"0\", \"SchoolHoliday\": 1, \"StoreType\": \"d\", \"Assortment\": \"a\", \"CompetitionDistance\": 17930.0, \"CompetitionOpenSinceMonth\": NaN, \"CompetitionOpenSinceYear\": NaN, \"Promo2\": 0, \"Promo2SinceWeek\": NaN, \"Promo2SinceYear\": NaN, \"PromoInterval\": NaN}, {\"Store\": 100, \"DayOfWeek\": 4, \"Date\": \"2015-08-27\", \"Open\": 1.0, \"Promo\": 0, \"StateHoliday\": \"0\", \"SchoolHoliday\": 1, \"StoreType\": \"d\", \"Assortment\": \"a\", \"CompetitionDistance\": 17930.0, \"CompetitionOpenSinceMonth\": NaN, \"CompetitionOpenSinceYear\": NaN, \"Promo2\": 0, \"Promo2SinceWeek\": NaN, \"Promo2SinceYear\": NaN, \"PromoInterval\": NaN}, {\"Store\": 100, \"DayOfWeek\": 3, \"Date\": \"2015-08-26\", \"Open\": 1.0, \"Promo\": 0, \"StateHoliday\": \"0\", \"SchoolHoliday\": 1, \"StoreType\": \"d\", \"Assortment\": \"a\", \"CompetitionDistance\": 17930.0, \"CompetitionOpenSinceMonth\": NaN, \"CompetitionOpenSinceYear\": NaN, \"Promo2\": 0, \"Promo2SinceWeek\": NaN, \"Promo2SinceYear\": NaN, \"PromoInterval\": NaN}, {\"Store\": 100, \"DayOfWeek\": 2, \"Date\": \"2015-08-25\", \"Open\": 1.0, \"Promo\": 0, \"StateHoliday\": \"0\", \"SchoolHoliday\": 1, \"StoreType\": \"d\", \"Assortment\": \"a\", \"CompetitionDistance\": 17930.0, \"CompetitionOpenSinceMonth\": NaN, \"CompetitionOpenSinceYear\": NaN, \"Promo2\": 0, \"Promo2SinceWeek\": NaN, \"Promo2SinceYear\": NaN, \"PromoInterval\": NaN}, {\"Store\": 100, \"DayOfWeek\": 1, \"Date\": \"2015-08-24\", \"Open\": 1.0, \"Promo\": 0, \"StateHoliday\": \"0\", \"SchoolHoliday\": 1, \"StoreType\": \"d\", \"Assortment\": \"a\", \"CompetitionDistance\": 17930.0, \"CompetitionOpenSinceMonth\": NaN, \"CompetitionOpenSinceYear\": NaN, \"Promo2\": 0, \"Promo2SinceWeek\": NaN, \"Promo2SinceYear\": NaN, \"PromoInterval\": NaN}, {\"Store\": 100, \"DayOfWeek\": 6, \"Date\": \"2015-08-22\", \"Open\": 1.0, \"Promo\": 0, \"StateHoliday\": \"0\", \"SchoolHoliday\": 0, \"StoreType\": \"d\", \"Assortment\": \"a\", \"CompetitionDistance\": 17930.0, \"CompetitionOpenSinceMonth\": NaN, \"CompetitionOpenSinceYear\": NaN, \"Promo2\": 0, \"Promo2SinceWeek\": NaN, \"Promo2SinceYear\": NaN, \"PromoInterval\": NaN}, {\"Store\": 100, \"DayOfWeek\": 5, \"Date\": \"2015-08-21\", \"Open\": 1.0, \"Promo\": 1, \"StateHoliday\": \"0\", \"SchoolHoliday\": 1, \"StoreType\": \"d\", \"Assortment\": \"a\", \"CompetitionDistance\": 17930.0, \"CompetitionOpenSinceMonth\": NaN, \"CompetitionOpenSinceYear\": NaN, \"Promo2\": 0, \"Promo2SinceWeek\": NaN, \"Promo2SinceYear\": NaN, \"PromoInterval\": NaN}, {\"Store\": 100, \"DayOfWeek\": 4, \"Date\": \"2015-08-20\", \"Open\": 1.0, \"Promo\": 1, \"StateHoliday\": \"0\", \"SchoolHoliday\": 1, \"StoreType\": \"d\", \"Assortment\": \"a\", \"CompetitionDistance\": 17930.0, \"CompetitionOpenSinceMonth\": NaN, \"CompetitionOpenSinceYear\": NaN, \"Promo2\": 0, \"Promo2SinceWeek\": NaN, \"Promo2SinceYear\": NaN, \"PromoInterval\": NaN}, {\"Store\": 100, \"DayOfWeek\": 3, \"Date\": \"2015-08-19\", \"Open\": 1.0, \"Promo\": 1, \"StateHoliday\": \"0\", \"SchoolHoliday\": 1, \"StoreType\": \"d\", \"Assortment\": \"a\", \"CompetitionDistance\": 17930.0, \"CompetitionOpenSinceMonth\": NaN, \"CompetitionOpenSinceYear\": NaN, \"Promo2\": 0, \"Promo2SinceWeek\": NaN, \"Promo2SinceYear\": NaN, \"PromoInterval\": NaN}, {\"Store\": 100, \"DayOfWeek\": 2, \"Date\": \"2015-08-18\", \"Open\": 1.0, \"Promo\": 1, \"StateHoliday\": \"0\", \"SchoolHoliday\": 1, \"StoreType\": \"d\", \"Assortment\": \"a\", \"CompetitionDistance\": 17930.0, \"CompetitionOpenSinceMonth\": NaN, \"CompetitionOpenSinceYear\": NaN, \"Promo2\": 0, \"Promo2SinceWeek\": NaN, \"Promo2SinceYear\": NaN, \"PromoInterval\": NaN}, {\"Store\": 100, \"DayOfWeek\": 1, \"Date\": \"2015-08-17\", \"Open\": 1.0, \"Promo\": 1, \"StateHoliday\": \"0\", \"SchoolHoliday\": 1, \"StoreType\": \"d\", \"Assortment\": \"a\", \"CompetitionDistance\": 17930.0, \"CompetitionOpenSinceMonth\": NaN, \"CompetitionOpenSinceYear\": NaN, \"Promo2\": 0, \"Promo2SinceWeek\": NaN, \"Promo2SinceYear\": NaN, \"PromoInterval\": NaN}, {\"Store\": 100, \"DayOfWeek\": 5, \"Date\": \"2015-08-14\", \"Open\": 1.0, \"Promo\": 0, \"StateHoliday\": \"0\", \"SchoolHoliday\": 1, \"StoreType\": \"d\", \"Assortment\": \"a\", \"CompetitionDistance\": 17930.0, \"CompetitionOpenSinceMonth\": NaN, \"CompetitionOpenSinceYear\": NaN, \"Promo2\": 0, \"Promo2SinceWeek\": NaN, \"Promo2SinceYear\": NaN, \"PromoInterval\": NaN}, {\"Store\": 100, \"DayOfWeek\": 4, \"Date\": \"2015-08-13\", \"Open\": 1.0, \"Promo\": 0, \"StateHoliday\": \"0\", \"SchoolHoliday\": 1, \"StoreType\": \"d\", \"Assortment\": \"a\", \"CompetitionDistance\": 17930.0, \"CompetitionOpenSinceMonth\": NaN, \"CompetitionOpenSinceYear\": NaN, \"Promo2\": 0, \"Promo2SinceWeek\": NaN, \"Promo2SinceYear\": NaN, \"PromoInterval\": NaN}, {\"Store\": 100, \"DayOfWeek\": 3, \"Date\": \"2015-08-12\", \"Open\": 1.0, \"Promo\": 0, \"StateHoliday\": \"0\", \"SchoolHoliday\": 1, \"StoreType\": \"d\", \"Assortment\": \"a\", \"CompetitionDistance\": 17930.0, \"CompetitionOpenSinceMonth\": NaN, \"CompetitionOpenSinceYear\": NaN, \"Promo2\": 0, \"Promo2SinceWeek\": NaN, \"Promo2SinceYear\": NaN, \"PromoInterval\": NaN}, {\"Store\": 100, \"DayOfWeek\": 2, \"Date\": \"2015-08-11\", \"Open\": 1.0, \"Promo\": 0, \"StateHoliday\": \"0\", \"SchoolHoliday\": 1, \"StoreType\": \"d\", \"Assortment\": \"a\", \"CompetitionDistance\": 17930.0, \"CompetitionOpenSinceMonth\": NaN, \"CompetitionOpenSinceYear\": NaN, \"Promo2\": 0, \"Promo2SinceWeek\": NaN, \"Promo2SinceYear\": NaN, \"PromoInterval\": NaN}, {\"Store\": 100, \"DayOfWeek\": 1, \"Date\": \"2015-08-10\", \"Open\": 1.0, \"Promo\": 0, \"StateHoliday\": \"0\", \"SchoolHoliday\": 1, \"StoreType\": \"d\", \"Assortment\": \"a\", \"CompetitionDistance\": 17930.0, \"CompetitionOpenSinceMonth\": NaN, \"CompetitionOpenSinceYear\": NaN, \"Promo2\": 0, \"Promo2SinceWeek\": NaN, \"Promo2SinceYear\": NaN, \"PromoInterval\": NaN}, {\"Store\": 100, \"DayOfWeek\": 6, \"Date\": \"2015-08-08\", \"Open\": 1.0, \"Promo\": 0, \"StateHoliday\": \"0\", \"SchoolHoliday\": 0, \"StoreType\": \"d\", \"Assortment\": \"a\", \"CompetitionDistance\": 17930.0, \"CompetitionOpenSinceMonth\": NaN, \"CompetitionOpenSinceYear\": NaN, \"Promo2\": 0, \"Promo2SinceWeek\": NaN, \"Promo2SinceYear\": NaN, \"PromoInterval\": NaN}, {\"Store\": 100, \"DayOfWeek\": 5, \"Date\": \"2015-08-07\", \"Open\": 1.0, \"Promo\": 1, \"StateHoliday\": \"0\", \"SchoolHoliday\": 1, \"StoreType\": \"d\", \"Assortment\": \"a\", \"CompetitionDistance\": 17930.0, \"CompetitionOpenSinceMonth\": NaN, \"CompetitionOpenSinceYear\": NaN, \"Promo2\": 0, \"Promo2SinceWeek\": NaN, \"Promo2SinceYear\": NaN, \"PromoInterval\": NaN}, {\"Store\": 100, \"DayOfWeek\": 4, \"Date\": \"2015-08-06\", \"Open\": 1.0, \"Promo\": 1, \"StateHoliday\": \"0\", \"SchoolHoliday\": 1, \"StoreType\": \"d\", \"Assortment\": \"a\", \"CompetitionDistance\": 17930.0, \"CompetitionOpenSinceMonth\": NaN, \"CompetitionOpenSinceYear\": NaN, \"Promo2\": 0, \"Promo2SinceWeek\": NaN, \"Promo2SinceYear\": NaN, \"PromoInterval\": NaN}, {\"Store\": 100, \"DayOfWeek\": 3, \"Date\": \"2015-08-05\", \"Open\": 1.0, \"Promo\": 1, \"StateHoliday\": \"0\", \"SchoolHoliday\": 1, \"StoreType\": \"d\", \"Assortment\": \"a\", \"CompetitionDistance\": 17930.0, \"CompetitionOpenSinceMonth\": NaN, \"CompetitionOpenSinceYear\": NaN, \"Promo2\": 0, \"Promo2SinceWeek\": NaN, \"Promo2SinceYear\": NaN, \"PromoInterval\": NaN}, {\"Store\": 100, \"DayOfWeek\": 2, \"Date\": \"2015-08-04\", \"Open\": 1.0, \"Promo\": 1, \"StateHoliday\": \"0\", \"SchoolHoliday\": 1, \"StoreType\": \"d\", \"Assortment\": \"a\", \"CompetitionDistance\": 17930.0, \"CompetitionOpenSinceMonth\": NaN, \"CompetitionOpenSinceYear\": NaN, \"Promo2\": 0, \"Promo2SinceWeek\": NaN, \"Promo2SinceYear\": NaN, \"PromoInterval\": NaN}, {\"Store\": 100, \"DayOfWeek\": 1, \"Date\": \"2015-08-03\", \"Open\": 1.0, \"Promo\": 1, \"StateHoliday\": \"0\", \"SchoolHoliday\": 1, \"StoreType\": \"d\", \"Assortment\": \"a\", \"CompetitionDistance\": 17930.0, \"CompetitionOpenSinceMonth\": NaN, \"CompetitionOpenSinceYear\": NaN, \"Promo2\": 0, \"Promo2SinceWeek\": NaN, \"Promo2SinceYear\": NaN, \"PromoInterval\": NaN}, {\"Store\": 100, \"DayOfWeek\": 6, \"Date\": \"2015-08-01\", \"Open\": 1.0, \"Promo\": 0, \"StateHoliday\": \"0\", \"SchoolHoliday\": 0, \"StoreType\": \"d\", \"Assortment\": \"a\", \"CompetitionDistance\": 17930.0, \"CompetitionOpenSinceMonth\": NaN, \"CompetitionOpenSinceYear\": NaN, \"Promo2\": 0, \"Promo2SinceWeek\": NaN, \"Promo2SinceYear\": NaN, \"PromoInterval\": NaN}]'"
      ]
     },
     "execution_count": 31,
     "metadata": {},
     "output_type": "execute_result"
    }
   ],
   "source": [
    "data"
   ]
  },
  {
   "cell_type": "markdown",
   "id": "7cc51349",
   "metadata": {
    "heading_collapsed": true
   },
   "source": [
    "### Teste da API na máquina local"
   ]
  },
  {
   "cell_type": "code",
   "execution_count": 7,
   "id": "9ea6041f",
   "metadata": {
    "ExecuteTime": {
     "end_time": "2022-01-15T14:52:54.061077Z",
     "start_time": "2022-01-15T14:52:54.051611Z"
    },
    "hidden": true
   },
   "outputs": [],
   "source": [
    "#funcionou com os arquivos locais!\n",
    "# 200: Só roda na primeira vez que liguei a máquina, abri o Jupyter e testei.\n",
    "# Retorna depois um erro no terminal ao rodar o python handler.py e testar o código abaixo:\n",
    "# d zsh: segmentation fault  python handler.py\n",
    "# Mesmo após pesquisas, não consegui resolver. Como funcionou na 1ª vez local, e também no Heroku, fica só o registro."
   ]
  },
  {
   "cell_type": "code",
   "execution_count": 12,
   "id": "a6883e89",
   "metadata": {
    "ExecuteTime": {
     "end_time": "2022-01-15T14:54:35.989092Z",
     "start_time": "2022-01-15T14:54:35.924121Z"
    },
    "code_folding": [],
    "hidden": true
   },
   "outputs": [
    {
     "ename": "ConnectionError",
     "evalue": "HTTPConnectionPool(host='0.0.0.0', port=5000): Max retries exceeded with url: /rossmann/predict (Caused by NewConnectionError('<urllib3.connection.HTTPConnection object at 0x7f972b3128b0>: Failed to establish a new connection: [Errno 61] Connection refused'))",
     "output_type": "error",
     "traceback": [
      "\u001b[0;31m---------------------------------------------------------------------------\u001b[0m",
      "\u001b[0;31mConnectionRefusedError\u001b[0m                    Traceback (most recent call last)",
      "\u001b[0;32m~/opt/anaconda3/lib/python3.8/site-packages/urllib3/connection.py\u001b[0m in \u001b[0;36m_new_conn\u001b[0;34m(self)\u001b[0m\n\u001b[1;32m    173\u001b[0m         \u001b[0;32mtry\u001b[0m\u001b[0;34m:\u001b[0m\u001b[0;34m\u001b[0m\u001b[0;34m\u001b[0m\u001b[0m\n\u001b[0;32m--> 174\u001b[0;31m             conn = connection.create_connection(\n\u001b[0m\u001b[1;32m    175\u001b[0m                 \u001b[0;34m(\u001b[0m\u001b[0mself\u001b[0m\u001b[0;34m.\u001b[0m\u001b[0m_dns_host\u001b[0m\u001b[0;34m,\u001b[0m \u001b[0mself\u001b[0m\u001b[0;34m.\u001b[0m\u001b[0mport\u001b[0m\u001b[0;34m)\u001b[0m\u001b[0;34m,\u001b[0m \u001b[0mself\u001b[0m\u001b[0;34m.\u001b[0m\u001b[0mtimeout\u001b[0m\u001b[0;34m,\u001b[0m \u001b[0;34m**\u001b[0m\u001b[0mextra_kw\u001b[0m\u001b[0;34m\u001b[0m\u001b[0;34m\u001b[0m\u001b[0m\n",
      "\u001b[0;32m~/opt/anaconda3/lib/python3.8/site-packages/urllib3/util/connection.py\u001b[0m in \u001b[0;36mcreate_connection\u001b[0;34m(address, timeout, source_address, socket_options)\u001b[0m\n\u001b[1;32m     95\u001b[0m     \u001b[0;32mif\u001b[0m \u001b[0merr\u001b[0m \u001b[0;32mis\u001b[0m \u001b[0;32mnot\u001b[0m \u001b[0;32mNone\u001b[0m\u001b[0;34m:\u001b[0m\u001b[0;34m\u001b[0m\u001b[0;34m\u001b[0m\u001b[0m\n\u001b[0;32m---> 96\u001b[0;31m         \u001b[0;32mraise\u001b[0m \u001b[0merr\u001b[0m\u001b[0;34m\u001b[0m\u001b[0;34m\u001b[0m\u001b[0m\n\u001b[0m\u001b[1;32m     97\u001b[0m \u001b[0;34m\u001b[0m\u001b[0m\n",
      "\u001b[0;32m~/opt/anaconda3/lib/python3.8/site-packages/urllib3/util/connection.py\u001b[0m in \u001b[0;36mcreate_connection\u001b[0;34m(address, timeout, source_address, socket_options)\u001b[0m\n\u001b[1;32m     85\u001b[0m                 \u001b[0msock\u001b[0m\u001b[0;34m.\u001b[0m\u001b[0mbind\u001b[0m\u001b[0;34m(\u001b[0m\u001b[0msource_address\u001b[0m\u001b[0;34m)\u001b[0m\u001b[0;34m\u001b[0m\u001b[0;34m\u001b[0m\u001b[0m\n\u001b[0;32m---> 86\u001b[0;31m             \u001b[0msock\u001b[0m\u001b[0;34m.\u001b[0m\u001b[0mconnect\u001b[0m\u001b[0;34m(\u001b[0m\u001b[0msa\u001b[0m\u001b[0;34m)\u001b[0m\u001b[0;34m\u001b[0m\u001b[0;34m\u001b[0m\u001b[0m\n\u001b[0m\u001b[1;32m     87\u001b[0m             \u001b[0;32mreturn\u001b[0m \u001b[0msock\u001b[0m\u001b[0;34m\u001b[0m\u001b[0;34m\u001b[0m\u001b[0m\n",
      "\u001b[0;31mConnectionRefusedError\u001b[0m: [Errno 61] Connection refused",
      "\nDuring handling of the above exception, another exception occurred:\n",
      "\u001b[0;31mNewConnectionError\u001b[0m                        Traceback (most recent call last)",
      "\u001b[0;32m~/opt/anaconda3/lib/python3.8/site-packages/urllib3/connectionpool.py\u001b[0m in \u001b[0;36murlopen\u001b[0;34m(self, method, url, body, headers, retries, redirect, assert_same_host, timeout, pool_timeout, release_conn, chunked, body_pos, **response_kw)\u001b[0m\n\u001b[1;32m    698\u001b[0m             \u001b[0;31m# Make the request on the httplib connection object.\u001b[0m\u001b[0;34m\u001b[0m\u001b[0;34m\u001b[0m\u001b[0;34m\u001b[0m\u001b[0m\n\u001b[0;32m--> 699\u001b[0;31m             httplib_response = self._make_request(\n\u001b[0m\u001b[1;32m    700\u001b[0m                 \u001b[0mconn\u001b[0m\u001b[0;34m,\u001b[0m\u001b[0;34m\u001b[0m\u001b[0;34m\u001b[0m\u001b[0m\n",
      "\u001b[0;32m~/opt/anaconda3/lib/python3.8/site-packages/urllib3/connectionpool.py\u001b[0m in \u001b[0;36m_make_request\u001b[0;34m(self, conn, method, url, timeout, chunked, **httplib_request_kw)\u001b[0m\n\u001b[1;32m    393\u001b[0m             \u001b[0;32melse\u001b[0m\u001b[0;34m:\u001b[0m\u001b[0;34m\u001b[0m\u001b[0;34m\u001b[0m\u001b[0m\n\u001b[0;32m--> 394\u001b[0;31m                 \u001b[0mconn\u001b[0m\u001b[0;34m.\u001b[0m\u001b[0mrequest\u001b[0m\u001b[0;34m(\u001b[0m\u001b[0mmethod\u001b[0m\u001b[0;34m,\u001b[0m \u001b[0murl\u001b[0m\u001b[0;34m,\u001b[0m \u001b[0;34m**\u001b[0m\u001b[0mhttplib_request_kw\u001b[0m\u001b[0;34m)\u001b[0m\u001b[0;34m\u001b[0m\u001b[0;34m\u001b[0m\u001b[0m\n\u001b[0m\u001b[1;32m    395\u001b[0m \u001b[0;34m\u001b[0m\u001b[0m\n",
      "\u001b[0;32m~/opt/anaconda3/lib/python3.8/site-packages/urllib3/connection.py\u001b[0m in \u001b[0;36mrequest\u001b[0;34m(self, method, url, body, headers)\u001b[0m\n\u001b[1;32m    238\u001b[0m             \u001b[0mheaders\u001b[0m\u001b[0;34m[\u001b[0m\u001b[0;34m\"User-Agent\"\u001b[0m\u001b[0;34m]\u001b[0m \u001b[0;34m=\u001b[0m \u001b[0m_get_default_user_agent\u001b[0m\u001b[0;34m(\u001b[0m\u001b[0;34m)\u001b[0m\u001b[0;34m\u001b[0m\u001b[0;34m\u001b[0m\u001b[0m\n\u001b[0;32m--> 239\u001b[0;31m         \u001b[0msuper\u001b[0m\u001b[0;34m(\u001b[0m\u001b[0mHTTPConnection\u001b[0m\u001b[0;34m,\u001b[0m \u001b[0mself\u001b[0m\u001b[0;34m)\u001b[0m\u001b[0;34m.\u001b[0m\u001b[0mrequest\u001b[0m\u001b[0;34m(\u001b[0m\u001b[0mmethod\u001b[0m\u001b[0;34m,\u001b[0m \u001b[0murl\u001b[0m\u001b[0;34m,\u001b[0m \u001b[0mbody\u001b[0m\u001b[0;34m=\u001b[0m\u001b[0mbody\u001b[0m\u001b[0;34m,\u001b[0m \u001b[0mheaders\u001b[0m\u001b[0;34m=\u001b[0m\u001b[0mheaders\u001b[0m\u001b[0;34m)\u001b[0m\u001b[0;34m\u001b[0m\u001b[0;34m\u001b[0m\u001b[0m\n\u001b[0m\u001b[1;32m    240\u001b[0m \u001b[0;34m\u001b[0m\u001b[0m\n",
      "\u001b[0;32m~/opt/anaconda3/lib/python3.8/http/client.py\u001b[0m in \u001b[0;36mrequest\u001b[0;34m(self, method, url, body, headers, encode_chunked)\u001b[0m\n\u001b[1;32m   1255\u001b[0m         \u001b[0;34m\"\"\"Send a complete request to the server.\"\"\"\u001b[0m\u001b[0;34m\u001b[0m\u001b[0;34m\u001b[0m\u001b[0m\n\u001b[0;32m-> 1256\u001b[0;31m         \u001b[0mself\u001b[0m\u001b[0;34m.\u001b[0m\u001b[0m_send_request\u001b[0m\u001b[0;34m(\u001b[0m\u001b[0mmethod\u001b[0m\u001b[0;34m,\u001b[0m \u001b[0murl\u001b[0m\u001b[0;34m,\u001b[0m \u001b[0mbody\u001b[0m\u001b[0;34m,\u001b[0m \u001b[0mheaders\u001b[0m\u001b[0;34m,\u001b[0m \u001b[0mencode_chunked\u001b[0m\u001b[0;34m)\u001b[0m\u001b[0;34m\u001b[0m\u001b[0;34m\u001b[0m\u001b[0m\n\u001b[0m\u001b[1;32m   1257\u001b[0m \u001b[0;34m\u001b[0m\u001b[0m\n",
      "\u001b[0;32m~/opt/anaconda3/lib/python3.8/http/client.py\u001b[0m in \u001b[0;36m_send_request\u001b[0;34m(self, method, url, body, headers, encode_chunked)\u001b[0m\n\u001b[1;32m   1301\u001b[0m             \u001b[0mbody\u001b[0m \u001b[0;34m=\u001b[0m \u001b[0m_encode\u001b[0m\u001b[0;34m(\u001b[0m\u001b[0mbody\u001b[0m\u001b[0;34m,\u001b[0m \u001b[0;34m'body'\u001b[0m\u001b[0;34m)\u001b[0m\u001b[0;34m\u001b[0m\u001b[0;34m\u001b[0m\u001b[0m\n\u001b[0;32m-> 1302\u001b[0;31m         \u001b[0mself\u001b[0m\u001b[0;34m.\u001b[0m\u001b[0mendheaders\u001b[0m\u001b[0;34m(\u001b[0m\u001b[0mbody\u001b[0m\u001b[0;34m,\u001b[0m \u001b[0mencode_chunked\u001b[0m\u001b[0;34m=\u001b[0m\u001b[0mencode_chunked\u001b[0m\u001b[0;34m)\u001b[0m\u001b[0;34m\u001b[0m\u001b[0;34m\u001b[0m\u001b[0m\n\u001b[0m\u001b[1;32m   1303\u001b[0m \u001b[0;34m\u001b[0m\u001b[0m\n",
      "\u001b[0;32m~/opt/anaconda3/lib/python3.8/http/client.py\u001b[0m in \u001b[0;36mendheaders\u001b[0;34m(self, message_body, encode_chunked)\u001b[0m\n\u001b[1;32m   1250\u001b[0m             \u001b[0;32mraise\u001b[0m \u001b[0mCannotSendHeader\u001b[0m\u001b[0;34m(\u001b[0m\u001b[0;34m)\u001b[0m\u001b[0;34m\u001b[0m\u001b[0;34m\u001b[0m\u001b[0m\n\u001b[0;32m-> 1251\u001b[0;31m         \u001b[0mself\u001b[0m\u001b[0;34m.\u001b[0m\u001b[0m_send_output\u001b[0m\u001b[0;34m(\u001b[0m\u001b[0mmessage_body\u001b[0m\u001b[0;34m,\u001b[0m \u001b[0mencode_chunked\u001b[0m\u001b[0;34m=\u001b[0m\u001b[0mencode_chunked\u001b[0m\u001b[0;34m)\u001b[0m\u001b[0;34m\u001b[0m\u001b[0;34m\u001b[0m\u001b[0m\n\u001b[0m\u001b[1;32m   1252\u001b[0m \u001b[0;34m\u001b[0m\u001b[0m\n",
      "\u001b[0;32m~/opt/anaconda3/lib/python3.8/http/client.py\u001b[0m in \u001b[0;36m_send_output\u001b[0;34m(self, message_body, encode_chunked)\u001b[0m\n\u001b[1;32m   1010\u001b[0m         \u001b[0;32mdel\u001b[0m \u001b[0mself\u001b[0m\u001b[0;34m.\u001b[0m\u001b[0m_buffer\u001b[0m\u001b[0;34m[\u001b[0m\u001b[0;34m:\u001b[0m\u001b[0;34m]\u001b[0m\u001b[0;34m\u001b[0m\u001b[0;34m\u001b[0m\u001b[0m\n\u001b[0;32m-> 1011\u001b[0;31m         \u001b[0mself\u001b[0m\u001b[0;34m.\u001b[0m\u001b[0msend\u001b[0m\u001b[0;34m(\u001b[0m\u001b[0mmsg\u001b[0m\u001b[0;34m)\u001b[0m\u001b[0;34m\u001b[0m\u001b[0;34m\u001b[0m\u001b[0m\n\u001b[0m\u001b[1;32m   1012\u001b[0m \u001b[0;34m\u001b[0m\u001b[0m\n",
      "\u001b[0;32m~/opt/anaconda3/lib/python3.8/http/client.py\u001b[0m in \u001b[0;36msend\u001b[0;34m(self, data)\u001b[0m\n\u001b[1;32m    950\u001b[0m             \u001b[0;32mif\u001b[0m \u001b[0mself\u001b[0m\u001b[0;34m.\u001b[0m\u001b[0mauto_open\u001b[0m\u001b[0;34m:\u001b[0m\u001b[0;34m\u001b[0m\u001b[0;34m\u001b[0m\u001b[0m\n\u001b[0;32m--> 951\u001b[0;31m                 \u001b[0mself\u001b[0m\u001b[0;34m.\u001b[0m\u001b[0mconnect\u001b[0m\u001b[0;34m(\u001b[0m\u001b[0;34m)\u001b[0m\u001b[0;34m\u001b[0m\u001b[0;34m\u001b[0m\u001b[0m\n\u001b[0m\u001b[1;32m    952\u001b[0m             \u001b[0;32melse\u001b[0m\u001b[0;34m:\u001b[0m\u001b[0;34m\u001b[0m\u001b[0;34m\u001b[0m\u001b[0m\n",
      "\u001b[0;32m~/opt/anaconda3/lib/python3.8/site-packages/urllib3/connection.py\u001b[0m in \u001b[0;36mconnect\u001b[0;34m(self)\u001b[0m\n\u001b[1;32m    204\u001b[0m     \u001b[0;32mdef\u001b[0m \u001b[0mconnect\u001b[0m\u001b[0;34m(\u001b[0m\u001b[0mself\u001b[0m\u001b[0;34m)\u001b[0m\u001b[0;34m:\u001b[0m\u001b[0;34m\u001b[0m\u001b[0;34m\u001b[0m\u001b[0m\n\u001b[0;32m--> 205\u001b[0;31m         \u001b[0mconn\u001b[0m \u001b[0;34m=\u001b[0m \u001b[0mself\u001b[0m\u001b[0;34m.\u001b[0m\u001b[0m_new_conn\u001b[0m\u001b[0;34m(\u001b[0m\u001b[0;34m)\u001b[0m\u001b[0;34m\u001b[0m\u001b[0;34m\u001b[0m\u001b[0m\n\u001b[0m\u001b[1;32m    206\u001b[0m         \u001b[0mself\u001b[0m\u001b[0;34m.\u001b[0m\u001b[0m_prepare_conn\u001b[0m\u001b[0;34m(\u001b[0m\u001b[0mconn\u001b[0m\u001b[0;34m)\u001b[0m\u001b[0;34m\u001b[0m\u001b[0;34m\u001b[0m\u001b[0m\n",
      "\u001b[0;32m~/opt/anaconda3/lib/python3.8/site-packages/urllib3/connection.py\u001b[0m in \u001b[0;36m_new_conn\u001b[0;34m(self)\u001b[0m\n\u001b[1;32m    185\u001b[0m         \u001b[0;32mexcept\u001b[0m \u001b[0mSocketError\u001b[0m \u001b[0;32mas\u001b[0m \u001b[0me\u001b[0m\u001b[0;34m:\u001b[0m\u001b[0;34m\u001b[0m\u001b[0;34m\u001b[0m\u001b[0m\n\u001b[0;32m--> 186\u001b[0;31m             raise NewConnectionError(\n\u001b[0m\u001b[1;32m    187\u001b[0m                 \u001b[0mself\u001b[0m\u001b[0;34m,\u001b[0m \u001b[0;34m\"Failed to establish a new connection: %s\"\u001b[0m \u001b[0;34m%\u001b[0m \u001b[0me\u001b[0m\u001b[0;34m\u001b[0m\u001b[0;34m\u001b[0m\u001b[0m\n",
      "\u001b[0;31mNewConnectionError\u001b[0m: <urllib3.connection.HTTPConnection object at 0x7f972b3128b0>: Failed to establish a new connection: [Errno 61] Connection refused",
      "\nDuring handling of the above exception, another exception occurred:\n",
      "\u001b[0;31mMaxRetryError\u001b[0m                             Traceback (most recent call last)",
      "\u001b[0;32m~/opt/anaconda3/lib/python3.8/site-packages/requests/adapters.py\u001b[0m in \u001b[0;36msend\u001b[0;34m(self, request, stream, timeout, verify, cert, proxies)\u001b[0m\n\u001b[1;32m    439\u001b[0m             \u001b[0;32mif\u001b[0m \u001b[0;32mnot\u001b[0m \u001b[0mchunked\u001b[0m\u001b[0;34m:\u001b[0m\u001b[0;34m\u001b[0m\u001b[0;34m\u001b[0m\u001b[0m\n\u001b[0;32m--> 440\u001b[0;31m                 resp = conn.urlopen(\n\u001b[0m\u001b[1;32m    441\u001b[0m                     \u001b[0mmethod\u001b[0m\u001b[0;34m=\u001b[0m\u001b[0mrequest\u001b[0m\u001b[0;34m.\u001b[0m\u001b[0mmethod\u001b[0m\u001b[0;34m,\u001b[0m\u001b[0;34m\u001b[0m\u001b[0;34m\u001b[0m\u001b[0m\n",
      "\u001b[0;32m~/opt/anaconda3/lib/python3.8/site-packages/urllib3/connectionpool.py\u001b[0m in \u001b[0;36murlopen\u001b[0;34m(self, method, url, body, headers, retries, redirect, assert_same_host, timeout, pool_timeout, release_conn, chunked, body_pos, **response_kw)\u001b[0m\n\u001b[1;32m    754\u001b[0m \u001b[0;34m\u001b[0m\u001b[0m\n\u001b[0;32m--> 755\u001b[0;31m             retries = retries.increment(\n\u001b[0m\u001b[1;32m    756\u001b[0m                 \u001b[0mmethod\u001b[0m\u001b[0;34m,\u001b[0m \u001b[0murl\u001b[0m\u001b[0;34m,\u001b[0m \u001b[0merror\u001b[0m\u001b[0;34m=\u001b[0m\u001b[0me\u001b[0m\u001b[0;34m,\u001b[0m \u001b[0m_pool\u001b[0m\u001b[0;34m=\u001b[0m\u001b[0mself\u001b[0m\u001b[0;34m,\u001b[0m \u001b[0m_stacktrace\u001b[0m\u001b[0;34m=\u001b[0m\u001b[0msys\u001b[0m\u001b[0;34m.\u001b[0m\u001b[0mexc_info\u001b[0m\u001b[0;34m(\u001b[0m\u001b[0;34m)\u001b[0m\u001b[0;34m[\u001b[0m\u001b[0;36m2\u001b[0m\u001b[0;34m]\u001b[0m\u001b[0;34m\u001b[0m\u001b[0;34m\u001b[0m\u001b[0m\n",
      "\u001b[0;32m~/opt/anaconda3/lib/python3.8/site-packages/urllib3/util/retry.py\u001b[0m in \u001b[0;36mincrement\u001b[0;34m(self, method, url, response, error, _pool, _stacktrace)\u001b[0m\n\u001b[1;32m    573\u001b[0m         \u001b[0;32mif\u001b[0m \u001b[0mnew_retry\u001b[0m\u001b[0;34m.\u001b[0m\u001b[0mis_exhausted\u001b[0m\u001b[0;34m(\u001b[0m\u001b[0;34m)\u001b[0m\u001b[0;34m:\u001b[0m\u001b[0;34m\u001b[0m\u001b[0;34m\u001b[0m\u001b[0m\n\u001b[0;32m--> 574\u001b[0;31m             \u001b[0;32mraise\u001b[0m \u001b[0mMaxRetryError\u001b[0m\u001b[0;34m(\u001b[0m\u001b[0m_pool\u001b[0m\u001b[0;34m,\u001b[0m \u001b[0murl\u001b[0m\u001b[0;34m,\u001b[0m \u001b[0merror\u001b[0m \u001b[0;32mor\u001b[0m \u001b[0mResponseError\u001b[0m\u001b[0;34m(\u001b[0m\u001b[0mcause\u001b[0m\u001b[0;34m)\u001b[0m\u001b[0;34m)\u001b[0m\u001b[0;34m\u001b[0m\u001b[0;34m\u001b[0m\u001b[0m\n\u001b[0m\u001b[1;32m    575\u001b[0m \u001b[0;34m\u001b[0m\u001b[0m\n",
      "\u001b[0;31mMaxRetryError\u001b[0m: HTTPConnectionPool(host='0.0.0.0', port=5000): Max retries exceeded with url: /rossmann/predict (Caused by NewConnectionError('<urllib3.connection.HTTPConnection object at 0x7f972b3128b0>: Failed to establish a new connection: [Errno 61] Connection refused'))",
      "\nDuring handling of the above exception, another exception occurred:\n",
      "\u001b[0;31mConnectionError\u001b[0m                           Traceback (most recent call last)",
      "\u001b[0;32m/var/folders/z7/spd20rg13kl9j0xgnkbzdrf40000gn/T/ipykernel_1039/3200543545.py\u001b[0m in \u001b[0;36m<module>\u001b[0;34m\u001b[0m\n\u001b[1;32m      6\u001b[0m \u001b[0;34m\u001b[0m\u001b[0m\n\u001b[1;32m      7\u001b[0m \u001b[0;31m#enviar dados\u001b[0m\u001b[0;34m\u001b[0m\u001b[0;34m\u001b[0m\u001b[0;34m\u001b[0m\u001b[0m\n\u001b[0;32m----> 8\u001b[0;31m \u001b[0mr\u001b[0m \u001b[0;34m=\u001b[0m \u001b[0mrequests\u001b[0m\u001b[0;34m.\u001b[0m\u001b[0mpost\u001b[0m\u001b[0;34m(\u001b[0m \u001b[0murl\u001b[0m\u001b[0;34m,\u001b[0m \u001b[0mdata\u001b[0m\u001b[0;34m=\u001b[0m\u001b[0mdata\u001b[0m\u001b[0;34m,\u001b[0m \u001b[0mheaders\u001b[0m\u001b[0;34m=\u001b[0m\u001b[0mheader\u001b[0m \u001b[0;34m)\u001b[0m\u001b[0;34m\u001b[0m\u001b[0;34m\u001b[0m\u001b[0m\n\u001b[0m\u001b[1;32m      9\u001b[0m \u001b[0mprint\u001b[0m\u001b[0;34m(\u001b[0m \u001b[0;34m'Status Code {}'\u001b[0m\u001b[0;34m.\u001b[0m\u001b[0mformat\u001b[0m\u001b[0;34m(\u001b[0m \u001b[0mr\u001b[0m\u001b[0;34m.\u001b[0m\u001b[0mstatus_code\u001b[0m \u001b[0;34m)\u001b[0m \u001b[0;34m)\u001b[0m\u001b[0;34m\u001b[0m\u001b[0;34m\u001b[0m\u001b[0m\n",
      "\u001b[0;32m~/opt/anaconda3/lib/python3.8/site-packages/requests/api.py\u001b[0m in \u001b[0;36mpost\u001b[0;34m(url, data, json, **kwargs)\u001b[0m\n\u001b[1;32m    115\u001b[0m     \"\"\"\n\u001b[1;32m    116\u001b[0m \u001b[0;34m\u001b[0m\u001b[0m\n\u001b[0;32m--> 117\u001b[0;31m     \u001b[0;32mreturn\u001b[0m \u001b[0mrequest\u001b[0m\u001b[0;34m(\u001b[0m\u001b[0;34m'post'\u001b[0m\u001b[0;34m,\u001b[0m \u001b[0murl\u001b[0m\u001b[0;34m,\u001b[0m \u001b[0mdata\u001b[0m\u001b[0;34m=\u001b[0m\u001b[0mdata\u001b[0m\u001b[0;34m,\u001b[0m \u001b[0mjson\u001b[0m\u001b[0;34m=\u001b[0m\u001b[0mjson\u001b[0m\u001b[0;34m,\u001b[0m \u001b[0;34m**\u001b[0m\u001b[0mkwargs\u001b[0m\u001b[0;34m)\u001b[0m\u001b[0;34m\u001b[0m\u001b[0;34m\u001b[0m\u001b[0m\n\u001b[0m\u001b[1;32m    118\u001b[0m \u001b[0;34m\u001b[0m\u001b[0m\n\u001b[1;32m    119\u001b[0m \u001b[0;34m\u001b[0m\u001b[0m\n",
      "\u001b[0;32m~/opt/anaconda3/lib/python3.8/site-packages/requests/api.py\u001b[0m in \u001b[0;36mrequest\u001b[0;34m(method, url, **kwargs)\u001b[0m\n\u001b[1;32m     59\u001b[0m     \u001b[0;31m# cases, and look like a memory leak in others.\u001b[0m\u001b[0;34m\u001b[0m\u001b[0;34m\u001b[0m\u001b[0;34m\u001b[0m\u001b[0m\n\u001b[1;32m     60\u001b[0m     \u001b[0;32mwith\u001b[0m \u001b[0msessions\u001b[0m\u001b[0;34m.\u001b[0m\u001b[0mSession\u001b[0m\u001b[0;34m(\u001b[0m\u001b[0;34m)\u001b[0m \u001b[0;32mas\u001b[0m \u001b[0msession\u001b[0m\u001b[0;34m:\u001b[0m\u001b[0;34m\u001b[0m\u001b[0;34m\u001b[0m\u001b[0m\n\u001b[0;32m---> 61\u001b[0;31m         \u001b[0;32mreturn\u001b[0m \u001b[0msession\u001b[0m\u001b[0;34m.\u001b[0m\u001b[0mrequest\u001b[0m\u001b[0;34m(\u001b[0m\u001b[0mmethod\u001b[0m\u001b[0;34m=\u001b[0m\u001b[0mmethod\u001b[0m\u001b[0;34m,\u001b[0m \u001b[0murl\u001b[0m\u001b[0;34m=\u001b[0m\u001b[0murl\u001b[0m\u001b[0;34m,\u001b[0m \u001b[0;34m**\u001b[0m\u001b[0mkwargs\u001b[0m\u001b[0;34m)\u001b[0m\u001b[0;34m\u001b[0m\u001b[0;34m\u001b[0m\u001b[0m\n\u001b[0m\u001b[1;32m     62\u001b[0m \u001b[0;34m\u001b[0m\u001b[0m\n\u001b[1;32m     63\u001b[0m \u001b[0;34m\u001b[0m\u001b[0m\n",
      "\u001b[0;32m~/opt/anaconda3/lib/python3.8/site-packages/requests/sessions.py\u001b[0m in \u001b[0;36mrequest\u001b[0;34m(self, method, url, params, data, headers, cookies, files, auth, timeout, allow_redirects, proxies, hooks, stream, verify, cert, json)\u001b[0m\n\u001b[1;32m    527\u001b[0m         }\n\u001b[1;32m    528\u001b[0m         \u001b[0msend_kwargs\u001b[0m\u001b[0;34m.\u001b[0m\u001b[0mupdate\u001b[0m\u001b[0;34m(\u001b[0m\u001b[0msettings\u001b[0m\u001b[0;34m)\u001b[0m\u001b[0;34m\u001b[0m\u001b[0;34m\u001b[0m\u001b[0m\n\u001b[0;32m--> 529\u001b[0;31m         \u001b[0mresp\u001b[0m \u001b[0;34m=\u001b[0m \u001b[0mself\u001b[0m\u001b[0;34m.\u001b[0m\u001b[0msend\u001b[0m\u001b[0;34m(\u001b[0m\u001b[0mprep\u001b[0m\u001b[0;34m,\u001b[0m \u001b[0;34m**\u001b[0m\u001b[0msend_kwargs\u001b[0m\u001b[0;34m)\u001b[0m\u001b[0;34m\u001b[0m\u001b[0;34m\u001b[0m\u001b[0m\n\u001b[0m\u001b[1;32m    530\u001b[0m \u001b[0;34m\u001b[0m\u001b[0m\n\u001b[1;32m    531\u001b[0m         \u001b[0;32mreturn\u001b[0m \u001b[0mresp\u001b[0m\u001b[0;34m\u001b[0m\u001b[0;34m\u001b[0m\u001b[0m\n",
      "\u001b[0;32m~/opt/anaconda3/lib/python3.8/site-packages/requests/sessions.py\u001b[0m in \u001b[0;36msend\u001b[0;34m(self, request, **kwargs)\u001b[0m\n\u001b[1;32m    643\u001b[0m \u001b[0;34m\u001b[0m\u001b[0m\n\u001b[1;32m    644\u001b[0m         \u001b[0;31m# Send the request\u001b[0m\u001b[0;34m\u001b[0m\u001b[0;34m\u001b[0m\u001b[0;34m\u001b[0m\u001b[0m\n\u001b[0;32m--> 645\u001b[0;31m         \u001b[0mr\u001b[0m \u001b[0;34m=\u001b[0m \u001b[0madapter\u001b[0m\u001b[0;34m.\u001b[0m\u001b[0msend\u001b[0m\u001b[0;34m(\u001b[0m\u001b[0mrequest\u001b[0m\u001b[0;34m,\u001b[0m \u001b[0;34m**\u001b[0m\u001b[0mkwargs\u001b[0m\u001b[0;34m)\u001b[0m\u001b[0;34m\u001b[0m\u001b[0;34m\u001b[0m\u001b[0m\n\u001b[0m\u001b[1;32m    646\u001b[0m \u001b[0;34m\u001b[0m\u001b[0m\n\u001b[1;32m    647\u001b[0m         \u001b[0;31m# Total elapsed time of the request (approximately)\u001b[0m\u001b[0;34m\u001b[0m\u001b[0;34m\u001b[0m\u001b[0;34m\u001b[0m\u001b[0m\n",
      "\u001b[0;32m~/opt/anaconda3/lib/python3.8/site-packages/requests/adapters.py\u001b[0m in \u001b[0;36msend\u001b[0;34m(self, request, stream, timeout, verify, cert, proxies)\u001b[0m\n\u001b[1;32m    517\u001b[0m                 \u001b[0;32mraise\u001b[0m \u001b[0mSSLError\u001b[0m\u001b[0;34m(\u001b[0m\u001b[0me\u001b[0m\u001b[0;34m,\u001b[0m \u001b[0mrequest\u001b[0m\u001b[0;34m=\u001b[0m\u001b[0mrequest\u001b[0m\u001b[0;34m)\u001b[0m\u001b[0;34m\u001b[0m\u001b[0;34m\u001b[0m\u001b[0m\n\u001b[1;32m    518\u001b[0m \u001b[0;34m\u001b[0m\u001b[0m\n\u001b[0;32m--> 519\u001b[0;31m             \u001b[0;32mraise\u001b[0m \u001b[0mConnectionError\u001b[0m\u001b[0;34m(\u001b[0m\u001b[0me\u001b[0m\u001b[0;34m,\u001b[0m \u001b[0mrequest\u001b[0m\u001b[0;34m=\u001b[0m\u001b[0mrequest\u001b[0m\u001b[0;34m)\u001b[0m\u001b[0;34m\u001b[0m\u001b[0;34m\u001b[0m\u001b[0m\n\u001b[0m\u001b[1;32m    520\u001b[0m \u001b[0;34m\u001b[0m\u001b[0m\n\u001b[1;32m    521\u001b[0m         \u001b[0;32mexcept\u001b[0m \u001b[0mClosedPoolError\u001b[0m \u001b[0;32mas\u001b[0m \u001b[0me\u001b[0m\u001b[0;34m:\u001b[0m\u001b[0;34m\u001b[0m\u001b[0;34m\u001b[0m\u001b[0m\n",
      "\u001b[0;31mConnectionError\u001b[0m: HTTPConnectionPool(host='0.0.0.0', port=5000): Max retries exceeded with url: /rossmann/predict (Caused by NewConnectionError('<urllib3.connection.HTTPConnection object at 0x7f972b3128b0>: Failed to establish a new connection: [Errno 61] Connection refused'))"
     ]
    }
   ],
   "source": [
    "#API Call \n",
    "#5000 é a porta padrão do flesk\n",
    "url = 'http://0.0.0.0:5000/rossmann/predict' #ulr local\n",
    "header = {'Content-type':'application/json'}\n",
    "data = data\n",
    "\n",
    "#enviar dados\n",
    "r = requests.post( url, data=data, headers=header )\n",
    "print( 'Status Code {}'.format( r.status_code ) )"
   ]
  },
  {
   "cell_type": "markdown",
   "id": "f53a05ec",
   "metadata": {},
   "source": [
    "### Teste da API na Cloud Heroku"
   ]
  },
  {
   "cell_type": "code",
   "execution_count": 32,
   "id": "391e07c5",
   "metadata": {
    "ExecuteTime": {
     "end_time": "2022-01-16T13:30:33.432984Z",
     "start_time": "2022-01-16T13:29:17.558753Z"
    }
   },
   "outputs": [
    {
     "name": "stdout",
     "output_type": "stream",
     "text": [
      "Status Code 503\n"
     ]
    }
   ],
   "source": [
    "#API Call \n",
    "url = 'https://rossmann-store-prediction.herokuapp.com/rossmann/predict' #ulr heroku + endpoint rossman/predict\n",
    "header = {'Content-type':'application/json'}\n",
    "data = data\n",
    "\n",
    "#enviar dados\n",
    "r = requests.post( url, data=data, headers=header )\n",
    "print( 'Status Code {}'.format( r.status_code ) )"
   ]
  },
  {
   "cell_type": "code",
   "execution_count": 36,
   "id": "bcbb6f55",
   "metadata": {
    "ExecuteTime": {
     "end_time": "2022-01-14T13:51:44.583039Z",
     "start_time": "2022-01-14T13:51:44.572297Z"
    }
   },
   "outputs": [
    {
     "data": {
      "text/plain": [
       "{'store': 22,\n",
       " 'day_of_week': 4,\n",
       " 'date': '2015-09-17T00:00:00.000Z',\n",
       " 'open': 1.0,\n",
       " 'promo': 1,\n",
       " 'state_holiday': 'regular_day',\n",
       " 'school_holiday': 0,\n",
       " 'store_type': 'a',\n",
       " 'assortment': 'basic',\n",
       " 'competition_distance': 1040.0,\n",
       " 'competition_open_since_month': 9,\n",
       " 'competition_open_since_year': 2015,\n",
       " 'promo2': 1,\n",
       " 'promo2_since_week': 22,\n",
       " 'promo2_since_year': 2012,\n",
       " 'promo_interval': 'Jan,Apr,Jul,Oct',\n",
       " 'month_map': 'Sep',\n",
       " 'is_promo': 0,\n",
       " 'year': 2015,\n",
       " 'month': 9,\n",
       " 'day': 17,\n",
       " 'week_of_year': 38,\n",
       " 'year_week': '2015-37',\n",
       " 'competition_since': '2015-09-01T00:00:00.000Z',\n",
       " 'competition_time_month': 0,\n",
       " 'promo_since': '2012-05-21T00:00:00.000Z',\n",
       " 'promo2_time_week': 173,\n",
       " 'prediction': 4824.982421875}"
      ]
     },
     "execution_count": 36,
     "metadata": {},
     "output_type": "execute_result"
    }
   ],
   "source": [
    "r.json()[0]"
   ]
  },
  {
   "cell_type": "code",
   "execution_count": 37,
   "id": "f904b947",
   "metadata": {
    "ExecuteTime": {
     "end_time": "2022-01-14T13:51:49.044700Z",
     "start_time": "2022-01-14T13:51:49.035601Z"
    }
   },
   "outputs": [],
   "source": [
    "#converter novamente para um DF a partir do json retornado\n",
    "d1 = pd.DataFrame( r.json(), columns=r.json()[0].keys() )"
   ]
  },
  {
   "cell_type": "code",
   "execution_count": 38,
   "id": "e88a6f03",
   "metadata": {
    "ExecuteTime": {
     "end_time": "2022-01-14T13:51:49.949619Z",
     "start_time": "2022-01-14T13:51:49.916394Z"
    }
   },
   "outputs": [
    {
     "data": {
      "text/html": [
       "<div>\n",
       "<style scoped>\n",
       "    .dataframe tbody tr th:only-of-type {\n",
       "        vertical-align: middle;\n",
       "    }\n",
       "\n",
       "    .dataframe tbody tr th {\n",
       "        vertical-align: top;\n",
       "    }\n",
       "\n",
       "    .dataframe thead th {\n",
       "        text-align: right;\n",
       "    }\n",
       "</style>\n",
       "<table border=\"1\" class=\"dataframe\">\n",
       "  <thead>\n",
       "    <tr style=\"text-align: right;\">\n",
       "      <th></th>\n",
       "      <th>store</th>\n",
       "      <th>day_of_week</th>\n",
       "      <th>date</th>\n",
       "      <th>open</th>\n",
       "      <th>promo</th>\n",
       "      <th>state_holiday</th>\n",
       "      <th>school_holiday</th>\n",
       "      <th>store_type</th>\n",
       "      <th>assortment</th>\n",
       "      <th>competition_distance</th>\n",
       "      <th>...</th>\n",
       "      <th>year</th>\n",
       "      <th>month</th>\n",
       "      <th>day</th>\n",
       "      <th>week_of_year</th>\n",
       "      <th>year_week</th>\n",
       "      <th>competition_since</th>\n",
       "      <th>competition_time_month</th>\n",
       "      <th>promo_since</th>\n",
       "      <th>promo2_time_week</th>\n",
       "      <th>prediction</th>\n",
       "    </tr>\n",
       "  </thead>\n",
       "  <tbody>\n",
       "    <tr>\n",
       "      <th>0</th>\n",
       "      <td>22</td>\n",
       "      <td>4</td>\n",
       "      <td>2015-09-17T00:00:00.000Z</td>\n",
       "      <td>1.0</td>\n",
       "      <td>1</td>\n",
       "      <td>regular_day</td>\n",
       "      <td>0</td>\n",
       "      <td>a</td>\n",
       "      <td>basic</td>\n",
       "      <td>1040.0</td>\n",
       "      <td>...</td>\n",
       "      <td>2015</td>\n",
       "      <td>9</td>\n",
       "      <td>17</td>\n",
       "      <td>38</td>\n",
       "      <td>2015-37</td>\n",
       "      <td>2015-09-01T00:00:00.000Z</td>\n",
       "      <td>0</td>\n",
       "      <td>2012-05-21T00:00:00.000Z</td>\n",
       "      <td>173</td>\n",
       "      <td>4824.982422</td>\n",
       "    </tr>\n",
       "    <tr>\n",
       "      <th>1</th>\n",
       "      <td>22</td>\n",
       "      <td>3</td>\n",
       "      <td>2015-09-16T00:00:00.000Z</td>\n",
       "      <td>1.0</td>\n",
       "      <td>1</td>\n",
       "      <td>regular_day</td>\n",
       "      <td>0</td>\n",
       "      <td>a</td>\n",
       "      <td>basic</td>\n",
       "      <td>1040.0</td>\n",
       "      <td>...</td>\n",
       "      <td>2015</td>\n",
       "      <td>9</td>\n",
       "      <td>16</td>\n",
       "      <td>38</td>\n",
       "      <td>2015-37</td>\n",
       "      <td>2015-09-01T00:00:00.000Z</td>\n",
       "      <td>0</td>\n",
       "      <td>2012-05-21T00:00:00.000Z</td>\n",
       "      <td>173</td>\n",
       "      <td>4899.498535</td>\n",
       "    </tr>\n",
       "    <tr>\n",
       "      <th>2</th>\n",
       "      <td>22</td>\n",
       "      <td>2</td>\n",
       "      <td>2015-09-15T00:00:00.000Z</td>\n",
       "      <td>1.0</td>\n",
       "      <td>1</td>\n",
       "      <td>regular_day</td>\n",
       "      <td>0</td>\n",
       "      <td>a</td>\n",
       "      <td>basic</td>\n",
       "      <td>1040.0</td>\n",
       "      <td>...</td>\n",
       "      <td>2015</td>\n",
       "      <td>9</td>\n",
       "      <td>15</td>\n",
       "      <td>38</td>\n",
       "      <td>2015-37</td>\n",
       "      <td>2015-09-01T00:00:00.000Z</td>\n",
       "      <td>0</td>\n",
       "      <td>2012-05-21T00:00:00.000Z</td>\n",
       "      <td>173</td>\n",
       "      <td>5706.351562</td>\n",
       "    </tr>\n",
       "    <tr>\n",
       "      <th>3</th>\n",
       "      <td>22</td>\n",
       "      <td>1</td>\n",
       "      <td>2015-09-14T00:00:00.000Z</td>\n",
       "      <td>1.0</td>\n",
       "      <td>1</td>\n",
       "      <td>regular_day</td>\n",
       "      <td>1</td>\n",
       "      <td>a</td>\n",
       "      <td>basic</td>\n",
       "      <td>1040.0</td>\n",
       "      <td>...</td>\n",
       "      <td>2015</td>\n",
       "      <td>9</td>\n",
       "      <td>14</td>\n",
       "      <td>38</td>\n",
       "      <td>2015-37</td>\n",
       "      <td>2015-09-01T00:00:00.000Z</td>\n",
       "      <td>0</td>\n",
       "      <td>2012-05-21T00:00:00.000Z</td>\n",
       "      <td>173</td>\n",
       "      <td>6714.124023</td>\n",
       "    </tr>\n",
       "    <tr>\n",
       "      <th>4</th>\n",
       "      <td>22</td>\n",
       "      <td>6</td>\n",
       "      <td>2015-09-12T00:00:00.000Z</td>\n",
       "      <td>1.0</td>\n",
       "      <td>0</td>\n",
       "      <td>regular_day</td>\n",
       "      <td>0</td>\n",
       "      <td>a</td>\n",
       "      <td>basic</td>\n",
       "      <td>1040.0</td>\n",
       "      <td>...</td>\n",
       "      <td>2015</td>\n",
       "      <td>9</td>\n",
       "      <td>12</td>\n",
       "      <td>37</td>\n",
       "      <td>2015-36</td>\n",
       "      <td>2015-09-01T00:00:00.000Z</td>\n",
       "      <td>0</td>\n",
       "      <td>2012-05-21T00:00:00.000Z</td>\n",
       "      <td>172</td>\n",
       "      <td>2909.199707</td>\n",
       "    </tr>\n",
       "  </tbody>\n",
       "</table>\n",
       "<p>5 rows × 28 columns</p>\n",
       "</div>"
      ],
      "text/plain": [
       "   store  day_of_week                      date  open  promo state_holiday  \\\n",
       "0     22            4  2015-09-17T00:00:00.000Z   1.0      1   regular_day   \n",
       "1     22            3  2015-09-16T00:00:00.000Z   1.0      1   regular_day   \n",
       "2     22            2  2015-09-15T00:00:00.000Z   1.0      1   regular_day   \n",
       "3     22            1  2015-09-14T00:00:00.000Z   1.0      1   regular_day   \n",
       "4     22            6  2015-09-12T00:00:00.000Z   1.0      0   regular_day   \n",
       "\n",
       "   school_holiday store_type assortment  competition_distance  ...  year  \\\n",
       "0               0          a      basic                1040.0  ...  2015   \n",
       "1               0          a      basic                1040.0  ...  2015   \n",
       "2               0          a      basic                1040.0  ...  2015   \n",
       "3               1          a      basic                1040.0  ...  2015   \n",
       "4               0          a      basic                1040.0  ...  2015   \n",
       "\n",
       "   month  day  week_of_year  year_week         competition_since  \\\n",
       "0      9   17            38    2015-37  2015-09-01T00:00:00.000Z   \n",
       "1      9   16            38    2015-37  2015-09-01T00:00:00.000Z   \n",
       "2      9   15            38    2015-37  2015-09-01T00:00:00.000Z   \n",
       "3      9   14            38    2015-37  2015-09-01T00:00:00.000Z   \n",
       "4      9   12            37    2015-36  2015-09-01T00:00:00.000Z   \n",
       "\n",
       "  competition_time_month               promo_since  promo2_time_week  \\\n",
       "0                      0  2012-05-21T00:00:00.000Z               173   \n",
       "1                      0  2012-05-21T00:00:00.000Z               173   \n",
       "2                      0  2012-05-21T00:00:00.000Z               173   \n",
       "3                      0  2012-05-21T00:00:00.000Z               173   \n",
       "4                      0  2012-05-21T00:00:00.000Z               172   \n",
       "\n",
       "    prediction  \n",
       "0  4824.982422  \n",
       "1  4899.498535  \n",
       "2  5706.351562  \n",
       "3  6714.124023  \n",
       "4  2909.199707  \n",
       "\n",
       "[5 rows x 28 columns]"
      ]
     },
     "execution_count": 38,
     "metadata": {},
     "output_type": "execute_result"
    }
   ],
   "source": [
    "#previsão de vendas diária para 6 semanas da loja 22:\n",
    "d1.head()"
   ]
  },
  {
   "cell_type": "code",
   "execution_count": 39,
   "id": "737c9e07",
   "metadata": {
    "ExecuteTime": {
     "end_time": "2022-01-14T13:51:52.251742Z",
     "start_time": "2022-01-14T13:51:52.236283Z"
    }
   },
   "outputs": [
    {
     "name": "stdout",
     "output_type": "stream",
     "text": [
      "Store number 22 will sell R$183,114.72 in the next 6 weeks\n"
     ]
    }
   ],
   "source": [
    "d2 = d1[['store','prediction']].groupby( 'store' ).sum().reset_index()\n",
    "\n",
    "for i in range (len(d2)):\n",
    "    print('Store number {} will sell R${:,.2f} in the next 6 weeks'.format(\n",
    "        d2.loc[i, 'store'],\n",
    "        d2.loc[i, 'prediction'] ))"
   ]
  },
  {
   "cell_type": "code",
   "execution_count": 40,
   "id": "1ce699c9",
   "metadata": {
    "ExecuteTime": {
     "end_time": "2022-01-14T13:51:54.400767Z",
     "start_time": "2022-01-14T13:51:54.389305Z"
    }
   },
   "outputs": [
    {
     "data": {
      "text/html": [
       "<div>\n",
       "<style scoped>\n",
       "    .dataframe tbody tr th:only-of-type {\n",
       "        vertical-align: middle;\n",
       "    }\n",
       "\n",
       "    .dataframe tbody tr th {\n",
       "        vertical-align: top;\n",
       "    }\n",
       "\n",
       "    .dataframe thead th {\n",
       "        text-align: right;\n",
       "    }\n",
       "</style>\n",
       "<table border=\"1\" class=\"dataframe\">\n",
       "  <thead>\n",
       "    <tr style=\"text-align: right;\">\n",
       "      <th></th>\n",
       "      <th>store</th>\n",
       "      <th>prediction</th>\n",
       "    </tr>\n",
       "  </thead>\n",
       "  <tbody>\n",
       "    <tr>\n",
       "      <th>0</th>\n",
       "      <td>22</td>\n",
       "      <td>183114.718994</td>\n",
       "    </tr>\n",
       "  </tbody>\n",
       "</table>\n",
       "</div>"
      ],
      "text/plain": [
       "   store     prediction\n",
       "0     22  183114.718994"
      ]
     },
     "execution_count": 40,
     "metadata": {},
     "output_type": "execute_result"
    }
   ],
   "source": [
    "#previsão para 6 semanas da loja 22:\n",
    "d2"
   ]
  },
  {
   "cell_type": "code",
   "execution_count": null,
   "id": "23dba5b1",
   "metadata": {},
   "outputs": [],
   "source": []
  },
  {
   "cell_type": "code",
   "execution_count": null,
   "id": "ed73f0e7",
   "metadata": {},
   "outputs": [],
   "source": []
  },
  {
   "cell_type": "code",
   "execution_count": null,
   "id": "dbdd71df",
   "metadata": {},
   "outputs": [],
   "source": []
  }
 ],
 "metadata": {
  "kernelspec": {
   "display_name": "Python 3 (ipykernel)",
   "language": "python",
   "name": "python3"
  },
  "language_info": {
   "codemirror_mode": {
    "name": "ipython",
    "version": 3
   },
   "file_extension": ".py",
   "mimetype": "text/x-python",
   "name": "python",
   "nbconvert_exporter": "python",
   "pygments_lexer": "ipython3",
   "version": "3.8.12"
  },
  "toc": {
   "base_numbering": 1,
   "nav_menu": {},
   "number_sections": true,
   "sideBar": true,
   "skip_h1_title": false,
   "title_cell": "Table of Contents",
   "title_sidebar": "Contents",
   "toc_cell": false,
   "toc_position": {},
   "toc_section_display": true,
   "toc_window_display": false
  }
 },
 "nbformat": 4,
 "nbformat_minor": 5
}
