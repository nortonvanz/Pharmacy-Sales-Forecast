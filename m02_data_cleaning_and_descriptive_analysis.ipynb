{
 "cells": [
  {
   "cell_type": "markdown",
   "id": "7450e0d6",
   "metadata": {},
   "source": [
    "# Imports"
   ]
  },
  {
   "cell_type": "code",
   "execution_count": 1,
   "id": "63222301",
   "metadata": {
    "ExecuteTime": {
     "end_time": "2021-12-14T19:38:05.183854Z",
     "start_time": "2021-12-14T19:38:03.125830Z"
    }
   },
   "outputs": [],
   "source": [
    "import math\n",
    "import inflection\n",
    "import pandas as pd\n",
    "import numpy as np \n",
    "import seaborn as sns\n",
    "from matplotlib import pyplot as plt"
   ]
  },
  {
   "cell_type": "markdown",
   "id": "771055cb",
   "metadata": {
    "ExecuteTime": {
     "end_time": "2021-12-12T14:08:52.025065Z",
     "start_time": "2021-12-12T14:08:52.019352Z"
    },
    "heading_collapsed": true
   },
   "source": [
    "## Helper Functions"
   ]
  },
  {
   "cell_type": "markdown",
   "id": "80a33607",
   "metadata": {
    "ExecuteTime": {
     "end_time": "2021-12-12T14:09:02.546680Z",
     "start_time": "2021-12-12T14:09:02.535126Z"
    },
    "heading_collapsed": true
   },
   "source": [
    "## Loading Data"
   ]
  },
  {
   "cell_type": "code",
   "execution_count": 2,
   "id": "88868220",
   "metadata": {
    "ExecuteTime": {
     "end_time": "2021-12-13T19:52:36.088574Z",
     "start_time": "2021-12-13T19:52:34.259536Z"
    },
    "hidden": true
   },
   "outputs": [],
   "source": [
    "                            # lê todo o arquivo de uma vez \n",
    "df_sales_raw = pd.read_csv(\"data/train.csv\", low_memory=False)\n",
    "df_store_raw = pd.read_csv(\"data/store.csv\", low_memory=False)\n",
    "\n",
    "# merge\n",
    "df_raw = pd.merge(  df_sales_raw, df_store_raw, how='left', on='Store' )"
   ]
  },
  {
   "cell_type": "code",
   "execution_count": 3,
   "id": "61a1fa06",
   "metadata": {
    "ExecuteTime": {
     "end_time": "2021-12-13T19:52:36.512021Z",
     "start_time": "2021-12-13T19:52:36.091623Z"
    },
    "hidden": true,
    "scrolled": true
   },
   "outputs": [
    {
     "data": {
      "text/html": [
       "<div>\n",
       "<style scoped>\n",
       "    .dataframe tbody tr th:only-of-type {\n",
       "        vertical-align: middle;\n",
       "    }\n",
       "\n",
       "    .dataframe tbody tr th {\n",
       "        vertical-align: top;\n",
       "    }\n",
       "\n",
       "    .dataframe thead th {\n",
       "        text-align: right;\n",
       "    }\n",
       "</style>\n",
       "<table border=\"1\" class=\"dataframe\">\n",
       "  <thead>\n",
       "    <tr style=\"text-align: right;\">\n",
       "      <th></th>\n",
       "      <th>Store</th>\n",
       "      <th>DayOfWeek</th>\n",
       "      <th>Date</th>\n",
       "      <th>Sales</th>\n",
       "      <th>Customers</th>\n",
       "      <th>Open</th>\n",
       "      <th>Promo</th>\n",
       "      <th>StateHoliday</th>\n",
       "      <th>SchoolHoliday</th>\n",
       "      <th>StoreType</th>\n",
       "      <th>Assortment</th>\n",
       "      <th>CompetitionDistance</th>\n",
       "      <th>CompetitionOpenSinceMonth</th>\n",
       "      <th>CompetitionOpenSinceYear</th>\n",
       "      <th>Promo2</th>\n",
       "      <th>Promo2SinceWeek</th>\n",
       "      <th>Promo2SinceYear</th>\n",
       "      <th>PromoInterval</th>\n",
       "    </tr>\n",
       "  </thead>\n",
       "  <tbody>\n",
       "    <tr>\n",
       "      <th>257411</th>\n",
       "      <td>552</td>\n",
       "      <td>2</td>\n",
       "      <td>2014-12-09</td>\n",
       "      <td>6257</td>\n",
       "      <td>645</td>\n",
       "      <td>1</td>\n",
       "      <td>0</td>\n",
       "      <td>0</td>\n",
       "      <td>0</td>\n",
       "      <td>a</td>\n",
       "      <td>a</td>\n",
       "      <td>4260.0</td>\n",
       "      <td>7.0</td>\n",
       "      <td>2008.0</td>\n",
       "      <td>1</td>\n",
       "      <td>37.0</td>\n",
       "      <td>2009.0</td>\n",
       "      <td>Jan,Apr,Jul,Oct</td>\n",
       "    </tr>\n",
       "    <tr>\n",
       "      <th>627175</th>\n",
       "      <td>216</td>\n",
       "      <td>1</td>\n",
       "      <td>2013-12-16</td>\n",
       "      <td>15530</td>\n",
       "      <td>1522</td>\n",
       "      <td>1</td>\n",
       "      <td>1</td>\n",
       "      <td>0</td>\n",
       "      <td>0</td>\n",
       "      <td>c</td>\n",
       "      <td>a</td>\n",
       "      <td>190.0</td>\n",
       "      <td>NaN</td>\n",
       "      <td>NaN</td>\n",
       "      <td>1</td>\n",
       "      <td>45.0</td>\n",
       "      <td>2009.0</td>\n",
       "      <td>Feb,May,Aug,Nov</td>\n",
       "    </tr>\n",
       "    <tr>\n",
       "      <th>1002043</th>\n",
       "      <td>444</td>\n",
       "      <td>1</td>\n",
       "      <td>2013-01-14</td>\n",
       "      <td>8081</td>\n",
       "      <td>1026</td>\n",
       "      <td>1</td>\n",
       "      <td>0</td>\n",
       "      <td>0</td>\n",
       "      <td>0</td>\n",
       "      <td>c</td>\n",
       "      <td>a</td>\n",
       "      <td>1700.0</td>\n",
       "      <td>11.0</td>\n",
       "      <td>2009.0</td>\n",
       "      <td>0</td>\n",
       "      <td>NaN</td>\n",
       "      <td>NaN</td>\n",
       "      <td>NaN</td>\n",
       "    </tr>\n",
       "    <tr>\n",
       "      <th>162110</th>\n",
       "      <td>436</td>\n",
       "      <td>7</td>\n",
       "      <td>2015-03-08</td>\n",
       "      <td>0</td>\n",
       "      <td>0</td>\n",
       "      <td>0</td>\n",
       "      <td>0</td>\n",
       "      <td>0</td>\n",
       "      <td>0</td>\n",
       "      <td>d</td>\n",
       "      <td>a</td>\n",
       "      <td>2300.0</td>\n",
       "      <td>NaN</td>\n",
       "      <td>NaN</td>\n",
       "      <td>0</td>\n",
       "      <td>NaN</td>\n",
       "      <td>NaN</td>\n",
       "      <td>NaN</td>\n",
       "    </tr>\n",
       "    <tr>\n",
       "      <th>11329</th>\n",
       "      <td>180</td>\n",
       "      <td>2</td>\n",
       "      <td>2015-07-21</td>\n",
       "      <td>5561</td>\n",
       "      <td>678</td>\n",
       "      <td>1</td>\n",
       "      <td>0</td>\n",
       "      <td>0</td>\n",
       "      <td>1</td>\n",
       "      <td>d</td>\n",
       "      <td>a</td>\n",
       "      <td>5800.0</td>\n",
       "      <td>9.0</td>\n",
       "      <td>2010.0</td>\n",
       "      <td>0</td>\n",
       "      <td>NaN</td>\n",
       "      <td>NaN</td>\n",
       "      <td>NaN</td>\n",
       "    </tr>\n",
       "    <tr>\n",
       "      <th>777307</th>\n",
       "      <td>938</td>\n",
       "      <td>7</td>\n",
       "      <td>2013-08-04</td>\n",
       "      <td>0</td>\n",
       "      <td>0</td>\n",
       "      <td>0</td>\n",
       "      <td>0</td>\n",
       "      <td>0</td>\n",
       "      <td>1</td>\n",
       "      <td>a</td>\n",
       "      <td>a</td>\n",
       "      <td>2820.0</td>\n",
       "      <td>9.0</td>\n",
       "      <td>2009.0</td>\n",
       "      <td>0</td>\n",
       "      <td>NaN</td>\n",
       "      <td>NaN</td>\n",
       "      <td>NaN</td>\n",
       "    </tr>\n",
       "    <tr>\n",
       "      <th>724544</th>\n",
       "      <td>580</td>\n",
       "      <td>5</td>\n",
       "      <td>2013-09-20</td>\n",
       "      <td>7748</td>\n",
       "      <td>1365</td>\n",
       "      <td>1</td>\n",
       "      <td>0</td>\n",
       "      <td>0</td>\n",
       "      <td>0</td>\n",
       "      <td>a</td>\n",
       "      <td>c</td>\n",
       "      <td>170.0</td>\n",
       "      <td>2.0</td>\n",
       "      <td>2009.0</td>\n",
       "      <td>0</td>\n",
       "      <td>NaN</td>\n",
       "      <td>NaN</td>\n",
       "      <td>NaN</td>\n",
       "    </tr>\n",
       "    <tr>\n",
       "      <th>644625</th>\n",
       "      <td>941</td>\n",
       "      <td>7</td>\n",
       "      <td>2013-12-01</td>\n",
       "      <td>0</td>\n",
       "      <td>0</td>\n",
       "      <td>0</td>\n",
       "      <td>0</td>\n",
       "      <td>0</td>\n",
       "      <td>0</td>\n",
       "      <td>a</td>\n",
       "      <td>a</td>\n",
       "      <td>1200.0</td>\n",
       "      <td>12.0</td>\n",
       "      <td>2011.0</td>\n",
       "      <td>1</td>\n",
       "      <td>31.0</td>\n",
       "      <td>2013.0</td>\n",
       "      <td>Jan,Apr,Jul,Oct</td>\n",
       "    </tr>\n",
       "    <tr>\n",
       "      <th>487311</th>\n",
       "      <td>842</td>\n",
       "      <td>1</td>\n",
       "      <td>2014-04-21</td>\n",
       "      <td>0</td>\n",
       "      <td>0</td>\n",
       "      <td>0</td>\n",
       "      <td>0</td>\n",
       "      <td>b</td>\n",
       "      <td>1</td>\n",
       "      <td>d</td>\n",
       "      <td>c</td>\n",
       "      <td>1200.0</td>\n",
       "      <td>11.0</td>\n",
       "      <td>2007.0</td>\n",
       "      <td>0</td>\n",
       "      <td>NaN</td>\n",
       "      <td>NaN</td>\n",
       "      <td>NaN</td>\n",
       "    </tr>\n",
       "    <tr>\n",
       "      <th>843703</th>\n",
       "      <td>434</td>\n",
       "      <td>3</td>\n",
       "      <td>2013-06-05</td>\n",
       "      <td>8401</td>\n",
       "      <td>598</td>\n",
       "      <td>1</td>\n",
       "      <td>1</td>\n",
       "      <td>0</td>\n",
       "      <td>0</td>\n",
       "      <td>a</td>\n",
       "      <td>a</td>\n",
       "      <td>13020.0</td>\n",
       "      <td>8.0</td>\n",
       "      <td>2003.0</td>\n",
       "      <td>1</td>\n",
       "      <td>40.0</td>\n",
       "      <td>2014.0</td>\n",
       "      <td>Jan,Apr,Jul,Oct</td>\n",
       "    </tr>\n",
       "    <tr>\n",
       "      <th>870602</th>\n",
       "      <td>573</td>\n",
       "      <td>7</td>\n",
       "      <td>2013-05-12</td>\n",
       "      <td>0</td>\n",
       "      <td>0</td>\n",
       "      <td>0</td>\n",
       "      <td>0</td>\n",
       "      <td>0</td>\n",
       "      <td>0</td>\n",
       "      <td>a</td>\n",
       "      <td>a</td>\n",
       "      <td>1190.0</td>\n",
       "      <td>11.0</td>\n",
       "      <td>2012.0</td>\n",
       "      <td>1</td>\n",
       "      <td>36.0</td>\n",
       "      <td>2013.0</td>\n",
       "      <td>Jan,Apr,Jul,Oct</td>\n",
       "    </tr>\n",
       "    <tr>\n",
       "      <th>391719</th>\n",
       "      <td>160</td>\n",
       "      <td>5</td>\n",
       "      <td>2014-07-18</td>\n",
       "      <td>5832</td>\n",
       "      <td>571</td>\n",
       "      <td>1</td>\n",
       "      <td>1</td>\n",
       "      <td>0</td>\n",
       "      <td>0</td>\n",
       "      <td>d</td>\n",
       "      <td>c</td>\n",
       "      <td>17110.0</td>\n",
       "      <td>11.0</td>\n",
       "      <td>2005.0</td>\n",
       "      <td>0</td>\n",
       "      <td>NaN</td>\n",
       "      <td>NaN</td>\n",
       "      <td>NaN</td>\n",
       "    </tr>\n",
       "    <tr>\n",
       "      <th>1008037</th>\n",
       "      <td>863</td>\n",
       "      <td>3</td>\n",
       "      <td>2013-01-09</td>\n",
       "      <td>7502</td>\n",
       "      <td>863</td>\n",
       "      <td>1</td>\n",
       "      <td>1</td>\n",
       "      <td>0</td>\n",
       "      <td>0</td>\n",
       "      <td>a</td>\n",
       "      <td>c</td>\n",
       "      <td>21370.0</td>\n",
       "      <td>11.0</td>\n",
       "      <td>2010.0</td>\n",
       "      <td>0</td>\n",
       "      <td>NaN</td>\n",
       "      <td>NaN</td>\n",
       "      <td>NaN</td>\n",
       "    </tr>\n",
       "    <tr>\n",
       "      <th>232738</th>\n",
       "      <td>819</td>\n",
       "      <td>7</td>\n",
       "      <td>2015-01-04</td>\n",
       "      <td>0</td>\n",
       "      <td>0</td>\n",
       "      <td>0</td>\n",
       "      <td>0</td>\n",
       "      <td>0</td>\n",
       "      <td>0</td>\n",
       "      <td>a</td>\n",
       "      <td>c</td>\n",
       "      <td>720.0</td>\n",
       "      <td>10.0</td>\n",
       "      <td>2014.0</td>\n",
       "      <td>0</td>\n",
       "      <td>NaN</td>\n",
       "      <td>NaN</td>\n",
       "      <td>NaN</td>\n",
       "    </tr>\n",
       "    <tr>\n",
       "      <th>297576</th>\n",
       "      <td>503</td>\n",
       "      <td>1</td>\n",
       "      <td>2014-10-27</td>\n",
       "      <td>5966</td>\n",
       "      <td>419</td>\n",
       "      <td>1</td>\n",
       "      <td>0</td>\n",
       "      <td>0</td>\n",
       "      <td>1</td>\n",
       "      <td>d</td>\n",
       "      <td>c</td>\n",
       "      <td>13080.0</td>\n",
       "      <td>9.0</td>\n",
       "      <td>2006.0</td>\n",
       "      <td>1</td>\n",
       "      <td>14.0</td>\n",
       "      <td>2011.0</td>\n",
       "      <td>Jan,Apr,Jul,Oct</td>\n",
       "    </tr>\n",
       "    <tr>\n",
       "      <th>1002538</th>\n",
       "      <td>939</td>\n",
       "      <td>1</td>\n",
       "      <td>2013-01-14</td>\n",
       "      <td>4143</td>\n",
       "      <td>462</td>\n",
       "      <td>1</td>\n",
       "      <td>0</td>\n",
       "      <td>0</td>\n",
       "      <td>0</td>\n",
       "      <td>d</td>\n",
       "      <td>a</td>\n",
       "      <td>1340.0</td>\n",
       "      <td>NaN</td>\n",
       "      <td>NaN</td>\n",
       "      <td>0</td>\n",
       "      <td>NaN</td>\n",
       "      <td>NaN</td>\n",
       "      <td>NaN</td>\n",
       "    </tr>\n",
       "    <tr>\n",
       "      <th>817436</th>\n",
       "      <td>927</td>\n",
       "      <td>6</td>\n",
       "      <td>2013-06-29</td>\n",
       "      <td>4856</td>\n",
       "      <td>683</td>\n",
       "      <td>1</td>\n",
       "      <td>0</td>\n",
       "      <td>0</td>\n",
       "      <td>0</td>\n",
       "      <td>a</td>\n",
       "      <td>a</td>\n",
       "      <td>480.0</td>\n",
       "      <td>NaN</td>\n",
       "      <td>NaN</td>\n",
       "      <td>0</td>\n",
       "      <td>NaN</td>\n",
       "      <td>NaN</td>\n",
       "      <td>NaN</td>\n",
       "    </tr>\n",
       "    <tr>\n",
       "      <th>448074</th>\n",
       "      <td>630</td>\n",
       "      <td>1</td>\n",
       "      <td>2014-05-26</td>\n",
       "      <td>6506</td>\n",
       "      <td>812</td>\n",
       "      <td>1</td>\n",
       "      <td>0</td>\n",
       "      <td>0</td>\n",
       "      <td>0</td>\n",
       "      <td>a</td>\n",
       "      <td>a</td>\n",
       "      <td>1690.0</td>\n",
       "      <td>4.0</td>\n",
       "      <td>2015.0</td>\n",
       "      <td>0</td>\n",
       "      <td>NaN</td>\n",
       "      <td>NaN</td>\n",
       "      <td>NaN</td>\n",
       "    </tr>\n",
       "    <tr>\n",
       "      <th>495346</th>\n",
       "      <td>1072</td>\n",
       "      <td>1</td>\n",
       "      <td>2014-04-14</td>\n",
       "      <td>9706</td>\n",
       "      <td>736</td>\n",
       "      <td>1</td>\n",
       "      <td>1</td>\n",
       "      <td>0</td>\n",
       "      <td>1</td>\n",
       "      <td>a</td>\n",
       "      <td>c</td>\n",
       "      <td>5380.0</td>\n",
       "      <td>8.0</td>\n",
       "      <td>2015.0</td>\n",
       "      <td>1</td>\n",
       "      <td>5.0</td>\n",
       "      <td>2010.0</td>\n",
       "      <td>Feb,May,Aug,Nov</td>\n",
       "    </tr>\n",
       "    <tr>\n",
       "      <th>456441</th>\n",
       "      <td>77</td>\n",
       "      <td>7</td>\n",
       "      <td>2014-05-18</td>\n",
       "      <td>0</td>\n",
       "      <td>0</td>\n",
       "      <td>0</td>\n",
       "      <td>0</td>\n",
       "      <td>0</td>\n",
       "      <td>0</td>\n",
       "      <td>d</td>\n",
       "      <td>c</td>\n",
       "      <td>1090.0</td>\n",
       "      <td>8.0</td>\n",
       "      <td>2009.0</td>\n",
       "      <td>1</td>\n",
       "      <td>10.0</td>\n",
       "      <td>2014.0</td>\n",
       "      <td>Jan,Apr,Jul,Oct</td>\n",
       "    </tr>\n",
       "  </tbody>\n",
       "</table>\n",
       "</div>"
      ],
      "text/plain": [
       "         Store  DayOfWeek        Date  Sales  Customers  Open  Promo  \\\n",
       "257411     552          2  2014-12-09   6257        645     1      0   \n",
       "627175     216          1  2013-12-16  15530       1522     1      1   \n",
       "1002043    444          1  2013-01-14   8081       1026     1      0   \n",
       "162110     436          7  2015-03-08      0          0     0      0   \n",
       "11329      180          2  2015-07-21   5561        678     1      0   \n",
       "777307     938          7  2013-08-04      0          0     0      0   \n",
       "724544     580          5  2013-09-20   7748       1365     1      0   \n",
       "644625     941          7  2013-12-01      0          0     0      0   \n",
       "487311     842          1  2014-04-21      0          0     0      0   \n",
       "843703     434          3  2013-06-05   8401        598     1      1   \n",
       "870602     573          7  2013-05-12      0          0     0      0   \n",
       "391719     160          5  2014-07-18   5832        571     1      1   \n",
       "1008037    863          3  2013-01-09   7502        863     1      1   \n",
       "232738     819          7  2015-01-04      0          0     0      0   \n",
       "297576     503          1  2014-10-27   5966        419     1      0   \n",
       "1002538    939          1  2013-01-14   4143        462     1      0   \n",
       "817436     927          6  2013-06-29   4856        683     1      0   \n",
       "448074     630          1  2014-05-26   6506        812     1      0   \n",
       "495346    1072          1  2014-04-14   9706        736     1      1   \n",
       "456441      77          7  2014-05-18      0          0     0      0   \n",
       "\n",
       "        StateHoliday  SchoolHoliday StoreType Assortment  CompetitionDistance  \\\n",
       "257411             0              0         a          a               4260.0   \n",
       "627175             0              0         c          a                190.0   \n",
       "1002043            0              0         c          a               1700.0   \n",
       "162110             0              0         d          a               2300.0   \n",
       "11329              0              1         d          a               5800.0   \n",
       "777307             0              1         a          a               2820.0   \n",
       "724544             0              0         a          c                170.0   \n",
       "644625             0              0         a          a               1200.0   \n",
       "487311             b              1         d          c               1200.0   \n",
       "843703             0              0         a          a              13020.0   \n",
       "870602             0              0         a          a               1190.0   \n",
       "391719             0              0         d          c              17110.0   \n",
       "1008037            0              0         a          c              21370.0   \n",
       "232738             0              0         a          c                720.0   \n",
       "297576             0              1         d          c              13080.0   \n",
       "1002538            0              0         d          a               1340.0   \n",
       "817436             0              0         a          a                480.0   \n",
       "448074             0              0         a          a               1690.0   \n",
       "495346             0              1         a          c               5380.0   \n",
       "456441             0              0         d          c               1090.0   \n",
       "\n",
       "         CompetitionOpenSinceMonth  CompetitionOpenSinceYear  Promo2  \\\n",
       "257411                         7.0                    2008.0       1   \n",
       "627175                         NaN                       NaN       1   \n",
       "1002043                       11.0                    2009.0       0   \n",
       "162110                         NaN                       NaN       0   \n",
       "11329                          9.0                    2010.0       0   \n",
       "777307                         9.0                    2009.0       0   \n",
       "724544                         2.0                    2009.0       0   \n",
       "644625                        12.0                    2011.0       1   \n",
       "487311                        11.0                    2007.0       0   \n",
       "843703                         8.0                    2003.0       1   \n",
       "870602                        11.0                    2012.0       1   \n",
       "391719                        11.0                    2005.0       0   \n",
       "1008037                       11.0                    2010.0       0   \n",
       "232738                        10.0                    2014.0       0   \n",
       "297576                         9.0                    2006.0       1   \n",
       "1002538                        NaN                       NaN       0   \n",
       "817436                         NaN                       NaN       0   \n",
       "448074                         4.0                    2015.0       0   \n",
       "495346                         8.0                    2015.0       1   \n",
       "456441                         8.0                    2009.0       1   \n",
       "\n",
       "         Promo2SinceWeek  Promo2SinceYear    PromoInterval  \n",
       "257411              37.0           2009.0  Jan,Apr,Jul,Oct  \n",
       "627175              45.0           2009.0  Feb,May,Aug,Nov  \n",
       "1002043              NaN              NaN              NaN  \n",
       "162110               NaN              NaN              NaN  \n",
       "11329                NaN              NaN              NaN  \n",
       "777307               NaN              NaN              NaN  \n",
       "724544               NaN              NaN              NaN  \n",
       "644625              31.0           2013.0  Jan,Apr,Jul,Oct  \n",
       "487311               NaN              NaN              NaN  \n",
       "843703              40.0           2014.0  Jan,Apr,Jul,Oct  \n",
       "870602              36.0           2013.0  Jan,Apr,Jul,Oct  \n",
       "391719               NaN              NaN              NaN  \n",
       "1008037              NaN              NaN              NaN  \n",
       "232738               NaN              NaN              NaN  \n",
       "297576              14.0           2011.0  Jan,Apr,Jul,Oct  \n",
       "1002538              NaN              NaN              NaN  \n",
       "817436               NaN              NaN              NaN  \n",
       "448074               NaN              NaN              NaN  \n",
       "495346               5.0           2010.0  Feb,May,Aug,Nov  \n",
       "456441              10.0           2014.0  Jan,Apr,Jul,Oct  "
      ]
     },
     "execution_count": 3,
     "metadata": {},
     "output_type": "execute_result"
    }
   ],
   "source": [
    "df_raw.sample(20)"
   ]
  },
  {
   "cell_type": "markdown",
   "id": "1cc62789",
   "metadata": {},
   "source": [
    "# Data Description"
   ]
  },
  {
   "cell_type": "code",
   "execution_count": 4,
   "id": "92f3731b",
   "metadata": {
    "ExecuteTime": {
     "end_time": "2021-12-13T19:52:36.620536Z",
     "start_time": "2021-12-13T19:52:36.515629Z"
    }
   },
   "outputs": [],
   "source": [
    "# Meigarom faz uma cópia a cada seção nova, pra em grandes códigos evitar sobrescrever a var\n",
    "# do DS original e ter que rodar tudo de novo.\n",
    "df1 = df_raw.copy()"
   ]
  },
  {
   "cell_type": "markdown",
   "id": "39a6e020",
   "metadata": {
    "heading_collapsed": true
   },
   "source": [
    "## Rename Columns"
   ]
  },
  {
   "cell_type": "code",
   "execution_count": 5,
   "id": "1a73b84d",
   "metadata": {
    "ExecuteTime": {
     "end_time": "2021-12-13T19:52:36.632662Z",
     "start_time": "2021-12-13T19:52:36.623444Z"
    },
    "hidden": true
   },
   "outputs": [
    {
     "data": {
      "text/plain": [
       "Index(['Store', 'DayOfWeek', 'Date', 'Sales', 'Customers', 'Open', 'Promo',\n",
       "       'StateHoliday', 'SchoolHoliday', 'StoreType', 'Assortment',\n",
       "       'CompetitionDistance', 'CompetitionOpenSinceMonth',\n",
       "       'CompetitionOpenSinceYear', 'Promo2', 'Promo2SinceWeek',\n",
       "       'Promo2SinceYear', 'PromoInterval'],\n",
       "      dtype='object')"
      ]
     },
     "execution_count": 5,
     "metadata": {},
     "output_type": "execute_result"
    }
   ],
   "source": [
    "df1.columns"
   ]
  },
  {
   "cell_type": "code",
   "execution_count": 6,
   "id": "dad6c5f1",
   "metadata": {
    "ExecuteTime": {
     "end_time": "2021-12-13T19:52:36.646478Z",
     "start_time": "2021-12-13T19:52:36.640386Z"
    },
    "hidden": true
   },
   "outputs": [],
   "source": [
    "#pega as colunas originais\n",
    "cols_old = ['Store', 'DayOfWeek', 'Date', 'Sales', 'Customers', 'Open', 'Promo',\n",
    "       'StateHoliday', 'SchoolHoliday', 'StoreType', 'Assortment',\n",
    "       'CompetitionDistance', 'CompetitionOpenSinceMonth',\n",
    "       'CompetitionOpenSinceYear', 'Promo2', 'Promo2SinceWeek',\n",
    "       'Promo2SinceYear', 'PromoInterval']"
   ]
  },
  {
   "cell_type": "code",
   "execution_count": 7,
   "id": "d89cc124",
   "metadata": {
    "ExecuteTime": {
     "end_time": "2021-12-13T19:52:36.664978Z",
     "start_time": "2021-12-13T19:52:36.658223Z"
    },
    "hidden": true
   },
   "outputs": [],
   "source": [
    "#cria função pra transformar em snake_case\n",
    "snakecase = lambda x: inflection.underscore ( x )\n",
    "\n",
    "#aplica a função em todas as palabras de cols_old, guarda em lista na cols_new\n",
    "cols_new = list( map( snakecase, cols_old ) )\n",
    "\n",
    "#rename\n",
    "df1.columns = cols_new"
   ]
  },
  {
   "cell_type": "code",
   "execution_count": 8,
   "id": "f59c8c80",
   "metadata": {
    "ExecuteTime": {
     "end_time": "2021-12-13T19:52:36.686922Z",
     "start_time": "2021-12-13T19:52:36.670581Z"
    },
    "hidden": true
   },
   "outputs": [
    {
     "data": {
      "text/plain": [
       "Index(['store', 'day_of_week', 'date', 'sales', 'customers', 'open', 'promo',\n",
       "       'state_holiday', 'school_holiday', 'store_type', 'assortment',\n",
       "       'competition_distance', 'competition_open_since_month',\n",
       "       'competition_open_since_year', 'promo2', 'promo2_since_week',\n",
       "       'promo2_since_year', 'promo_interval'],\n",
       "      dtype='object')"
      ]
     },
     "execution_count": 8,
     "metadata": {},
     "output_type": "execute_result"
    }
   ],
   "source": [
    "df1.columns"
   ]
  },
  {
   "cell_type": "markdown",
   "id": "2888147b",
   "metadata": {
    "heading_collapsed": true
   },
   "source": [
    "## Data Dimension"
   ]
  },
  {
   "cell_type": "code",
   "execution_count": 9,
   "id": "555bfaf0",
   "metadata": {
    "ExecuteTime": {
     "end_time": "2021-12-13T19:52:36.706701Z",
     "start_time": "2021-12-13T19:52:36.691460Z"
    },
    "hidden": true
   },
   "outputs": [
    {
     "name": "stdout",
     "output_type": "stream",
     "text": [
      "Number of rows: 1017209\n",
      "Number of rows: 18\n"
     ]
    }
   ],
   "source": [
    "print (f'Number of rows: {df1.shape[0] }')\n",
    "print (f'Number of rows: {df1.shape[1] }')"
   ]
  },
  {
   "cell_type": "markdown",
   "id": "2efd9f82",
   "metadata": {
    "heading_collapsed": true
   },
   "source": [
    "## Data Types"
   ]
  },
  {
   "cell_type": "code",
   "execution_count": 10,
   "id": "aed4b281",
   "metadata": {
    "ExecuteTime": {
     "end_time": "2021-12-13T19:52:36.721815Z",
     "start_time": "2021-12-13T19:52:36.711641Z"
    },
    "hidden": true
   },
   "outputs": [
    {
     "data": {
      "text/plain": [
       "store                             int64\n",
       "day_of_week                       int64\n",
       "date                             object\n",
       "sales                             int64\n",
       "customers                         int64\n",
       "open                              int64\n",
       "promo                             int64\n",
       "state_holiday                    object\n",
       "school_holiday                    int64\n",
       "store_type                       object\n",
       "assortment                       object\n",
       "competition_distance            float64\n",
       "competition_open_since_month    float64\n",
       "competition_open_since_year     float64\n",
       "promo2                            int64\n",
       "promo2_since_week               float64\n",
       "promo2_since_year               float64\n",
       "promo_interval                   object\n",
       "dtype: object"
      ]
     },
     "execution_count": 10,
     "metadata": {},
     "output_type": "execute_result"
    }
   ],
   "source": [
    "df1.dtypes"
   ]
  },
  {
   "cell_type": "code",
   "execution_count": 11,
   "id": "9b5a1416",
   "metadata": {
    "ExecuteTime": {
     "end_time": "2021-12-13T19:52:36.952883Z",
     "start_time": "2021-12-13T19:52:36.726065Z"
    },
    "hidden": true
   },
   "outputs": [
    {
     "data": {
      "text/plain": [
       "store                                    int64\n",
       "day_of_week                              int64\n",
       "date                            datetime64[ns]\n",
       "sales                                    int64\n",
       "customers                                int64\n",
       "open                                     int64\n",
       "promo                                    int64\n",
       "state_holiday                           object\n",
       "school_holiday                           int64\n",
       "store_type                              object\n",
       "assortment                              object\n",
       "competition_distance                   float64\n",
       "competition_open_since_month           float64\n",
       "competition_open_since_year            float64\n",
       "promo2                                   int64\n",
       "promo2_since_week                      float64\n",
       "promo2_since_year                      float64\n",
       "promo_interval                          object\n",
       "dtype: object"
      ]
     },
     "execution_count": 11,
     "metadata": {},
     "output_type": "execute_result"
    }
   ],
   "source": [
    "#convert 'date' to datetime:\n",
    "df1['date'] = pd.to_datetime( df1['date'] )\n",
    "df1.dtypes"
   ]
  },
  {
   "cell_type": "markdown",
   "id": "5a94c669",
   "metadata": {
    "heading_collapsed": true
   },
   "source": [
    "## Check NA"
   ]
  },
  {
   "cell_type": "code",
   "execution_count": 12,
   "id": "a8fe6217",
   "metadata": {
    "ExecuteTime": {
     "end_time": "2021-12-13T19:52:37.186232Z",
     "start_time": "2021-12-13T19:52:36.959986Z"
    },
    "hidden": true
   },
   "outputs": [
    {
     "data": {
      "text/plain": [
       "store                                0\n",
       "day_of_week                          0\n",
       "date                                 0\n",
       "sales                                0\n",
       "customers                            0\n",
       "open                                 0\n",
       "promo                                0\n",
       "state_holiday                        0\n",
       "school_holiday                       0\n",
       "store_type                           0\n",
       "assortment                           0\n",
       "competition_distance              2642\n",
       "competition_open_since_month    323348\n",
       "competition_open_since_year     323348\n",
       "promo2                               0\n",
       "promo2_since_week               508031\n",
       "promo2_since_year               508031\n",
       "promo_interval                  508031\n",
       "dtype: int64"
      ]
     },
     "execution_count": 12,
     "metadata": {},
     "output_type": "execute_result"
    }
   ],
   "source": [
    "# Ver todas linhas que tem ao menos 1 NA\n",
    "df1.isna().sum()"
   ]
  },
  {
   "cell_type": "markdown",
   "id": "ca92a071",
   "metadata": {
    "hidden": true
   },
   "source": [
    "### Há 3 formas de tratar:\n",
    "1 - Excluir todas as linhas com NA.\n",
    "     - Bom: rápido e fácil\n",
    "     - Péssimo: descarta dados, pode prejudicar meu modelo\n",
    "    \n",
    "2 - Usar algoritmos de ML pra substituir NAs pela média, mediana, prevendo o número que seria \n",
    "através das colunas que tem valor.\n",
    "\n",
    "3 - Descobrir porque o NA tá aqui. Pode ter trocado o sistema, antes não tinha essa coluna. Ou ainda antes era o valor de outra coluna."
   ]
  },
  {
   "cell_type": "markdown",
   "id": "b97e9629",
   "metadata": {
    "heading_collapsed": true
   },
   "source": [
    "## Fillout NA"
   ]
  },
  {
   "cell_type": "markdown",
   "id": "8cc83b73",
   "metadata": {
    "ExecuteTime": {
     "end_time": "2021-12-12T18:07:33.929215Z",
     "start_time": "2021-12-12T18:07:33.921775Z"
    },
    "hidden": true
   },
   "source": [
    "Colunas com NA:\n",
    "#competition_distance\n",
    "#competition_open_since_month\n",
    "#competition_open_since_year\n",
    "#promo2_since_week\n",
    "#promo2_since_year\n",
    "#promo_interval"
   ]
  },
  {
   "cell_type": "code",
   "execution_count": 13,
   "id": "a0b3a056",
   "metadata": {
    "ExecuteTime": {
     "end_time": "2021-12-13T19:52:37.203973Z",
     "start_time": "2021-12-13T19:52:37.191982Z"
    },
    "hidden": true
   },
   "outputs": [
    {
     "data": {
      "text/plain": [
       "75860.0"
      ]
     },
     "execution_count": 13,
     "metadata": {},
     "output_type": "execute_result"
    }
   ],
   "source": [
    "#competition_distance\n",
    "#CompetitionDistance - distance in meters to the nearest competitor store\n",
    "\n",
    "# Vou assumir que os que não tem valor aqui, não tem competidores perto.\n",
    "# Logo, vou atribuir pras NAs um valor bem amior que o maior valor de distância existente.\n",
    "df1['competition_distance'].max()"
   ]
  },
  {
   "cell_type": "code",
   "execution_count": 14,
   "id": "4ab7c42b",
   "metadata": {
    "ExecuteTime": {
     "end_time": "2021-12-13T19:52:37.597831Z",
     "start_time": "2021-12-13T19:52:37.207971Z"
    },
    "hidden": true
   },
   "outputs": [],
   "source": [
    "#atribuindo o valor pra todas NA\n",
    "\n",
    "df1['competition_distance'] = df1['competition_distance'].apply( lambda x: 200000.0 if math.isnan( x ) else x ) "
   ]
  },
  {
   "cell_type": "code",
   "execution_count": 15,
   "id": "7565732f",
   "metadata": {
    "ExecuteTime": {
     "end_time": "2021-12-13T19:52:37.809122Z",
     "start_time": "2021-12-13T19:52:37.600357Z"
    },
    "hidden": true
   },
   "outputs": [
    {
     "data": {
      "text/plain": [
       "store                                0\n",
       "day_of_week                          0\n",
       "date                                 0\n",
       "sales                                0\n",
       "customers                            0\n",
       "open                                 0\n",
       "promo                                0\n",
       "state_holiday                        0\n",
       "school_holiday                       0\n",
       "store_type                           0\n",
       "assortment                           0\n",
       "competition_distance                 0\n",
       "competition_open_since_month    323348\n",
       "competition_open_since_year     323348\n",
       "promo2                               0\n",
       "promo2_since_week               508031\n",
       "promo2_since_year               508031\n",
       "promo_interval                  508031\n",
       "dtype: int64"
      ]
     },
     "execution_count": 15,
     "metadata": {},
     "output_type": "execute_result"
    }
   ],
   "source": [
    "#resolvido\n",
    "df1.isna().sum()"
   ]
  },
  {
   "cell_type": "code",
   "execution_count": 16,
   "id": "2d0c54b0",
   "metadata": {
    "ExecuteTime": {
     "end_time": "2021-12-13T19:53:05.468046Z",
     "start_time": "2021-12-13T19:52:37.811930Z"
    },
    "hidden": true
   },
   "outputs": [],
   "source": [
    "#competition_open_since_month\n",
    "# CompetitionOpenSince[Month/Year] - gives the approximate year and month of the time the\n",
    "# nearest competitor was opened\n",
    "\n",
    "# Se esta coluna está vazia, ou deve ser porque não tem competidor próximo, ou porque\n",
    "# não sabem quando foi aberta. \n",
    "# Vou assumir nesse primeiro ciclo então minha data de venda como a data de abertura do \n",
    "# competidor, mesmo que seja simplista.\n",
    "\n",
    "# precisa axis aqui pois são duas colunas que estamos mexendo no lambda\n",
    "df1['competition_open_since_month'] = df1.apply ( lambda x: x['date'].month \n",
    "                    if math.isnan( x['competition_open_since_month'] ) \n",
    "                    else x['competition_open_since_month'], axis=1 ) "
   ]
  },
  {
   "cell_type": "code",
   "execution_count": 17,
   "id": "ec5efa01",
   "metadata": {
    "ExecuteTime": {
     "end_time": "2021-12-13T19:53:33.666288Z",
     "start_time": "2021-12-13T19:53:05.470375Z"
    },
    "hidden": true
   },
   "outputs": [],
   "source": [
    "#competition_open_since_year\n",
    "# CompetitionOpenSince[Month/Year] - gives the approximate year and month of the time the\n",
    "# nearest competitor was opened\n",
    "\n",
    "# Vamos fazer pro year o mesno que o feito pro month:\n",
    "df1['competition_open_since_year'] = df1.apply ( lambda x: x['date'].year \n",
    "                    if math.isnan( x['competition_open_since_year'] ) \n",
    "                    else x['competition_open_since_year'], axis=1 ) "
   ]
  },
  {
   "cell_type": "code",
   "execution_count": 18,
   "id": "4d9bd125",
   "metadata": {
    "ExecuteTime": {
     "end_time": "2021-12-13T19:54:01.994061Z",
     "start_time": "2021-12-13T19:53:33.669650Z"
    },
    "hidden": true
   },
   "outputs": [],
   "source": [
    "#promo2_since_week\n",
    "\n",
    "# Promo2Since[Year/Week] - describes the year and calendar week when the store started \n",
    "#    participating in Promo2\n",
    "#Promo2 - Promo2 is a continuing and consecutive promotion for some stores: 0 = store is not\n",
    "#    participating, 1 = store is participating\n",
    "\n",
    "# promo2_since_week: Também vamos por hora setar a partir da data de venda\n",
    "df1['promo2_since_week'] = df1.apply ( lambda x: x['date'].week \n",
    "                    if math.isnan( x['promo2_since_week'] ) \n",
    "                    else x['promo2_since_week'], axis=1 )"
   ]
  },
  {
   "cell_type": "code",
   "execution_count": 19,
   "id": "95fab0f7",
   "metadata": {
    "ExecuteTime": {
     "end_time": "2021-12-13T19:54:29.959137Z",
     "start_time": "2021-12-13T19:54:01.996382Z"
    },
    "hidden": true
   },
   "outputs": [],
   "source": [
    "#promo2_since_year: Também vamos por hora setar a partir da data de venda\n",
    "df1['promo2_since_year'] = df1.apply ( lambda x: x['date'].year \n",
    "                    if math.isnan( x['promo2_since_year'] ) \n",
    "                    else x['promo2_since_year'], axis=1 )"
   ]
  },
  {
   "cell_type": "code",
   "execution_count": 20,
   "id": "5d6a16c1",
   "metadata": {
    "ExecuteTime": {
     "end_time": "2021-12-13T19:54:50.440838Z",
     "start_time": "2021-12-13T19:54:29.961466Z"
    },
    "hidden": true
   },
   "outputs": [],
   "source": [
    "#promo_interval\n",
    "# PromoInterval - describes the consecutive intervals Promo2 is started, naming the months \n",
    "# the promotion is started anew. E.g. \"Feb,May,Aug,Nov\" means each round starts in \n",
    "# February, May, August, November of any given year for that store\n",
    "\n",
    "#\n",
    "month_map = {1: 'Jan', 2: 'Feb', 3: 'Mar', 4: 'Apr',\n",
    " 5: 'May', 6: 'Jun', 7: 'Jul', 8: 'Aug', \n",
    " 9: 'Sept', 10: 'Out', 11: 'Nov', 12: 'Dec' }\n",
    "\n",
    "#preencher NA com zeros\n",
    "#inplace=True pra não retornar valor, mas motificar na coluna\n",
    "df1['promo_interval'].fillna(0, inplace=True)\n",
    "\n",
    "#cria coluna 'month_map' e seta o mes nela\n",
    "df1['month_map'] = df1['date'].dt.month.map( month_map )\n",
    "\n",
    "#cria coluna 'is_promo', e seta 1 se 'month_map' estiver em 'promo_interval', senão 0.\n",
    "#assim, consigo saber se naquela venda, estava ou não em promoção.\n",
    "df1['is_promo'] = df1[['promo_interval', 'month_map']].apply ( lambda x: \n",
    "      0 if x['promo_interval'] == 0 else \n",
    "      1 if x['month_map'] in x['promo_interval'].split(',') else 0, axis =1 )"
   ]
  },
  {
   "cell_type": "code",
   "execution_count": 21,
   "id": "d31ed091",
   "metadata": {
    "ExecuteTime": {
     "end_time": "2021-12-13T19:54:50.649638Z",
     "start_time": "2021-12-13T19:54:50.455739Z"
    },
    "hidden": true
   },
   "outputs": [
    {
     "data": {
      "text/html": [
       "<div>\n",
       "<style scoped>\n",
       "    .dataframe tbody tr th:only-of-type {\n",
       "        vertical-align: middle;\n",
       "    }\n",
       "\n",
       "    .dataframe tbody tr th {\n",
       "        vertical-align: top;\n",
       "    }\n",
       "\n",
       "    .dataframe thead th {\n",
       "        text-align: right;\n",
       "    }\n",
       "</style>\n",
       "<table border=\"1\" class=\"dataframe\">\n",
       "  <thead>\n",
       "    <tr style=\"text-align: right;\">\n",
       "      <th></th>\n",
       "      <th>store</th>\n",
       "      <th>day_of_week</th>\n",
       "      <th>date</th>\n",
       "      <th>sales</th>\n",
       "      <th>customers</th>\n",
       "      <th>open</th>\n",
       "      <th>promo</th>\n",
       "      <th>state_holiday</th>\n",
       "      <th>school_holiday</th>\n",
       "      <th>store_type</th>\n",
       "      <th>assortment</th>\n",
       "      <th>competition_distance</th>\n",
       "      <th>competition_open_since_month</th>\n",
       "      <th>competition_open_since_year</th>\n",
       "      <th>promo2</th>\n",
       "      <th>promo2_since_week</th>\n",
       "      <th>promo2_since_year</th>\n",
       "      <th>promo_interval</th>\n",
       "      <th>month_map</th>\n",
       "      <th>is_promo</th>\n",
       "    </tr>\n",
       "  </thead>\n",
       "  <tbody>\n",
       "    <tr>\n",
       "      <th>38150</th>\n",
       "      <td>241</td>\n",
       "      <td>6</td>\n",
       "      <td>2015-06-27</td>\n",
       "      <td>6393</td>\n",
       "      <td>657</td>\n",
       "      <td>1</td>\n",
       "      <td>0</td>\n",
       "      <td>0</td>\n",
       "      <td>0</td>\n",
       "      <td>d</td>\n",
       "      <td>c</td>\n",
       "      <td>780.0</td>\n",
       "      <td>6.0</td>\n",
       "      <td>2015.0</td>\n",
       "      <td>0</td>\n",
       "      <td>26.0</td>\n",
       "      <td>2015.0</td>\n",
       "      <td>0</td>\n",
       "      <td>Jun</td>\n",
       "      <td>0</td>\n",
       "    </tr>\n",
       "    <tr>\n",
       "      <th>882398</th>\n",
       "      <td>104</td>\n",
       "      <td>3</td>\n",
       "      <td>2013-05-01</td>\n",
       "      <td>0</td>\n",
       "      <td>0</td>\n",
       "      <td>0</td>\n",
       "      <td>1</td>\n",
       "      <td>a</td>\n",
       "      <td>0</td>\n",
       "      <td>a</td>\n",
       "      <td>a</td>\n",
       "      <td>390.0</td>\n",
       "      <td>6.0</td>\n",
       "      <td>2009.0</td>\n",
       "      <td>0</td>\n",
       "      <td>18.0</td>\n",
       "      <td>2013.0</td>\n",
       "      <td>0</td>\n",
       "      <td>May</td>\n",
       "      <td>0</td>\n",
       "    </tr>\n",
       "    <tr>\n",
       "      <th>1004787</th>\n",
       "      <td>958</td>\n",
       "      <td>6</td>\n",
       "      <td>2013-01-12</td>\n",
       "      <td>2734</td>\n",
       "      <td>373</td>\n",
       "      <td>1</td>\n",
       "      <td>0</td>\n",
       "      <td>0</td>\n",
       "      <td>0</td>\n",
       "      <td>a</td>\n",
       "      <td>a</td>\n",
       "      <td>440.0</td>\n",
       "      <td>11.0</td>\n",
       "      <td>2013.0</td>\n",
       "      <td>0</td>\n",
       "      <td>2.0</td>\n",
       "      <td>2013.0</td>\n",
       "      <td>0</td>\n",
       "      <td>Jan</td>\n",
       "      <td>0</td>\n",
       "    </tr>\n",
       "    <tr>\n",
       "      <th>571474</th>\n",
       "      <td>265</td>\n",
       "      <td>2</td>\n",
       "      <td>2014-02-04</td>\n",
       "      <td>7762</td>\n",
       "      <td>671</td>\n",
       "      <td>1</td>\n",
       "      <td>1</td>\n",
       "      <td>0</td>\n",
       "      <td>0</td>\n",
       "      <td>a</td>\n",
       "      <td>a</td>\n",
       "      <td>4580.0</td>\n",
       "      <td>2.0</td>\n",
       "      <td>2014.0</td>\n",
       "      <td>1</td>\n",
       "      <td>14.0</td>\n",
       "      <td>2015.0</td>\n",
       "      <td>Jan,Apr,Jul,Oct</td>\n",
       "      <td>Feb</td>\n",
       "      <td>0</td>\n",
       "    </tr>\n",
       "    <tr>\n",
       "      <th>664449</th>\n",
       "      <td>695</td>\n",
       "      <td>3</td>\n",
       "      <td>2013-11-13</td>\n",
       "      <td>4255</td>\n",
       "      <td>489</td>\n",
       "      <td>1</td>\n",
       "      <td>0</td>\n",
       "      <td>0</td>\n",
       "      <td>0</td>\n",
       "      <td>a</td>\n",
       "      <td>a</td>\n",
       "      <td>550.0</td>\n",
       "      <td>7.0</td>\n",
       "      <td>2011.0</td>\n",
       "      <td>1</td>\n",
       "      <td>1.0</td>\n",
       "      <td>2012.0</td>\n",
       "      <td>Jan,Apr,Jul,Oct</td>\n",
       "      <td>Nov</td>\n",
       "      <td>0</td>\n",
       "    </tr>\n",
       "  </tbody>\n",
       "</table>\n",
       "</div>"
      ],
      "text/plain": [
       "         store  day_of_week       date  sales  customers  open  promo  \\\n",
       "38150      241            6 2015-06-27   6393        657     1      0   \n",
       "882398     104            3 2013-05-01      0          0     0      1   \n",
       "1004787    958            6 2013-01-12   2734        373     1      0   \n",
       "571474     265            2 2014-02-04   7762        671     1      1   \n",
       "664449     695            3 2013-11-13   4255        489     1      0   \n",
       "\n",
       "        state_holiday  school_holiday store_type assortment  \\\n",
       "38150               0               0          d          c   \n",
       "882398              a               0          a          a   \n",
       "1004787             0               0          a          a   \n",
       "571474              0               0          a          a   \n",
       "664449              0               0          a          a   \n",
       "\n",
       "         competition_distance  competition_open_since_month  \\\n",
       "38150                   780.0                           6.0   \n",
       "882398                  390.0                           6.0   \n",
       "1004787                 440.0                          11.0   \n",
       "571474                 4580.0                           2.0   \n",
       "664449                  550.0                           7.0   \n",
       "\n",
       "         competition_open_since_year  promo2  promo2_since_week  \\\n",
       "38150                         2015.0       0               26.0   \n",
       "882398                        2009.0       0               18.0   \n",
       "1004787                       2013.0       0                2.0   \n",
       "571474                        2014.0       1               14.0   \n",
       "664449                        2011.0       1                1.0   \n",
       "\n",
       "         promo2_since_year   promo_interval month_map  is_promo  \n",
       "38150               2015.0                0       Jun         0  \n",
       "882398              2013.0                0       May         0  \n",
       "1004787             2013.0                0       Jan         0  \n",
       "571474              2015.0  Jan,Apr,Jul,Oct       Feb         0  \n",
       "664449              2012.0  Jan,Apr,Jul,Oct       Nov         0  "
      ]
     },
     "execution_count": 21,
     "metadata": {},
     "output_type": "execute_result"
    }
   ],
   "source": [
    " df1.sample(5)"
   ]
  },
  {
   "cell_type": "code",
   "execution_count": 22,
   "id": "9f21da35",
   "metadata": {
    "ExecuteTime": {
     "end_time": "2021-12-13T19:54:50.747337Z",
     "start_time": "2021-12-13T19:54:50.664622Z"
    },
    "hidden": true
   },
   "outputs": [
    {
     "data": {
      "text/html": [
       "<div>\n",
       "<style scoped>\n",
       "    .dataframe tbody tr th:only-of-type {\n",
       "        vertical-align: middle;\n",
       "    }\n",
       "\n",
       "    .dataframe tbody tr th {\n",
       "        vertical-align: top;\n",
       "    }\n",
       "\n",
       "    .dataframe thead th {\n",
       "        text-align: right;\n",
       "    }\n",
       "</style>\n",
       "<table border=\"1\" class=\"dataframe\">\n",
       "  <thead>\n",
       "    <tr style=\"text-align: right;\">\n",
       "      <th></th>\n",
       "      <th>504636</th>\n",
       "      <th>10263</th>\n",
       "      <th>719929</th>\n",
       "      <th>10774</th>\n",
       "      <th>662107</th>\n",
       "    </tr>\n",
       "  </thead>\n",
       "  <tbody>\n",
       "    <tr>\n",
       "      <th>store</th>\n",
       "      <td>327</td>\n",
       "      <td>229</td>\n",
       "      <td>425</td>\n",
       "      <td>740</td>\n",
       "      <td>583</td>\n",
       "    </tr>\n",
       "    <tr>\n",
       "      <th>day_of_week</th>\n",
       "      <td>6</td>\n",
       "      <td>3</td>\n",
       "      <td>2</td>\n",
       "      <td>3</td>\n",
       "      <td>5</td>\n",
       "    </tr>\n",
       "    <tr>\n",
       "      <th>date</th>\n",
       "      <td>2014-04-05 00:00:00</td>\n",
       "      <td>2015-07-22 00:00:00</td>\n",
       "      <td>2013-09-24 00:00:00</td>\n",
       "      <td>2015-07-22 00:00:00</td>\n",
       "      <td>2013-11-15 00:00:00</td>\n",
       "    </tr>\n",
       "    <tr>\n",
       "      <th>sales</th>\n",
       "      <td>6462</td>\n",
       "      <td>7208</td>\n",
       "      <td>3732</td>\n",
       "      <td>6116</td>\n",
       "      <td>4304</td>\n",
       "    </tr>\n",
       "    <tr>\n",
       "      <th>customers</th>\n",
       "      <td>830</td>\n",
       "      <td>635</td>\n",
       "      <td>480</td>\n",
       "      <td>449</td>\n",
       "      <td>464</td>\n",
       "    </tr>\n",
       "    <tr>\n",
       "      <th>open</th>\n",
       "      <td>1</td>\n",
       "      <td>1</td>\n",
       "      <td>1</td>\n",
       "      <td>1</td>\n",
       "      <td>1</td>\n",
       "    </tr>\n",
       "    <tr>\n",
       "      <th>promo</th>\n",
       "      <td>0</td>\n",
       "      <td>0</td>\n",
       "      <td>1</td>\n",
       "      <td>0</td>\n",
       "      <td>0</td>\n",
       "    </tr>\n",
       "    <tr>\n",
       "      <th>state_holiday</th>\n",
       "      <td>0</td>\n",
       "      <td>0</td>\n",
       "      <td>0</td>\n",
       "      <td>0</td>\n",
       "      <td>0</td>\n",
       "    </tr>\n",
       "    <tr>\n",
       "      <th>school_holiday</th>\n",
       "      <td>0</td>\n",
       "      <td>0</td>\n",
       "      <td>0</td>\n",
       "      <td>0</td>\n",
       "      <td>0</td>\n",
       "    </tr>\n",
       "    <tr>\n",
       "      <th>store_type</th>\n",
       "      <td>c</td>\n",
       "      <td>d</td>\n",
       "      <td>d</td>\n",
       "      <td>d</td>\n",
       "      <td>a</td>\n",
       "    </tr>\n",
       "    <tr>\n",
       "      <th>assortment</th>\n",
       "      <td>c</td>\n",
       "      <td>c</td>\n",
       "      <td>c</td>\n",
       "      <td>a</td>\n",
       "      <td>a</td>\n",
       "    </tr>\n",
       "    <tr>\n",
       "      <th>competition_distance</th>\n",
       "      <td>1390.0</td>\n",
       "      <td>17410.0</td>\n",
       "      <td>1460.0</td>\n",
       "      <td>6400.0</td>\n",
       "      <td>2640.0</td>\n",
       "    </tr>\n",
       "    <tr>\n",
       "      <th>competition_open_since_month</th>\n",
       "      <td>12.0</td>\n",
       "      <td>4.0</td>\n",
       "      <td>9.0</td>\n",
       "      <td>3.0</td>\n",
       "      <td>11.0</td>\n",
       "    </tr>\n",
       "    <tr>\n",
       "      <th>competition_open_since_year</th>\n",
       "      <td>2004.0</td>\n",
       "      <td>2007.0</td>\n",
       "      <td>2013.0</td>\n",
       "      <td>2014.0</td>\n",
       "      <td>2002.0</td>\n",
       "    </tr>\n",
       "    <tr>\n",
       "      <th>promo2</th>\n",
       "      <td>0</td>\n",
       "      <td>1</td>\n",
       "      <td>0</td>\n",
       "      <td>0</td>\n",
       "      <td>0</td>\n",
       "    </tr>\n",
       "    <tr>\n",
       "      <th>promo2_since_week</th>\n",
       "      <td>14.0</td>\n",
       "      <td>14.0</td>\n",
       "      <td>39.0</td>\n",
       "      <td>30.0</td>\n",
       "      <td>46.0</td>\n",
       "    </tr>\n",
       "    <tr>\n",
       "      <th>promo2_since_year</th>\n",
       "      <td>2014.0</td>\n",
       "      <td>2011.0</td>\n",
       "      <td>2013.0</td>\n",
       "      <td>2015.0</td>\n",
       "      <td>2013.0</td>\n",
       "    </tr>\n",
       "    <tr>\n",
       "      <th>promo_interval</th>\n",
       "      <td>0</td>\n",
       "      <td>Jan,Apr,Jul,Oct</td>\n",
       "      <td>0</td>\n",
       "      <td>0</td>\n",
       "      <td>0</td>\n",
       "    </tr>\n",
       "    <tr>\n",
       "      <th>month_map</th>\n",
       "      <td>Apr</td>\n",
       "      <td>Jul</td>\n",
       "      <td>Sept</td>\n",
       "      <td>Jul</td>\n",
       "      <td>Nov</td>\n",
       "    </tr>\n",
       "    <tr>\n",
       "      <th>is_promo</th>\n",
       "      <td>0</td>\n",
       "      <td>1</td>\n",
       "      <td>0</td>\n",
       "      <td>0</td>\n",
       "      <td>0</td>\n",
       "    </tr>\n",
       "  </tbody>\n",
       "</table>\n",
       "</div>"
      ],
      "text/plain": [
       "                                           504636               10263   \\\n",
       "store                                         327                  229   \n",
       "day_of_week                                     6                    3   \n",
       "date                          2014-04-05 00:00:00  2015-07-22 00:00:00   \n",
       "sales                                        6462                 7208   \n",
       "customers                                     830                  635   \n",
       "open                                            1                    1   \n",
       "promo                                           0                    0   \n",
       "state_holiday                                   0                    0   \n",
       "school_holiday                                  0                    0   \n",
       "store_type                                      c                    d   \n",
       "assortment                                      c                    c   \n",
       "competition_distance                       1390.0              17410.0   \n",
       "competition_open_since_month                 12.0                  4.0   \n",
       "competition_open_since_year                2004.0               2007.0   \n",
       "promo2                                          0                    1   \n",
       "promo2_since_week                            14.0                 14.0   \n",
       "promo2_since_year                          2014.0               2011.0   \n",
       "promo_interval                                  0      Jan,Apr,Jul,Oct   \n",
       "month_map                                     Apr                  Jul   \n",
       "is_promo                                        0                    1   \n",
       "\n",
       "                                           719929               10774   \\\n",
       "store                                         425                  740   \n",
       "day_of_week                                     2                    3   \n",
       "date                          2013-09-24 00:00:00  2015-07-22 00:00:00   \n",
       "sales                                        3732                 6116   \n",
       "customers                                     480                  449   \n",
       "open                                            1                    1   \n",
       "promo                                           1                    0   \n",
       "state_holiday                                   0                    0   \n",
       "school_holiday                                  0                    0   \n",
       "store_type                                      d                    d   \n",
       "assortment                                      c                    a   \n",
       "competition_distance                       1460.0               6400.0   \n",
       "competition_open_since_month                  9.0                  3.0   \n",
       "competition_open_since_year                2013.0               2014.0   \n",
       "promo2                                          0                    0   \n",
       "promo2_since_week                            39.0                 30.0   \n",
       "promo2_since_year                          2013.0               2015.0   \n",
       "promo_interval                                  0                    0   \n",
       "month_map                                    Sept                  Jul   \n",
       "is_promo                                        0                    0   \n",
       "\n",
       "                                           662107  \n",
       "store                                         583  \n",
       "day_of_week                                     5  \n",
       "date                          2013-11-15 00:00:00  \n",
       "sales                                        4304  \n",
       "customers                                     464  \n",
       "open                                            1  \n",
       "promo                                           0  \n",
       "state_holiday                                   0  \n",
       "school_holiday                                  0  \n",
       "store_type                                      a  \n",
       "assortment                                      a  \n",
       "competition_distance                       2640.0  \n",
       "competition_open_since_month                 11.0  \n",
       "competition_open_since_year                2002.0  \n",
       "promo2                                          0  \n",
       "promo2_since_week                            46.0  \n",
       "promo2_since_year                          2013.0  \n",
       "promo_interval                                  0  \n",
       "month_map                                     Nov  \n",
       "is_promo                                        0  "
      ]
     },
     "execution_count": 22,
     "metadata": {},
     "output_type": "execute_result"
    }
   ],
   "source": [
    " df1.sample(5).T"
   ]
  },
  {
   "cell_type": "markdown",
   "id": "5465c9a5",
   "metadata": {
    "heading_collapsed": true
   },
   "source": [
    "## Change Types"
   ]
  },
  {
   "cell_type": "code",
   "execution_count": 23,
   "id": "beac07c9",
   "metadata": {
    "ExecuteTime": {
     "end_time": "2021-12-13T19:54:50.762859Z",
     "start_time": "2021-12-13T19:54:50.751228Z"
    },
    "hidden": true
   },
   "outputs": [
    {
     "data": {
      "text/plain": [
       "store                                    int64\n",
       "day_of_week                              int64\n",
       "date                            datetime64[ns]\n",
       "sales                                    int64\n",
       "customers                                int64\n",
       "open                                     int64\n",
       "promo                                    int64\n",
       "state_holiday                           object\n",
       "school_holiday                           int64\n",
       "store_type                              object\n",
       "assortment                              object\n",
       "competition_distance                   float64\n",
       "competition_open_since_month           float64\n",
       "competition_open_since_year            float64\n",
       "promo2                                   int64\n",
       "promo2_since_week                      float64\n",
       "promo2_since_year                      float64\n",
       "promo_interval                          object\n",
       "month_map                               object\n",
       "is_promo                                 int64\n",
       "dtype: object"
      ]
     },
     "execution_count": 23,
     "metadata": {},
     "output_type": "execute_result"
    }
   ],
   "source": [
    "# Como fizemos alteração nas colunas, é importante conferir se não mudou o formato das colnas\n",
    "df1.dtypes"
   ]
  },
  {
   "cell_type": "code",
   "execution_count": 24,
   "id": "52572afc",
   "metadata": {
    "ExecuteTime": {
     "end_time": "2021-12-13T19:54:50.856289Z",
     "start_time": "2021-12-13T19:54:50.767718Z"
    },
    "hidden": true
   },
   "outputs": [],
   "source": [
    "#converter de float pra int\n",
    "df1['competition_open_since_month'] = df1['competition_open_since_month'].astype( int )\n",
    "df1['competition_open_since_year'] = df1['competition_open_since_year'].astype( int )\n",
    "df1['promo2_since_week'] = df1['promo2_since_week'].astype( int )\n",
    "df1['promo2_since_year'] = df1['promo2_since_year'].astype( int )"
   ]
  },
  {
   "cell_type": "markdown",
   "id": "148879c7",
   "metadata": {
    "heading_collapsed": true
   },
   "source": [
    "## Descriptive Statistical"
   ]
  },
  {
   "cell_type": "markdown",
   "id": "e2ce1a75",
   "metadata": {
    "hidden": true
   },
   "source": [
    "Serve para 2 coisas:\n",
    " - 1  Termos alguma noção de negócios pelos dados\n",
    " - 2  Conseguirmos detectar alguns erros (venda negativa por ex..)"
   ]
  },
  {
   "cell_type": "markdown",
   "id": "a9c5db5a",
   "metadata": {
    "hidden": true
   },
   "source": [
    "Métricas de tendência central: média e mediana (resumem dados em um único número)\n",
    "Metricas de dispersão: desvio padrão, min, max, range, skew, kurtosis"
   ]
  },
  {
   "cell_type": "code",
   "execution_count": 25,
   "id": "c8172eba",
   "metadata": {
    "ExecuteTime": {
     "end_time": "2021-12-13T19:54:51.111190Z",
     "start_time": "2021-12-13T19:54:50.859220Z"
    },
    "code_folding": [
     0
    ],
    "hidden": true
   },
   "outputs": [],
   "source": [
    "#separa colunas numéricas e categóricas, pra aplicar a estatística em cada conjunto:\n",
    "num_attributes = df1.select_dtypes ( include=['int64','float64'] )\n",
    "cat_attributes = df1.select_dtypes ( exclude=['int64','float64','datetime64[ns]'] )"
   ]
  },
  {
   "cell_type": "code",
   "execution_count": 26,
   "id": "77eb5175",
   "metadata": {
    "ExecuteTime": {
     "end_time": "2021-12-13T19:54:51.215551Z",
     "start_time": "2021-12-13T19:54:51.113685Z"
    },
    "hidden": true
   },
   "outputs": [
    {
     "data": {
      "text/html": [
       "<div>\n",
       "<style scoped>\n",
       "    .dataframe tbody tr th:only-of-type {\n",
       "        vertical-align: middle;\n",
       "    }\n",
       "\n",
       "    .dataframe tbody tr th {\n",
       "        vertical-align: top;\n",
       "    }\n",
       "\n",
       "    .dataframe thead th {\n",
       "        text-align: right;\n",
       "    }\n",
       "</style>\n",
       "<table border=\"1\" class=\"dataframe\">\n",
       "  <thead>\n",
       "    <tr style=\"text-align: right;\">\n",
       "      <th></th>\n",
       "      <th>store</th>\n",
       "      <th>day_of_week</th>\n",
       "      <th>sales</th>\n",
       "      <th>customers</th>\n",
       "      <th>open</th>\n",
       "      <th>promo</th>\n",
       "      <th>school_holiday</th>\n",
       "      <th>competition_distance</th>\n",
       "      <th>competition_open_since_month</th>\n",
       "      <th>competition_open_since_year</th>\n",
       "      <th>promo2</th>\n",
       "      <th>promo2_since_week</th>\n",
       "      <th>promo2_since_year</th>\n",
       "      <th>is_promo</th>\n",
       "    </tr>\n",
       "  </thead>\n",
       "  <tbody>\n",
       "    <tr>\n",
       "      <th>394632</th>\n",
       "      <td>292</td>\n",
       "      <td>2</td>\n",
       "      <td>6732</td>\n",
       "      <td>786</td>\n",
       "      <td>1</td>\n",
       "      <td>1</td>\n",
       "      <td>1</td>\n",
       "      <td>1100.0</td>\n",
       "      <td>6</td>\n",
       "      <td>2009</td>\n",
       "      <td>0</td>\n",
       "      <td>29</td>\n",
       "      <td>2014</td>\n",
       "      <td>0</td>\n",
       "    </tr>\n",
       "    <tr>\n",
       "      <th>242275</th>\n",
       "      <td>344</td>\n",
       "      <td>4</td>\n",
       "      <td>0</td>\n",
       "      <td>0</td>\n",
       "      <td>0</td>\n",
       "      <td>0</td>\n",
       "      <td>1</td>\n",
       "      <td>300.0</td>\n",
       "      <td>4</td>\n",
       "      <td>2011</td>\n",
       "      <td>1</td>\n",
       "      <td>14</td>\n",
       "      <td>2011</td>\n",
       "      <td>0</td>\n",
       "    </tr>\n",
       "    <tr>\n",
       "      <th>149784</th>\n",
       "      <td>375</td>\n",
       "      <td>4</td>\n",
       "      <td>9956</td>\n",
       "      <td>819</td>\n",
       "      <td>1</td>\n",
       "      <td>1</td>\n",
       "      <td>0</td>\n",
       "      <td>15710.0</td>\n",
       "      <td>2</td>\n",
       "      <td>2013</td>\n",
       "      <td>1</td>\n",
       "      <td>37</td>\n",
       "      <td>2009</td>\n",
       "      <td>0</td>\n",
       "    </tr>\n",
       "    <tr>\n",
       "      <th>589938</th>\n",
       "      <td>889</td>\n",
       "      <td>7</td>\n",
       "      <td>0</td>\n",
       "      <td>0</td>\n",
       "      <td>0</td>\n",
       "      <td>0</td>\n",
       "      <td>0</td>\n",
       "      <td>18670.0</td>\n",
       "      <td>12</td>\n",
       "      <td>2005</td>\n",
       "      <td>0</td>\n",
       "      <td>3</td>\n",
       "      <td>2014</td>\n",
       "      <td>0</td>\n",
       "    </tr>\n",
       "    <tr>\n",
       "      <th>540089</th>\n",
       "      <td>100</td>\n",
       "      <td>2</td>\n",
       "      <td>7448</td>\n",
       "      <td>614</td>\n",
       "      <td>1</td>\n",
       "      <td>1</td>\n",
       "      <td>1</td>\n",
       "      <td>17930.0</td>\n",
       "      <td>3</td>\n",
       "      <td>2014</td>\n",
       "      <td>0</td>\n",
       "      <td>10</td>\n",
       "      <td>2014</td>\n",
       "      <td>0</td>\n",
       "    </tr>\n",
       "  </tbody>\n",
       "</table>\n",
       "</div>"
      ],
      "text/plain": [
       "        store  day_of_week  sales  customers  open  promo  school_holiday  \\\n",
       "394632    292            2   6732        786     1      1               1   \n",
       "242275    344            4      0          0     0      0               1   \n",
       "149784    375            4   9956        819     1      1               0   \n",
       "589938    889            7      0          0     0      0               0   \n",
       "540089    100            2   7448        614     1      1               1   \n",
       "\n",
       "        competition_distance  competition_open_since_month  \\\n",
       "394632                1100.0                             6   \n",
       "242275                 300.0                             4   \n",
       "149784               15710.0                             2   \n",
       "589938               18670.0                            12   \n",
       "540089               17930.0                             3   \n",
       "\n",
       "        competition_open_since_year  promo2  promo2_since_week  \\\n",
       "394632                         2009       0                 29   \n",
       "242275                         2011       1                 14   \n",
       "149784                         2013       1                 37   \n",
       "589938                         2005       0                  3   \n",
       "540089                         2014       0                 10   \n",
       "\n",
       "        promo2_since_year  is_promo  \n",
       "394632               2014         0  \n",
       "242275               2011         0  \n",
       "149784               2009         0  \n",
       "589938               2014         0  \n",
       "540089               2014         0  "
      ]
     },
     "execution_count": 26,
     "metadata": {},
     "output_type": "execute_result"
    }
   ],
   "source": [
    "num_attributes.sample(5)"
   ]
  },
  {
   "cell_type": "code",
   "execution_count": 27,
   "id": "82449ec5",
   "metadata": {
    "ExecuteTime": {
     "end_time": "2021-12-13T19:54:51.336710Z",
     "start_time": "2021-12-13T19:54:51.220399Z"
    },
    "hidden": true
   },
   "outputs": [
    {
     "data": {
      "text/html": [
       "<div>\n",
       "<style scoped>\n",
       "    .dataframe tbody tr th:only-of-type {\n",
       "        vertical-align: middle;\n",
       "    }\n",
       "\n",
       "    .dataframe tbody tr th {\n",
       "        vertical-align: top;\n",
       "    }\n",
       "\n",
       "    .dataframe thead th {\n",
       "        text-align: right;\n",
       "    }\n",
       "</style>\n",
       "<table border=\"1\" class=\"dataframe\">\n",
       "  <thead>\n",
       "    <tr style=\"text-align: right;\">\n",
       "      <th></th>\n",
       "      <th>state_holiday</th>\n",
       "      <th>store_type</th>\n",
       "      <th>assortment</th>\n",
       "      <th>promo_interval</th>\n",
       "      <th>month_map</th>\n",
       "    </tr>\n",
       "  </thead>\n",
       "  <tbody>\n",
       "    <tr>\n",
       "      <th>774582</th>\n",
       "      <td>0</td>\n",
       "      <td>d</td>\n",
       "      <td>a</td>\n",
       "      <td>0</td>\n",
       "      <td>Aug</td>\n",
       "    </tr>\n",
       "    <tr>\n",
       "      <th>386054</th>\n",
       "      <td>0</td>\n",
       "      <td>a</td>\n",
       "      <td>a</td>\n",
       "      <td>0</td>\n",
       "      <td>Jul</td>\n",
       "    </tr>\n",
       "    <tr>\n",
       "      <th>1003661</th>\n",
       "      <td>0</td>\n",
       "      <td>a</td>\n",
       "      <td>a</td>\n",
       "      <td>Jan,Apr,Jul,Oct</td>\n",
       "      <td>Jan</td>\n",
       "    </tr>\n",
       "    <tr>\n",
       "      <th>1009958</th>\n",
       "      <td>0</td>\n",
       "      <td>c</td>\n",
       "      <td>c</td>\n",
       "      <td>0</td>\n",
       "      <td>Jan</td>\n",
       "    </tr>\n",
       "    <tr>\n",
       "      <th>80453</th>\n",
       "      <td>0</td>\n",
       "      <td>a</td>\n",
       "      <td>a</td>\n",
       "      <td>Jan,Apr,Jul,Oct</td>\n",
       "      <td>May</td>\n",
       "    </tr>\n",
       "  </tbody>\n",
       "</table>\n",
       "</div>"
      ],
      "text/plain": [
       "        state_holiday store_type assortment   promo_interval month_map\n",
       "774582              0          d          a                0       Aug\n",
       "386054              0          a          a                0       Jul\n",
       "1003661             0          a          a  Jan,Apr,Jul,Oct       Jan\n",
       "1009958             0          c          c                0       Jan\n",
       "80453               0          a          a  Jan,Apr,Jul,Oct       May"
      ]
     },
     "execution_count": 27,
     "metadata": {},
     "output_type": "execute_result"
    }
   ],
   "source": [
    "cat_attributes.sample(5)"
   ]
  },
  {
   "cell_type": "markdown",
   "id": "ebc5e083",
   "metadata": {
    "ExecuteTime": {
     "end_time": "2021-12-12T18:20:13.368329Z",
     "start_time": "2021-12-12T18:20:13.363836Z"
    },
    "heading_collapsed": true,
    "hidden": true
   },
   "source": [
    "### Numerical Attibures"
   ]
  },
  {
   "cell_type": "code",
   "execution_count": 28,
   "id": "d19cf0df",
   "metadata": {
    "ExecuteTime": {
     "end_time": "2021-12-13T19:54:55.552960Z",
     "start_time": "2021-12-13T19:54:51.340707Z"
    },
    "hidden": true
   },
   "outputs": [],
   "source": [
    "#Métricas de tendência central: média e mediana\n",
    "ct1 = pd.DataFrame ( num_attributes.apply ( np.mean ) ).T\n",
    "ct2 = pd.DataFrame ( num_attributes.apply ( np.median ) ).T\n",
    "\n",
    "#Metricas de dispersão: desvio padrão, min, max, range, skew, kurtosis\n",
    "d1 = pd.DataFrame ( num_attributes.apply ( np.std ) ).T\n",
    "d2 = pd.DataFrame ( num_attributes.apply ( min ) ).T\n",
    "d3 = pd.DataFrame ( num_attributes.apply ( max ) ).T\n",
    "d4 = pd.DataFrame ( num_attributes.apply ( lambda x: x.max() - x.min() ) ).T\n",
    "d5 = pd.DataFrame ( num_attributes.apply ( lambda x: x.skew() ) ).T\n",
    "d6 = pd.DataFrame ( num_attributes.apply ( lambda x: x.kurtosis() ) ).T\n",
    "\n",
    "#concatenate\n",
    "m = pd.concat( [d2, d3, d4, ct1, ct2, d1, d5, d6 ] ).T.reset_index() \n",
    "m.columns = ['attributes', 'min', 'max', 'range', 'mean', 'median', 'std', 'skew', 'kurtosis' ]"
   ]
  },
  {
   "cell_type": "code",
   "execution_count": 29,
   "id": "3553a018",
   "metadata": {
    "ExecuteTime": {
     "end_time": "2021-12-13T19:54:55.587865Z",
     "start_time": "2021-12-13T19:54:55.555491Z"
    },
    "hidden": true,
    "scrolled": true
   },
   "outputs": [
    {
     "data": {
      "text/html": [
       "<div>\n",
       "<style scoped>\n",
       "    .dataframe tbody tr th:only-of-type {\n",
       "        vertical-align: middle;\n",
       "    }\n",
       "\n",
       "    .dataframe tbody tr th {\n",
       "        vertical-align: top;\n",
       "    }\n",
       "\n",
       "    .dataframe thead th {\n",
       "        text-align: right;\n",
       "    }\n",
       "</style>\n",
       "<table border=\"1\" class=\"dataframe\">\n",
       "  <thead>\n",
       "    <tr style=\"text-align: right;\">\n",
       "      <th></th>\n",
       "      <th>attributes</th>\n",
       "      <th>min</th>\n",
       "      <th>max</th>\n",
       "      <th>range</th>\n",
       "      <th>mean</th>\n",
       "      <th>median</th>\n",
       "      <th>std</th>\n",
       "      <th>skew</th>\n",
       "      <th>kurtosis</th>\n",
       "    </tr>\n",
       "  </thead>\n",
       "  <tbody>\n",
       "    <tr>\n",
       "      <th>0</th>\n",
       "      <td>store</td>\n",
       "      <td>1.0</td>\n",
       "      <td>1115.0</td>\n",
       "      <td>1114.0</td>\n",
       "      <td>558.429727</td>\n",
       "      <td>558.0</td>\n",
       "      <td>321.908493</td>\n",
       "      <td>-0.000955</td>\n",
       "      <td>-1.200524</td>\n",
       "    </tr>\n",
       "    <tr>\n",
       "      <th>1</th>\n",
       "      <td>day_of_week</td>\n",
       "      <td>1.0</td>\n",
       "      <td>7.0</td>\n",
       "      <td>6.0</td>\n",
       "      <td>3.998341</td>\n",
       "      <td>4.0</td>\n",
       "      <td>1.997390</td>\n",
       "      <td>0.001593</td>\n",
       "      <td>-1.246873</td>\n",
       "    </tr>\n",
       "    <tr>\n",
       "      <th>2</th>\n",
       "      <td>sales</td>\n",
       "      <td>0.0</td>\n",
       "      <td>41551.0</td>\n",
       "      <td>41551.0</td>\n",
       "      <td>5773.818972</td>\n",
       "      <td>5744.0</td>\n",
       "      <td>3849.924283</td>\n",
       "      <td>0.641460</td>\n",
       "      <td>1.778375</td>\n",
       "    </tr>\n",
       "    <tr>\n",
       "      <th>3</th>\n",
       "      <td>customers</td>\n",
       "      <td>0.0</td>\n",
       "      <td>7388.0</td>\n",
       "      <td>7388.0</td>\n",
       "      <td>633.145946</td>\n",
       "      <td>609.0</td>\n",
       "      <td>464.411506</td>\n",
       "      <td>1.598650</td>\n",
       "      <td>7.091773</td>\n",
       "    </tr>\n",
       "    <tr>\n",
       "      <th>4</th>\n",
       "      <td>open</td>\n",
       "      <td>0.0</td>\n",
       "      <td>1.0</td>\n",
       "      <td>1.0</td>\n",
       "      <td>0.830107</td>\n",
       "      <td>1.0</td>\n",
       "      <td>0.375539</td>\n",
       "      <td>-1.758045</td>\n",
       "      <td>1.090723</td>\n",
       "    </tr>\n",
       "    <tr>\n",
       "      <th>5</th>\n",
       "      <td>promo</td>\n",
       "      <td>0.0</td>\n",
       "      <td>1.0</td>\n",
       "      <td>1.0</td>\n",
       "      <td>0.381515</td>\n",
       "      <td>0.0</td>\n",
       "      <td>0.485758</td>\n",
       "      <td>0.487838</td>\n",
       "      <td>-1.762018</td>\n",
       "    </tr>\n",
       "    <tr>\n",
       "      <th>6</th>\n",
       "      <td>school_holiday</td>\n",
       "      <td>0.0</td>\n",
       "      <td>1.0</td>\n",
       "      <td>1.0</td>\n",
       "      <td>0.178647</td>\n",
       "      <td>0.0</td>\n",
       "      <td>0.383056</td>\n",
       "      <td>1.677842</td>\n",
       "      <td>0.815154</td>\n",
       "    </tr>\n",
       "    <tr>\n",
       "      <th>7</th>\n",
       "      <td>competition_distance</td>\n",
       "      <td>20.0</td>\n",
       "      <td>200000.0</td>\n",
       "      <td>199980.0</td>\n",
       "      <td>5935.442677</td>\n",
       "      <td>2330.0</td>\n",
       "      <td>12547.646829</td>\n",
       "      <td>10.242344</td>\n",
       "      <td>147.789712</td>\n",
       "    </tr>\n",
       "    <tr>\n",
       "      <th>8</th>\n",
       "      <td>competition_open_since_month</td>\n",
       "      <td>1.0</td>\n",
       "      <td>12.0</td>\n",
       "      <td>11.0</td>\n",
       "      <td>6.786849</td>\n",
       "      <td>7.0</td>\n",
       "      <td>3.311085</td>\n",
       "      <td>-0.042076</td>\n",
       "      <td>-1.232607</td>\n",
       "    </tr>\n",
       "    <tr>\n",
       "      <th>9</th>\n",
       "      <td>competition_open_since_year</td>\n",
       "      <td>1900.0</td>\n",
       "      <td>2015.0</td>\n",
       "      <td>115.0</td>\n",
       "      <td>2010.324840</td>\n",
       "      <td>2012.0</td>\n",
       "      <td>5.515591</td>\n",
       "      <td>-7.235657</td>\n",
       "      <td>124.071304</td>\n",
       "    </tr>\n",
       "    <tr>\n",
       "      <th>10</th>\n",
       "      <td>promo2</td>\n",
       "      <td>0.0</td>\n",
       "      <td>1.0</td>\n",
       "      <td>1.0</td>\n",
       "      <td>0.500564</td>\n",
       "      <td>1.0</td>\n",
       "      <td>0.500000</td>\n",
       "      <td>-0.002255</td>\n",
       "      <td>-1.999999</td>\n",
       "    </tr>\n",
       "    <tr>\n",
       "      <th>11</th>\n",
       "      <td>promo2_since_week</td>\n",
       "      <td>1.0</td>\n",
       "      <td>52.0</td>\n",
       "      <td>51.0</td>\n",
       "      <td>23.619033</td>\n",
       "      <td>22.0</td>\n",
       "      <td>14.310057</td>\n",
       "      <td>0.178723</td>\n",
       "      <td>-1.184046</td>\n",
       "    </tr>\n",
       "    <tr>\n",
       "      <th>12</th>\n",
       "      <td>promo2_since_year</td>\n",
       "      <td>2009.0</td>\n",
       "      <td>2015.0</td>\n",
       "      <td>6.0</td>\n",
       "      <td>2012.793297</td>\n",
       "      <td>2013.0</td>\n",
       "      <td>1.662657</td>\n",
       "      <td>-0.784436</td>\n",
       "      <td>-0.210075</td>\n",
       "    </tr>\n",
       "    <tr>\n",
       "      <th>13</th>\n",
       "      <td>is_promo</td>\n",
       "      <td>0.0</td>\n",
       "      <td>1.0</td>\n",
       "      <td>1.0</td>\n",
       "      <td>0.155134</td>\n",
       "      <td>0.0</td>\n",
       "      <td>0.362033</td>\n",
       "      <td>1.905166</td>\n",
       "      <td>1.629662</td>\n",
       "    </tr>\n",
       "  </tbody>\n",
       "</table>\n",
       "</div>"
      ],
      "text/plain": [
       "                      attributes     min       max     range         mean  \\\n",
       "0                          store     1.0    1115.0    1114.0   558.429727   \n",
       "1                    day_of_week     1.0       7.0       6.0     3.998341   \n",
       "2                          sales     0.0   41551.0   41551.0  5773.818972   \n",
       "3                      customers     0.0    7388.0    7388.0   633.145946   \n",
       "4                           open     0.0       1.0       1.0     0.830107   \n",
       "5                          promo     0.0       1.0       1.0     0.381515   \n",
       "6                 school_holiday     0.0       1.0       1.0     0.178647   \n",
       "7           competition_distance    20.0  200000.0  199980.0  5935.442677   \n",
       "8   competition_open_since_month     1.0      12.0      11.0     6.786849   \n",
       "9    competition_open_since_year  1900.0    2015.0     115.0  2010.324840   \n",
       "10                        promo2     0.0       1.0       1.0     0.500564   \n",
       "11             promo2_since_week     1.0      52.0      51.0    23.619033   \n",
       "12             promo2_since_year  2009.0    2015.0       6.0  2012.793297   \n",
       "13                      is_promo     0.0       1.0       1.0     0.155134   \n",
       "\n",
       "    median           std       skew    kurtosis  \n",
       "0    558.0    321.908493  -0.000955   -1.200524  \n",
       "1      4.0      1.997390   0.001593   -1.246873  \n",
       "2   5744.0   3849.924283   0.641460    1.778375  \n",
       "3    609.0    464.411506   1.598650    7.091773  \n",
       "4      1.0      0.375539  -1.758045    1.090723  \n",
       "5      0.0      0.485758   0.487838   -1.762018  \n",
       "6      0.0      0.383056   1.677842    0.815154  \n",
       "7   2330.0  12547.646829  10.242344  147.789712  \n",
       "8      7.0      3.311085  -0.042076   -1.232607  \n",
       "9   2012.0      5.515591  -7.235657  124.071304  \n",
       "10     1.0      0.500000  -0.002255   -1.999999  \n",
       "11    22.0     14.310057   0.178723   -1.184046  \n",
       "12  2013.0      1.662657  -0.784436   -0.210075  \n",
       "13     0.0      0.362033   1.905166    1.629662  "
      ]
     },
     "execution_count": 29,
     "metadata": {},
     "output_type": "execute_result"
    }
   ],
   "source": [
    "#Análise geral:\n",
    "m"
   ]
  },
  {
   "cell_type": "code",
   "execution_count": 30,
   "id": "e781d3eb",
   "metadata": {
    "ExecuteTime": {
     "end_time": "2021-12-13T19:54:55.764233Z",
     "start_time": "2021-12-13T19:54:55.593450Z"
    },
    "hidden": true
   },
   "outputs": [],
   "source": [
    "#Anlálise de SALES\n",
    "\n",
    "#Vou retirar as vendas = 0 pra analisar o gráfico mais limpo:\n",
    "df_sales_pos = df1.loc[ df1['sales'] > 0 ]"
   ]
  },
  {
   "cell_type": "code",
   "execution_count": 31,
   "id": "7c4ecddc",
   "metadata": {
    "ExecuteTime": {
     "end_time": "2021-12-13T19:54:58.135306Z",
     "start_time": "2021-12-13T19:54:55.767707Z"
    },
    "hidden": true
   },
   "outputs": [
    {
     "data": {
      "image/png": "[encoded data removed]",
      "text/plain": [
       "<Figure size 360x360 with 1 Axes>"
      ]
     },
     "metadata": {
      "needs_background": "light"
     },
     "output_type": "display_data"
    }
   ],
   "source": [
    "p = sns.displot ( df_sales_pos['sales'] )\n",
    "#p.fig.set_dpi(100)\n",
    "plt.show()"
   ]
  },
  {
   "cell_type": "code",
   "execution_count": 32,
   "id": "87a4900a",
   "metadata": {
    "ExecuteTime": {
     "end_time": "2021-12-13T19:55:00.576254Z",
     "start_time": "2021-12-13T19:54:58.139141Z"
    },
    "hidden": true
   },
   "outputs": [
    {
     "data": {
      "image/png": "[encoded data removed]",
      "text/plain": [
       "<Figure size 500x500 with 1 Axes>"
      ]
     },
     "metadata": {
      "needs_background": "light"
     },
     "output_type": "display_data"
    }
   ],
   "source": [
    "#Abaixo, ploto o gráfico do Sales original, porque o m que estou analistando \n",
    "# considera os zeros nas vendas também!\n",
    "p = sns.displot ( df1['sales'] )\n",
    "p.fig.set_dpi(100)\n",
    "plt.show()"
   ]
  },
  {
   "cell_type": "markdown",
   "id": "860df4a7",
   "metadata": {
    "hidden": true
   },
   "source": [
    "ANÁLISE SALES:\n",
    "\n",
    "- Média e mediana bem próximas, não vai ter deslocamento da distribuição muito grande, vide skew.\n",
    "- Skew 0.6 positivo (deslocamento leve para esquerda), mas bem próximo a zero, logo distribuição bem próxima de uma normal. \n",
    "- Kurtosis 1.77 positiva, próxima de 2, tem um pico grande.\n",
    "- A média é de 5773 vendas/dia, e o std de 3850: Isto significa que em 78% dos dias (±1 std), temos entre 1923 (5773-3850) e 9.623 (5773+3850) vendas."
   ]
  },
  {
   "cell_type": "code",
   "execution_count": 33,
   "id": "db7c7c72",
   "metadata": {
    "ExecuteTime": {
     "end_time": "2021-12-13T19:55:00.613616Z",
     "start_time": "2021-12-13T19:55:00.579692Z"
    },
    "hidden": true
   },
   "outputs": [
    {
     "data": {
      "text/html": [
       "<div>\n",
       "<style scoped>\n",
       "    .dataframe tbody tr th:only-of-type {\n",
       "        vertical-align: middle;\n",
       "    }\n",
       "\n",
       "    .dataframe tbody tr th {\n",
       "        vertical-align: top;\n",
       "    }\n",
       "\n",
       "    .dataframe thead th {\n",
       "        text-align: right;\n",
       "    }\n",
       "</style>\n",
       "<table border=\"1\" class=\"dataframe\">\n",
       "  <thead>\n",
       "    <tr style=\"text-align: right;\">\n",
       "      <th></th>\n",
       "      <th>attributes</th>\n",
       "      <th>min</th>\n",
       "      <th>max</th>\n",
       "      <th>range</th>\n",
       "      <th>mean</th>\n",
       "      <th>median</th>\n",
       "      <th>std</th>\n",
       "      <th>skew</th>\n",
       "      <th>kurtosis</th>\n",
       "    </tr>\n",
       "  </thead>\n",
       "  <tbody>\n",
       "    <tr>\n",
       "      <th>0</th>\n",
       "      <td>store</td>\n",
       "      <td>1.0</td>\n",
       "      <td>1115.0</td>\n",
       "      <td>1114.0</td>\n",
       "      <td>558.429727</td>\n",
       "      <td>558.0</td>\n",
       "      <td>321.908493</td>\n",
       "      <td>-0.000955</td>\n",
       "      <td>-1.200524</td>\n",
       "    </tr>\n",
       "    <tr>\n",
       "      <th>1</th>\n",
       "      <td>day_of_week</td>\n",
       "      <td>1.0</td>\n",
       "      <td>7.0</td>\n",
       "      <td>6.0</td>\n",
       "      <td>3.998341</td>\n",
       "      <td>4.0</td>\n",
       "      <td>1.997390</td>\n",
       "      <td>0.001593</td>\n",
       "      <td>-1.246873</td>\n",
       "    </tr>\n",
       "    <tr>\n",
       "      <th>2</th>\n",
       "      <td>sales</td>\n",
       "      <td>0.0</td>\n",
       "      <td>41551.0</td>\n",
       "      <td>41551.0</td>\n",
       "      <td>5773.818972</td>\n",
       "      <td>5744.0</td>\n",
       "      <td>3849.924283</td>\n",
       "      <td>0.641460</td>\n",
       "      <td>1.778375</td>\n",
       "    </tr>\n",
       "    <tr>\n",
       "      <th>3</th>\n",
       "      <td>customers</td>\n",
       "      <td>0.0</td>\n",
       "      <td>7388.0</td>\n",
       "      <td>7388.0</td>\n",
       "      <td>633.145946</td>\n",
       "      <td>609.0</td>\n",
       "      <td>464.411506</td>\n",
       "      <td>1.598650</td>\n",
       "      <td>7.091773</td>\n",
       "    </tr>\n",
       "    <tr>\n",
       "      <th>4</th>\n",
       "      <td>open</td>\n",
       "      <td>0.0</td>\n",
       "      <td>1.0</td>\n",
       "      <td>1.0</td>\n",
       "      <td>0.830107</td>\n",
       "      <td>1.0</td>\n",
       "      <td>0.375539</td>\n",
       "      <td>-1.758045</td>\n",
       "      <td>1.090723</td>\n",
       "    </tr>\n",
       "    <tr>\n",
       "      <th>5</th>\n",
       "      <td>promo</td>\n",
       "      <td>0.0</td>\n",
       "      <td>1.0</td>\n",
       "      <td>1.0</td>\n",
       "      <td>0.381515</td>\n",
       "      <td>0.0</td>\n",
       "      <td>0.485758</td>\n",
       "      <td>0.487838</td>\n",
       "      <td>-1.762018</td>\n",
       "    </tr>\n",
       "    <tr>\n",
       "      <th>6</th>\n",
       "      <td>school_holiday</td>\n",
       "      <td>0.0</td>\n",
       "      <td>1.0</td>\n",
       "      <td>1.0</td>\n",
       "      <td>0.178647</td>\n",
       "      <td>0.0</td>\n",
       "      <td>0.383056</td>\n",
       "      <td>1.677842</td>\n",
       "      <td>0.815154</td>\n",
       "    </tr>\n",
       "    <tr>\n",
       "      <th>7</th>\n",
       "      <td>competition_distance</td>\n",
       "      <td>20.0</td>\n",
       "      <td>200000.0</td>\n",
       "      <td>199980.0</td>\n",
       "      <td>5935.442677</td>\n",
       "      <td>2330.0</td>\n",
       "      <td>12547.646829</td>\n",
       "      <td>10.242344</td>\n",
       "      <td>147.789712</td>\n",
       "    </tr>\n",
       "    <tr>\n",
       "      <th>8</th>\n",
       "      <td>competition_open_since_month</td>\n",
       "      <td>1.0</td>\n",
       "      <td>12.0</td>\n",
       "      <td>11.0</td>\n",
       "      <td>6.786849</td>\n",
       "      <td>7.0</td>\n",
       "      <td>3.311085</td>\n",
       "      <td>-0.042076</td>\n",
       "      <td>-1.232607</td>\n",
       "    </tr>\n",
       "    <tr>\n",
       "      <th>9</th>\n",
       "      <td>competition_open_since_year</td>\n",
       "      <td>1900.0</td>\n",
       "      <td>2015.0</td>\n",
       "      <td>115.0</td>\n",
       "      <td>2010.324840</td>\n",
       "      <td>2012.0</td>\n",
       "      <td>5.515591</td>\n",
       "      <td>-7.235657</td>\n",
       "      <td>124.071304</td>\n",
       "    </tr>\n",
       "    <tr>\n",
       "      <th>10</th>\n",
       "      <td>promo2</td>\n",
       "      <td>0.0</td>\n",
       "      <td>1.0</td>\n",
       "      <td>1.0</td>\n",
       "      <td>0.500564</td>\n",
       "      <td>1.0</td>\n",
       "      <td>0.500000</td>\n",
       "      <td>-0.002255</td>\n",
       "      <td>-1.999999</td>\n",
       "    </tr>\n",
       "    <tr>\n",
       "      <th>11</th>\n",
       "      <td>promo2_since_week</td>\n",
       "      <td>1.0</td>\n",
       "      <td>52.0</td>\n",
       "      <td>51.0</td>\n",
       "      <td>23.619033</td>\n",
       "      <td>22.0</td>\n",
       "      <td>14.310057</td>\n",
       "      <td>0.178723</td>\n",
       "      <td>-1.184046</td>\n",
       "    </tr>\n",
       "    <tr>\n",
       "      <th>12</th>\n",
       "      <td>promo2_since_year</td>\n",
       "      <td>2009.0</td>\n",
       "      <td>2015.0</td>\n",
       "      <td>6.0</td>\n",
       "      <td>2012.793297</td>\n",
       "      <td>2013.0</td>\n",
       "      <td>1.662657</td>\n",
       "      <td>-0.784436</td>\n",
       "      <td>-0.210075</td>\n",
       "    </tr>\n",
       "    <tr>\n",
       "      <th>13</th>\n",
       "      <td>is_promo</td>\n",
       "      <td>0.0</td>\n",
       "      <td>1.0</td>\n",
       "      <td>1.0</td>\n",
       "      <td>0.155134</td>\n",
       "      <td>0.0</td>\n",
       "      <td>0.362033</td>\n",
       "      <td>1.905166</td>\n",
       "      <td>1.629662</td>\n",
       "    </tr>\n",
       "  </tbody>\n",
       "</table>\n",
       "</div>"
      ],
      "text/plain": [
       "                      attributes     min       max     range         mean  \\\n",
       "0                          store     1.0    1115.0    1114.0   558.429727   \n",
       "1                    day_of_week     1.0       7.0       6.0     3.998341   \n",
       "2                          sales     0.0   41551.0   41551.0  5773.818972   \n",
       "3                      customers     0.0    7388.0    7388.0   633.145946   \n",
       "4                           open     0.0       1.0       1.0     0.830107   \n",
       "5                          promo     0.0       1.0       1.0     0.381515   \n",
       "6                 school_holiday     0.0       1.0       1.0     0.178647   \n",
       "7           competition_distance    20.0  200000.0  199980.0  5935.442677   \n",
       "8   competition_open_since_month     1.0      12.0      11.0     6.786849   \n",
       "9    competition_open_since_year  1900.0    2015.0     115.0  2010.324840   \n",
       "10                        promo2     0.0       1.0       1.0     0.500564   \n",
       "11             promo2_since_week     1.0      52.0      51.0    23.619033   \n",
       "12             promo2_since_year  2009.0    2015.0       6.0  2012.793297   \n",
       "13                      is_promo     0.0       1.0       1.0     0.155134   \n",
       "\n",
       "    median           std       skew    kurtosis  \n",
       "0    558.0    321.908493  -0.000955   -1.200524  \n",
       "1      4.0      1.997390   0.001593   -1.246873  \n",
       "2   5744.0   3849.924283   0.641460    1.778375  \n",
       "3    609.0    464.411506   1.598650    7.091773  \n",
       "4      1.0      0.375539  -1.758045    1.090723  \n",
       "5      0.0      0.485758   0.487838   -1.762018  \n",
       "6      0.0      0.383056   1.677842    0.815154  \n",
       "7   2330.0  12547.646829  10.242344  147.789712  \n",
       "8      7.0      3.311085  -0.042076   -1.232607  \n",
       "9   2012.0      5.515591  -7.235657  124.071304  \n",
       "10     1.0      0.500000  -0.002255   -1.999999  \n",
       "11    22.0     14.310057   0.178723   -1.184046  \n",
       "12  2013.0      1.662657  -0.784436   -0.210075  \n",
       "13     0.0      0.362033   1.905166    1.629662  "
      ]
     },
     "execution_count": 33,
     "metadata": {},
     "output_type": "execute_result"
    }
   ],
   "source": [
    "m"
   ]
  },
  {
   "cell_type": "code",
   "execution_count": 34,
   "id": "0beed9d6",
   "metadata": {
    "ExecuteTime": {
     "end_time": "2021-12-13T19:55:06.388555Z",
     "start_time": "2021-12-13T19:55:00.618953Z"
    },
    "hidden": true,
    "scrolled": true
   },
   "outputs": [
    {
     "data": {
      "image/png": "[encoded data removed]",
      "text/plain": [
       "<Figure size 750x750 with 1 Axes>"
      ]
     },
     "metadata": {
      "needs_background": "light"
     },
     "output_type": "display_data"
    }
   ],
   "source": [
    "#Análise competition distance\n",
    "p = sns.displot ( df1['competition_distance'] )\n",
    "p.fig.set_dpi(150)\n",
    "plt.show()"
   ]
  },
  {
   "cell_type": "code",
   "execution_count": 35,
   "id": "f7ccb174",
   "metadata": {
    "ExecuteTime": {
     "end_time": "2021-12-13T19:55:06.417577Z",
     "start_time": "2021-12-13T19:55:06.394661Z"
    },
    "hidden": true
   },
   "outputs": [
    {
     "ename": "SyntaxError",
     "evalue": "invalid syntax (<ipython-input-35-642d74a923b1>, line 1)",
     "output_type": "error",
     "traceback": [
      "\u001b[0;36m  File \u001b[0;32m\"<ipython-input-35-642d74a923b1>\"\u001b[0;36m, line \u001b[0;32m1\u001b[0m\n\u001b[0;31m    ANÁLISE COMPETITION DISTANDE:(apenas > 0):\u001b[0m\n\u001b[0m            ^\u001b[0m\n\u001b[0;31mSyntaxError\u001b[0m\u001b[0;31m:\u001b[0m invalid syntax\n"
     ]
    }
   ],
   "source": [
    "ANÁLISE COMPETITION DISTANDE:(apenas > 0):\n",
    "\n",
    "- Média e mediana bem longe uma da outra, logo vai ter deslocamento da normal muito grande, \n",
    "vide skew.\n",
    "- Skew 10.2 positiva (deslocamento enorme pra esquerda), indicando grande concentração de \n",
    "distâncias menores até os concorrentes.\n",
    "- Kurtosis 147 positiva, indicando um pico gigantesco."
   ]
  },
  {
   "cell_type": "code",
   "execution_count": null,
   "id": "2f243d8e",
   "metadata": {
    "ExecuteTime": {
     "end_time": "2021-12-13T19:55:06.423836Z",
     "start_time": "2021-12-13T19:52:31.677Z"
    },
    "hidden": true
   },
   "outputs": [],
   "source": [
    "#Análise customers\n",
    "#Vou retirar customers = 0 pra analisar o gráfico mais limpo:\n",
    "\n",
    "df_cust_pos = df1.loc[ df1['customers'] > 0 ]"
   ]
  },
  {
   "cell_type": "code",
   "execution_count": null,
   "id": "68a274fa",
   "metadata": {
    "ExecuteTime": {
     "end_time": "2021-12-13T19:55:06.426340Z",
     "start_time": "2021-12-13T19:52:31.681Z"
    },
    "hidden": true,
    "scrolled": true
   },
   "outputs": [],
   "source": [
    "p = sns.displot ( df_cust_pos['customers'] )\n",
    "#p.fig.set_dpi(150)\n",
    "plt.show()"
   ]
  },
  {
   "cell_type": "code",
   "execution_count": null,
   "id": "422d2497",
   "metadata": {
    "ExecuteTime": {
     "end_time": "2021-12-13T19:55:06.438773Z",
     "start_time": "2021-12-13T19:52:31.692Z"
    },
    "hidden": true
   },
   "outputs": [],
   "source": [
    "#Abaixo, ploto o gráfico do Customer original, porque o m que estou analistando \n",
    "# considera os zeros nos customers também!\n",
    "p = sns.displot ( df1['customers'] )\n",
    "p.fig.set_dpi(100)\n",
    "plt.show()"
   ]
  },
  {
   "cell_type": "markdown",
   "id": "9f9f901b",
   "metadata": {
    "hidden": true
   },
   "source": [
    "ANÁLISE CUSTOMERS:\n",
    "\n",
    "- Média (633) e mediana (609) próximas, mas mediana menor: deslocamento da curva levemente pra esquerda.\n",
    "\n",
    "- Logo, skew levemente positiva, indicando maior concentração dos valores mais abaixo da média (ponto central).\n",
    "\n",
    "- Kursosis de 7, logo pico muito alto /distribuição bem dispersa em número de clientes por dia.\n",
    "\n",
    "- Std de 464, e média de clientes por dia de 633: em 78% dos dias (34% ref. 1 std positivo + 34% ref. 1 std negativo), tivemos entre 169 (633-464) e 1097 (633+464) clientes. \n",
    "\n"
   ]
  },
  {
   "cell_type": "code",
   "execution_count": null,
   "id": "2cb64252",
   "metadata": {
    "ExecuteTime": {
     "end_time": "2021-12-13T19:55:06.442221Z",
     "start_time": "2021-12-13T19:52:31.707Z"
    },
    "hidden": true
   },
   "outputs": [],
   "source": [
    "m"
   ]
  },
  {
   "cell_type": "markdown",
   "id": "20d56e11",
   "metadata": {
    "ExecuteTime": {
     "end_time": "2021-12-13T19:26:22.028599Z",
     "start_time": "2021-12-13T19:26:22.023327Z"
    },
    "heading_collapsed": true,
    "hidden": true
   },
   "source": [
    "### Categorical Attibures"
   ]
  },
  {
   "cell_type": "code",
   "execution_count": 41,
   "id": "44e249f8",
   "metadata": {
    "ExecuteTime": {
     "end_time": "2021-12-13T19:59:09.505447Z",
     "start_time": "2021-12-13T19:59:09.237775Z"
    },
    "hidden": true
   },
   "outputs": [
    {
     "data": {
      "text/plain": [
       "state_holiday      4\n",
       "store_type         4\n",
       "assortment         3\n",
       "promo_interval     4\n",
       "month_map         12\n",
       "dtype: int64"
      ]
     },
     "execution_count": 41,
     "metadata": {},
     "output_type": "execute_result"
    }
   ],
   "source": [
    "cat_attributes.apply ( lambda x: x.unique().shape[0] )"
   ]
  },
  {
   "cell_type": "code",
   "execution_count": null,
   "id": "5d016b76",
   "metadata": {
    "ExecuteTime": {
     "end_time": "2021-12-13T19:55:06.459731Z",
     "start_time": "2021-12-13T19:52:31.715Z"
    },
    "hidden": true
   },
   "outputs": [],
   "source": [
    "df1['state_holiday'].value_counts()"
   ]
  },
  {
   "cell_type": "code",
   "execution_count": 88,
   "id": "92feb249",
   "metadata": {
    "ExecuteTime": {
     "end_time": "2021-12-13T20:14:16.841802Z",
     "start_time": "2021-12-13T20:14:16.082230Z"
    },
    "hidden": true
   },
   "outputs": [
    {
     "data": {
      "text/plain": [
       "<AxesSubplot:xlabel='assortment', ylabel='sales'>"
      ]
     },
     "execution_count": 88,
     "metadata": {},
     "output_type": "execute_result"
    },
    {
     "data": {
      "image/png": "[encoded data removed]",
      "text/plain": [
       "<Figure size 1296x648 with 3 Axes>"
      ]
     },
     "metadata": {},
     "output_type": "display_data"
    }
   ],
   "source": [
    "#Boxplot tem todas as medidas de dispersão e tendência central. Vamos usar ele.\n",
    "\n",
    "#vendas nos feriados: remover dias não feriado e dias onde não teve vendas \n",
    "aux1 = df1[ (df1['state_holiday'] != '0') & (df1['sales'] > 0) ]\n",
    "\n",
    "#setar tamanho:\n",
    "sns.set(rc={'figure.figsize':(18,9)})\n",
    "\n",
    "plt.subplot (1, 3, 1)\n",
    "sns.boxplot( x='state_holiday', y='sales', data=aux1 )\n",
    "\n",
    "plt.subplot (1, 3, 2)\n",
    "sns.boxplot( x='store_type', y='sales', data=aux1 )\n",
    "\n",
    "plt.subplot (1, 3, 3)\n",
    "sns.boxplot( x='assortment', y='sales', data=aux1 )"
   ]
  },
  {
   "cell_type": "markdown",
   "id": "668b8a68",
   "metadata": {
    "hidden": true
   },
   "source": [
    "Acima, a linha meio de cada imagem colorida é o 50º quartil, ou seja a mediana.\n",
    "A borda da figura de baixo é o quartil 25, a de cima o 75.\n",
    "Logo, dentro da imagem laranja, tenho o volume do quartil 25 ao 50, e do 50 ao 75. \n",
    "Fora da figura até os riscos superior e inferior é o valor mínimo e máximo.\n",
    "Pontos após os riscos das bordas (valores máximos) são outliers: > 3 vezes o desvio padrão.\n",
    "\n",
    "Logo, quanto mais achatada é a figura, maior a concentração em torno da mediana."
   ]
  },
  {
   "cell_type": "markdown",
   "id": "d50ae2fb",
   "metadata": {
    "hidden": true
   },
   "source": [
    "Análise do boxplot 1 - quantidade de vendas por tipo de feriado:\n",
    "Legenda state_holiday: a = public holiday | b = Easter holiday |  c = Christmas\n",
    "\n",
    "-A mediana de vendas de páscoa(b) e natal (c) é mais alta que de feriados publicos (a).\n",
    "-A mediana de vendas de páscoa(b) e natal (c) é parecida, mas a dispersão é maior na páscoa."
   ]
  },
  {
   "cell_type": "markdown",
   "id": "0a264859",
   "metadata": {
    "hidden": true
   },
   "source": [
    "Análise do boxplot 2 - quantidade de vendas por tipo de loja:\n",
    "    Legenda de StoreType - differentiates between 4 different store models: a, b, c, d\n",
    "        \n",
    "-Loja tipo b vende muito mais na mediana que as demais, aprox. o dobro da tipo a.\n",
    "-Loja do tipo c tem concentração de vendas maior em torno da mediana.\n"
   ]
  },
  {
   "cell_type": "code",
   "execution_count": null,
   "id": "b3be1309",
   "metadata": {
    "hidden": true
   },
   "outputs": [],
   "source": [
    "Análise do boxplot 3 - quantidade de vendas por mix de produtos:\n",
    "    Legenda de Assortment - describes an assortment level: a = basic, b = extra, c = extended\n",
    "        \n",
    "-Há muito mais vendas do mix b do que dos demais. E o número de vendas varia mais também\n",
    "neste mix.\n",
    "-O mix A tem uma grande quantidade de outliers, mas uma distribuição bem uniforme fora isto."
   ]
  },
  {
   "cell_type": "code",
   "execution_count": 89,
   "id": "2cf63b0e",
   "metadata": {
    "ExecuteTime": {
     "end_time": "2021-12-13T20:39:21.718220Z",
     "start_time": "2021-12-13T20:39:20.883716Z"
    },
    "code_folding": [
     0
    ],
    "hidden": true
   },
   "outputs": [
    {
     "data": {
      "text/plain": [
       "<AxesSubplot:xlabel='assortment', ylabel='sales'>"
      ]
     },
     "execution_count": 89,
     "metadata": {},
     "output_type": "execute_result"
    },
    {
     "data": {
      "image/png": "[encoded data removed]",
      "text/plain": [
       "<Figure size 1296x648 with 3 Axes>"
      ]
     },
     "metadata": {},
     "output_type": "display_data"
    }
   ],
   "source": [
    "#Boxplot tem todas as medidas de dispersão e tendência central. Vamos usar ele.\n",
    "\n",
    "#vendas nos feriados: remover dias não feriado e dias onde não teve vendas \n",
    "aux1 = df1[ (df1['state_holiday'] != '0') & (df1['sales'] > 0) ]\n",
    "\n",
    "#setar tamanho:\n",
    "sns.set(rc={'figure.figsize':(18,9)})\n",
    "\n",
    "plt.subplot (1, 3, 1)\n",
    "sns.boxplot( x='state_holiday', y='sales', data=aux1 )\n",
    "\n",
    "plt.subplot (1, 3, 2)\n",
    "sns.boxplot( x='store_type', y='sales', data=aux1 )\n",
    "\n",
    "plt.subplot (1, 3, 3)\n",
    "sns.boxplot( x='assortment', y='sales', data=aux1 )"
   ]
  },
  {
   "cell_type": "code",
   "execution_count": null,
   "id": "5f99f619",
   "metadata": {
    "hidden": true
   },
   "outputs": [],
   "source": []
  },
  {
   "cell_type": "code",
   "execution_count": null,
   "id": "d682d7a2",
   "metadata": {
    "hidden": true
   },
   "outputs": [],
   "source": []
  }
 ],
 "metadata": {
  "kernelspec": {
   "display_name": "Python 3",
   "language": "python",
   "name": "python3"
  },
  "language_info": {
   "codemirror_mode": {
    "name": "ipython",
    "version": 3
   },
   "file_extension": ".py",
   "mimetype": "text/x-python",
   "name": "python",
   "nbconvert_exporter": "python",
   "pygments_lexer": "ipython3",
   "version": "3.8.8"
  },
  "toc": {
   "base_numbering": 1,
   "nav_menu": {},
   "number_sections": true,
   "sideBar": true,
   "skip_h1_title": false,
   "title_cell": "Table of Contents",
   "title_sidebar": "Contents",
   "toc_cell": false,
   "toc_position": {},
   "toc_section_display": true,
   "toc_window_display": false
  }
 },
 "nbformat": 4,
 "nbformat_minor": 5
}
